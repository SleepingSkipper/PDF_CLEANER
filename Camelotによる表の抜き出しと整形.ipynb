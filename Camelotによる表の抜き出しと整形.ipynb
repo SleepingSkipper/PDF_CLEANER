{
 "cells": [
  {
   "cell_type": "code",
   "execution_count": 14,
   "id": "93fd7c60",
   "metadata": {
    "scrolled": true
   },
   "outputs": [],
   "source": [
    "import tkinter\n",
    "import camelot\n",
    "import pandas as pd\n",
    "from IPython.display import display\n",
    "import numpy as np\n",
    "import re"
   ]
  },
  {
   "cell_type": "markdown",
   "id": "9f515d88",
   "metadata": {},
   "source": [
    "### camelot.read_pdfで表を読み込む。"
   ]
  },
  {
   "cell_type": "markdown",
   "id": "8058999a",
   "metadata": {},
   "source": [
    "camelotはデフォルトでは１ページ目しか読み込まない。決算短信の営業利益は必ず１ページ目の最初の表に記されているため、１ページ目だけ読み込む設定のままでOK.<br>\n",
    "layout_kwargs = {'char_margin': } の値を調整する（小さくとる）ことで、近い位置にある文字が同じセルにあると認識されることを防ぐ。<br>\n",
    "小さい表や区切り線は無視されることがある。その場合はline_scaleを調整する。"
   ]
  },
  {
   "cell_type": "code",
   "execution_count": 151,
   "id": "98844f29",
   "metadata": {},
   "outputs": [],
   "source": [
    "tables = camelot.read_pdf('decrypted_PDFs/kessan33-3.pdf', line_scale=30, pages=\"1,2\",\n",
    "                          layout_kwargs = {'char_margin': 0.4}\n",
    "                         ) # ,strip_text=' .\\n', pages=\"all\"\n",
    "\n",
    "# tables.export('foo.csv', f='csv', compress=True) # json, excel, html, markdown, sqlite"
   ]
  },
  {
   "cell_type": "code",
   "execution_count": 152,
   "id": "12beec16",
   "metadata": {},
   "outputs": [],
   "source": [
    "def right_align(df):\n",
    "    \n",
    "    length = df.shape[1]\n",
    "\n",
    "    # Noneを含む行を右に詰める\n",
    "    for row in df.itertuples(name=None):\n",
    "        shift = row.count(None)\n",
    "        if shift > 0:\n",
    "            index = row[0]\n",
    "            for i in reversed(range(shift,length)):\n",
    "                df.iloc[index,i] = df.iloc[index,i-shift]\n",
    "            for i in range(shift):\n",
    "                df.iloc[index,i] = None\n",
    "    return df"
   ]
  },
  {
   "cell_type": "code",
   "execution_count": 153,
   "id": "ed8bfe0e",
   "metadata": {},
   "outputs": [],
   "source": [
    "def delete_words(x):\n",
    "    x = str(x)\n",
    "    x = re.sub(\"百万円\\n\", \"\",x)\n",
    "    x = re.sub(\"(\\%|\\％)\\n\", \"\",x)\n",
    "#     x = re.sub(\"\\％\\n\", \"\",x)\n",
    "    x = re.sub(\"円\", \"\",x)\n",
    "    x = re.sub(\"銭\\n\", \"\",x)\n",
    "    return(x)"
   ]
  },
  {
   "cell_type": "code",
   "execution_count": 154,
   "id": "41d926ed",
   "metadata": {},
   "outputs": [],
   "source": [
    "def extract_aligned_df(table):\n",
    "    df = table.df\n",
    "    df_cleaned=df.applymap(delete_words)\n",
    "    \n",
    "    clean_titles = lambda x: str(x).replace(\"\\n\", \"\") \n",
    "    df_cleaned.iloc[0]= df_cleaned.iloc[0].map(clean_titles) \n",
    "    \n",
    "    # 扱いやすくするためにまず転置\n",
    "    df_transposed = df_cleaned.T\n",
    "    # 改行で分割し、新たな列を作成\n",
    "    df_buffer = df_transposed[1].str.split('\\n', expand=True)\n",
    "    # 右詰め\n",
    "    df_new = right_align(df_buffer)\n",
    "    # 左端の列と合成\n",
    "    df_new = pd.concat([df_transposed[0], df_new],axis=1)\n",
    "    # 行番号を振り直す\n",
    "    df_new.columns = range(df_new.shape[1])\n",
    "    \n",
    "    return df_new"
   ]
  },
  {
   "cell_type": "markdown",
   "id": "c9a2c3c9",
   "metadata": {},
   "source": [
    "### PDF1~2ページ目の表を抜き出して整形する。\n",
    "対応しているのは、見出しが１行に収まっているもののみ。見出しが段組みされているものは整形できません。<br>\n",
    "PDFの表から得たいのは営業利益と通期見通し（ある場合）。\n",
    "基本的に一つ目の表に営業利益が含まれていて、見出しは１行であるため、営業利益の情報を得ることは可能。<br>\n",
    "また、通期見通しは、「通期」の語がある表が存在する場合に読み取れば良い。通期見通しの表も、段組されていることはないため対応可能。\n"
   ]
  },
  {
   "cell_type": "code",
   "execution_count": 156,
   "id": "06d4a138",
   "metadata": {
    "scrolled": false
   },
   "outputs": [
    {
     "data": {
      "text/html": [
       "<div>\n",
       "<style scoped>\n",
       "    .dataframe tbody tr th:only-of-type {\n",
       "        vertical-align: middle;\n",
       "    }\n",
       "\n",
       "    .dataframe tbody tr th {\n",
       "        vertical-align: top;\n",
       "    }\n",
       "\n",
       "    .dataframe thead th {\n",
       "        text-align: right;\n",
       "    }\n",
       "</style>\n",
       "<table border=\"1\" class=\"dataframe\">\n",
       "  <thead>\n",
       "    <tr style=\"text-align: right;\">\n",
       "      <th></th>\n",
       "      <th>0</th>\n",
       "      <th>1</th>\n",
       "      <th>2</th>\n",
       "      <th>3</th>\n",
       "      <th>4</th>\n",
       "      <th>5</th>\n",
       "      <th>6</th>\n",
       "      <th>7</th>\n",
       "      <th>8</th>\n",
       "    </tr>\n",
       "  </thead>\n",
       "  <tbody>\n",
       "    <tr>\n",
       "      <th>0</th>\n",
       "      <td></td>\n",
       "      <td>売上高</td>\n",
       "      <td></td>\n",
       "      <td>営業利益</td>\n",
       "      <td></td>\n",
       "      <td>経常利益</td>\n",
       "      <td></td>\n",
       "      <td>親会社株主に帰属する当期純利益</td>\n",
       "      <td></td>\n",
       "    </tr>\n",
       "    <tr>\n",
       "      <th>1</th>\n",
       "      <td>2021年3月期</td>\n",
       "      <td>1,035,898</td>\n",
       "      <td>△2.3</td>\n",
       "      <td>136,925</td>\n",
       "      <td>△4.2</td>\n",
       "      <td>138,990</td>\n",
       "      <td>△8.2</td>\n",
       "      <td>74,681</td>\n",
       "      <td>△16.2</td>\n",
       "    </tr>\n",
       "    <tr>\n",
       "      <th>2</th>\n",
       "      <td>2020年3月期</td>\n",
       "      <td>1,060,070</td>\n",
       "      <td>4.6</td>\n",
       "      <td>142,858</td>\n",
       "      <td>9.7</td>\n",
       "      <td>151,356</td>\n",
       "      <td>4.5</td>\n",
       "      <td>89,080</td>\n",
       "      <td>△3.2</td>\n",
       "    </tr>\n",
       "  </tbody>\n",
       "</table>\n",
       "</div>"
      ],
      "text/plain": [
       "          0          1     2        3     4        5     6                7  \\\n",
       "0                  売上高           営業利益           経常利益        親会社株主に帰属する当期純利益   \n",
       "1  2021年3月期  1,035,898  △2.3  136,925  △4.2  138,990  △8.2           74,681   \n",
       "2  2020年3月期  1,060,070   4.6  142,858   9.7  151,356   4.5           89,080   \n",
       "\n",
       "       8  \n",
       "0         \n",
       "1  △16.2  \n",
       "2   △3.2  "
      ]
     },
     "metadata": {},
     "output_type": "display_data"
    },
    {
     "data": {
      "text/html": [
       "<div>\n",
       "<style scoped>\n",
       "    .dataframe tbody tr th:only-of-type {\n",
       "        vertical-align: middle;\n",
       "    }\n",
       "\n",
       "    .dataframe tbody tr th {\n",
       "        vertical-align: top;\n",
       "    }\n",
       "\n",
       "    .dataframe thead th {\n",
       "        text-align: right;\n",
       "    }\n",
       "</style>\n",
       "<table border=\"1\" class=\"dataframe\">\n",
       "  <thead>\n",
       "    <tr style=\"text-align: right;\">\n",
       "      <th></th>\n",
       "      <th>0</th>\n",
       "      <th>1</th>\n",
       "      <th>2</th>\n",
       "      <th>3</th>\n",
       "      <th>4</th>\n",
       "      <th>5</th>\n",
       "    </tr>\n",
       "  </thead>\n",
       "  <tbody>\n",
       "    <tr>\n",
       "      <th>0</th>\n",
       "      <td></td>\n",
       "      <td>1株当たり当期純利益</td>\n",
       "      <td>潜在株式調整後1株当たり当期純利益</td>\n",
       "      <td>自己資本当期純利益率</td>\n",
       "      <td>総資産経常利益率</td>\n",
       "      <td>売上高営業利益率</td>\n",
       "    </tr>\n",
       "    <tr>\n",
       "      <th>1</th>\n",
       "      <td>2021年3月期</td>\n",
       "      <td>342.17</td>\n",
       "      <td>―</td>\n",
       "      <td>7.1</td>\n",
       "      <td>7.6</td>\n",
       "      <td>13.2</td>\n",
       "    </tr>\n",
       "    <tr>\n",
       "      <th>2</th>\n",
       "      <td>2020年3月期</td>\n",
       "      <td>408.14</td>\n",
       "      <td>―</td>\n",
       "      <td>8.8</td>\n",
       "      <td>8.5</td>\n",
       "      <td>13.5</td>\n",
       "    </tr>\n",
       "  </tbody>\n",
       "</table>\n",
       "</div>"
      ],
      "text/plain": [
       "          0           1                  2           3         4         5\n",
       "0            1株当たり当期純利益  潜在株式調整後1株当たり当期純利益  自己資本当期純利益率  総資産経常利益率  売上高営業利益率\n",
       "1  2021年3月期      342.17                  ―         7.1       7.6      13.2\n",
       "2  2020年3月期      408.14                  ―         8.8       8.5      13.5"
      ]
     },
     "metadata": {},
     "output_type": "display_data"
    },
    {
     "data": {
      "text/html": [
       "<div>\n",
       "<style scoped>\n",
       "    .dataframe tbody tr th:only-of-type {\n",
       "        vertical-align: middle;\n",
       "    }\n",
       "\n",
       "    .dataframe tbody tr th {\n",
       "        vertical-align: top;\n",
       "    }\n",
       "\n",
       "    .dataframe thead th {\n",
       "        text-align: right;\n",
       "    }\n",
       "</style>\n",
       "<table border=\"1\" class=\"dataframe\">\n",
       "  <thead>\n",
       "    <tr style=\"text-align: right;\">\n",
       "      <th></th>\n",
       "      <th>0</th>\n",
       "      <th>1</th>\n",
       "      <th>2</th>\n",
       "      <th>3</th>\n",
       "      <th>4</th>\n",
       "    </tr>\n",
       "  </thead>\n",
       "  <tbody>\n",
       "    <tr>\n",
       "      <th>0</th>\n",
       "      <td></td>\n",
       "      <td>総資産</td>\n",
       "      <td>純資産</td>\n",
       "      <td>自己資本比率</td>\n",
       "      <td>1株当たり純資産</td>\n",
       "    </tr>\n",
       "    <tr>\n",
       "      <th>1</th>\n",
       "      <td>2021年3月期</td>\n",
       "      <td>1,864,179</td>\n",
       "      <td>1,229,824</td>\n",
       "      <td>58.1</td>\n",
       "      <td>4,958.18</td>\n",
       "    </tr>\n",
       "    <tr>\n",
       "      <th>2</th>\n",
       "      <td>2020年3月期</td>\n",
       "      <td>1,815,121</td>\n",
       "      <td>1,172,494</td>\n",
       "      <td>57.0</td>\n",
       "      <td>4,742.58</td>\n",
       "    </tr>\n",
       "  </tbody>\n",
       "</table>\n",
       "</div>"
      ],
      "text/plain": [
       "          0          1          2       3          4\n",
       "0                  総資産        純資産  自己資本比率   1株当たり純資産\n",
       "1  2021年3月期  1,864,179  1,229,824    58.1   4,958.18\n",
       "2  2020年3月期  1,815,121  1,172,494    57.0   4,742.58"
      ]
     },
     "metadata": {},
     "output_type": "display_data"
    },
    {
     "data": {
      "text/html": [
       "<div>\n",
       "<style scoped>\n",
       "    .dataframe tbody tr th:only-of-type {\n",
       "        vertical-align: middle;\n",
       "    }\n",
       "\n",
       "    .dataframe tbody tr th {\n",
       "        vertical-align: top;\n",
       "    }\n",
       "\n",
       "    .dataframe thead th {\n",
       "        text-align: right;\n",
       "    }\n",
       "</style>\n",
       "<table border=\"1\" class=\"dataframe\">\n",
       "  <thead>\n",
       "    <tr style=\"text-align: right;\">\n",
       "      <th></th>\n",
       "      <th>0</th>\n",
       "      <th>1</th>\n",
       "      <th>2</th>\n",
       "      <th>3</th>\n",
       "      <th>4</th>\n",
       "    </tr>\n",
       "  </thead>\n",
       "  <tbody>\n",
       "    <tr>\n",
       "      <th>0</th>\n",
       "      <td></td>\n",
       "      <td>営業活動によるキャッシュ・フロー</td>\n",
       "      <td>投資活動によるキャッシュ・フロー</td>\n",
       "      <td>財務活動によるキャッシュ・フロー</td>\n",
       "      <td>現金及び現金同等物期末残高</td>\n",
       "    </tr>\n",
       "    <tr>\n",
       "      <th>1</th>\n",
       "      <td>2021年3月期</td>\n",
       "      <td>181,932</td>\n",
       "      <td>△48,536</td>\n",
       "      <td>△49,311</td>\n",
       "      <td>490,039</td>\n",
       "    </tr>\n",
       "    <tr>\n",
       "      <th>2</th>\n",
       "      <td>2020年3月期</td>\n",
       "      <td>175,559</td>\n",
       "      <td>△60,780</td>\n",
       "      <td>△48,209</td>\n",
       "      <td>406,479</td>\n",
       "    </tr>\n",
       "  </tbody>\n",
       "</table>\n",
       "</div>"
      ],
      "text/plain": [
       "          0                 1                 2                 3  \\\n",
       "0            営業活動によるキャッシュ・フロー  投資活動によるキャッシュ・フロー  財務活動によるキャッシュ・フロー   \n",
       "1  2021年3月期           181,932           △48,536           △49,311   \n",
       "2  2020年3月期           175,559           △60,780           △48,209   \n",
       "\n",
       "               4  \n",
       "0  現金及び現金同等物期末残高  \n",
       "1        490,039  \n",
       "2        406,479  "
      ]
     },
     "metadata": {},
     "output_type": "display_data"
    },
    {
     "data": {
      "text/html": [
       "<div>\n",
       "<style scoped>\n",
       "    .dataframe tbody tr th:only-of-type {\n",
       "        vertical-align: middle;\n",
       "    }\n",
       "\n",
       "    .dataframe tbody tr th {\n",
       "        vertical-align: top;\n",
       "    }\n",
       "\n",
       "    .dataframe thead th {\n",
       "        text-align: right;\n",
       "    }\n",
       "</style>\n",
       "<table border=\"1\" class=\"dataframe\">\n",
       "  <thead>\n",
       "    <tr style=\"text-align: right;\">\n",
       "      <th></th>\n",
       "      <th>0</th>\n",
       "      <th>1</th>\n",
       "      <th>2</th>\n",
       "      <th>3</th>\n",
       "      <th>4</th>\n",
       "      <th>5</th>\n",
       "      <th>6</th>\n",
       "      <th>7</th>\n",
       "      <th>8</th>\n",
       "    </tr>\n",
       "  </thead>\n",
       "  <tbody>\n",
       "    <tr>\n",
       "      <th>0</th>\n",
       "      <td></td>\n",
       "      <td>年間配当金</td>\n",
       "      <td></td>\n",
       "      <td></td>\n",
       "      <td></td>\n",
       "      <td></td>\n",
       "      <td>配当金総額（合計）</td>\n",
       "      <td>配当性向（連結）</td>\n",
       "      <td>純資産配当率（連結）</td>\n",
       "    </tr>\n",
       "    <tr>\n",
       "      <th>1</th>\n",
       "      <td></td>\n",
       "      <td>第1四半期末</td>\n",
       "      <td>第2四半期末</td>\n",
       "      <td>第3四半期末</td>\n",
       "      <td>期末</td>\n",
       "      <td>合計</td>\n",
       "      <td></td>\n",
       "      <td></td>\n",
       "      <td></td>\n",
       "    </tr>\n",
       "  </tbody>\n",
       "</table>\n",
       "</div>"
      ],
      "text/plain": [
       "  0       1       2       3   4   5          6         7           8\n",
       "0     年間配当金                          配当金総額（合計）  配当性向（連結）  純資産配当率（連結）\n",
       "1    第1四半期末  第2四半期末  第3四半期末  期末  合計                                 "
      ]
     },
     "metadata": {},
     "output_type": "display_data"
    },
    {
     "data": {
      "text/html": [
       "<div>\n",
       "<style scoped>\n",
       "    .dataframe tbody tr th:only-of-type {\n",
       "        vertical-align: middle;\n",
       "    }\n",
       "\n",
       "    .dataframe tbody tr th {\n",
       "        vertical-align: top;\n",
       "    }\n",
       "\n",
       "    .dataframe thead th {\n",
       "        text-align: right;\n",
       "    }\n",
       "</style>\n",
       "<table border=\"1\" class=\"dataframe\">\n",
       "  <thead>\n",
       "    <tr style=\"text-align: right;\">\n",
       "      <th></th>\n",
       "      <th>0</th>\n",
       "      <th>1</th>\n",
       "      <th>2</th>\n",
       "      <th>3</th>\n",
       "      <th>4</th>\n",
       "      <th>5</th>\n",
       "      <th>6</th>\n",
       "      <th>7</th>\n",
       "      <th>8</th>\n",
       "      <th>9</th>\n",
       "    </tr>\n",
       "  </thead>\n",
       "  <tbody>\n",
       "    <tr>\n",
       "      <th>0</th>\n",
       "      <td></td>\n",
       "      <td>売上高</td>\n",
       "      <td></td>\n",
       "      <td>営業利益</td>\n",
       "      <td></td>\n",
       "      <td>経常利益</td>\n",
       "      <td></td>\n",
       "      <td>親会社株主に帰属する当期純利益</td>\n",
       "      <td></td>\n",
       "      <td>1株当たり当期純利益</td>\n",
       "    </tr>\n",
       "    <tr>\n",
       "      <th>1</th>\n",
       "      <td>第2四半期(累計)</td>\n",
       "      <td>503,000</td>\n",
       "      <td>2.4</td>\n",
       "      <td>63,000</td>\n",
       "      <td>3.7</td>\n",
       "      <td>66,000</td>\n",
       "      <td>11.5</td>\n",
       "      <td>39,500</td>\n",
       "      <td>22.1</td>\n",
       "      <td>180.98</td>\n",
       "    </tr>\n",
       "    <tr>\n",
       "      <th>2</th>\n",
       "      <td>通期</td>\n",
       "      <td>1,052,000</td>\n",
       "      <td>1.6</td>\n",
       "      <td>139,500</td>\n",
       "      <td>1.9</td>\n",
       "      <td>145,000</td>\n",
       "      <td>4.3</td>\n",
       "      <td>86,500</td>\n",
       "      <td>15.8</td>\n",
       "      <td>396.31</td>\n",
       "    </tr>\n",
       "  </tbody>\n",
       "</table>\n",
       "</div>"
      ],
      "text/plain": [
       "           0          1    2        3    4        5     6                7  \\\n",
       "0                   売上高          営業利益          経常利益        親会社株主に帰属する当期純利益   \n",
       "1  第2四半期(累計)    503,000  2.4   63,000  3.7   66,000  11.5           39,500   \n",
       "2         通期  1,052,000  1.6  139,500  1.9  145,000   4.3           86,500   \n",
       "\n",
       "      8           9  \n",
       "0        1株当たり当期純利益  \n",
       "1  22.1      180.98  \n",
       "2  15.8      396.31  "
      ]
     },
     "metadata": {},
     "output_type": "display_data"
    },
    {
     "data": {
      "text/html": [
       "<div>\n",
       "<style scoped>\n",
       "    .dataframe tbody tr th:only-of-type {\n",
       "        vertical-align: middle;\n",
       "    }\n",
       "\n",
       "    .dataframe tbody tr th {\n",
       "        vertical-align: top;\n",
       "    }\n",
       "\n",
       "    .dataframe thead th {\n",
       "        text-align: right;\n",
       "    }\n",
       "</style>\n",
       "<table border=\"1\" class=\"dataframe\">\n",
       "  <thead>\n",
       "    <tr style=\"text-align: right;\">\n",
       "      <th></th>\n",
       "      <th>0</th>\n",
       "      <th>1</th>\n",
       "      <th>2</th>\n",
       "      <th>3</th>\n",
       "    </tr>\n",
       "  </thead>\n",
       "  <tbody>\n",
       "    <tr>\n",
       "      <th>0</th>\n",
       "      <td>2021年3月期</td>\n",
       "      <td>233,295,926 株</td>\n",
       "      <td>2020年3月期</td>\n",
       "      <td>233,293,998 株</td>\n",
       "    </tr>\n",
       "    <tr>\n",
       "      <th>1</th>\n",
       "      <td>2021年3月期</td>\n",
       "      <td>15,034,565 株</td>\n",
       "      <td>2020年3月期</td>\n",
       "      <td>15,033,588 株</td>\n",
       "    </tr>\n",
       "  </tbody>\n",
       "</table>\n",
       "</div>"
      ],
      "text/plain": [
       "          0              1         2              3\n",
       "0  2021年3月期  233,295,926 株  2020年3月期  233,293,998 株\n",
       "1  2021年3月期   15,034,565 株  2020年3月期   15,033,588 株"
      ]
     },
     "metadata": {},
     "output_type": "display_data"
    },
    {
     "data": {
      "text/html": [
       "<div>\n",
       "<style scoped>\n",
       "    .dataframe tbody tr th:only-of-type {\n",
       "        vertical-align: middle;\n",
       "    }\n",
       "\n",
       "    .dataframe tbody tr th {\n",
       "        vertical-align: top;\n",
       "    }\n",
       "\n",
       "    .dataframe thead th {\n",
       "        text-align: right;\n",
       "    }\n",
       "</style>\n",
       "<table border=\"1\" class=\"dataframe\">\n",
       "  <thead>\n",
       "    <tr style=\"text-align: right;\">\n",
       "      <th></th>\n",
       "      <th>0</th>\n",
       "      <th>1</th>\n",
       "      <th>2</th>\n",
       "      <th>3</th>\n",
       "      <th>4</th>\n",
       "      <th>5</th>\n",
       "      <th>6</th>\n",
       "      <th>7</th>\n",
       "      <th>8</th>\n",
       "    </tr>\n",
       "  </thead>\n",
       "  <tbody>\n",
       "    <tr>\n",
       "      <th>0</th>\n",
       "      <td></td>\n",
       "      <td>売上高</td>\n",
       "      <td></td>\n",
       "      <td>営業利益</td>\n",
       "      <td></td>\n",
       "      <td>経常利益</td>\n",
       "      <td></td>\n",
       "      <td>当期純利益</td>\n",
       "      <td></td>\n",
       "    </tr>\n",
       "    <tr>\n",
       "      <th>1</th>\n",
       "      <td>2021年3月期</td>\n",
       "      <td>394,389</td>\n",
       "      <td>△1.1</td>\n",
       "      <td>75,541</td>\n",
       "      <td>△1.7</td>\n",
       "      <td>89,301</td>\n",
       "      <td>△1.4</td>\n",
       "      <td>59,960</td>\n",
       "      <td>△8.9</td>\n",
       "    </tr>\n",
       "    <tr>\n",
       "      <th>2</th>\n",
       "      <td>2020年3月期</td>\n",
       "      <td>398,929</td>\n",
       "      <td>1.2</td>\n",
       "      <td>76,877</td>\n",
       "      <td>0.1</td>\n",
       "      <td>90,538</td>\n",
       "      <td>1.8</td>\n",
       "      <td>65,808</td>\n",
       "      <td>△11.1</td>\n",
       "    </tr>\n",
       "  </tbody>\n",
       "</table>\n",
       "</div>"
      ],
      "text/plain": [
       "          0        1     2       3     4       5     6       7      8\n",
       "0                売上高          営業利益          経常利益         当期純利益       \n",
       "1  2021年3月期  394,389  △1.1  75,541  △1.7  89,301  △1.4  59,960   △8.9\n",
       "2  2020年3月期  398,929   1.2  76,877   0.1  90,538   1.8  65,808  △11.1"
      ]
     },
     "metadata": {},
     "output_type": "display_data"
    },
    {
     "data": {
      "text/html": [
       "<div>\n",
       "<style scoped>\n",
       "    .dataframe tbody tr th:only-of-type {\n",
       "        vertical-align: middle;\n",
       "    }\n",
       "\n",
       "    .dataframe tbody tr th {\n",
       "        vertical-align: top;\n",
       "    }\n",
       "\n",
       "    .dataframe thead th {\n",
       "        text-align: right;\n",
       "    }\n",
       "</style>\n",
       "<table border=\"1\" class=\"dataframe\">\n",
       "  <thead>\n",
       "    <tr style=\"text-align: right;\">\n",
       "      <th></th>\n",
       "      <th>0</th>\n",
       "      <th>1</th>\n",
       "      <th>2</th>\n",
       "    </tr>\n",
       "  </thead>\n",
       "  <tbody>\n",
       "    <tr>\n",
       "      <th>0</th>\n",
       "      <td></td>\n",
       "      <td>1株当たり当期純利益</td>\n",
       "      <td>潜在株式調整後1株当たり当期純利益</td>\n",
       "    </tr>\n",
       "    <tr>\n",
       "      <th>1</th>\n",
       "      <td>2021年3月期</td>\n",
       "      <td>274.72</td>\n",
       "      <td>―</td>\n",
       "    </tr>\n",
       "    <tr>\n",
       "      <th>2</th>\n",
       "      <td>2020年3月期</td>\n",
       "      <td>301.51</td>\n",
       "      <td>―</td>\n",
       "    </tr>\n",
       "  </tbody>\n",
       "</table>\n",
       "</div>"
      ],
      "text/plain": [
       "          0           1                  2\n",
       "0            1株当たり当期純利益  潜在株式調整後1株当たり当期純利益\n",
       "1  2021年3月期      274.72                  ―\n",
       "2  2020年3月期      301.51                  ―"
      ]
     },
     "metadata": {},
     "output_type": "display_data"
    },
    {
     "data": {
      "text/html": [
       "<div>\n",
       "<style scoped>\n",
       "    .dataframe tbody tr th:only-of-type {\n",
       "        vertical-align: middle;\n",
       "    }\n",
       "\n",
       "    .dataframe tbody tr th {\n",
       "        vertical-align: top;\n",
       "    }\n",
       "\n",
       "    .dataframe thead th {\n",
       "        text-align: right;\n",
       "    }\n",
       "</style>\n",
       "<table border=\"1\" class=\"dataframe\">\n",
       "  <thead>\n",
       "    <tr style=\"text-align: right;\">\n",
       "      <th></th>\n",
       "      <th>0</th>\n",
       "      <th>1</th>\n",
       "      <th>2</th>\n",
       "      <th>3</th>\n",
       "      <th>4</th>\n",
       "    </tr>\n",
       "  </thead>\n",
       "  <tbody>\n",
       "    <tr>\n",
       "      <th>0</th>\n",
       "      <td></td>\n",
       "      <td>総資産</td>\n",
       "      <td>純資産</td>\n",
       "      <td>自己資本比率</td>\n",
       "      <td>1株当たり純資産</td>\n",
       "    </tr>\n",
       "    <tr>\n",
       "      <th>1</th>\n",
       "      <td>2021年3月期</td>\n",
       "      <td>971,493</td>\n",
       "      <td>838,562</td>\n",
       "      <td>86.3</td>\n",
       "      <td>3,842.01</td>\n",
       "    </tr>\n",
       "    <tr>\n",
       "      <th>2</th>\n",
       "      <td>2020年3月期</td>\n",
       "      <td>947,194</td>\n",
       "      <td>812,878</td>\n",
       "      <td>85.8</td>\n",
       "      <td>3,724.35</td>\n",
       "    </tr>\n",
       "  </tbody>\n",
       "</table>\n",
       "</div>"
      ],
      "text/plain": [
       "          0        1        2       3          4\n",
       "0                総資産      純資産  自己資本比率   1株当たり純資産\n",
       "1  2021年3月期  971,493  838,562    86.3   3,842.01\n",
       "2  2020年3月期  947,194  812,878    85.8   3,724.35"
      ]
     },
     "metadata": {},
     "output_type": "display_data"
    }
   ],
   "source": [
    "for table in tables:\n",
    "    result = extract_aligned_df(table).T\n",
    "    display(result)"
   ]
  },
  {
   "cell_type": "markdown",
   "id": "1b2930db",
   "metadata": {},
   "source": [
    "### 一つ目の表において、営業利益を抽出して表示\n",
    "row1 と row2 にデータが入っていることを前提にした処理。"
   ]
  },
  {
   "cell_type": "code",
   "execution_count": 262,
   "id": "945a568e",
   "metadata": {},
   "outputs": [
    {
     "name": "stdout",
     "output_type": "stream",
     "text": [
      "2021年3月期 の営業利益は 136,925 百万円でした。\n",
      "減：　 4.2 %\n",
      "2020年3月期 の営業利益は 142,858 百万円でした。\n",
      "増：　 9.7 %\n"
     ]
    }
   ],
   "source": [
    "df_rieki = extract_aligned_df(tables[0]).T\n",
    "\n",
    "eigyo_rieki_i = df_rieki.loc[0].values.tolist().index(\"営業利益\")\n",
    "row = df_rieki[0].to_dict()\n",
    "# row = dict(map(reversed,row.items()))\n",
    "\n",
    "ratest = df_rieki.iloc[1,eigyo_rieki_i]\n",
    "ratest_diff = df_rieki.iloc[1,eigyo_rieki_i+1]\n",
    "previous=df_rieki.iloc[2, eigyo_rieki_i]\n",
    "previous_diff=df_rieki.iloc[2, eigyo_rieki_i+1]\n",
    "\n",
    "print(str(row[1]),\"の営業利益は\",ratest,\"百万円でした。\")\n",
    "if \"△\" in ratest_diff:\n",
    "    print(\"減：　\",ratest_diff[1:], \"%\")\n",
    "else:\n",
    "    print(\"増：　\", ratest_diff, \"%\")\n",
    "\n",
    "    \n",
    "print(str(row[2]),\"の営業利益は\",previous,\"百万円でした。\")\n",
    "if \"△\" in previous_diff:\n",
    "    print(\"減：　\",previous_diff[1:], \"%\")\n",
    "else:\n",
    "    print(\"増：　\", previous_diff, \"%\")"
   ]
  },
  {
   "cell_type": "markdown",
   "id": "d22a2277",
   "metadata": {},
   "source": [
    "### 「通期」の語がある表を探し、あった場合は通期営業利益を抽出して表示"
   ]
  },
  {
   "cell_type": "code",
   "execution_count": 263,
   "id": "9a855615",
   "metadata": {
    "scrolled": true
   },
   "outputs": [
    {
     "data": {
      "text/html": [
       "<div>\n",
       "<style scoped>\n",
       "    .dataframe tbody tr th:only-of-type {\n",
       "        vertical-align: middle;\n",
       "    }\n",
       "\n",
       "    .dataframe tbody tr th {\n",
       "        vertical-align: top;\n",
       "    }\n",
       "\n",
       "    .dataframe thead th {\n",
       "        text-align: right;\n",
       "    }\n",
       "</style>\n",
       "<table border=\"1\" class=\"dataframe\">\n",
       "  <thead>\n",
       "    <tr style=\"text-align: right;\">\n",
       "      <th></th>\n",
       "      <th>0</th>\n",
       "      <th>1</th>\n",
       "      <th>2</th>\n",
       "      <th>3</th>\n",
       "      <th>4</th>\n",
       "      <th>5</th>\n",
       "      <th>6</th>\n",
       "      <th>7</th>\n",
       "      <th>8</th>\n",
       "      <th>9</th>\n",
       "    </tr>\n",
       "  </thead>\n",
       "  <tbody>\n",
       "    <tr>\n",
       "      <th>0</th>\n",
       "      <td></td>\n",
       "      <td>売上高</td>\n",
       "      <td></td>\n",
       "      <td>営業利益</td>\n",
       "      <td></td>\n",
       "      <td>経常利益</td>\n",
       "      <td></td>\n",
       "      <td>親会社株主に帰属する当期純利益</td>\n",
       "      <td></td>\n",
       "      <td>1株当たり当期純利益</td>\n",
       "    </tr>\n",
       "    <tr>\n",
       "      <th>1</th>\n",
       "      <td>第2四半期(累計)</td>\n",
       "      <td>503,000</td>\n",
       "      <td>2.4</td>\n",
       "      <td>63,000</td>\n",
       "      <td>3.7</td>\n",
       "      <td>66,000</td>\n",
       "      <td>11.5</td>\n",
       "      <td>39,500</td>\n",
       "      <td>22.1</td>\n",
       "      <td>180.98</td>\n",
       "    </tr>\n",
       "    <tr>\n",
       "      <th>2</th>\n",
       "      <td>通期</td>\n",
       "      <td>1,052,000</td>\n",
       "      <td>1.6</td>\n",
       "      <td>139,500</td>\n",
       "      <td>1.9</td>\n",
       "      <td>145,000</td>\n",
       "      <td>4.3</td>\n",
       "      <td>86,500</td>\n",
       "      <td>15.8</td>\n",
       "      <td>396.31</td>\n",
       "    </tr>\n",
       "  </tbody>\n",
       "</table>\n",
       "</div>"
      ],
      "text/plain": [
       "           0          1    2        3    4        5     6                7  \\\n",
       "0                   売上高          営業利益          経常利益        親会社株主に帰属する当期純利益   \n",
       "1  第2四半期(累計)    503,000  2.4   63,000  3.7   66,000  11.5           39,500   \n",
       "2         通期  1,052,000  1.6  139,500  1.9  145,000   4.3           86,500   \n",
       "\n",
       "      8           9  \n",
       "0        1株当たり当期純利益  \n",
       "1  22.1      180.98  \n",
       "2  15.8      396.31  "
      ]
     },
     "metadata": {},
     "output_type": "display_data"
    },
    {
     "name": "stdout",
     "output_type": "stream",
     "text": [
      "通期営業利益は：　 139,500 百万円\n",
      "増：　 1.9 %\n"
     ]
    }
   ],
   "source": [
    "tsuki_flg = False\n",
    "for table in tables:\n",
    "    # 通期を発見済みの場合はこれ以上探索しない\n",
    "    if tsuki_flg == True:\n",
    "        break\n",
    "    df = extract_aligned_df(table).T\n",
    "    # 列0 の要素に対して、\"通期\"を含むか否かのbooleanでリスト化\n",
    "    binary_flg = df[0].str.contains(\"通期\").values.tolist()\n",
    "    # 通期Trueが存在した場合、何行目なのかを取得(tsuki_index)\n",
    "    if True in binary_flg:\n",
    "        tsuki_index = binary_flg.index(True)\n",
    "        tsuki_flg = True\n",
    "        display(df)\n",
    "        # 行0 の値をリスト化し、”営業利益”が何列目なのかを取得(eigyo_rieki_index)\n",
    "        eigyo_rieki_index = df.loc[0].values.tolist().index(\"営業利益\")\n",
    "        # tsuki_index, eigyo_rieki_index　のセルが通期営業利益。\n",
    "        tsuki_eigyo_rieki = df.iloc[tsuki_index, eigyo_rieki_index]\n",
    "        print(\"通期営業利益は：　\", tsuki_eigyo_rieki, \"百万円\")\n",
    "        \n",
    "        # 隣のセルが増減を表す。\n",
    "        tsuki_eigyo_rieki_diff = df.iloc[tsuki_index, eigyo_rieki_index+1]\n",
    "        if \"△\" in tsuki_eigyo_rieki_diff:\n",
    "            print(\"減：　\", tsuki_eigyo_rieki_diff[1:], \"%\")\n",
    "        else:\n",
    "            print(\"増：　\", tsuki_eigyo_rieki_diff, \"%\")\n"
   ]
  },
  {
   "cell_type": "markdown",
   "id": "17cd95ae",
   "metadata": {},
   "source": [
    "### 実際にPDF中のどの部分を抜き出したか視覚的に表示"
   ]
  },
  {
   "cell_type": "code",
   "execution_count": 104,
   "id": "9d443b53",
   "metadata": {
    "scrolled": true
   },
   "outputs": [
    {
     "name": "stdout",
     "output_type": "stream",
     "text": [
      "0番目に抽出された表\n",
      "\n"
     ]
    },
    {
     "data": {
      "image/png": "[encoded data removed]",
      "text/plain": [
       "<Figure size 432x288 with 1 Axes>"
      ]
     },
     "metadata": {},
     "output_type": "display_data"
    },
    {
     "data": {
      "text/html": [
       "<div>\n",
       "<style scoped>\n",
       "    .dataframe tbody tr th:only-of-type {\n",
       "        vertical-align: middle;\n",
       "    }\n",
       "\n",
       "    .dataframe tbody tr th {\n",
       "        vertical-align: top;\n",
       "    }\n",
       "\n",
       "    .dataframe thead th {\n",
       "        text-align: right;\n",
       "    }\n",
       "</style>\n",
       "<table border=\"1\" class=\"dataframe\">\n",
       "  <thead>\n",
       "    <tr style=\"text-align: right;\">\n",
       "      <th></th>\n",
       "      <th>0</th>\n",
       "      <th>1</th>\n",
       "      <th>2</th>\n",
       "      <th>3</th>\n",
       "      <th>4</th>\n",
       "      <th>5</th>\n",
       "      <th>6</th>\n",
       "      <th>7</th>\n",
       "      <th>8</th>\n",
       "    </tr>\n",
       "  </thead>\n",
       "  <tbody>\n",
       "    <tr>\n",
       "      <th>0</th>\n",
       "      <td></td>\n",
       "      <td>売上高</td>\n",
       "      <td></td>\n",
       "      <td>営業利益</td>\n",
       "      <td></td>\n",
       "      <td>経常利益</td>\n",
       "      <td></td>\n",
       "      <td>親会社株主に帰属する当期\\n純利益</td>\n",
       "      <td></td>\n",
       "    </tr>\n",
       "    <tr>\n",
       "      <th>1</th>\n",
       "      <td>2021年3月期\\n2020年3月期</td>\n",
       "      <td>百万円\\n1,035,898\\n1,060,070</td>\n",
       "      <td>％\\n△2.3\\n4.6</td>\n",
       "      <td>百万円\\n136,925\\n142,858</td>\n",
       "      <td>％\\n△4.2\\n9.7</td>\n",
       "      <td>百万円\\n138,990\\n151,356</td>\n",
       "      <td>％\\n△8.2\\n4.5</td>\n",
       "      <td>百万円\\n74,681\\n89,080</td>\n",
       "      <td>％\\n△16.2\\n△3.2</td>\n",
       "    </tr>\n",
       "  </tbody>\n",
       "</table>\n",
       "</div>"
      ],
      "text/plain": [
       "                    0                          1             2  \\\n",
       "0                                            売上高                 \n",
       "1  2021年3月期\\n2020年3月期  百万円\\n1,035,898\\n1,060,070  ％\\n△2.3\\n4.6   \n",
       "\n",
       "                       3             4                      5             6  \\\n",
       "0                   営業利益                                 経常利益                 \n",
       "1  百万円\\n136,925\\n142,858  ％\\n△4.2\\n9.7  百万円\\n138,990\\n151,356  ％\\n△8.2\\n4.5   \n",
       "\n",
       "                     7               8  \n",
       "0    親会社株主に帰属する当期\\n純利益                  \n",
       "1  百万円\\n74,681\\n89,080  ％\\n△16.2\\n△3.2  "
      ]
     },
     "metadata": {},
     "output_type": "display_data"
    },
    {
     "name": "stdout",
     "output_type": "stream",
     "text": [
      "1番目に抽出された表\n",
      "\n"
     ]
    },
    {
     "data": {
      "image/png": "[encoded data removed]",
      "text/plain": [
       "<Figure size 432x288 with 1 Axes>"
      ]
     },
     "metadata": {},
     "output_type": "display_data"
    },
    {
     "data": {
      "text/html": [
       "<div>\n",
       "<style scoped>\n",
       "    .dataframe tbody tr th:only-of-type {\n",
       "        vertical-align: middle;\n",
       "    }\n",
       "\n",
       "    .dataframe tbody tr th {\n",
       "        vertical-align: top;\n",
       "    }\n",
       "\n",
       "    .dataframe thead th {\n",
       "        text-align: right;\n",
       "    }\n",
       "</style>\n",
       "<table border=\"1\" class=\"dataframe\">\n",
       "  <thead>\n",
       "    <tr style=\"text-align: right;\">\n",
       "      <th></th>\n",
       "      <th>0</th>\n",
       "      <th>1</th>\n",
       "      <th>2</th>\n",
       "      <th>3</th>\n",
       "      <th>4</th>\n",
       "      <th>5</th>\n",
       "    </tr>\n",
       "  </thead>\n",
       "  <tbody>\n",
       "    <tr>\n",
       "      <th>0</th>\n",
       "      <td></td>\n",
       "      <td>1株当たり当期純利益</td>\n",
       "      <td>潜在株式調整後1株当たり\\n当期純利益</td>\n",
       "      <td>自己資本当期純利\\n益率</td>\n",
       "      <td>総資産経常利益率</td>\n",
       "      <td>売上高営業利益率</td>\n",
       "    </tr>\n",
       "    <tr>\n",
       "      <th>1</th>\n",
       "      <td>2021年3月期\\n2020年3月期</td>\n",
       "      <td>円 銭\\n342.17\\n408.14</td>\n",
       "      <td>円 銭\\n―\\n―</td>\n",
       "      <td>％\\n7.1\\n8.8</td>\n",
       "      <td>％\\n7.6\\n8.5</td>\n",
       "      <td>％\\n13.2\\n13.5</td>\n",
       "    </tr>\n",
       "  </tbody>\n",
       "</table>\n",
       "</div>"
      ],
      "text/plain": [
       "                    0                    1                    2             3  \\\n",
       "0                               1株当たり当期純利益  潜在株式調整後1株当たり\\n当期純利益  自己資本当期純利\\n益率   \n",
       "1  2021年3月期\\n2020年3月期  円 銭\\n342.17\\n408.14            円 銭\\n―\\n―   ％\\n7.1\\n8.8   \n",
       "\n",
       "             4              5  \n",
       "0     総資産経常利益率       売上高営業利益率  \n",
       "1  ％\\n7.6\\n8.5  ％\\n13.2\\n13.5  "
      ]
     },
     "metadata": {},
     "output_type": "display_data"
    },
    {
     "name": "stdout",
     "output_type": "stream",
     "text": [
      "2番目に抽出された表\n",
      "\n"
     ]
    },
    {
     "data": {
      "image/png": "[encoded data removed]",
      "text/plain": [
       "<Figure size 432x288 with 1 Axes>"
      ]
     },
     "metadata": {},
     "output_type": "display_data"
    },
    {
     "data": {
      "text/html": [
       "<div>\n",
       "<style scoped>\n",
       "    .dataframe tbody tr th:only-of-type {\n",
       "        vertical-align: middle;\n",
       "    }\n",
       "\n",
       "    .dataframe tbody tr th {\n",
       "        vertical-align: top;\n",
       "    }\n",
       "\n",
       "    .dataframe thead th {\n",
       "        text-align: right;\n",
       "    }\n",
       "</style>\n",
       "<table border=\"1\" class=\"dataframe\">\n",
       "  <thead>\n",
       "    <tr style=\"text-align: right;\">\n",
       "      <th></th>\n",
       "      <th>0</th>\n",
       "      <th>1</th>\n",
       "      <th>2</th>\n",
       "      <th>3</th>\n",
       "      <th>4</th>\n",
       "    </tr>\n",
       "  </thead>\n",
       "  <tbody>\n",
       "    <tr>\n",
       "      <th>0</th>\n",
       "      <td></td>\n",
       "      <td>総資産</td>\n",
       "      <td>純資産</td>\n",
       "      <td>自己資本比率</td>\n",
       "      <td>1株当たり純資産</td>\n",
       "    </tr>\n",
       "    <tr>\n",
       "      <th>1</th>\n",
       "      <td>2021年3月期\\n2020年3月期</td>\n",
       "      <td>百万円\\n1,864,179\\n1,815,121</td>\n",
       "      <td>百万円\\n1,229,824\\n1,172,494</td>\n",
       "      <td>％\\n58.1\\n57.0</td>\n",
       "      <td>円 銭\\n4,958.18\\n4,742.58</td>\n",
       "    </tr>\n",
       "  </tbody>\n",
       "</table>\n",
       "</div>"
      ],
      "text/plain": [
       "                    0                          1                          2  \\\n",
       "0                                            総資産                        純資産   \n",
       "1  2021年3月期\\n2020年3月期  百万円\\n1,864,179\\n1,815,121  百万円\\n1,229,824\\n1,172,494   \n",
       "\n",
       "               3                        4  \n",
       "0         自己資本比率                 1株当たり純資産  \n",
       "1  ％\\n58.1\\n57.0  円 銭\\n4,958.18\\n4,742.58  "
      ]
     },
     "metadata": {},
     "output_type": "display_data"
    },
    {
     "name": "stdout",
     "output_type": "stream",
     "text": [
      "3番目に抽出された表\n",
      "\n"
     ]
    },
    {
     "data": {
      "image/png": "[encoded data removed]",
      "text/plain": [
       "<Figure size 432x288 with 1 Axes>"
      ]
     },
     "metadata": {},
     "output_type": "display_data"
    },
    {
     "data": {
      "text/html": [
       "<div>\n",
       "<style scoped>\n",
       "    .dataframe tbody tr th:only-of-type {\n",
       "        vertical-align: middle;\n",
       "    }\n",
       "\n",
       "    .dataframe tbody tr th {\n",
       "        vertical-align: top;\n",
       "    }\n",
       "\n",
       "    .dataframe thead th {\n",
       "        text-align: right;\n",
       "    }\n",
       "</style>\n",
       "<table border=\"1\" class=\"dataframe\">\n",
       "  <thead>\n",
       "    <tr style=\"text-align: right;\">\n",
       "      <th></th>\n",
       "      <th>0</th>\n",
       "      <th>1</th>\n",
       "      <th>2</th>\n",
       "      <th>3</th>\n",
       "      <th>4</th>\n",
       "    </tr>\n",
       "  </thead>\n",
       "  <tbody>\n",
       "    <tr>\n",
       "      <th>0</th>\n",
       "      <td></td>\n",
       "      <td>営業活動によるキャッシュ・フロー</td>\n",
       "      <td>投資活動によるキャッシュ・フロー</td>\n",
       "      <td>財務活動によるキャッシュ・フロー</td>\n",
       "      <td>現金及び現金同等物期末残高</td>\n",
       "    </tr>\n",
       "    <tr>\n",
       "      <th>1</th>\n",
       "      <td>2021年3月期\\n2020年3月期</td>\n",
       "      <td>百万円\\n181,932\\n175,559</td>\n",
       "      <td>百万円\\n△48,536\\n△60,780</td>\n",
       "      <td>百万円\\n△49,311\\n△48,209</td>\n",
       "      <td>百万円\\n490,039\\n406,479</td>\n",
       "    </tr>\n",
       "  </tbody>\n",
       "</table>\n",
       "</div>"
      ],
      "text/plain": [
       "                    0                      1                      2  \\\n",
       "0                           営業活動によるキャッシュ・フロー       投資活動によるキャッシュ・フロー   \n",
       "1  2021年3月期\\n2020年3月期  百万円\\n181,932\\n175,559  百万円\\n△48,536\\n△60,780   \n",
       "\n",
       "                       3                      4  \n",
       "0       財務活動によるキャッシュ・フロー          現金及び現金同等物期末残高  \n",
       "1  百万円\\n△49,311\\n△48,209  百万円\\n490,039\\n406,479  "
      ]
     },
     "metadata": {},
     "output_type": "display_data"
    },
    {
     "name": "stdout",
     "output_type": "stream",
     "text": [
      "4番目に抽出された表\n",
      "\n"
     ]
    },
    {
     "data": {
      "image/png": "[encoded data removed]",
      "text/plain": [
       "<Figure size 432x288 with 1 Axes>"
      ]
     },
     "metadata": {},
     "output_type": "display_data"
    },
    {
     "data": {
      "text/html": [
       "<div>\n",
       "<style scoped>\n",
       "    .dataframe tbody tr th:only-of-type {\n",
       "        vertical-align: middle;\n",
       "    }\n",
       "\n",
       "    .dataframe tbody tr th {\n",
       "        vertical-align: top;\n",
       "    }\n",
       "\n",
       "    .dataframe thead th {\n",
       "        text-align: right;\n",
       "    }\n",
       "</style>\n",
       "<table border=\"1\" class=\"dataframe\">\n",
       "  <thead>\n",
       "    <tr style=\"text-align: right;\">\n",
       "      <th></th>\n",
       "      <th>0</th>\n",
       "      <th>1</th>\n",
       "      <th>2</th>\n",
       "      <th>3</th>\n",
       "      <th>4</th>\n",
       "      <th>5</th>\n",
       "      <th>6</th>\n",
       "      <th>7</th>\n",
       "      <th>8</th>\n",
       "    </tr>\n",
       "  </thead>\n",
       "  <tbody>\n",
       "    <tr>\n",
       "      <th>0</th>\n",
       "      <td></td>\n",
       "      <td>年間配当金</td>\n",
       "      <td></td>\n",
       "      <td></td>\n",
       "      <td></td>\n",
       "      <td></td>\n",
       "      <td>配当金総額\\n（合計）</td>\n",
       "      <td>配当性向\\n（連結）</td>\n",
       "      <td>純資産配当\\n率（連結）</td>\n",
       "    </tr>\n",
       "    <tr>\n",
       "      <th>1</th>\n",
       "      <td></td>\n",
       "      <td>第1四半期末</td>\n",
       "      <td>第2四半期末</td>\n",
       "      <td>第3四半期末</td>\n",
       "      <td>期末</td>\n",
       "      <td>合計</td>\n",
       "      <td></td>\n",
       "      <td></td>\n",
       "      <td></td>\n",
       "    </tr>\n",
       "    <tr>\n",
       "      <th>2</th>\n",
       "      <td>2020年3月期\\n2021年3月期</td>\n",
       "      <td>円 銭\\n―\\n―</td>\n",
       "      <td>円 銭\\n85.00\\n85.00</td>\n",
       "      <td>円 銭\\n―\\n―</td>\n",
       "      <td>円 銭\\n85.00\\n85.00</td>\n",
       "      <td>円 銭\\n170.00\\n170.00</td>\n",
       "      <td>百万円\\n37,104\\n37,104</td>\n",
       "      <td>％\\n41.7\\n49.7</td>\n",
       "      <td>％\\n3.7\\n3.5</td>\n",
       "    </tr>\n",
       "    <tr>\n",
       "      <th>3</th>\n",
       "      <td>2022年3月期(予想)</td>\n",
       "      <td>―</td>\n",
       "      <td>85.00</td>\n",
       "      <td>―</td>\n",
       "      <td>90.00</td>\n",
       "      <td>175.00</td>\n",
       "      <td></td>\n",
       "      <td>44.2</td>\n",
       "      <td></td>\n",
       "    </tr>\n",
       "  </tbody>\n",
       "</table>\n",
       "</div>"
      ],
      "text/plain": [
       "                    0          1                  2          3  \\\n",
       "0                          年間配当金                                 \n",
       "1                         第1四半期末             第2四半期末     第3四半期末   \n",
       "2  2020年3月期\\n2021年3月期  円 銭\\n―\\n―  円 銭\\n85.00\\n85.00  円 銭\\n―\\n―   \n",
       "3        2022年3月期(予想)          ―              85.00          ―   \n",
       "\n",
       "                   4                    5                    6              7  \\\n",
       "0                                                  配当金総額\\n（合計）     配当性向\\n（連結）   \n",
       "1                 期末                   合計                                       \n",
       "2  円 銭\\n85.00\\n85.00  円 銭\\n170.00\\n170.00  百万円\\n37,104\\n37,104  ％\\n41.7\\n49.7   \n",
       "3              90.00               175.00                                44.2   \n",
       "\n",
       "              8  \n",
       "0  純資産配当\\n率（連結）  \n",
       "1                \n",
       "2   ％\\n3.7\\n3.5  \n",
       "3                "
      ]
     },
     "metadata": {},
     "output_type": "display_data"
    },
    {
     "name": "stdout",
     "output_type": "stream",
     "text": [
      "5番目に抽出された表\n",
      "\n"
     ]
    },
    {
     "data": {
      "image/png": "[encoded data removed]",
      "text/plain": [
       "<Figure size 432x288 with 1 Axes>"
      ]
     },
     "metadata": {},
     "output_type": "display_data"
    },
    {
     "data": {
      "text/html": [
       "<div>\n",
       "<style scoped>\n",
       "    .dataframe tbody tr th:only-of-type {\n",
       "        vertical-align: middle;\n",
       "    }\n",
       "\n",
       "    .dataframe tbody tr th {\n",
       "        vertical-align: top;\n",
       "    }\n",
       "\n",
       "    .dataframe thead th {\n",
       "        text-align: right;\n",
       "    }\n",
       "</style>\n",
       "<table border=\"1\" class=\"dataframe\">\n",
       "  <thead>\n",
       "    <tr style=\"text-align: right;\">\n",
       "      <th></th>\n",
       "      <th>0</th>\n",
       "      <th>1</th>\n",
       "      <th>2</th>\n",
       "      <th>3</th>\n",
       "      <th>4</th>\n",
       "      <th>5</th>\n",
       "      <th>6</th>\n",
       "      <th>7</th>\n",
       "      <th>8</th>\n",
       "      <th>9</th>\n",
       "    </tr>\n",
       "  </thead>\n",
       "  <tbody>\n",
       "    <tr>\n",
       "      <th>0</th>\n",
       "      <td></td>\n",
       "      <td>売上高</td>\n",
       "      <td></td>\n",
       "      <td>営業利益</td>\n",
       "      <td></td>\n",
       "      <td>経常利益</td>\n",
       "      <td></td>\n",
       "      <td>親会社株主に帰属する\\n当期純利益</td>\n",
       "      <td></td>\n",
       "      <td>1株当たり当期\\n純利益</td>\n",
       "    </tr>\n",
       "    <tr>\n",
       "      <th>1</th>\n",
       "      <td>第2四半期(累計)\\n通期</td>\n",
       "      <td>百万円\\n503,000\\n1,052,000</td>\n",
       "      <td>％\\n2.4\\n1.6</td>\n",
       "      <td>百万円\\n63,000\\n139,500</td>\n",
       "      <td>％\\n3.7\\n1.9</td>\n",
       "      <td>百万円\\n66,000\\n145,000</td>\n",
       "      <td>％\\n11.5\\n4.3</td>\n",
       "      <td>百万円\\n39,500\\n86,500</td>\n",
       "      <td>％\\n22.1\\n15.8</td>\n",
       "      <td>円 銭\\n180.98\\n396.31</td>\n",
       "    </tr>\n",
       "  </tbody>\n",
       "</table>\n",
       "</div>"
      ],
      "text/plain": [
       "               0                        1            2                     3  \\\n",
       "0                                     売上高                               営業利益   \n",
       "1  第2四半期(累計)\\n通期  百万円\\n503,000\\n1,052,000  ％\\n2.4\\n1.6  百万円\\n63,000\\n139,500   \n",
       "\n",
       "             4                     5             6                    7  \\\n",
       "0                               経常利益                  親会社株主に帰属する\\n当期純利益   \n",
       "1  ％\\n3.7\\n1.9  百万円\\n66,000\\n145,000  ％\\n11.5\\n4.3  百万円\\n39,500\\n86,500   \n",
       "\n",
       "               8                    9  \n",
       "0                        1株当たり当期\\n純利益  \n",
       "1  ％\\n22.1\\n15.8  円 銭\\n180.98\\n396.31  "
      ]
     },
     "metadata": {},
     "output_type": "display_data"
    },
    {
     "name": "stdout",
     "output_type": "stream",
     "text": [
      "6番目に抽出された表\n",
      "\n"
     ]
    },
    {
     "data": {
      "image/png": "[encoded data removed]",
      "text/plain": [
       "<Figure size 432x288 with 1 Axes>"
      ]
     },
     "metadata": {},
     "output_type": "display_data"
    },
    {
     "data": {
      "text/html": [
       "<div>\n",
       "<style scoped>\n",
       "    .dataframe tbody tr th:only-of-type {\n",
       "        vertical-align: middle;\n",
       "    }\n",
       "\n",
       "    .dataframe tbody tr th {\n",
       "        vertical-align: top;\n",
       "    }\n",
       "\n",
       "    .dataframe thead th {\n",
       "        text-align: right;\n",
       "    }\n",
       "</style>\n",
       "<table border=\"1\" class=\"dataframe\">\n",
       "  <thead>\n",
       "    <tr style=\"text-align: right;\">\n",
       "      <th></th>\n",
       "      <th>0</th>\n",
       "      <th>1</th>\n",
       "      <th>2</th>\n",
       "      <th>3</th>\n",
       "    </tr>\n",
       "  </thead>\n",
       "  <tbody>\n",
       "    <tr>\n",
       "      <th>0</th>\n",
       "      <td>2021年3月期</td>\n",
       "      <td>233,295,926 株</td>\n",
       "      <td>2020年3月期</td>\n",
       "      <td>233,293,998 株</td>\n",
       "    </tr>\n",
       "    <tr>\n",
       "      <th>1</th>\n",
       "      <td>2021年3月期</td>\n",
       "      <td>15,034,565 株</td>\n",
       "      <td>2020年3月期</td>\n",
       "      <td>15,033,588 株</td>\n",
       "    </tr>\n",
       "    <tr>\n",
       "      <th>2</th>\n",
       "      <td>2021年3月期</td>\n",
       "      <td>218,261,353 株</td>\n",
       "      <td>2020年3月期</td>\n",
       "      <td>218,260,796 株</td>\n",
       "    </tr>\n",
       "  </tbody>\n",
       "</table>\n",
       "</div>"
      ],
      "text/plain": [
       "          0              1         2              3\n",
       "0  2021年3月期  233,295,926 株  2020年3月期  233,293,998 株\n",
       "1  2021年3月期   15,034,565 株  2020年3月期   15,033,588 株\n",
       "2  2021年3月期  218,261,353 株  2020年3月期  218,260,796 株"
      ]
     },
     "metadata": {},
     "output_type": "display_data"
    },
    {
     "name": "stdout",
     "output_type": "stream",
     "text": [
      "7番目に抽出された表\n",
      "\n"
     ]
    },
    {
     "data": {
      "image/png": "[encoded data removed]",
      "text/plain": [
       "<Figure size 432x288 with 1 Axes>"
      ]
     },
     "metadata": {},
     "output_type": "display_data"
    },
    {
     "data": {
      "text/html": [
       "<div>\n",
       "<style scoped>\n",
       "    .dataframe tbody tr th:only-of-type {\n",
       "        vertical-align: middle;\n",
       "    }\n",
       "\n",
       "    .dataframe tbody tr th {\n",
       "        vertical-align: top;\n",
       "    }\n",
       "\n",
       "    .dataframe thead th {\n",
       "        text-align: right;\n",
       "    }\n",
       "</style>\n",
       "<table border=\"1\" class=\"dataframe\">\n",
       "  <thead>\n",
       "    <tr style=\"text-align: right;\">\n",
       "      <th></th>\n",
       "      <th>0</th>\n",
       "      <th>1</th>\n",
       "      <th>2</th>\n",
       "      <th>3</th>\n",
       "      <th>4</th>\n",
       "      <th>5</th>\n",
       "      <th>6</th>\n",
       "      <th>7</th>\n",
       "      <th>8</th>\n",
       "    </tr>\n",
       "  </thead>\n",
       "  <tbody>\n",
       "    <tr>\n",
       "      <th>0</th>\n",
       "      <td></td>\n",
       "      <td>売上高</td>\n",
       "      <td></td>\n",
       "      <td>営業利益</td>\n",
       "      <td></td>\n",
       "      <td>経常利益</td>\n",
       "      <td></td>\n",
       "      <td>当期純利益</td>\n",
       "      <td></td>\n",
       "    </tr>\n",
       "    <tr>\n",
       "      <th>1</th>\n",
       "      <td>2021年3月期\\n2020年3月期</td>\n",
       "      <td>百万円\\n394,389\\n398,929</td>\n",
       "      <td>％\\n△1.1\\n1.2</td>\n",
       "      <td>百万円\\n75,541\\n76,877</td>\n",
       "      <td>％\\n△1.7\\n0.1</td>\n",
       "      <td>百万円\\n89,301\\n90,538</td>\n",
       "      <td>％\\n△1.4\\n1.8</td>\n",
       "      <td>百万円\\n59,960\\n65,808</td>\n",
       "      <td>％\\n△8.9\\n△11.1</td>\n",
       "    </tr>\n",
       "  </tbody>\n",
       "</table>\n",
       "</div>"
      ],
      "text/plain": [
       "                    0                      1             2  \\\n",
       "0                                        売上高                 \n",
       "1  2021年3月期\\n2020年3月期  百万円\\n394,389\\n398,929  ％\\n△1.1\\n1.2   \n",
       "\n",
       "                     3             4                    5             6  \\\n",
       "0                 営業利益                               経常利益                 \n",
       "1  百万円\\n75,541\\n76,877  ％\\n△1.7\\n0.1  百万円\\n89,301\\n90,538  ％\\n△1.4\\n1.8   \n",
       "\n",
       "                     7               8  \n",
       "0                当期純利益                  \n",
       "1  百万円\\n59,960\\n65,808  ％\\n△8.9\\n△11.1  "
      ]
     },
     "metadata": {},
     "output_type": "display_data"
    },
    {
     "name": "stdout",
     "output_type": "stream",
     "text": [
      "8番目に抽出された表\n",
      "\n"
     ]
    },
    {
     "data": {
      "image/png": "[encoded data removed]",
      "text/plain": [
       "<Figure size 432x288 with 1 Axes>"
      ]
     },
     "metadata": {},
     "output_type": "display_data"
    },
    {
     "data": {
      "text/html": [
       "<div>\n",
       "<style scoped>\n",
       "    .dataframe tbody tr th:only-of-type {\n",
       "        vertical-align: middle;\n",
       "    }\n",
       "\n",
       "    .dataframe tbody tr th {\n",
       "        vertical-align: top;\n",
       "    }\n",
       "\n",
       "    .dataframe thead th {\n",
       "        text-align: right;\n",
       "    }\n",
       "</style>\n",
       "<table border=\"1\" class=\"dataframe\">\n",
       "  <thead>\n",
       "    <tr style=\"text-align: right;\">\n",
       "      <th></th>\n",
       "      <th>0</th>\n",
       "      <th>1</th>\n",
       "      <th>2</th>\n",
       "    </tr>\n",
       "  </thead>\n",
       "  <tbody>\n",
       "    <tr>\n",
       "      <th>0</th>\n",
       "      <td></td>\n",
       "      <td>1株当たり当期純利益</td>\n",
       "      <td>潜在株式調整後1株当たり当期純\\n利益</td>\n",
       "    </tr>\n",
       "    <tr>\n",
       "      <th>1</th>\n",
       "      <td>2021年3月期\\n2020年3月期</td>\n",
       "      <td>円 銭\\n274.72\\n301.51</td>\n",
       "      <td>円 銭\\n―\\n―</td>\n",
       "    </tr>\n",
       "  </tbody>\n",
       "</table>\n",
       "</div>"
      ],
      "text/plain": [
       "                    0                    1                    2\n",
       "0                               1株当たり当期純利益  潜在株式調整後1株当たり当期純\\n利益\n",
       "1  2021年3月期\\n2020年3月期  円 銭\\n274.72\\n301.51            円 銭\\n―\\n―"
      ]
     },
     "metadata": {},
     "output_type": "display_data"
    },
    {
     "name": "stdout",
     "output_type": "stream",
     "text": [
      "9番目に抽出された表\n",
      "\n"
     ]
    },
    {
     "data": {
      "image/png": "[encoded data removed]",
      "text/plain": [
       "<Figure size 432x288 with 1 Axes>"
      ]
     },
     "metadata": {},
     "output_type": "display_data"
    },
    {
     "data": {
      "text/html": [
       "<div>\n",
       "<style scoped>\n",
       "    .dataframe tbody tr th:only-of-type {\n",
       "        vertical-align: middle;\n",
       "    }\n",
       "\n",
       "    .dataframe tbody tr th {\n",
       "        vertical-align: top;\n",
       "    }\n",
       "\n",
       "    .dataframe thead th {\n",
       "        text-align: right;\n",
       "    }\n",
       "</style>\n",
       "<table border=\"1\" class=\"dataframe\">\n",
       "  <thead>\n",
       "    <tr style=\"text-align: right;\">\n",
       "      <th></th>\n",
       "      <th>0</th>\n",
       "      <th>1</th>\n",
       "      <th>2</th>\n",
       "      <th>3</th>\n",
       "      <th>4</th>\n",
       "    </tr>\n",
       "  </thead>\n",
       "  <tbody>\n",
       "    <tr>\n",
       "      <th>0</th>\n",
       "      <td></td>\n",
       "      <td>総資産</td>\n",
       "      <td>純資産</td>\n",
       "      <td>自己資本比率</td>\n",
       "      <td>1株当たり純資産</td>\n",
       "    </tr>\n",
       "    <tr>\n",
       "      <th>1</th>\n",
       "      <td>2021年3月期\\n2020年3月期</td>\n",
       "      <td>百万円\\n971,493\\n947,194</td>\n",
       "      <td>百万円\\n838,562\\n812,878</td>\n",
       "      <td>％\\n86.3\\n85.8</td>\n",
       "      <td>円 銭\\n3,842.01\\n3,724.35</td>\n",
       "    </tr>\n",
       "  </tbody>\n",
       "</table>\n",
       "</div>"
      ],
      "text/plain": [
       "                    0                      1                      2  \\\n",
       "0                                        総資産                    純資産   \n",
       "1  2021年3月期\\n2020年3月期  百万円\\n971,493\\n947,194  百万円\\n838,562\\n812,878   \n",
       "\n",
       "               3                        4  \n",
       "0         自己資本比率                 1株当たり純資産  \n",
       "1  ％\\n86.3\\n85.8  円 銭\\n3,842.01\\n3,724.35  "
      ]
     },
     "metadata": {},
     "output_type": "display_data"
    },
    {
     "data": {
      "image/png": "[encoded data removed]",
      "text/plain": [
       "<Figure size 432x288 with 1 Axes>"
      ]
     },
     "metadata": {
      "needs_background": "light"
     },
     "output_type": "display_data"
    },
    {
     "data": {
      "image/png": "[encoded data removed]",
      "text/plain": [
       "<Figure size 432x288 with 1 Axes>"
      ]
     },
     "metadata": {
      "needs_background": "light"
     },
     "output_type": "display_data"
    },
    {
     "data": {
      "image/png": "[encoded data removed]",
      "text/plain": [
       "<Figure size 432x288 with 1 Axes>"
      ]
     },
     "metadata": {
      "needs_background": "light"
     },
     "output_type": "display_data"
    },
    {
     "data": {
      "image/png": "[encoded data removed]",
      "text/plain": [
       "<Figure size 432x288 with 1 Axes>"
      ]
     },
     "metadata": {
      "needs_background": "light"
     },
     "output_type": "display_data"
    },
    {
     "data": {
      "image/png": "[encoded data removed]",
      "text/plain": [
       "<Figure size 432x288 with 1 Axes>"
      ]
     },
     "metadata": {
      "needs_background": "light"
     },
     "output_type": "display_data"
    },
    {
     "data": {
      "image/png": "[encoded data removed]",
      "text/plain": [
       "<Figure size 432x288 with 1 Axes>"
      ]
     },
     "metadata": {
      "needs_background": "light"
     },
     "output_type": "display_data"
    },
    {
     "data": {
      "image/png": "[encoded data removed]",
      "text/plain": [
       "<Figure size 432x288 with 1 Axes>"
      ]
     },
     "metadata": {
      "needs_background": "light"
     },
     "output_type": "display_data"
    },
    {
     "data": {
      "image/png": "[encoded data removed]",
      "text/plain": [
       "<Figure size 432x288 with 1 Axes>"
      ]
     },
     "metadata": {
      "needs_background": "light"
     },
     "output_type": "display_data"
    },
    {
     "data": {
      "image/png": "[encoded data removed]",
      "text/plain": [
       "<Figure size 432x288 with 1 Axes>"
      ]
     },
     "metadata": {
      "needs_background": "light"
     },
     "output_type": "display_data"
    },
    {
     "data": {
      "image/png": "[encoded data removed]",
      "text/plain": [
       "<Figure size 432x288 with 1 Axes>"
      ]
     },
     "metadata": {
      "needs_background": "light"
     },
     "output_type": "display_data"
    }
   ],
   "source": [
    "for i, table in enumerate(tables):\n",
    "    print(f\"{i}番目に抽出された表\\n\")\n",
    "    display(camelot.plot(table, kind='grid'))\n",
    "    display(table.df)"
   ]
  },
  {
   "cell_type": "code",
   "execution_count": 60,
   "id": "8867cd76",
   "metadata": {
    "scrolled": true
   },
   "outputs": [
    {
     "name": "stderr",
     "output_type": "stream",
     "text": [
      "/var/folders/1c/zp6jf60x58g8vs33m9pjhswc0000gn/T/ipykernel_82140/1260959004.py:1: UserWarning: Matplotlib is currently using module://matplotlib_inline.backend_inline, which is a non-GUI backend, so cannot show the figure.\n",
      "  camelot.plot(tables[0], kind='line').show()\n",
      "/var/folders/1c/zp6jf60x58g8vs33m9pjhswc0000gn/T/ipykernel_82140/1260959004.py:2: UserWarning: Matplotlib is currently using module://matplotlib_inline.backend_inline, which is a non-GUI backend, so cannot show the figure.\n",
      "  camelot.plot(tables[0], kind='contour').show()\n",
      "/var/folders/1c/zp6jf60x58g8vs33m9pjhswc0000gn/T/ipykernel_82140/1260959004.py:3: UserWarning: Matplotlib is currently using module://matplotlib_inline.backend_inline, which is a non-GUI backend, so cannot show the figure.\n",
      "  camelot.plot(tables[0], kind='joint').show()\n"
     ]
    },
    {
     "data": {
      "image/png": "[encoded data removed]",
      "text/plain": [
       "<Figure size 432x288 with 1 Axes>"
      ]
     },
     "metadata": {
      "needs_background": "light"
     },
     "output_type": "display_data"
    },
    {
     "data": {
      "image/png": "[encoded data removed]",
      "text/plain": [
       "<Figure size 432x288 with 1 Axes>"
      ]
     },
     "metadata": {
      "needs_background": "light"
     },
     "output_type": "display_data"
    },
    {
     "data": {
      "image/png": "[encoded data removed]",
      "text/plain": [
       "<Figure size 432x288 with 1 Axes>"
      ]
     },
     "metadata": {
      "needs_background": "light"
     },
     "output_type": "display_data"
    }
   ],
   "source": [
    "# ‘line’ and ‘joint’can only be used with Lattice and ‘textedge’can only be used with Stream.\n",
    "camelot.plot(tables[0], kind='line').show()\n",
    "camelot.plot(tables[0], kind='contour').show()\n",
    "camelot.plot(tables[0], kind='joint').show()"
   ]
  },
  {
   "cell_type": "markdown",
   "id": "5631b053",
   "metadata": {},
   "source": [
    "camelotはデフォルトではlatticeモードで読み込む。以下ではstreamモードを試している。"
   ]
  },
  {
   "cell_type": "code",
   "execution_count": 91,
   "id": "e9d2f585",
   "metadata": {},
   "outputs": [
    {
     "name": "stderr",
     "output_type": "stream",
     "text": [
      "UserWarning: No tables found in table area 1 [stream.py:365]\n"
     ]
    },
    {
     "data": {
      "text/plain": [
       "<TableList n=5>"
      ]
     },
     "execution_count": 91,
     "metadata": {},
     "output_type": "execute_result"
    }
   ],
   "source": [
    "tables_stream = camelot.read_pdf('decrypted_PDFs/kessan33-3.pdf', pages=\"1,2,3,4,5\",flavor='stream', row_tol=10,edge_tol=1000,strip_text=' .\\n')\n",
    "tables_stream"
   ]
  },
  {
   "cell_type": "code",
   "execution_count": 99,
   "id": "386da330",
   "metadata": {},
   "outputs": [
    {
     "name": "stderr",
     "output_type": "stream",
     "text": [
      "/var/folders/1c/zp6jf60x58g8vs33m9pjhswc0000gn/T/ipykernel_82140/3779798431.py:1: UserWarning: Matplotlib is currently using module://matplotlib_inline.backend_inline, which is a non-GUI backend, so cannot show the figure.\n",
      "  camelot.plot(tables_stream[0],kind =\"text\").show()\n"
     ]
    },
    {
     "data": {
      "text/html": [
       "<div>\n",
       "<style scoped>\n",
       "    .dataframe tbody tr th:only-of-type {\n",
       "        vertical-align: middle;\n",
       "    }\n",
       "\n",
       "    .dataframe tbody tr th {\n",
       "        vertical-align: top;\n",
       "    }\n",
       "\n",
       "    .dataframe thead th {\n",
       "        text-align: right;\n",
       "    }\n",
       "</style>\n",
       "<table border=\"1\" class=\"dataframe\">\n",
       "  <thead>\n",
       "    <tr style=\"text-align: right;\">\n",
       "      <th></th>\n",
       "      <th>0</th>\n",
       "    </tr>\n",
       "  </thead>\n",
       "  <tbody>\n",
       "    <tr>\n",
       "      <th>0</th>\n",
       "      <td>2021年3月期決算短信〔日本基準〕（連結）</td>\n",
       "    </tr>\n",
       "    <tr>\n",
       "      <th>1</th>\n",
       "      <td>2021年5月13日</td>\n",
       "    </tr>\n",
       "    <tr>\n",
       "      <th>2</th>\n",
       "      <td>東上場会社名セコム株式会社上場取引所</td>\n",
       "    </tr>\n",
       "    <tr>\n",
       "      <th>3</th>\n",
       "      <td>コード番号9735URLhttps://wwwsecomcojp/</td>\n",
       "    </tr>\n",
       "    <tr>\n",
       "      <th>4</th>\n",
       "      <td>代表者（役職名）代表取締役社長（氏名）尾関一郎</td>\n",
       "    </tr>\n",
       "    <tr>\n",
       "      <th>5</th>\n",
       "      <td>問合せ先責任者（役職名）執行役員財務本部長（氏名）長尾誠也TEL03-5775-8100</td>\n",
       "    </tr>\n",
       "    <tr>\n",
       "      <th>6</th>\n",
       "      <td>定時株主総会開催予定日2021年6月25日配当支払開始予定日2021年6月28日</td>\n",
       "    </tr>\n",
       "    <tr>\n",
       "      <th>7</th>\n",
       "      <td>有価証券報告書提出予定日2021年6月25日</td>\n",
       "    </tr>\n",
       "    <tr>\n",
       "      <th>8</th>\n",
       "      <td>決算補足説明資料作成の有無：有</td>\n",
       "    </tr>\n",
       "    <tr>\n",
       "      <th>9</th>\n",
       "      <td>決算説明会開催の有無：有（機関投資家・アナリスト向け）</td>\n",
       "    </tr>\n",
       "    <tr>\n",
       "      <th>10</th>\n",
       "      <td>（百万円未満切捨て）</td>\n",
       "    </tr>\n",
       "    <tr>\n",
       "      <th>11</th>\n",
       "      <td>12021年3月期の連結業績（2020年4月1日〜2021年3月31日）</td>\n",
       "    </tr>\n",
       "    <tr>\n",
       "      <th>12</th>\n",
       "      <td>（％表示は対前期増減率）(1)連結経営成績</td>\n",
       "    </tr>\n",
       "    <tr>\n",
       "      <th>13</th>\n",
       "      <td>親会社株主に帰属する当期売上高営業利益経常利益</td>\n",
       "    </tr>\n",
       "    <tr>\n",
       "      <th>14</th>\n",
       "      <td>純利益</td>\n",
       "    </tr>\n",
       "    <tr>\n",
       "      <th>15</th>\n",
       "      <td>百万円％百万円％百万円％百万円％</td>\n",
       "    </tr>\n",
       "    <tr>\n",
       "      <th>16</th>\n",
       "      <td>2021年3月期1,035,898△23136,925△42138,990△8274,681...</td>\n",
       "    </tr>\n",
       "    <tr>\n",
       "      <th>17</th>\n",
       "      <td>2020年3月期1,060,07046142,85897151,3564589,080△32</td>\n",
       "    </tr>\n",
       "    <tr>\n",
       "      <th>18</th>\n",
       "      <td>（注）包括利益2021年3月期　　96,095百万円（98％）2020年3月期　　87,55...</td>\n",
       "    </tr>\n",
       "    <tr>\n",
       "      <th>19</th>\n",
       "      <td>潜在株式調整後1株当たり自己資本当期純利1株当たり当期純利益総資産経常利益率売上高営業利益率</td>\n",
       "    </tr>\n",
       "    <tr>\n",
       "      <th>20</th>\n",
       "      <td>当期純利益益率</td>\n",
       "    </tr>\n",
       "    <tr>\n",
       "      <th>21</th>\n",
       "      <td>円銭円銭％％％</td>\n",
       "    </tr>\n",
       "    <tr>\n",
       "      <th>22</th>\n",
       "      <td>2021年3月期34217―7176132</td>\n",
       "    </tr>\n",
       "    <tr>\n",
       "      <th>23</th>\n",
       "      <td>2020年3月期40814―8885135</td>\n",
       "    </tr>\n",
       "    <tr>\n",
       "      <th>24</th>\n",
       "      <td>（参考）持分法投資損益2021年3月期6,179百万円2020年3月期5,982百万円</td>\n",
       "    </tr>\n",
       "    <tr>\n",
       "      <th>25</th>\n",
       "      <td>（注）潜在株式調整後１株当たり当期純利益については、潜在株式が存在しないため記載しておりません。</td>\n",
       "    </tr>\n",
       "    <tr>\n",
       "      <th>26</th>\n",
       "      <td>(2)連結財政状態</td>\n",
       "    </tr>\n",
       "    <tr>\n",
       "      <th>27</th>\n",
       "      <td>総資産純資産自己資本比率1株当たり純資産</td>\n",
       "    </tr>\n",
       "    <tr>\n",
       "      <th>28</th>\n",
       "      <td>円銭百万円百万円％</td>\n",
       "    </tr>\n",
       "    <tr>\n",
       "      <th>29</th>\n",
       "      <td>2021年3月期1,864,1791,229,8245814,95818</td>\n",
       "    </tr>\n",
       "    <tr>\n",
       "      <th>30</th>\n",
       "      <td>2020年3月期1,815,1211,172,4945704,74258</td>\n",
       "    </tr>\n",
       "    <tr>\n",
       "      <th>31</th>\n",
       "      <td>（参考）自己資本2021年3月期1,082,179百万円2020年3月期1,035,116百万円</td>\n",
       "    </tr>\n",
       "    <tr>\n",
       "      <th>32</th>\n",
       "      <td>（注）自己資本は、純資産から非支配株主持分を控除したものを記載しております。１株当たり純資産...</td>\n",
       "    </tr>\n",
       "    <tr>\n",
       "      <th>33</th>\n",
       "      <td>(3)連結キャッシュ・フローの状況</td>\n",
       "    </tr>\n",
       "    <tr>\n",
       "      <th>34</th>\n",
       "      <td>営業活動によるキャッシュ・フロー投資活動によるキャッシュ・フロー財務活動によるキャッシュ・フ...</td>\n",
       "    </tr>\n",
       "    <tr>\n",
       "      <th>35</th>\n",
       "      <td>百万円百万円百万円百万円</td>\n",
       "    </tr>\n",
       "    <tr>\n",
       "      <th>36</th>\n",
       "      <td>2021年3月期181,932△48,536△49,311490,039</td>\n",
       "    </tr>\n",
       "    <tr>\n",
       "      <th>37</th>\n",
       "      <td>2020年3月期175,559△60,780△48,209406,479</td>\n",
       "    </tr>\n",
       "    <tr>\n",
       "      <th>38</th>\n",
       "      <td>2配当の状況</td>\n",
       "    </tr>\n",
       "    <tr>\n",
       "      <th>39</th>\n",
       "      <td>年間配当金配当金総額配当性向純資産配当</td>\n",
       "    </tr>\n",
       "    <tr>\n",
       "      <th>40</th>\n",
       "      <td>（合計）（連結）率（連結）第1四半期末第2四半期末第3四半期末期末合計</td>\n",
       "    </tr>\n",
       "    <tr>\n",
       "      <th>41</th>\n",
       "      <td>円銭円銭円銭円銭円銭百万円％％</td>\n",
       "    </tr>\n",
       "    <tr>\n",
       "      <th>42</th>\n",
       "      <td>2020年3月期―8500―85001700037,10441737</td>\n",
       "    </tr>\n",
       "    <tr>\n",
       "      <th>43</th>\n",
       "      <td>2021年3月期―8500―85001700037,10449735</td>\n",
       "    </tr>\n",
       "    <tr>\n",
       "      <th>44</th>\n",
       "      <td>2022年3月期(予想)―8500―900017500442</td>\n",
       "    </tr>\n",
       "    <tr>\n",
       "      <th>45</th>\n",
       "      <td>32022年3月期の連結業績予想（2021年4月1日〜2022年3月31日）</td>\n",
       "    </tr>\n",
       "    <tr>\n",
       "      <th>46</th>\n",
       "      <td>（％表示は、通期は対前期、四半期は対前年同四半期増減率）</td>\n",
       "    </tr>\n",
       "    <tr>\n",
       "      <th>47</th>\n",
       "      <td>親会社株主に帰属する1株当たり当期売上高営業利益経常利益</td>\n",
       "    </tr>\n",
       "    <tr>\n",
       "      <th>48</th>\n",
       "      <td>当期純利益純利益</td>\n",
       "    </tr>\n",
       "    <tr>\n",
       "      <th>49</th>\n",
       "      <td>円銭百万円％百万円％百万円％百万円％</td>\n",
       "    </tr>\n",
       "    <tr>\n",
       "      <th>50</th>\n",
       "      <td>第2四半期(累計)503,0002463,0003766,00011539,50022118098</td>\n",
       "    </tr>\n",
       "    <tr>\n",
       "      <th>51</th>\n",
       "      <td>通期1,052,00016139,50019145,0004386,50015839631</td>\n",
       "    </tr>\n",
       "    <tr>\n",
       "      <th>52</th>\n",
       "      <td>（注）１株当たり当期純利益の予想数値につきましては、2021年３月期末の期末発行済株式数（自...</td>\n",
       "    </tr>\n",
       "  </tbody>\n",
       "</table>\n",
       "</div>"
      ],
      "text/plain": [
       "                                                    0\n",
       "0                              2021年3月期決算短信〔日本基準〕（連結）\n",
       "1                                          2021年5月13日\n",
       "2                                  東上場会社名セコム株式会社上場取引所\n",
       "3                   コード番号9735URLhttps://wwwsecomcojp/\n",
       "4                             代表者（役職名）代表取締役社長（氏名）尾関一郎\n",
       "5        問合せ先責任者（役職名）執行役員財務本部長（氏名）長尾誠也TEL03-5775-8100\n",
       "6            定時株主総会開催予定日2021年6月25日配当支払開始予定日2021年6月28日\n",
       "7                              有価証券報告書提出予定日2021年6月25日\n",
       "8                                     決算補足説明資料作成の有無：有\n",
       "9                         決算説明会開催の有無：有（機関投資家・アナリスト向け）\n",
       "10                                         （百万円未満切捨て）\n",
       "11               12021年3月期の連結業績（2020年4月1日〜2021年3月31日）\n",
       "12                              （％表示は対前期増減率）(1)連結経営成績\n",
       "13                            親会社株主に帰属する当期売上高営業利益経常利益\n",
       "14                                                純利益\n",
       "15                                   百万円％百万円％百万円％百万円％\n",
       "16  2021年3月期1,035,898△23136,925△42138,990△8274,681...\n",
       "17     2020年3月期1,060,07046142,85897151,3564589,080△32\n",
       "18  （注）包括利益2021年3月期　　96,095百万円（98％）2020年3月期　　87,55...\n",
       "19     潜在株式調整後1株当たり自己資本当期純利1株当たり当期純利益総資産経常利益率売上高営業利益率\n",
       "20                                            当期純利益益率\n",
       "21                                            円銭円銭％％％\n",
       "22                              2021年3月期34217―7176132\n",
       "23                              2020年3月期40814―8885135\n",
       "24        （参考）持分法投資損益2021年3月期6,179百万円2020年3月期5,982百万円\n",
       "25   （注）潜在株式調整後１株当たり当期純利益については、潜在株式が存在しないため記載しておりません。\n",
       "26                                          (2)連結財政状態\n",
       "27                               総資産純資産自己資本比率1株当たり純資産\n",
       "28                                          円銭百万円百万円％\n",
       "29               2021年3月期1,864,1791,229,8245814,95818\n",
       "30               2020年3月期1,815,1211,172,4945704,74258\n",
       "31   （参考）自己資本2021年3月期1,082,179百万円2020年3月期1,035,116百万円\n",
       "32  （注）自己資本は、純資産から非支配株主持分を控除したものを記載しております。１株当たり純資産...\n",
       "33                                  (3)連結キャッシュ・フローの状況\n",
       "34  営業活動によるキャッシュ・フロー投資活動によるキャッシュ・フロー財務活動によるキャッシュ・フ...\n",
       "35                                       百万円百万円百万円百万円\n",
       "36               2021年3月期181,932△48,536△49,311490,039\n",
       "37               2020年3月期175,559△60,780△48,209406,479\n",
       "38                                             2配当の状況\n",
       "39                                年間配当金配当金総額配当性向純資産配当\n",
       "40                （合計）（連結）率（連結）第1四半期末第2四半期末第3四半期末期末合計\n",
       "41                                    円銭円銭円銭円銭円銭百万円％％\n",
       "42                 2020年3月期―8500―85001700037,10441737\n",
       "43                 2021年3月期―8500―85001700037,10449735\n",
       "44                     2022年3月期(予想)―8500―900017500442\n",
       "45             32022年3月期の連結業績予想（2021年4月1日〜2022年3月31日）\n",
       "46                       （％表示は、通期は対前期、四半期は対前年同四半期増減率）\n",
       "47                       親会社株主に帰属する1株当たり当期売上高営業利益経常利益\n",
       "48                                           当期純利益純利益\n",
       "49                                 円銭百万円％百万円％百万円％百万円％\n",
       "50  第2四半期(累計)503,0002463,0003766,00011539,50022118098\n",
       "51      通期1,052,00016139,50019145,0004386,50015839631\n",
       "52  （注）１株当たり当期純利益の予想数値につきましては、2021年３月期末の期末発行済株式数（自..."
      ]
     },
     "metadata": {},
     "output_type": "display_data"
    },
    {
     "data": {
      "image/png": "[encoded data removed]",
      "text/plain": [
       "<Figure size 432x288 with 1 Axes>"
      ]
     },
     "metadata": {
      "needs_background": "light"
     },
     "output_type": "display_data"
    }
   ],
   "source": [
    "camelot.plot(tables_stream[0],kind =\"text\").show()\n",
    "display(tables_stream[0].df)"
   ]
  },
  {
   "cell_type": "code",
   "execution_count": 39,
   "id": "c5f9998e",
   "metadata": {},
   "outputs": [
    {
     "name": "stderr",
     "output_type": "stream",
     "text": [
      "/var/folders/1c/zp6jf60x58g8vs33m9pjhswc0000gn/T/ipykernel_82140/1443932262.py:1: UserWarning: Matplotlib is currently using module://matplotlib_inline.backend_inline, which is a non-GUI backend, so cannot show the figure.\n",
      "  camelot.plot(tables[2],kind='grid').show()\n"
     ]
    },
    {
     "data": {
      "text/html": [
       "<div>\n",
       "<style scoped>\n",
       "    .dataframe tbody tr th:only-of-type {\n",
       "        vertical-align: middle;\n",
       "    }\n",
       "\n",
       "    .dataframe tbody tr th {\n",
       "        vertical-align: top;\n",
       "    }\n",
       "\n",
       "    .dataframe thead th {\n",
       "        text-align: right;\n",
       "    }\n",
       "</style>\n",
       "<table border=\"1\" class=\"dataframe\">\n",
       "  <thead>\n",
       "    <tr style=\"text-align: right;\">\n",
       "      <th></th>\n",
       "      <th>0</th>\n",
       "      <th>1</th>\n",
       "      <th>2</th>\n",
       "      <th>3</th>\n",
       "      <th>4</th>\n",
       "    </tr>\n",
       "  </thead>\n",
       "  <tbody>\n",
       "    <tr>\n",
       "      <th>0</th>\n",
       "      <td></td>\n",
       "      <td>総資産</td>\n",
       "      <td>純資産</td>\n",
       "      <td>自己資本比率</td>\n",
       "      <td>1株当たり純資産</td>\n",
       "    </tr>\n",
       "    <tr>\n",
       "      <th>1</th>\n",
       "      <td>2021年3月期\\n2020年3月期</td>\n",
       "      <td>百万円\\n1,864,179\\n1,815,121</td>\n",
       "      <td>百万円\\n1,229,824\\n1,172,494</td>\n",
       "      <td>％\\n58.1\\n57.0</td>\n",
       "      <td>円 銭\\n4,958.18\\n4,742.58</td>\n",
       "    </tr>\n",
       "  </tbody>\n",
       "</table>\n",
       "</div>"
      ],
      "text/plain": [
       "                    0                          1                          2  \\\n",
       "0                                            総資産                        純資産   \n",
       "1  2021年3月期\\n2020年3月期  百万円\\n1,864,179\\n1,815,121  百万円\\n1,229,824\\n1,172,494   \n",
       "\n",
       "               3                        4  \n",
       "0         自己資本比率                 1株当たり純資産  \n",
       "1  ％\\n58.1\\n57.0  円 銭\\n4,958.18\\n4,742.58  "
      ]
     },
     "execution_count": 39,
     "metadata": {},
     "output_type": "execute_result"
    },
    {
     "data": {
      "image/png": "[encoded data removed]",
      "text/plain": [
       "<Figure size 432x288 with 1 Axes>"
      ]
     },
     "metadata": {
      "needs_background": "light"
     },
     "output_type": "display_data"
    }
   ],
   "source": [
    "camelot.plot(tables[2],kind='grid').show()\n",
    "tables[2].df"
   ]
  }
 ],
 "metadata": {
  "kernelspec": {
   "display_name": "Python 3 (ipykernel)",
   "language": "python",
   "name": "python3"
  },
  "language_info": {
   "codemirror_mode": {
    "name": "ipython",
    "version": 3
   },
   "file_extension": ".py",
   "mimetype": "text/x-python",
   "name": "python",
   "nbconvert_exporter": "python",
   "pygments_lexer": "ipython3",
   "version": "3.9.6"
  }
 },
 "nbformat": 4,
 "nbformat_minor": 5
}
