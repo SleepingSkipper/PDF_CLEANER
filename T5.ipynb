{
  "nbformat": 4,
  "nbformat_minor": 0,
  "metadata": {
    "kernelspec": {
      "display_name": "pybert39",
      "language": "python",
      "name": "pybert39"
    },
    "language_info": {
      "codemirror_mode": {
        "name": "ipython",
        "version": 3
      },
      "file_extension": ".py",
      "mimetype": "text/x-python",
      "name": "python",
      "nbconvert_exporter": "python",
      "pygments_lexer": "ipython3",
      "version": "3.9.7"
    },
    "colab": {
      "name": "T5.ipynb",
      "provenance": [],
      "collapsed_sections": [],
      "include_colab_link": true
    },
    "accelerator": "GPU",
    "widgets": {
      "application/vnd.jupyter.widget-state+json": {
        "35c3163f71874bc3834fc0039eea4572": {
          "model_module": "@jupyter-widgets/controls",
          "model_name": "HBoxModel",
          "model_module_version": "1.5.0",
          "state": {
            "_view_name": "HBoxView",
            "_dom_classes": [],
            "_model_name": "HBoxModel",
            "_view_module": "@jupyter-widgets/controls",
            "_model_module_version": "1.5.0",
            "_view_count": null,
            "_view_module_version": "1.5.0",
            "box_style": "",
            "layout": "IPY_MODEL_705adfe01a5e4958926b531867eba645",
            "_model_module": "@jupyter-widgets/controls",
            "children": [
              "IPY_MODEL_0eebc647821844d4bce6e48d3173b236",
              "IPY_MODEL_e01b5e6aefb24fcfa206b116bc85c74a",
              "IPY_MODEL_f9efa4e0452f49dbb77792584a1316f0"
            ]
          }
        },
        "705adfe01a5e4958926b531867eba645": {
          "model_module": "@jupyter-widgets/base",
          "model_name": "LayoutModel",
          "model_module_version": "1.2.0",
          "state": {
            "_view_name": "LayoutView",
            "grid_template_rows": null,
            "right": null,
            "justify_content": null,
            "_view_module": "@jupyter-widgets/base",
            "overflow": null,
            "_model_module_version": "1.2.0",
            "_view_count": null,
            "flex_flow": "row wrap",
            "width": "100%",
            "min_width": null,
            "border": null,
            "align_items": null,
            "bottom": null,
            "_model_module": "@jupyter-widgets/base",
            "top": null,
            "grid_column": null,
            "overflow_y": null,
            "overflow_x": null,
            "grid_auto_flow": null,
            "grid_area": null,
            "grid_template_columns": null,
            "flex": null,
            "_model_name": "LayoutModel",
            "justify_items": null,
            "grid_row": null,
            "max_height": null,
            "align_content": null,
            "visibility": null,
            "align_self": null,
            "height": null,
            "min_height": null,
            "padding": null,
            "grid_auto_rows": null,
            "grid_gap": null,
            "max_width": null,
            "order": null,
            "_view_module_version": "1.2.0",
            "grid_template_areas": null,
            "object_position": null,
            "object_fit": null,
            "grid_auto_columns": null,
            "margin": null,
            "display": "inline-flex",
            "left": null
          }
        },
        "0eebc647821844d4bce6e48d3173b236": {
          "model_module": "@jupyter-widgets/controls",
          "model_name": "HTMLModel",
          "model_module_version": "1.5.0",
          "state": {
            "_view_name": "HTMLView",
            "style": "IPY_MODEL_fb864e5a1f7c48cd933bc05246889f03",
            "_dom_classes": [],
            "description": "",
            "_model_name": "HTMLModel",
            "placeholder": "​",
            "_view_module": "@jupyter-widgets/controls",
            "_model_module_version": "1.5.0",
            "value": "Validation sanity check: 100%",
            "_view_count": null,
            "_view_module_version": "1.5.0",
            "description_tooltip": null,
            "_model_module": "@jupyter-widgets/controls",
            "layout": "IPY_MODEL_e76b5ce4e7b34bbcb9f9f9d16a1944cc"
          }
        },
        "e01b5e6aefb24fcfa206b116bc85c74a": {
          "model_module": "@jupyter-widgets/controls",
          "model_name": "FloatProgressModel",
          "model_module_version": "1.5.0",
          "state": {
            "_view_name": "ProgressView",
            "style": "IPY_MODEL_ef571267f9ff4728bd89d0dc6d26cf9a",
            "_dom_classes": [],
            "description": "",
            "_model_name": "FloatProgressModel",
            "bar_style": "",
            "max": 1,
            "_view_module": "@jupyter-widgets/controls",
            "_model_module_version": "1.5.0",
            "value": 1,
            "_view_count": null,
            "_view_module_version": "1.5.0",
            "orientation": "horizontal",
            "min": 0,
            "description_tooltip": null,
            "_model_module": "@jupyter-widgets/controls",
            "layout": "IPY_MODEL_6a057e0e17ad4d3e8ec6dd033eca2177"
          }
        },
        "f9efa4e0452f49dbb77792584a1316f0": {
          "model_module": "@jupyter-widgets/controls",
          "model_name": "HTMLModel",
          "model_module_version": "1.5.0",
          "state": {
            "_view_name": "HTMLView",
            "style": "IPY_MODEL_f3ee7b74f0774e65a32c4c8eab178941",
            "_dom_classes": [],
            "description": "",
            "_model_name": "HTMLModel",
            "placeholder": "​",
            "_view_module": "@jupyter-widgets/controls",
            "_model_module_version": "1.5.0",
            "value": " 1/1 [00:01&lt;00:00,  1.15s/it]",
            "_view_count": null,
            "_view_module_version": "1.5.0",
            "description_tooltip": null,
            "_model_module": "@jupyter-widgets/controls",
            "layout": "IPY_MODEL_ac645abd83f6443cad69ce9cfe928c53"
          }
        },
        "fb864e5a1f7c48cd933bc05246889f03": {
          "model_module": "@jupyter-widgets/controls",
          "model_name": "DescriptionStyleModel",
          "model_module_version": "1.5.0",
          "state": {
            "_view_name": "StyleView",
            "_model_name": "DescriptionStyleModel",
            "description_width": "",
            "_view_module": "@jupyter-widgets/base",
            "_model_module_version": "1.5.0",
            "_view_count": null,
            "_view_module_version": "1.2.0",
            "_model_module": "@jupyter-widgets/controls"
          }
        },
        "e76b5ce4e7b34bbcb9f9f9d16a1944cc": {
          "model_module": "@jupyter-widgets/base",
          "model_name": "LayoutModel",
          "model_module_version": "1.2.0",
          "state": {
            "_view_name": "LayoutView",
            "grid_template_rows": null,
            "right": null,
            "justify_content": null,
            "_view_module": "@jupyter-widgets/base",
            "overflow": null,
            "_model_module_version": "1.2.0",
            "_view_count": null,
            "flex_flow": null,
            "width": null,
            "min_width": null,
            "border": null,
            "align_items": null,
            "bottom": null,
            "_model_module": "@jupyter-widgets/base",
            "top": null,
            "grid_column": null,
            "overflow_y": null,
            "overflow_x": null,
            "grid_auto_flow": null,
            "grid_area": null,
            "grid_template_columns": null,
            "flex": null,
            "_model_name": "LayoutModel",
            "justify_items": null,
            "grid_row": null,
            "max_height": null,
            "align_content": null,
            "visibility": null,
            "align_self": null,
            "height": null,
            "min_height": null,
            "padding": null,
            "grid_auto_rows": null,
            "grid_gap": null,
            "max_width": null,
            "order": null,
            "_view_module_version": "1.2.0",
            "grid_template_areas": null,
            "object_position": null,
            "object_fit": null,
            "grid_auto_columns": null,
            "margin": null,
            "display": null,
            "left": null
          }
        },
        "ef571267f9ff4728bd89d0dc6d26cf9a": {
          "model_module": "@jupyter-widgets/controls",
          "model_name": "ProgressStyleModel",
          "model_module_version": "1.5.0",
          "state": {
            "_view_name": "StyleView",
            "_model_name": "ProgressStyleModel",
            "description_width": "",
            "_view_module": "@jupyter-widgets/base",
            "_model_module_version": "1.5.0",
            "_view_count": null,
            "_view_module_version": "1.2.0",
            "bar_color": null,
            "_model_module": "@jupyter-widgets/controls"
          }
        },
        "6a057e0e17ad4d3e8ec6dd033eca2177": {
          "model_module": "@jupyter-widgets/base",
          "model_name": "LayoutModel",
          "model_module_version": "1.2.0",
          "state": {
            "_view_name": "LayoutView",
            "grid_template_rows": null,
            "right": null,
            "justify_content": null,
            "_view_module": "@jupyter-widgets/base",
            "overflow": null,
            "_model_module_version": "1.2.0",
            "_view_count": null,
            "flex_flow": null,
            "width": null,
            "min_width": null,
            "border": null,
            "align_items": null,
            "bottom": null,
            "_model_module": "@jupyter-widgets/base",
            "top": null,
            "grid_column": null,
            "overflow_y": null,
            "overflow_x": null,
            "grid_auto_flow": null,
            "grid_area": null,
            "grid_template_columns": null,
            "flex": "2",
            "_model_name": "LayoutModel",
            "justify_items": null,
            "grid_row": null,
            "max_height": null,
            "align_content": null,
            "visibility": null,
            "align_self": null,
            "height": null,
            "min_height": null,
            "padding": null,
            "grid_auto_rows": null,
            "grid_gap": null,
            "max_width": null,
            "order": null,
            "_view_module_version": "1.2.0",
            "grid_template_areas": null,
            "object_position": null,
            "object_fit": null,
            "grid_auto_columns": null,
            "margin": null,
            "display": null,
            "left": null
          }
        },
        "f3ee7b74f0774e65a32c4c8eab178941": {
          "model_module": "@jupyter-widgets/controls",
          "model_name": "DescriptionStyleModel",
          "model_module_version": "1.5.0",
          "state": {
            "_view_name": "StyleView",
            "_model_name": "DescriptionStyleModel",
            "description_width": "",
            "_view_module": "@jupyter-widgets/base",
            "_model_module_version": "1.5.0",
            "_view_count": null,
            "_view_module_version": "1.2.0",
            "_model_module": "@jupyter-widgets/controls"
          }
        },
        "ac645abd83f6443cad69ce9cfe928c53": {
          "model_module": "@jupyter-widgets/base",
          "model_name": "LayoutModel",
          "model_module_version": "1.2.0",
          "state": {
            "_view_name": "LayoutView",
            "grid_template_rows": null,
            "right": null,
            "justify_content": null,
            "_view_module": "@jupyter-widgets/base",
            "overflow": null,
            "_model_module_version": "1.2.0",
            "_view_count": null,
            "flex_flow": null,
            "width": null,
            "min_width": null,
            "border": null,
            "align_items": null,
            "bottom": null,
            "_model_module": "@jupyter-widgets/base",
            "top": null,
            "grid_column": null,
            "overflow_y": null,
            "overflow_x": null,
            "grid_auto_flow": null,
            "grid_area": null,
            "grid_template_columns": null,
            "flex": null,
            "_model_name": "LayoutModel",
            "justify_items": null,
            "grid_row": null,
            "max_height": null,
            "align_content": null,
            "visibility": null,
            "align_self": null,
            "height": null,
            "min_height": null,
            "padding": null,
            "grid_auto_rows": null,
            "grid_gap": null,
            "max_width": null,
            "order": null,
            "_view_module_version": "1.2.0",
            "grid_template_areas": null,
            "object_position": null,
            "object_fit": null,
            "grid_auto_columns": null,
            "margin": null,
            "display": null,
            "left": null
          }
        },
        "daf6a502665a49629f4cc023a0f3d3e8": {
          "model_module": "@jupyter-widgets/controls",
          "model_name": "HBoxModel",
          "model_module_version": "1.5.0",
          "state": {
            "_view_name": "HBoxView",
            "_dom_classes": [],
            "_model_name": "HBoxModel",
            "_view_module": "@jupyter-widgets/controls",
            "_model_module_version": "1.5.0",
            "_view_count": null,
            "_view_module_version": "1.5.0",
            "box_style": "",
            "layout": "IPY_MODEL_1ad580a5e3b142898461d7a26e1f0ce6",
            "_model_module": "@jupyter-widgets/controls",
            "children": [
              "IPY_MODEL_499d0099466641169701006e75eca406",
              "IPY_MODEL_3a0162f14760452ea431cb5988df3c65",
              "IPY_MODEL_5b062a160eb742efbef63ee45b3aeabc"
            ]
          }
        },
        "1ad580a5e3b142898461d7a26e1f0ce6": {
          "model_module": "@jupyter-widgets/base",
          "model_name": "LayoutModel",
          "model_module_version": "1.2.0",
          "state": {
            "_view_name": "LayoutView",
            "grid_template_rows": null,
            "right": null,
            "justify_content": null,
            "_view_module": "@jupyter-widgets/base",
            "overflow": null,
            "_model_module_version": "1.2.0",
            "_view_count": null,
            "flex_flow": "row wrap",
            "width": "100%",
            "min_width": null,
            "border": null,
            "align_items": null,
            "bottom": null,
            "_model_module": "@jupyter-widgets/base",
            "top": null,
            "grid_column": null,
            "overflow_y": null,
            "overflow_x": null,
            "grid_auto_flow": null,
            "grid_area": null,
            "grid_template_columns": null,
            "flex": null,
            "_model_name": "LayoutModel",
            "justify_items": null,
            "grid_row": null,
            "max_height": null,
            "align_content": null,
            "visibility": null,
            "align_self": null,
            "height": null,
            "min_height": null,
            "padding": null,
            "grid_auto_rows": null,
            "grid_gap": null,
            "max_width": null,
            "order": null,
            "_view_module_version": "1.2.0",
            "grid_template_areas": null,
            "object_position": null,
            "object_fit": null,
            "grid_auto_columns": null,
            "margin": null,
            "display": "inline-flex",
            "left": null
          }
        },
        "499d0099466641169701006e75eca406": {
          "model_module": "@jupyter-widgets/controls",
          "model_name": "HTMLModel",
          "model_module_version": "1.5.0",
          "state": {
            "_view_name": "HTMLView",
            "style": "IPY_MODEL_009daade0b0a44448dc0149470e97980",
            "_dom_classes": [],
            "description": "",
            "_model_name": "HTMLModel",
            "placeholder": "​",
            "_view_module": "@jupyter-widgets/controls",
            "_model_module_version": "1.5.0",
            "value": "Epoch 0: 100%",
            "_view_count": null,
            "_view_module_version": "1.5.0",
            "description_tooltip": null,
            "_model_module": "@jupyter-widgets/controls",
            "layout": "IPY_MODEL_d6cbd1d5997541e4a86fc4d80715829b"
          }
        },
        "3a0162f14760452ea431cb5988df3c65": {
          "model_module": "@jupyter-widgets/controls",
          "model_name": "FloatProgressModel",
          "model_module_version": "1.5.0",
          "state": {
            "_view_name": "ProgressView",
            "style": "IPY_MODEL_21ed749f8a3444709560612543c961d6",
            "_dom_classes": [],
            "description": "",
            "_model_name": "FloatProgressModel",
            "bar_style": "success",
            "max": 33,
            "_view_module": "@jupyter-widgets/controls",
            "_model_module_version": "1.5.0",
            "value": 33,
            "_view_count": null,
            "_view_module_version": "1.5.0",
            "orientation": "horizontal",
            "min": 0,
            "description_tooltip": null,
            "_model_module": "@jupyter-widgets/controls",
            "layout": "IPY_MODEL_c22b37023c3a4e5e86abfd6acf791808"
          }
        },
        "5b062a160eb742efbef63ee45b3aeabc": {
          "model_module": "@jupyter-widgets/controls",
          "model_name": "HTMLModel",
          "model_module_version": "1.5.0",
          "state": {
            "_view_name": "HTMLView",
            "style": "IPY_MODEL_c00aac5e42fe46648cec1b63eb9acc7b",
            "_dom_classes": [],
            "description": "",
            "_model_name": "HTMLModel",
            "placeholder": "​",
            "_view_module": "@jupyter-widgets/controls",
            "_model_module_version": "1.5.0",
            "value": " 33/33 [01:34&lt;00:00,  2.86s/it, loss=2.97, v_num=5, val_loss=1.990, train_loss=3.370]",
            "_view_count": null,
            "_view_module_version": "1.5.0",
            "description_tooltip": null,
            "_model_module": "@jupyter-widgets/controls",
            "layout": "IPY_MODEL_be77956846444e918eefcdb58519f4e2"
          }
        },
        "009daade0b0a44448dc0149470e97980": {
          "model_module": "@jupyter-widgets/controls",
          "model_name": "DescriptionStyleModel",
          "model_module_version": "1.5.0",
          "state": {
            "_view_name": "StyleView",
            "_model_name": "DescriptionStyleModel",
            "description_width": "",
            "_view_module": "@jupyter-widgets/base",
            "_model_module_version": "1.5.0",
            "_view_count": null,
            "_view_module_version": "1.2.0",
            "_model_module": "@jupyter-widgets/controls"
          }
        },
        "d6cbd1d5997541e4a86fc4d80715829b": {
          "model_module": "@jupyter-widgets/base",
          "model_name": "LayoutModel",
          "model_module_version": "1.2.0",
          "state": {
            "_view_name": "LayoutView",
            "grid_template_rows": null,
            "right": null,
            "justify_content": null,
            "_view_module": "@jupyter-widgets/base",
            "overflow": null,
            "_model_module_version": "1.2.0",
            "_view_count": null,
            "flex_flow": null,
            "width": null,
            "min_width": null,
            "border": null,
            "align_items": null,
            "bottom": null,
            "_model_module": "@jupyter-widgets/base",
            "top": null,
            "grid_column": null,
            "overflow_y": null,
            "overflow_x": null,
            "grid_auto_flow": null,
            "grid_area": null,
            "grid_template_columns": null,
            "flex": null,
            "_model_name": "LayoutModel",
            "justify_items": null,
            "grid_row": null,
            "max_height": null,
            "align_content": null,
            "visibility": null,
            "align_self": null,
            "height": null,
            "min_height": null,
            "padding": null,
            "grid_auto_rows": null,
            "grid_gap": null,
            "max_width": null,
            "order": null,
            "_view_module_version": "1.2.0",
            "grid_template_areas": null,
            "object_position": null,
            "object_fit": null,
            "grid_auto_columns": null,
            "margin": null,
            "display": null,
            "left": null
          }
        },
        "21ed749f8a3444709560612543c961d6": {
          "model_module": "@jupyter-widgets/controls",
          "model_name": "ProgressStyleModel",
          "model_module_version": "1.5.0",
          "state": {
            "_view_name": "StyleView",
            "_model_name": "ProgressStyleModel",
            "description_width": "",
            "_view_module": "@jupyter-widgets/base",
            "_model_module_version": "1.5.0",
            "_view_count": null,
            "_view_module_version": "1.2.0",
            "bar_color": null,
            "_model_module": "@jupyter-widgets/controls"
          }
        },
        "c22b37023c3a4e5e86abfd6acf791808": {
          "model_module": "@jupyter-widgets/base",
          "model_name": "LayoutModel",
          "model_module_version": "1.2.0",
          "state": {
            "_view_name": "LayoutView",
            "grid_template_rows": null,
            "right": null,
            "justify_content": null,
            "_view_module": "@jupyter-widgets/base",
            "overflow": null,
            "_model_module_version": "1.2.0",
            "_view_count": null,
            "flex_flow": null,
            "width": null,
            "min_width": null,
            "border": null,
            "align_items": null,
            "bottom": null,
            "_model_module": "@jupyter-widgets/base",
            "top": null,
            "grid_column": null,
            "overflow_y": null,
            "overflow_x": null,
            "grid_auto_flow": null,
            "grid_area": null,
            "grid_template_columns": null,
            "flex": "2",
            "_model_name": "LayoutModel",
            "justify_items": null,
            "grid_row": null,
            "max_height": null,
            "align_content": null,
            "visibility": null,
            "align_self": null,
            "height": null,
            "min_height": null,
            "padding": null,
            "grid_auto_rows": null,
            "grid_gap": null,
            "max_width": null,
            "order": null,
            "_view_module_version": "1.2.0",
            "grid_template_areas": null,
            "object_position": null,
            "object_fit": null,
            "grid_auto_columns": null,
            "margin": null,
            "display": null,
            "left": null
          }
        },
        "c00aac5e42fe46648cec1b63eb9acc7b": {
          "model_module": "@jupyter-widgets/controls",
          "model_name": "DescriptionStyleModel",
          "model_module_version": "1.5.0",
          "state": {
            "_view_name": "StyleView",
            "_model_name": "DescriptionStyleModel",
            "description_width": "",
            "_view_module": "@jupyter-widgets/base",
            "_model_module_version": "1.5.0",
            "_view_count": null,
            "_view_module_version": "1.2.0",
            "_model_module": "@jupyter-widgets/controls"
          }
        },
        "be77956846444e918eefcdb58519f4e2": {
          "model_module": "@jupyter-widgets/base",
          "model_name": "LayoutModel",
          "model_module_version": "1.2.0",
          "state": {
            "_view_name": "LayoutView",
            "grid_template_rows": null,
            "right": null,
            "justify_content": null,
            "_view_module": "@jupyter-widgets/base",
            "overflow": null,
            "_model_module_version": "1.2.0",
            "_view_count": null,
            "flex_flow": null,
            "width": null,
            "min_width": null,
            "border": null,
            "align_items": null,
            "bottom": null,
            "_model_module": "@jupyter-widgets/base",
            "top": null,
            "grid_column": null,
            "overflow_y": null,
            "overflow_x": null,
            "grid_auto_flow": null,
            "grid_area": null,
            "grid_template_columns": null,
            "flex": null,
            "_model_name": "LayoutModel",
            "justify_items": null,
            "grid_row": null,
            "max_height": null,
            "align_content": null,
            "visibility": null,
            "align_self": null,
            "height": null,
            "min_height": null,
            "padding": null,
            "grid_auto_rows": null,
            "grid_gap": null,
            "max_width": null,
            "order": null,
            "_view_module_version": "1.2.0",
            "grid_template_areas": null,
            "object_position": null,
            "object_fit": null,
            "grid_auto_columns": null,
            "margin": null,
            "display": null,
            "left": null
          }
        },
        "953861ef9a4b45cd960c83778129f4be": {
          "model_module": "@jupyter-widgets/controls",
          "model_name": "HBoxModel",
          "model_module_version": "1.5.0",
          "state": {
            "_view_name": "HBoxView",
            "_dom_classes": [],
            "_model_name": "HBoxModel",
            "_view_module": "@jupyter-widgets/controls",
            "_model_module_version": "1.5.0",
            "_view_count": null,
            "_view_module_version": "1.5.0",
            "box_style": "",
            "layout": "IPY_MODEL_5f052391177d4c27b0401e5884a7ceec",
            "_model_module": "@jupyter-widgets/controls",
            "children": [
              "IPY_MODEL_ea8d02daaf22428caafc5e798249edfe",
              "IPY_MODEL_14e678a41eac49c28bff27b364c3c2d5",
              "IPY_MODEL_e63070c7cc704ae6a8d31e953aeadd7e"
            ]
          }
        },
        "5f052391177d4c27b0401e5884a7ceec": {
          "model_module": "@jupyter-widgets/base",
          "model_name": "LayoutModel",
          "model_module_version": "1.2.0",
          "state": {
            "_view_name": "LayoutView",
            "grid_template_rows": null,
            "right": null,
            "justify_content": null,
            "_view_module": "@jupyter-widgets/base",
            "overflow": null,
            "_model_module_version": "1.2.0",
            "_view_count": null,
            "flex_flow": "row wrap",
            "width": "100%",
            "min_width": null,
            "border": null,
            "align_items": null,
            "bottom": null,
            "_model_module": "@jupyter-widgets/base",
            "top": null,
            "grid_column": null,
            "overflow_y": null,
            "overflow_x": null,
            "grid_auto_flow": null,
            "grid_area": null,
            "grid_template_columns": null,
            "flex": null,
            "_model_name": "LayoutModel",
            "justify_items": null,
            "grid_row": null,
            "max_height": null,
            "align_content": null,
            "visibility": null,
            "align_self": null,
            "height": null,
            "min_height": null,
            "padding": null,
            "grid_auto_rows": null,
            "grid_gap": null,
            "max_width": null,
            "order": null,
            "_view_module_version": "1.2.0",
            "grid_template_areas": null,
            "object_position": null,
            "object_fit": null,
            "grid_auto_columns": null,
            "margin": null,
            "display": "inline-flex",
            "left": null
          }
        },
        "ea8d02daaf22428caafc5e798249edfe": {
          "model_module": "@jupyter-widgets/controls",
          "model_name": "HTMLModel",
          "model_module_version": "1.5.0",
          "state": {
            "_view_name": "HTMLView",
            "style": "IPY_MODEL_29c949aedd0c42e29346fc25cceae0b6",
            "_dom_classes": [],
            "description": "",
            "_model_name": "HTMLModel",
            "placeholder": "​",
            "_view_module": "@jupyter-widgets/controls",
            "_model_module_version": "1.5.0",
            "value": "Validating: 100%",
            "_view_count": null,
            "_view_module_version": "1.5.0",
            "description_tooltip": null,
            "_model_module": "@jupyter-widgets/controls",
            "layout": "IPY_MODEL_6ea19798d1bb43f3b5e06854079da395"
          }
        },
        "14e678a41eac49c28bff27b364c3c2d5": {
          "model_module": "@jupyter-widgets/controls",
          "model_name": "FloatProgressModel",
          "model_module_version": "1.5.0",
          "state": {
            "_view_name": "ProgressView",
            "style": "IPY_MODEL_55581895e0a04d969e937f06e7a58829",
            "_dom_classes": [],
            "description": "",
            "_model_name": "FloatProgressModel",
            "bar_style": "",
            "max": 1,
            "_view_module": "@jupyter-widgets/controls",
            "_model_module_version": "1.5.0",
            "value": 1,
            "_view_count": null,
            "_view_module_version": "1.5.0",
            "orientation": "horizontal",
            "min": 0,
            "description_tooltip": null,
            "_model_module": "@jupyter-widgets/controls",
            "layout": "IPY_MODEL_5db1ded7177b42aba494b6d40a237894"
          }
        },
        "e63070c7cc704ae6a8d31e953aeadd7e": {
          "model_module": "@jupyter-widgets/controls",
          "model_name": "HTMLModel",
          "model_module_version": "1.5.0",
          "state": {
            "_view_name": "HTMLView",
            "style": "IPY_MODEL_b3f1dfa5b43940bbb9ec0d9d744d1f81",
            "_dom_classes": [],
            "description": "",
            "_model_name": "HTMLModel",
            "placeholder": "​",
            "_view_module": "@jupyter-widgets/controls",
            "_model_module_version": "1.5.0",
            "value": " 1/1 [00:01&lt;00:00,  1.03s/it]",
            "_view_count": null,
            "_view_module_version": "1.5.0",
            "description_tooltip": null,
            "_model_module": "@jupyter-widgets/controls",
            "layout": "IPY_MODEL_8dae551f39f549219688108d9cd061c5"
          }
        },
        "29c949aedd0c42e29346fc25cceae0b6": {
          "model_module": "@jupyter-widgets/controls",
          "model_name": "DescriptionStyleModel",
          "model_module_version": "1.5.0",
          "state": {
            "_view_name": "StyleView",
            "_model_name": "DescriptionStyleModel",
            "description_width": "",
            "_view_module": "@jupyter-widgets/base",
            "_model_module_version": "1.5.0",
            "_view_count": null,
            "_view_module_version": "1.2.0",
            "_model_module": "@jupyter-widgets/controls"
          }
        },
        "6ea19798d1bb43f3b5e06854079da395": {
          "model_module": "@jupyter-widgets/base",
          "model_name": "LayoutModel",
          "model_module_version": "1.2.0",
          "state": {
            "_view_name": "LayoutView",
            "grid_template_rows": null,
            "right": null,
            "justify_content": null,
            "_view_module": "@jupyter-widgets/base",
            "overflow": null,
            "_model_module_version": "1.2.0",
            "_view_count": null,
            "flex_flow": null,
            "width": null,
            "min_width": null,
            "border": null,
            "align_items": null,
            "bottom": null,
            "_model_module": "@jupyter-widgets/base",
            "top": null,
            "grid_column": null,
            "overflow_y": null,
            "overflow_x": null,
            "grid_auto_flow": null,
            "grid_area": null,
            "grid_template_columns": null,
            "flex": null,
            "_model_name": "LayoutModel",
            "justify_items": null,
            "grid_row": null,
            "max_height": null,
            "align_content": null,
            "visibility": null,
            "align_self": null,
            "height": null,
            "min_height": null,
            "padding": null,
            "grid_auto_rows": null,
            "grid_gap": null,
            "max_width": null,
            "order": null,
            "_view_module_version": "1.2.0",
            "grid_template_areas": null,
            "object_position": null,
            "object_fit": null,
            "grid_auto_columns": null,
            "margin": null,
            "display": null,
            "left": null
          }
        },
        "55581895e0a04d969e937f06e7a58829": {
          "model_module": "@jupyter-widgets/controls",
          "model_name": "ProgressStyleModel",
          "model_module_version": "1.5.0",
          "state": {
            "_view_name": "StyleView",
            "_model_name": "ProgressStyleModel",
            "description_width": "",
            "_view_module": "@jupyter-widgets/base",
            "_model_module_version": "1.5.0",
            "_view_count": null,
            "_view_module_version": "1.2.0",
            "bar_color": null,
            "_model_module": "@jupyter-widgets/controls"
          }
        },
        "5db1ded7177b42aba494b6d40a237894": {
          "model_module": "@jupyter-widgets/base",
          "model_name": "LayoutModel",
          "model_module_version": "1.2.0",
          "state": {
            "_view_name": "LayoutView",
            "grid_template_rows": null,
            "right": null,
            "justify_content": null,
            "_view_module": "@jupyter-widgets/base",
            "overflow": null,
            "_model_module_version": "1.2.0",
            "_view_count": null,
            "flex_flow": null,
            "width": null,
            "min_width": null,
            "border": null,
            "align_items": null,
            "bottom": null,
            "_model_module": "@jupyter-widgets/base",
            "top": null,
            "grid_column": null,
            "overflow_y": null,
            "overflow_x": null,
            "grid_auto_flow": null,
            "grid_area": null,
            "grid_template_columns": null,
            "flex": "2",
            "_model_name": "LayoutModel",
            "justify_items": null,
            "grid_row": null,
            "max_height": null,
            "align_content": null,
            "visibility": null,
            "align_self": null,
            "height": null,
            "min_height": null,
            "padding": null,
            "grid_auto_rows": null,
            "grid_gap": null,
            "max_width": null,
            "order": null,
            "_view_module_version": "1.2.0",
            "grid_template_areas": null,
            "object_position": null,
            "object_fit": null,
            "grid_auto_columns": null,
            "margin": null,
            "display": null,
            "left": null
          }
        },
        "b3f1dfa5b43940bbb9ec0d9d744d1f81": {
          "model_module": "@jupyter-widgets/controls",
          "model_name": "DescriptionStyleModel",
          "model_module_version": "1.5.0",
          "state": {
            "_view_name": "StyleView",
            "_model_name": "DescriptionStyleModel",
            "description_width": "",
            "_view_module": "@jupyter-widgets/base",
            "_model_module_version": "1.5.0",
            "_view_count": null,
            "_view_module_version": "1.2.0",
            "_model_module": "@jupyter-widgets/controls"
          }
        },
        "8dae551f39f549219688108d9cd061c5": {
          "model_module": "@jupyter-widgets/base",
          "model_name": "LayoutModel",
          "model_module_version": "1.2.0",
          "state": {
            "_view_name": "LayoutView",
            "grid_template_rows": null,
            "right": null,
            "justify_content": null,
            "_view_module": "@jupyter-widgets/base",
            "overflow": null,
            "_model_module_version": "1.2.0",
            "_view_count": null,
            "flex_flow": null,
            "width": null,
            "min_width": null,
            "border": null,
            "align_items": null,
            "bottom": null,
            "_model_module": "@jupyter-widgets/base",
            "top": null,
            "grid_column": null,
            "overflow_y": null,
            "overflow_x": null,
            "grid_auto_flow": null,
            "grid_area": null,
            "grid_template_columns": null,
            "flex": null,
            "_model_name": "LayoutModel",
            "justify_items": null,
            "grid_row": null,
            "max_height": null,
            "align_content": null,
            "visibility": null,
            "align_self": null,
            "height": null,
            "min_height": null,
            "padding": null,
            "grid_auto_rows": null,
            "grid_gap": null,
            "max_width": null,
            "order": null,
            "_view_module_version": "1.2.0",
            "grid_template_areas": null,
            "object_position": null,
            "object_fit": null,
            "grid_auto_columns": null,
            "margin": null,
            "display": null,
            "left": null
          }
        },
        "70731c02c4a34a7ea107b71292684569": {
          "model_module": "@jupyter-widgets/controls",
          "model_name": "HBoxModel",
          "model_module_version": "1.5.0",
          "state": {
            "_view_name": "HBoxView",
            "_dom_classes": [],
            "_model_name": "HBoxModel",
            "_view_module": "@jupyter-widgets/controls",
            "_model_module_version": "1.5.0",
            "_view_count": null,
            "_view_module_version": "1.5.0",
            "box_style": "",
            "layout": "IPY_MODEL_af46c6a63b0448d2a6b70e610a918037",
            "_model_module": "@jupyter-widgets/controls",
            "children": [
              "IPY_MODEL_2d89360a102745c7ae6c5c76c8b12410",
              "IPY_MODEL_51f7d2341073478c9e192291f82f36fc",
              "IPY_MODEL_8c6194c04cec48ef87d78ed504499832"
            ]
          }
        },
        "af46c6a63b0448d2a6b70e610a918037": {
          "model_module": "@jupyter-widgets/base",
          "model_name": "LayoutModel",
          "model_module_version": "1.2.0",
          "state": {
            "_view_name": "LayoutView",
            "grid_template_rows": null,
            "right": null,
            "justify_content": null,
            "_view_module": "@jupyter-widgets/base",
            "overflow": null,
            "_model_module_version": "1.2.0",
            "_view_count": null,
            "flex_flow": null,
            "width": null,
            "min_width": null,
            "border": null,
            "align_items": null,
            "bottom": null,
            "_model_module": "@jupyter-widgets/base",
            "top": null,
            "grid_column": null,
            "overflow_y": null,
            "overflow_x": null,
            "grid_auto_flow": null,
            "grid_area": null,
            "grid_template_columns": null,
            "flex": null,
            "_model_name": "LayoutModel",
            "justify_items": null,
            "grid_row": null,
            "max_height": null,
            "align_content": null,
            "visibility": null,
            "align_self": null,
            "height": null,
            "min_height": null,
            "padding": null,
            "grid_auto_rows": null,
            "grid_gap": null,
            "max_width": null,
            "order": null,
            "_view_module_version": "1.2.0",
            "grid_template_areas": null,
            "object_position": null,
            "object_fit": null,
            "grid_auto_columns": null,
            "margin": null,
            "display": null,
            "left": null
          }
        },
        "2d89360a102745c7ae6c5c76c8b12410": {
          "model_module": "@jupyter-widgets/controls",
          "model_name": "HTMLModel",
          "model_module_version": "1.5.0",
          "state": {
            "_view_name": "HTMLView",
            "style": "IPY_MODEL_20309d94d3a8424f930d538796c2d771",
            "_dom_classes": [],
            "description": "",
            "_model_name": "HTMLModel",
            "placeholder": "​",
            "_view_module": "@jupyter-widgets/controls",
            "_model_module_version": "1.5.0",
            "value": "100%",
            "_view_count": null,
            "_view_module_version": "1.5.0",
            "description_tooltip": null,
            "_model_module": "@jupyter-widgets/controls",
            "layout": "IPY_MODEL_db5548bde1064718867cfa7ba69eb832"
          }
        },
        "51f7d2341073478c9e192291f82f36fc": {
          "model_module": "@jupyter-widgets/controls",
          "model_name": "FloatProgressModel",
          "model_module_version": "1.5.0",
          "state": {
            "_view_name": "ProgressView",
            "style": "IPY_MODEL_5b059b1633e444e3aa35170ef392da82",
            "_dom_classes": [],
            "description": "",
            "_model_name": "FloatProgressModel",
            "bar_style": "success",
            "max": 1,
            "_view_module": "@jupyter-widgets/controls",
            "_model_module_version": "1.5.0",
            "value": 1,
            "_view_count": null,
            "_view_module_version": "1.5.0",
            "orientation": "horizontal",
            "min": 0,
            "description_tooltip": null,
            "_model_module": "@jupyter-widgets/controls",
            "layout": "IPY_MODEL_6257598d3a3641efb47d49b6bc0c6152"
          }
        },
        "8c6194c04cec48ef87d78ed504499832": {
          "model_module": "@jupyter-widgets/controls",
          "model_name": "HTMLModel",
          "model_module_version": "1.5.0",
          "state": {
            "_view_name": "HTMLView",
            "style": "IPY_MODEL_d5b17d4b9ef34f019eb0c30ea099889b",
            "_dom_classes": [],
            "description": "",
            "_model_name": "HTMLModel",
            "placeholder": "​",
            "_view_module": "@jupyter-widgets/controls",
            "_model_module_version": "1.5.0",
            "value": " 1/1 [00:18&lt;00:00, 18.46s/it]",
            "_view_count": null,
            "_view_module_version": "1.5.0",
            "description_tooltip": null,
            "_model_module": "@jupyter-widgets/controls",
            "layout": "IPY_MODEL_82e7590d670c42a5a698799c4d863fb3"
          }
        },
        "20309d94d3a8424f930d538796c2d771": {
          "model_module": "@jupyter-widgets/controls",
          "model_name": "DescriptionStyleModel",
          "model_module_version": "1.5.0",
          "state": {
            "_view_name": "StyleView",
            "_model_name": "DescriptionStyleModel",
            "description_width": "",
            "_view_module": "@jupyter-widgets/base",
            "_model_module_version": "1.5.0",
            "_view_count": null,
            "_view_module_version": "1.2.0",
            "_model_module": "@jupyter-widgets/controls"
          }
        },
        "db5548bde1064718867cfa7ba69eb832": {
          "model_module": "@jupyter-widgets/base",
          "model_name": "LayoutModel",
          "model_module_version": "1.2.0",
          "state": {
            "_view_name": "LayoutView",
            "grid_template_rows": null,
            "right": null,
            "justify_content": null,
            "_view_module": "@jupyter-widgets/base",
            "overflow": null,
            "_model_module_version": "1.2.0",
            "_view_count": null,
            "flex_flow": null,
            "width": null,
            "min_width": null,
            "border": null,
            "align_items": null,
            "bottom": null,
            "_model_module": "@jupyter-widgets/base",
            "top": null,
            "grid_column": null,
            "overflow_y": null,
            "overflow_x": null,
            "grid_auto_flow": null,
            "grid_area": null,
            "grid_template_columns": null,
            "flex": null,
            "_model_name": "LayoutModel",
            "justify_items": null,
            "grid_row": null,
            "max_height": null,
            "align_content": null,
            "visibility": null,
            "align_self": null,
            "height": null,
            "min_height": null,
            "padding": null,
            "grid_auto_rows": null,
            "grid_gap": null,
            "max_width": null,
            "order": null,
            "_view_module_version": "1.2.0",
            "grid_template_areas": null,
            "object_position": null,
            "object_fit": null,
            "grid_auto_columns": null,
            "margin": null,
            "display": null,
            "left": null
          }
        },
        "5b059b1633e444e3aa35170ef392da82": {
          "model_module": "@jupyter-widgets/controls",
          "model_name": "ProgressStyleModel",
          "model_module_version": "1.5.0",
          "state": {
            "_view_name": "StyleView",
            "_model_name": "ProgressStyleModel",
            "description_width": "",
            "_view_module": "@jupyter-widgets/base",
            "_model_module_version": "1.5.0",
            "_view_count": null,
            "_view_module_version": "1.2.0",
            "bar_color": null,
            "_model_module": "@jupyter-widgets/controls"
          }
        },
        "6257598d3a3641efb47d49b6bc0c6152": {
          "model_module": "@jupyter-widgets/base",
          "model_name": "LayoutModel",
          "model_module_version": "1.2.0",
          "state": {
            "_view_name": "LayoutView",
            "grid_template_rows": null,
            "right": null,
            "justify_content": null,
            "_view_module": "@jupyter-widgets/base",
            "overflow": null,
            "_model_module_version": "1.2.0",
            "_view_count": null,
            "flex_flow": null,
            "width": null,
            "min_width": null,
            "border": null,
            "align_items": null,
            "bottom": null,
            "_model_module": "@jupyter-widgets/base",
            "top": null,
            "grid_column": null,
            "overflow_y": null,
            "overflow_x": null,
            "grid_auto_flow": null,
            "grid_area": null,
            "grid_template_columns": null,
            "flex": null,
            "_model_name": "LayoutModel",
            "justify_items": null,
            "grid_row": null,
            "max_height": null,
            "align_content": null,
            "visibility": null,
            "align_self": null,
            "height": null,
            "min_height": null,
            "padding": null,
            "grid_auto_rows": null,
            "grid_gap": null,
            "max_width": null,
            "order": null,
            "_view_module_version": "1.2.0",
            "grid_template_areas": null,
            "object_position": null,
            "object_fit": null,
            "grid_auto_columns": null,
            "margin": null,
            "display": null,
            "left": null
          }
        },
        "d5b17d4b9ef34f019eb0c30ea099889b": {
          "model_module": "@jupyter-widgets/controls",
          "model_name": "DescriptionStyleModel",
          "model_module_version": "1.5.0",
          "state": {
            "_view_name": "StyleView",
            "_model_name": "DescriptionStyleModel",
            "description_width": "",
            "_view_module": "@jupyter-widgets/base",
            "_model_module_version": "1.5.0",
            "_view_count": null,
            "_view_module_version": "1.2.0",
            "_model_module": "@jupyter-widgets/controls"
          }
        },
        "82e7590d670c42a5a698799c4d863fb3": {
          "model_module": "@jupyter-widgets/base",
          "model_name": "LayoutModel",
          "model_module_version": "1.2.0",
          "state": {
            "_view_name": "LayoutView",
            "grid_template_rows": null,
            "right": null,
            "justify_content": null,
            "_view_module": "@jupyter-widgets/base",
            "overflow": null,
            "_model_module_version": "1.2.0",
            "_view_count": null,
            "flex_flow": null,
            "width": null,
            "min_width": null,
            "border": null,
            "align_items": null,
            "bottom": null,
            "_model_module": "@jupyter-widgets/base",
            "top": null,
            "grid_column": null,
            "overflow_y": null,
            "overflow_x": null,
            "grid_auto_flow": null,
            "grid_area": null,
            "grid_template_columns": null,
            "flex": null,
            "_model_name": "LayoutModel",
            "justify_items": null,
            "grid_row": null,
            "max_height": null,
            "align_content": null,
            "visibility": null,
            "align_self": null,
            "height": null,
            "min_height": null,
            "padding": null,
            "grid_auto_rows": null,
            "grid_gap": null,
            "max_width": null,
            "order": null,
            "_view_module_version": "1.2.0",
            "grid_template_areas": null,
            "object_position": null,
            "object_fit": null,
            "grid_auto_columns": null,
            "margin": null,
            "display": null,
            "left": null
          }
        }
      }
    }
  },
  "cells": [
    {
      "cell_type": "markdown",
      "metadata": {
        "id": "view-in-github",
        "colab_type": "text"
      },
      "source": [
        "<a href=\"https://colab.research.google.com/github/SleepingSkipper/PDF_CLEANER/blob/main/T5.ipynb\" target=\"_parent\"><img src=\"https://colab.research.google.com/assets/colab-badge.svg\" alt=\"Open In Colab\"/></a>"
      ]
    },
    {
      "cell_type": "code",
      "metadata": {
        "colab": {
          "base_uri": "https://localhost:8080/"
        },
        "id": "lRjjaUOAyjMr",
        "outputId": "1d5a8841-3be3-4d85-cd05-457a5f30579e"
      },
      "source": [
        "from google.colab import drive\n",
        "drive.mount('/content/drive/')"
      ],
      "execution_count": 2,
      "outputs": [
        {
          "output_type": "stream",
          "name": "stdout",
          "text": [
            "Drive already mounted at /content/drive/; to attempt to forcibly remount, call drive.mount(\"/content/drive/\", force_remount=True).\n"
          ]
        }
      ]
    },
    {
      "cell_type": "code",
      "metadata": {
        "id": "vwahtf201jMU"
      },
      "source": [
        "!pip install -qU torch==1.7.1 torchtext==0.8.0 torchvision==0.8.2\n",
        "!pip install -q transformers==4.4.2 pytorch_lightning==1.2.1 sentencepiece"
      ],
      "execution_count": 1,
      "outputs": []
    },
    {
      "cell_type": "code",
      "metadata": {
        "colab": {
          "base_uri": "https://localhost:8080/"
        },
        "id": "rogQRhJQuStn",
        "outputId": "a0636089-9126-4b00-b9fe-861e479980ee"
      },
      "source": [
        "!pip install bert_score"
      ],
      "execution_count": 2,
      "outputs": [
        {
          "output_type": "stream",
          "name": "stdout",
          "text": [
            "Requirement already satisfied: bert_score in /usr/local/lib/python3.7/dist-packages (0.3.10)\n",
            "Requirement already satisfied: transformers>=3.0.0numpy in /usr/local/lib/python3.7/dist-packages (from bert_score) (4.4.2)\n",
            "Requirement already satisfied: torch>=1.0.0 in /usr/local/lib/python3.7/dist-packages (from bert_score) (1.7.1)\n",
            "Requirement already satisfied: packaging>=20.9 in /usr/local/lib/python3.7/dist-packages (from bert_score) (21.3)\n",
            "Requirement already satisfied: matplotlib in /usr/local/lib/python3.7/dist-packages (from bert_score) (3.2.2)\n",
            "Requirement already satisfied: requests in /usr/local/lib/python3.7/dist-packages (from bert_score) (2.23.0)\n",
            "Requirement already satisfied: tqdm>=4.31.1 in /usr/local/lib/python3.7/dist-packages (from bert_score) (4.62.3)\n",
            "Requirement already satisfied: pandas>=1.0.1 in /usr/local/lib/python3.7/dist-packages (from bert_score) (1.1.5)\n",
            "Requirement already satisfied: pyparsing!=3.0.5,>=2.0.2 in /usr/local/lib/python3.7/dist-packages (from packaging>=20.9->bert_score) (3.0.6)\n",
            "Requirement already satisfied: numpy>=1.15.4 in /usr/local/lib/python3.7/dist-packages (from pandas>=1.0.1->bert_score) (1.19.5)\n",
            "Requirement already satisfied: python-dateutil>=2.7.3 in /usr/local/lib/python3.7/dist-packages (from pandas>=1.0.1->bert_score) (2.8.2)\n",
            "Requirement already satisfied: pytz>=2017.2 in /usr/local/lib/python3.7/dist-packages (from pandas>=1.0.1->bert_score) (2018.9)\n",
            "Requirement already satisfied: six>=1.5 in /usr/local/lib/python3.7/dist-packages (from python-dateutil>=2.7.3->pandas>=1.0.1->bert_score) (1.15.0)\n",
            "Requirement already satisfied: typing-extensions in /usr/local/lib/python3.7/dist-packages (from torch>=1.0.0->bert_score) (3.10.0.2)\n",
            "Requirement already satisfied: filelock in /usr/local/lib/python3.7/dist-packages (from transformers>=3.0.0numpy->bert_score) (3.4.0)\n",
            "Requirement already satisfied: sacremoses in /usr/local/lib/python3.7/dist-packages (from transformers>=3.0.0numpy->bert_score) (0.0.46)\n",
            "Requirement already satisfied: importlib-metadata in /usr/local/lib/python3.7/dist-packages (from transformers>=3.0.0numpy->bert_score) (4.8.2)\n",
            "Requirement already satisfied: tokenizers<0.11,>=0.10.1 in /usr/local/lib/python3.7/dist-packages (from transformers>=3.0.0numpy->bert_score) (0.10.3)\n",
            "Requirement already satisfied: regex!=2019.12.17 in /usr/local/lib/python3.7/dist-packages (from transformers>=3.0.0numpy->bert_score) (2019.12.20)\n",
            "Requirement already satisfied: zipp>=0.5 in /usr/local/lib/python3.7/dist-packages (from importlib-metadata->transformers>=3.0.0numpy->bert_score) (3.6.0)\n",
            "Requirement already satisfied: cycler>=0.10 in /usr/local/lib/python3.7/dist-packages (from matplotlib->bert_score) (0.11.0)\n",
            "Requirement already satisfied: kiwisolver>=1.0.1 in /usr/local/lib/python3.7/dist-packages (from matplotlib->bert_score) (1.3.2)\n",
            "Requirement already satisfied: chardet<4,>=3.0.2 in /usr/local/lib/python3.7/dist-packages (from requests->bert_score) (3.0.4)\n",
            "Requirement already satisfied: certifi>=2017.4.17 in /usr/local/lib/python3.7/dist-packages (from requests->bert_score) (2021.10.8)\n",
            "Requirement already satisfied: idna<3,>=2.5 in /usr/local/lib/python3.7/dist-packages (from requests->bert_score) (2.10)\n",
            "Requirement already satisfied: urllib3!=1.25.0,!=1.25.1,<1.26,>=1.21.1 in /usr/local/lib/python3.7/dist-packages (from requests->bert_score) (1.24.3)\n",
            "Requirement already satisfied: click in /usr/local/lib/python3.7/dist-packages (from sacremoses->transformers>=3.0.0numpy->bert_score) (7.1.2)\n",
            "Requirement already satisfied: joblib in /usr/local/lib/python3.7/dist-packages (from sacremoses->transformers>=3.0.0numpy->bert_score) (1.1.0)\n"
          ]
        }
      ]
    },
    {
      "cell_type": "code",
      "metadata": {
        "id": "bDu8CttKyjMv"
      },
      "source": [
        "from os import path\n",
        "import pandas as pd\n",
        "import math\n",
        "import tarfile\n",
        "import re\n",
        "ROOT = \"/content/drive/MyDrive/Colab_Data/Tanshin\"\n"
      ],
      "execution_count": 3,
      "outputs": []
    },
    {
      "cell_type": "code",
      "metadata": {
        "id": "pKx_AHagyjMv"
      },
      "source": [
        "# 事前学習済みモデル\n",
        "PRETRAINED_MODEL_NAME = \"sonoisa/t5-base-japanese\"\n",
        "\n",
        "# 転移学習済みモデル\n",
        "MODEL_DIR = \"./drive/MyDrive/Colab_Data/Tanshin/increased_datasets3\"\n",
        "LOG_DIR = \"./drive/MyDrive/Colab_Data/Tanshin/increased_datasets3_logs\"\n",
        "CHECKPOINT_DIR=\"./drive/MyDrive/Colab_Data/Tanshin/increased_datasets_checkpoints\""
      ],
      "execution_count": 4,
      "outputs": []
    },
    {
      "cell_type": "code",
      "metadata": {
        "id": "1w71BRVtyjMw"
      },
      "source": [
        "from __future__ import unicode_literals\n",
        "import re\n",
        "import unicodedata\n",
        "\n",
        "def unicode_normalize(cls, s):\n",
        "    pt = re.compile('([{}]+)'.format(cls))\n",
        "\n",
        "    def norm(c):\n",
        "        return unicodedata.normalize('NFKC', c) if pt.match(c) else c\n",
        "\n",
        "    s = ''.join(norm(x) for x in re.split(pt, s))\n",
        "    s = re.sub('－', '-', s)\n",
        "    return s\n",
        "\n",
        "def remove_extra_spaces(s):\n",
        "    s = re.sub('[ 　]+', ' ', s)\n",
        "    blocks = ''.join(('\\u4E00-\\u9FFF',  # CJK UNIFIED IDEOGRAPHS\n",
        "                      '\\u3040-\\u309F',  # HIRAGANA\n",
        "                      '\\u30A0-\\u30FF',  # KATAKANA\n",
        "                      '\\u3000-\\u303F',  # CJK SYMBOLS AND PUNCTUATION\n",
        "                      '\\uFF00-\\uFFEF'   # HALFWIDTH AND FULLWIDTH FORMS\n",
        "                      ))\n",
        "    basic_latin = '\\u0000-\\u007F'\n",
        "\n",
        "    def remove_space_between(cls1, cls2, s):\n",
        "        p = re.compile('([{}]) ([{}])'.format(cls1, cls2))\n",
        "        while p.search(s):\n",
        "            s = p.sub(r'\\1\\2', s)\n",
        "        return s\n",
        "\n",
        "    s = remove_space_between(blocks, blocks, s)\n",
        "    s = remove_space_between(blocks, basic_latin, s)\n",
        "    s = remove_space_between(basic_latin, blocks, s)\n",
        "    return s\n",
        "\n",
        "def normalize_neologd(s):\n",
        "    s = s.strip()\n",
        "    s = unicode_normalize('０-９Ａ-Ｚａ-ｚ｡-ﾟ', s)\n",
        "\n",
        "    def maketrans(f, t):\n",
        "        return {ord(x): ord(y) for x, y in zip(f, t)}\n",
        "\n",
        "    s = re.sub('[˗֊‐‑‒–⁃⁻₋−]+', '-', s)  # normalize hyphens\n",
        "    s = re.sub('[﹣－ｰ—―─━ー]+', 'ー', s)  # normalize choonpus\n",
        "    s = re.sub('[~∼∾〜〰～]+', '〜', s)  # normalize tildes (modified by Isao Sonobe)\n",
        "    s = s.translate(\n",
        "        maketrans('!\"#$%&\\'()*+,-./:;<=>?@[¥]^_`{|}~｡､･｢｣',\n",
        "              '！”＃＄％＆’（）＊＋，－．／：；＜＝＞？＠［￥］＾＿｀｛｜｝〜。、・「」'))\n",
        "\n",
        "    s = remove_extra_spaces(s)\n",
        "    s = unicode_normalize('！”＃＄％＆’（）＊＋，－．／：；＜＞？＠［￥］＾＿｀｛｜｝〜', s)  # keep ＝,・,「,」\n",
        "    s = re.sub('[’]', '\\'', s)\n",
        "    s = re.sub('[”]', '\"', s)\n",
        "    return s"
      ],
      "execution_count": 5,
      "outputs": []
    },
    {
      "cell_type": "code",
      "metadata": {
        "id": "iDFtnk_cyjMx"
      },
      "source": [
        "import tarfile\n",
        "import re\n",
        "\n",
        "def remove_brackets(text):\n",
        "    text = re.sub(r\"(^【[^】]*】)|(【[^】]*】$)\", \"\", text)\n",
        "    return text\n",
        "\n",
        "def normalize_text(text):\n",
        "    assert \"\\n\" not in text and \"\\r\" not in text\n",
        "    text = text.replace(\"\\t\", \" \")\n",
        "    text = text.strip()\n",
        "    text = normalize_neologd(text)\n",
        "    text = text.lower()\n",
        "    return text\n",
        "\n",
        "def read_title_body(file):\n",
        "    next(file)\n",
        "    next(file)\n",
        "    title = next(file).decode(\"utf-8\").strip()\n",
        "    title = normalize_text(remove_brackets(title))\n",
        "    body = normalize_text(\" \".join([line.decode(\"utf-8\").strip() for line in file.readlines()]))\n",
        "    return title, body"
      ],
      "execution_count": 6,
      "outputs": []
    },
    {
      "cell_type": "code",
      "metadata": {
        "scrolled": true,
        "id": "TqjScLpvyjMy"
      },
      "source": [
        "df =pd.read_csv(\"./drive/MyDrive/Colab_Data/Tanshin/data_for_T5_increased_improved.csv\")"
      ],
      "execution_count": 8,
      "outputs": []
    },
    {
      "cell_type": "markdown",
      "metadata": {
        "id": "pzkF2AXnzUGT"
      },
      "source": [
        ""
      ]
    },
    {
      "cell_type": "code",
      "metadata": {
        "id": "XUqdVKelyjMy"
      },
      "source": [
        "all_data=[]\n",
        "for i, rows in df.iterrows():\n",
        "    text = rows[\"important_texts\"]\n",
        "    abstract_text = rows[\"summary\"]\n",
        "\n",
        "    text = text.replace(\"\\n\",\"\")\n",
        "    abstract_text = abstract_text.replace(\"\\n\",\"\")\n",
        "    text = normalize_text(text)\n",
        "    abstract_text = normalize_text(abstract_text)\n",
        "    if len(text) > 0:\n",
        "        all_data.append({\n",
        "            # \"body\": \"重要文:\"+text,\n",
        "            \"body\": \"summarize: \"+text,\n",
        "            \"title\": abstract_text\n",
        "            })"
      ],
      "execution_count": 9,
      "outputs": []
    },
    {
      "cell_type": "code",
      "metadata": {
        "colab": {
          "base_uri": "https://localhost:8080/"
        },
        "id": "x6nQRVl8yjMz",
        "outputId": "8a4ae4fa-78e6-4602-f276-aa4bd5d5e5b8"
      },
      "source": [
        "print(all_data)"
      ],
      "execution_count": 10,
      "outputs": [
        {
          "output_type": "stream",
          "name": "stdout",
          "text": [
            "[{'body': 'summarize: ヤマハ。当連結会計年度の売上収益は、新型コロナウイルスの感染拡大に伴う影響等により、為替のマイナス影響23億円を含め、前期に対し415億97百万円(10.0%)減少の3,726億30百万円となりました。事業利益は、為替のマイナス影響6億円を含め、前期に対し56億41百万円(12.2%)減少の407億11百万円となりました。親会社の所有者に帰属する当期利益は、事業利益の減少に加え、新型コロナウイルスの感染拡大に伴う操業停止損23億18百万円、減損損失35億53百万円の計上もあり、前期に対し80億6百万円(23.1%)減少の266億15百万円となりました。(楽器事業)アコースティックピアノと電子楽器は、中国での販売が成長軌道に復帰した他、各国の市況が回復基調にあるものの、商品供給不足もあり上期の減収をカバーするまでには至らず、減収となりました。管楽器は、市況の回復が遅れ減収となりました。ギターは、国内や中国で販売を伸ばし増収となりました。以上により、当事業の売上収益は、前期に対し為替のマイナス影響17億円を含め、303億90百万円(11.3%)減少の2,389億81百万円となりました。事業利益は、為替のマイナス影響8億円を含め、53億32百万円(14.1%)減少の324億17百万円となりました。(音響機器事業)オーディオ機器は、ステイホーム需要によりサウンドバー等の販売が伸長しましたが、上期の減収をカバーするまでには至らず、全体では減収となりました。業務用音響機器は、ライブ市場や設備市場の停滞により減収となりました。以上により、当事業の売上収益は、前期に対し為替のマイナス影響4億円を含め、105億79百円(9.2%)減少の1,038億13百万円となりました。事業利益は、為替のプラス影響2億円を含め、15億4百万円(17.5%)減少の70億67百万円となりました。(その他の事業)電子デバイスは減収となりましたが、自動車用内装部品やfa機器は需要の回復により増収となりました。以上により、当事業の売上収益は、前期に対し6億26百万円(2.1%)減少の298億36百万円となりました。事業利益は、前期30百万円に対し、11億95百万円増加の12億25百万円となりました。②次期の見通し2022年3月期連結業績については、新型コロナウイルスの感染拡大に伴う影響は依然として不確実性が高く、加えて半導体部品等の不足による供給のリスクもありますが、市況の回復などを考慮して、売上収益4,000億円、事業利益470億円、親会社の所有者に帰属する当期利益410億円を予想しております。当連結会計年度末の資本合計は、前連結会計年度末の3,264億50百万円から704億99百万円(21.6%)増加し、3,969億49百万円となりました。③次期の見通し2022年3月期の見通しにつきましては、営業活動によるキャッシュ・フローは470億円の収入、投資活動によるキャッシュ・フローは100億円の支出、フリー・キャッシュ・フローは370億円の収入を予定しております。', 'title': '楽器事業はアコースティックピアノと電子楽器は、中国での販売が成長軌道に復帰した他、各国の市況が回復基調にあるものの、商品供給不足もあり上期の減収をカバーするまでには至らず、減収となりました。管楽器は市況の回復が遅れ減収となりました。22年3月期の営業利益は市場コンセンサス予想を上回る48%増を見込みます。'}, {'body': 'summarize: オリックス。当連結会計年度の経営成績(注)roeは、米国会計基準に基づき、当社株主資本合計を用いて算出しています。業績総括(2020年4月1日から2021年3月31日まで)当連結会計年度の営業収益は、サービス収入やオペレーティング・リース収益が減少したものの、生命保険料収入および運用益や有価証券売却・評価損益および受取配当金が増加したため、前連結会計年度に比べて1%増の2,292,708百万円になりました。営業費用は、支払利息やサービス費用が減少したものの、生命保険費用が増加したため、前連結会計年度に比べて1%増の2,033,894百万円になりました。一方で、持分法投資損益は前連結会計年度に比べて99%減の481百万円、子会社・関連会社株式売却損益および清算損は前連結会計年度に比べて69%減の23,300百万円になりました。新型コロナウイルス感染症の影響もあり、当連結会計年度の税引前当期純利益は、前連結会計年度に比べて30%減の287,561百万円、当社株主に帰属する当期純利益は、前連結会計年度に比べて36%減の192,384百万円になりました。セグメント別動向当連結会計年度のセグメント利益は、前連結会計年度に比べて28%減の318,891百万円となりました。法人営業・メンテナンスリース、不動産、事業投資・コンセッション、輸送機器、orix usa、orix europeおよびアジア・豪州が減益となりましたが、環境エネルギー、保険および銀行・クレジットが増益となりました。法人営業・メンテナンスリース:金融・各種手数料ビジネス、自動車および電子計測器・it関連機器などのリースおよびレンタル、弥生セグメント収益は、it関連機器のレンタルにおいてオペレーティング・リース収益が増加したものの、金融資産の減少に伴う金融収益の減少や商品売上高の減少により、前連結会計年度に比べて横ばいの429,799百万円になりました。オペレーティング・リース原価およびサービス費用が増加したこと、および法人営業において買収した企業のバーゲン・パーチェス益を前連結会計年度に計上したことの反動により、セグメント利益は、前連結会計年度に比べて6%減の59,149百万円になりました。セグメント資産は、リース純投資、営業貸付金およびオペレーティング・リース投資が減少したことにより、前連結会計年度末に比べて7%減の1,658,571百万円になりました。不動産:不動産開発・賃貸・管理、施設運営、不動産のアセットマネジメントセグメント収益は、新型コロナウイルス感染症の影響により当連結会計年度において運営施設の休館や稼働率低下のため運営事業のサービス収入が減少したこと、株式会社大京およびその子会社において前連結会計年度における消費税増税の駆け込み需要の反動により不動産請負工事事業のサービス収入が減少したことや不動産売上高が減少したこと、および賃貸不動産の売却益が減少したことにより、前連結会計年度に比べて23%減の359,798百万円になりました。上記に加え、セグメント利益は、運営事業のサービス費用が減少したものの、高齢者向け住宅の運営事業を行う子会社の売却益を前連結会計年度に計上したことの反動により、前連結会計年度に比べて69%減の24,684百万円になりました。セグメント資産は、賃貸不動産の売却によりオペレーティング・リース投資が減少したものの、棚卸資産や賃貸資産前渡金が増加したことにより、前連結会計年度末に比べて6%増の872,095百万円になりました。事業投資・コンセッション:企業投資、コンセッションセグメント収益は、前連結会計年度に子会社を売却したことによりサービス収入が減少したものの、投資先の商品売上高が増加したことにより、前連結会計年度に比べて12%増の331,222百万円になりました。セグメント利益は、新型コロナウイルス感染症の影響を受け、関西3空港における旅客数や発着回数が著しく減少したことによりコンセッションにおいて持分法投資損益が減少したこと、および企業投資において子会社の売却益を前連結会計年度に計上したことの反動により、前連結会計年度に比べて92%減の3,431百万円になりました。セグメント資産は、当連結会計年度に子会社取得に伴う営業権やオペレーティング・リース投資を計上したことにより、前連結会計年度末に比べて17%増の378,698百万円になりました。環境エネルギー:国内外再生可能エネルギー、電力小売、省エネルギーサービス、ソーラーパネル・蓄電池販売、廃棄物処理セグメント収益は、電力販売の減少によりサービス収入が減少したため、前連結会計年度に比べて4%減の143,187百万円になりました。セグメント利益は、インドで風力発電事業を行う投資先の売却益などを計上したことにより、前連結会計年度に比べて146%増の28,563百万円になりました。セグメント資産は、事業用資産が減少したものの、関連会社投資が増加したことにより、前連結会計年度末に比べて6%増の506,666百万円になりました。保険:生命保険セグメント収益は、保有契約の増加に伴う生命保険料収入の増加および変額保険にかかる資産運用益が増加したため、前連結会計年度に比べて32%増の491,894百万円になりました。上記に加え、セグメント利益は、変額保険に関連する最低保証リスクの低減による責任準備金の戻入などを計上したことにより、前連結会計年度に比べて23%増の55,119百万円になりました。セグメント資産は、投資有価証券の増加により、前連結会計年度末に比べて24%増の1,959,521百万円になりました。銀行・クレジット:銀行、カードローンセグメント収益は、クレジットにおけるモーゲージバンク事業からのサービス収入および銀行事業における投資用不動産ローンからの金融収益が増加したものの、クレジットにおける営業貸付金の減少に伴う金融収益の減少により、前連結会計年度に比べて1%減の83,724百万円になりました。セグメント利益は、クレジットにおいて新規実行件数の減少や事故発生率の低水準での推移の影響から、当連結会計年度の信用損失費用が減少したことにより、前連結会計年度に比べて23%増の48,030百万円になりました。セグメント資産は、銀行事業において投資用不動産ローンの残高が増加したことにより、前連結会計年度末に比べて3%増の2,690,627百万円になりました。輸送機器:航空機のリース・管理、船舶関連投融資セグメント収益は、航空機リース事業において自社保有機数および売却機数の減少に伴いオペレーティング・リース収益が減少したことや投資家への売却機数の減少に伴う手数料収入が減少したこと、および前連結会計年度に計上した船舶の売上高の反動により、前連結会計年度に比べて51%減の31,617百万円になりました。上記に加え、セグメント利益は、avolon holdings limitedの持分法投資損益が減少したことにより、前連結会計年度に比べて92%減の3,755百万円になりました。セグメント資産は、船舶関連の営業貸付金およびオペレーティング・リース投資が増加したことにより、前連結会計年度末に比べて3%増の601,762百万円になりました。orix usa:米州における金融、投資、アセットマネジメントセグメント収益は、前連結会計年度にアセットマネジメントに関連する事業を売却したことによりサービス収入が減少したものの、不動産ローン組成・サービシング事業において新規案件数の増加により金融収益が増加したこと、および投資事業において有価証券売却・評価損益および受取配当金が増加したことにより、前連結会計年度に比べて2%増の138,017百万円になりました。セグメント利益は、前連結会計年度に計上したhoulihan lokey,inc.などの株式売却益の反動により、前連結会計年度に比べて23%減の43,614百万円になりました。セグメント資産は、営業貸付金の減少により、前連結会計年度末に比べて11%減の1,220,081百万円になりました。orix europe:株式・債券のアセットマネジメントセグメント収益は、有価証券売却・評価損益および受取配当金が増加したことにより、前連結会計年度に比べて8%増の160,798百万円になりました。セグメント利益は、販管費および一般管理費が減少したものの、前連結会計年度に計上した一部の事業の売却益の反動により、前連結会計年度に比べて13%減の37,886百万円になりました。セグメント資産は、投資有価証券が増加したこと、および為替の影響により営業権や企業結合で取得した無形資産が増加したことにより、前連結会計年度末に比べて16%増の369,546百万円になりました。アジア・豪州:アジア・豪州における金融、投資セグメント収益は、サービス収入や金融収益が減少したこと、および前連結会計年度にアジアにおける既存投資先の有価証券売却益を計上したことの反動により、前連結会計年度に比べて7%減の128,309百万円になりました。上記に加え、セグメント利益は、アジアにおいて子会社・関連会社株式売却益を計上したものの、関連会社投資の減損を計上したことにより持分法投資損益が減少したため、前連結会計年度に比べて横ばいの14,660百万円になりました。セグメント資産は、営業貸付金およびオペレーティング・リース投資が増加したことにより、前連結会計年度末に比べて7%増の1,084,222百万円になりました。総資産は、リース純投資、営業貸付金および事業用資産が減少し、さらに信用損失基準適用に伴い前連結会計年度末の貸倒引当金に比べ信用損失引当金が増加したものの、投資有価証券が増加したため、前連結会計年度末に比べて4%増の13,563,082百万円になりました。また、セグメント資産は、前連結会計年度末に比べて4%増の11,341,789百万円になりました。負債については、短期借入債務、支払手形、買掛金および未払金が減少した一方で、預金、長期借入債務、保険契約債務および保険契約者勘定が増加したことで、前連結会計年度末に比べて5%増の10,459,938百万円になりました。当社株主資本は、前連結会計年度末から1%増の3,028,456百万円になりました。営業活動によるキャッシュ・フローは、主にサービス収入などが減少している一方で、生命保険の保有契約件数が増加し、生命保険料収入が増加したことなどにより、前連結会計年度の1,042,466百万円から当連結会計年度は1,095,676百万円へ資金流入が増加しました。投資活動によるキャッシュ・フローは、主にオペレーティング・リース資産の売却が減少している一方で、顧客への営業貸付金の実行が減少したことなどにより、前連結会計年度の1,470,486百万円から当連結会計年度は1,203,252百万円へ資金流出が減少しました。財務活動によるキャッシュ・フローは、主に満期日が3ヶ月超の借入債務による調達が増加した一方で、預金の受入が減少したことなどにより、前連結会計年度の288,703百万円から当連結会計年度は39,884百万円へ資金流入が減少しました。これらの基本方針のもと、当期の1株当たりの年間配当金につきましては、78.00円(中間配当金は支払済みの35.00円、期末配当金は43.00円)といたします。また、2020年6月29日提出の有価証券報告書に記載した「事業等のリスク」について重要な変更はありません。', 'title': '2021年3月期は、不動産開発・賃貸・管理などを手掛ける不動産セグメント、航空機のリース・管理などを手掛ける輸送機器セグメント、事業投資・コンセッションセグメントなどが減益となりました。一方で、環境エネルギーセグメント、保険および銀行・クレジットセグメントは増益となりました。決算発表に併せて、500億円上限(自己株式を除く発行済株式総数に対する割合が約4.1%)の自己株式取得を公表しています。'}, {'body': 'summarize: クボタ。(全般の概況)当第2四半期(2021年1月1日〜2021年6月30日)の売上高は前年同期比2,172億円(24.6%)増加して1兆1,014億円となりました。国内売上高は水・環境部門やその他部門が減少しましたが、機械部門が農業機械などを中心に増加したため、前年同期比124億円(4.3%)増の3,025億円となりました。海外売上高は水・環境部門が減少しましたが、農業機械や建設機械が大きく伸長したため、前年同期比2,049億円(34.5%)増の7,989億円となりました。営業利益は固定費の増加や原材料価格の上昇などの減益要因はありましたが、国内外での大幅な増収や為替の改善などにより、前年同期比659億円(80.7%)増の1,475億円となりました。税引前利益は営業利益の増加により前年同期比650億円(77.0%)増加して1,494億円となりました。法人所得税は378億円の負担、持分法による投資損益は15億円の利益となり、四半期利益は前年同期比480億円(73.6%)増の1,131億円となりました。親会社の所有者に帰属する四半期利益は前年同期を434億円(72.8%)上回る1,030億円となりました。 ① 機械部門当部門は農業機械及び農業関連商品、エンジン、建設機械により構成されています。当部門の売上高は前年同期比30.9%増加して9,413億円となり、売上高全体の85.5%を占めました。国内売上高は前年同期比10.9%増の1,604億円となりました。消費増税前の駆け込み需要の反動減からの回復や、経営継続補助金による需要の増加により農業機械や農業関連商品が伸長しました。海外売上高は前年同期比35.9%増の7,809億円となりました。北米では、港湾の混雑や人手不足に伴う生産や出荷の遅れはあるものの、郊外移住などに伴う旺盛な需要を背景にトラクタや建設機械が大幅に増加したほか、エンジンも回復しました。欧州では、前年の新型コロナウイルス感染拡大に伴う販売低迷からの回復により、建設機械、トラクタ、エンジンが揃って増加しました。アジアでは、タイの農業機械が良好な天候や農産物価格の高値安定などにより大幅に増加したほか、中国、インド、フィリピンでも農業機械が好調に推移しました。その他の地域では、オーストラリアのトラクタや建設機械が例年を上回る降雨や政府の景気刺激策を背景に大きく伸長しました。当部門のセグメント利益は固定費の増加や原材料価格の上昇などの減益要因はありましたが、国内外での大幅な増収や、前年同期に出荷された製品に含まれる生産工場の損益が悪化していたことなどにより、前年同期比65.1%増加して1,439億円となりました。 ② 水・環境部門当部門はパイプインフラ関連製品(ダクタイル鉄管、合成管、官需向けバルブ、素形材、スパイラル鋼管、空調機器等)、環境関連製品(各種環境プラント、ポンプ、民需向けバルブ等)により構成されています。当部門の売上高は前年同期比2.5%減少して1,466億円となり、売上高全体の13.3%を占めました。(株)クボタ(6326)2021年12月期第2四半期決算短信国内売上高は前年同期比1.8%減の1,286億円となりました。海外売上高は前年同期比7.4%減の180億円となりました。当部門のセグメント利益はプラント建設コストの改善などにより前年同期比33.2%増加して132億円となりました。 ③ その他部門当部門は各種サービス事業などにより構成されています。当部門の売上高は前年同期比7.6%減の136億円となり、売上高全体の1.2%を占めました。当部門のセグメント利益は前年同期比9.6%増加して16億円となりました。資産の部では、小売が好調な北米での販売金融の拡大に加え、為替が前期末と比べて円安となったこともあり、金融債権の円換算額が大きく増加しました。 ② キャッシュ・フローの状況当第2四半期の営業活動によるキャッシュ・フローは508億円の収入となりました。金融債権の増加に伴う支出は増加しましたが、四半期利益の増加などにより前年同期比13億円の収入増となりました。投資活動によるキャッシュ・フローは453億円の支出となりました。財務活動によるキャッシュ・フローは23億円の収入となりました。資金調達の減少などにより前年同期比339億円の収入減となりました。これらのキャッシュ・フローに為替変動の影響を加えた結果、当第2四半期末の現金及び現金同等物残高は期首残高から146億円増加して2,375億円となりました。当期(2021年12月期)の売上高は前回予想時(2021年2月15日)から1,000億円増の2兆1,500億円を見込んでいます。国内ではトラクタや農業関連商品などが堅調に推移しているほか、アジアなどで農業機械が大きく伸長していることや、為替相場が想定よりも円安で推移していることなどにより海外売上高も増加する見込みのため、上方修正といたしました。営業利益の予想については、原材料価格が高騰しているものの、売上高予想及び為替動向などを踏まえ、前回予想を400億円上方修正し、2,600億円といたします。また、税引前利益は前回予想比(株)クボタ(6326)2021年12月期第2四半期決算短信380億円増の2,630億円、親会社の所有者に帰属する当期利益は前回予想比250億円増の1,830億円といたします。2セグメント利益の合計額は要約四半期連結損益計算書の営業利益と一致します。2セグメント利益の合計額は要約四半期連結損益計算書の営業利益と一致します。', 'title': '売上高では、8割超を占める機械部門が前年同期比30.9%増とけん引しました。欧米では郊外移住による建設増や経済回復を背景にトラクタや建機が増加し、アジアでは良好な天候や安定した農作物価格を背景に農機が伸びました。会社は、国内外市場が堅調に推移していることや、当初想定よりも円安が進行していることなどを受けて、通期の営業利益予想を400億円引き上げました。同時に、未定としていた中間配当を前期比4円増の21円とすることも発表しました。'}, {'body': 'summarize: 協和キリン。 ◎ 資本は、配当金の支払いによる減少等がありましたが、親会社の所有者に帰属する四半期利益の計上や為替影響による在外営業活動体の換算差額による増加等により、前連結会計年度末に比べ94億円増加し、7,078億円となりました。当社グループは、グローバルに事業を展開しておりますことから、国際会計基準(以下「ifrs」という。)を適用しておりますが、事業活動による経常的な収益性を示す段階利益として「コア営業利益」を採用しております。(単位:億円)<期中平均為替レート>当第1四半期連結累計期間(2021年1月1日から3月31日までの3か月間)の売上収益は811億円(前年同期比4.9%増)、コア営業利益は155億円(同7.4%減)となりました。親会社の所有者に帰属する四半期利益は129億円(同6.7%減)となりました。 ◎ 売上収益は、日本は減収となったものの、北米及びemeaにおいてグローバル戦略品が順調に伸長し、アジアにおいても中国を中心に好調に推移した結果、増収となりました。なお、売上収益に係る為替の減収影響は9億円となりました。 ◎ コア営業利益は、海外売上収益の増収により売上総利益が増益となったものの、販売費及び一般管理費が増加し、減益となりました。なお、コア営業利益に係る為替の減益影響は4億円となりました。 ◎ 親会社の所有者に帰属する四半期利益は、その他の費用が減少したものの、コア営業利益の減益に加え、法人所得税費用が増加したため、減益となりました。<日本の概況>(単位:億円) ◎ 日本の売上収益は、fgf23関連疾患治療剤クリースビータ等の新製品群が伸長したものの、2020年4月に実施された薬価基準引下げの影響があったことに加え、一部製品の共同販売等終了の影響により、前年同期に比べ減少しました。・慢性特発性血小板減少性紫斑病治療剤ロミプレートは、特約店への出荷調整(2020年6月から2021年3月まで)により、売上収益が減少しました。<北米・emea・アジア/オセアニアの概況>(単位:億円) ◎ 北米の売上収益は、グローバル戦略品が順調に伸長し、前年同期を上回りました。・抗悪性腫瘍剤poteligeo(日本製品名:ポテリジオ)は、新型コロナウイルス感染症拡大による影響を受け、前年同期並みの売上収益となりました。 ◎ emeaの売上収益は、グローバル戦略品が順調に伸長し、前年同期を上回りました。・癌疼痛治療剤abstral(日本製品名:アブストラル)は、後発医薬品の浸透の影響や出荷調整等により、売上収益が前年同期を下回りました。 ◎ アジア/オセアニアの売上収益は、中国を中心に好調に推移し、前年同期を上回りました。 ③ コア営業利益 ◎ コア営業利益は、グローバル戦略品を中心とした海外の売上収益の増加に伴う売上総利益の増加があったものの、グローバル戦略品の価値最大化と競争力あるグローバルビジネス基盤の早期確立に向けた販売費及び一般管理費の増加等により、前年同期に比べ減益となりました。 ◎ 営業活動によるキャッシュ・フローは、144億円の収入(前年同期は6億円の収入)となりました。一方、主な支出要因は、法人所得税の支払額45億円等であります。 ◎ 投資活動によるキャッシュ・フローは、46億円の支出(前年同期は1,003億円の収入)となりました。当第1四半期連結累計期間における当社グループの研究開発費の総額は122億円であり、主な後期開発品の各疾患領域における進捗は、次のとおりであります。', 'title': '2021年1-3月期の売上収益は、日本は減収となりましたが、北米及びemea(ヨーロッパ、中東及びアフリカ等)においてグローバル戦略品(x染色体連鎖性低リン血症治療剤クリースビータなど)が伸長し、アジアも中国を中心に好調に推移した結果、増収となりました。一方で、親会社株主利益は、販売費及び一般管理費が増加したことなどにより減益となりました。'}, {'body': 'summarize: 京セラ。〔当連結会計年度の経営成績〕<連結業績>当連結会計年度(2020年4月1日から2021年3月31日まで)は、新型コロナウイルス感染症の拡大による景気悪化の影響を受け、前連結会計年度(2019年4月1日から2020年3月31日まで)に比べ減収減益となりました。部品事業の売上高は、自動車関連市場の低迷の影響を当第1四半期連結累計期間(2020年4月1日から2020年6月30日まで)に大きく受けたものの、m&aの貢献及び半導体や5g関連市場における需要増により、前連結会計年度に比べ微増となりました。一方、機器・システム事業は総じて減収となったことから、当連結会計年度の売上高は前連結会計年度に比べ721億56百万円(4.5%)減少の、1兆5,268億97百万円となりました。利益については、減収に加え、減価償却費の増加やスマートエナジー事業(注)における一時損失の計上もあり、前連結会計年度に比べ減益となりました。この結果、当連結会計年度の邦貨換算後の売上高は、前連結会計年度に比べ約90億円押し下げられました。--<連結事業セグメント別の業績> ① 産業・自動車用部品当連結会計年度の売上高は、前連結会計年度の3,410億93百万円と比較し、179億51百万円(5.3%)増加の3,590億44百万円となりました。事業利益は、減価償却費の増加等の影響はあったものの、増収及び原価低減により、前連結会計年度の158億13百万円に比べ23億29百万円(14.7%)増加の181億42百万円となりました。 ② 半導体関連部品当連結会計年度の売上高は、前連結会計年度の2,472億28百万円と比較し、163億67百万円(6.6%)増加の2,635億95百万円となりました。一方、事業利益は、減価償却費の増加等により、前連結会計年度の305億11百万円に比べ22億51百万円(7.4%)減少の282億60百万円となりました。 ③ 電子デバイス当連結会計年度の売上高は、前連結会計年度の3,241億13百万円と比較し、189億43百万円(5.8%)減少の3,051億70百万円となりました。産業市場向けを中心にavx corporationやプリンティングデバイスの売上が減少したことにより、減収となりました。事業利益は、減収及び減価償却費の増加を主因に、前連結会計年度の317億44百万円に比べ64億76百万円(20.4%)減少の252億68百万円となりました。 ④ コミュニケーション当連結会計年度の売上高は、前連結会計年度の2,708億18百万円と比較し、380億79百万円(14.1%)減少の2,327億39百万円となりました。携帯電話端末の販売台数が減少したことに加え、エンジニアリング事業の売上減もあり、減収となりました。一方、事業利益は、原価低減に努めた結果、前連結会計年度の112億59百万円に比べ33億38百万円(29.6%)増加の145億97百万円となりました。 ⑤ ドキュメントソリューション当連結会計年度の売上高は、前連結会計年度の3,599億15百万円と比較し、436億89百万円(12.1%)減少の3,162億26百万円となりました。当第1四半期連結累計期間を底に需要の回復は見られたものの、前連結会計年度の水準には及ばず、機器及び消耗品の売上が減少しました。事業利益は、減収の影響により、前連結会計年度の344億89百万円に比べ57億30百万円(16.6%)減少の287億59百万円となりました。 ⑥ 生活・環境当連結会計年度の売上高は、前連結会計年度の737億47百万円と比較し、98億49百万円(13.4%)減少の638億98百万円となりました。主にスマートエナジー事業における太陽光発電システム等の販売減により、減収となりました。事業損失は、減収の影響に加え、スマートエナジー事業において有形固定資産及びのれん等の減損損失115億18百万円を計上したことにより、前連結会計年度の109億65百万円に比べ129億87百万円増加し、239億52百万円となりました。当社は、デジタル化の進展等により、今後も需要の増加が見込まれる5gや半導体、adas向け部品を中心に生産体制を拡充し増産を進め、コアコンポーネントセグメント及び電子部品セグメントの事業拡大を図ります。当社は、新たな経営体制の下、経営基盤の強化を図るとともに、これらの取り組みを着実に実施し、過去最高の売上高更新及び収益性の向上を目指します。これは、減価償却費及び減損損失の増加が当期利益の減少を上回ったことが主な要因です。これは、借入金の調達が減少したものの、前連結会計年度に実施したavx corporationの完全子会社化を目的とする非支配持分の買取がなくなったことが主な要因です。なお、前連結会計年度の年間配当金160円との比較では、1株当たり20円の減配となります。現時点では、翌連結会計年度の業績予想を基に、1株当たりの年間配当金は160円を予想しており、連結配当性向は51.3%となります。(2)目標とする経営指標当社は、高成長・高収益企業の実現に向けて、売上高及び税引前利益の持続的な2桁成長を目指します。特に、「情報通信」、「自動車関連」、「環境・エネルギー」、「医療・ヘルスケア」市場を中心に既存事業の拡大及び新規事業の創出を図るとともに、収益性向上に向けて生産性倍増に取り組んでいます。', 'title': '2021年3月期は、主力の部品事業の売上高は、自動車関連市場の低迷の影響を受けたものの、m&aの貢献及び半導体や5g関連市場における需要増により、前年度に比べ微増となりました。一方、機器・システム事業は総じて減収となりました。利益については、減価償却費の増加やスマートエナジー事業における一時損失の計上もあり、前年度に比べ減益となりました。'}, {'body': 'summarize: セコム。セキュリティサービス事業では、事業所向け・家庭向けのセントラライズドシステム(オンライン・セキュリティシステム)を中心に、常駐警備や現金護送のサービスを提供するとともに、安全商品を販売しております。2当期は事業所向け・家庭向けのセントラライズドシステム(オンライン・セキュリティシステム)の販売は堅調に推移しましたが、新型コロナウイルス感染症の影響などにより商品販売、工事売上が減収となったことなどにより、売上高は5,615億円(前期比1.4%減少)となり、営業利益は1,133億円(前期比2.2%減少)となりました。防災事業では、オフィスビル、プラント、トンネル、文化財、船舶、住宅といった様々な施設に対し、お客様のご要望に応えた高品質な自動火災報知設備や消火設備などの各種防災システムを提供しております。当期は新型コロナウイルス感染症の影響および前期に大型案件があったことなどにより、売上高は1,426億円(前期比6.4%減少)となり、営業利益は前期に採算性の良い物件が集中したことなどにより、129億円(前期比28.5%減少)となりました。メディカルサービス事業では、訪問看護サービスや薬剤提供サービスなどの在宅医療サービスを中心として、シニアレジデンスの運営、電子カルテの提供、医療機器・医薬品等の販売、介護サービス、医療機関向け不動産賃貸等様々なメディカルサービスを提供しております。当期は新型コロナウイルス感染症の影響などにより医療機器・医薬品の販売が減収となったことおよびインドにおける総合病院事業会社タクシャシーラホスピタルズオペレーティングpvt.ltd.の減収などにより、売上高は716億円(前期比6.0%減少)となり、営業利益は41億円(前期比25.2%減少)となりました。保険事業では、当期もセキュリティシステム導入によるリスク軽減を保険料に反映した事業所向けの「火災保険セキュリティ割引」や家庭総合保険「セコム安心マイホーム保険」、ガン治療費の実額を補償する「自由診療保険メディコム」、セコムの緊急対処員が要請に応じて事故現場に急行するサービスを付帯した自動車総合保険「セコム安心マイカー保険」など、当社グループならではの保険の販売を推進しました。当期はセコム損害保険株式会社のガン保険「自由診療保険メディコム」、自動車保険の販売が好調に推移したことなどにより、売上高は494億円(前期比4.6%増加)となり、営業利益は台風第10号、令和2年7月豪雨などの大規模災害による影響などにより、7億円(前期比51.5%減少)となりました。地理空間情報サービス事業では、航空機や車両、人工衛星などを利用した測量や計測で地理情報を集積し、加工・処理・解析した空間情報サービスを、国および地方自治体などの公共機関や民間企業、さらには新興国や発展途上国を含めた諸外国政府機関に提供しております。当期は国内公共部門が航空レーザーによる測量業務等の増加により増収となったことなどにより、売上高は548億円(前期比1.6%増加)となり、営業利益は国内公共部門の売上の増加や生産効率の向上を図ったことから原価率が改善したほか、海外部門の事業最適化の取り組みや、リモート環境を活用した営業プロセスの見直しにより販売費及び一般管理費が減少したことから、47億円(前期比31.8%増加)となりました。bpo・ict事業では、データセンターを中核に、セコムならではのbcp(事業継続計画)支援やテレワーク支援、情報セキュリティ、クラウドサービスの提供に加えて、コンタクトセンター業務を含む様々なbpo業務の受託・運営を行っています。当期は、コンタクトセンター業務やバックオフィス業務全般のbpoサービスを提供する株式会社tmjの増収およびデータセンター事業の増収などにより、売上高は1,120億円(前期比10.7%増加)となり、営業利益は118億円(前期比19.5%増加)となりました。3不動産・その他の事業には、不動産賃貸および建築設備工事などが含まれます。当期は、2020年12月に当社の連結子会社でありましたセコムホームライフ株式会社の発行済株式の全てを譲渡したため、連結の範囲から除外した影響などにより、売上高は437億円(前期比26.7%減少)となり、営業利益は55億円(前期比7.0%減少)となりました。これらの結果、当期は、新型コロナウイルス感染症の影響などもあり、連結売上高は1兆358億円(前期比2.3%減少)、営業利益は1,369億円(前期比4.2%減少)となりました。経常利益は営業外損益で米国などにおける投資事業組合運用損益が前期20億円の運用益から当期35億円の運用損となったことなどにより、1,389億円(前期比8.2%減少)となりました。親会社株主に帰属する当期純利益は特別損失でのれん償却額56億円および関係会社株式売却損29億円を計上したことなどにより、746億円(前期比16.2%減少)となりました。当期の剰余金の配当につきましては、この基本方針のもと、株主の皆様の日頃からのご支援にお応えするべく、新型コロナウイルス感染症の影響に起因する米国などにおける投資事業組合運用損やセコムホームライフ株式会社の株式譲渡による関係会社株式売却損、のれん償却額など一時的な損失の発生等により、親会社株主に帰属する当期純利益が業績予想を下回ったものの、1株当たり期末配当金を前期同様85円で定時株主総会に提案することにいたしました。', 'title': '2021年3月期は、主力のセキュリティサービスに関わる商品販売・工事売上の減収や医療機器・医薬品の販売減が響き、営業利益は4.2%減となりました。一方で、データセンター事業や、コンタクトセンター業務の受託などで売上を伸ばしたbpo・ict事業が業績を下支えしました。会社の今期営業利益見通しは前期比で微増に留まり、市場予想に届きませんでした。'}, {'body': 'summarize: 資生堂。当第1四半期連結累計期間(2021年1月1日〜2021年3月31日)の景況感は、新型コロナウイルス感染症の感染拡大によりグローバルで経済活動が停滞し、企業収益や雇用情勢の悪化等による消費マインドの低下など、厳しい状況が続きました。一方で、中国では経済活動が回復し、化粧品市場も引き続き成長しました。当第1四半期連結累計期間の売上高は、日本を除いた全ての地域で成長し、現地通貨ベースで前年比6.0%増、円換算後では前年比7.5%増の2,440億円となりました。戦略的に投資強化を進めているスキンビューティーブランドが成長をけん引し、eコマースもプレステージを中心に引き続き伸長しました。営業利益は、売上増に伴う差益増に加え、マーケティング投資や経費等において市場環境の変化に合わせた適切なリソースアロケーションを行ったことなどにより、前年比67.6%増の109億円となりました。親会社株主に帰属する四半期純利益は、構造改革等を除く既存ビジネスベースでは138億円となったものの、dolce&gabbana s.r.l.とのライセンス契約解消(一部は労使協議後確定)に伴う商標権の減損損失を計上したことなどから、15億円の損失となりました。当第1四半期連結累計期間における財務諸表項目(収益及び費用)の主な為替換算レートは、1米ドル＝106.6円、1ユーロ＝127.9円、1中国元＝16.4円です。--【連結】(単位:百万円)(単位:百万円)(注)1当第1四半期連結会計期間より、当社グループ内の業績管理区分の一部見直しに伴い、従来「米州事業」に計上していたデジタル戦【日本事業】日本事業では、コロナ禍で変化したお客さまニーズを捉え、スキンビューティー領域を中心とした商品を強化しました。これにより、eコマース売上は前年を上回って成長しました。以上のことから、売上高は前年比12.1%減の753億円となりました。営業利益は、徹底したコスト削減に取り組んだものの、売上減に伴う差益減などにより、前年比37.0%減の49億円となりました。【中国事業】中国事業では、前年同期は新型コロナウイルス感染拡大の影響を大きく受けましたが、当期はオフライン・オンラインともに力強く成長し、2019年対比でも成長を加速しました。「shiseido」、「クレ・ド・ポーボーテ」、「イプサ」などスキンビューティーブランドを中心にマーケティング投資を強化し、婦人節や資生堂中国40周年のプロモーションも好調に推移しました。以上のことから、売上高は現地通貨ベースで前年比41.1%増、円換算後では前年比46.8%増の653億円となりました。営業利益は、売上増に伴う差益増があった一方、一部、原価悪化や、マーケティング投資強化などにより、前年比62.7%減の20億円となりました。【アジアパシフィック事業】アジアパシフィック事業では、一部の国・地域では新型コロナウイルスの感染拡大の影響が続きましたが、全体としては回復の兆しが見られ、台湾など主要マーケットでシェアを拡大したほか、ベトナムやシンガポールは二桁成長しました。また、各地域の主要eコマースプラットフォーマーでの展開強化により、eコマース売上は「shiseido」などがけん引し倍増しました。以上のことから、売上高は現地通貨ベースで前年比6.4%増、円換算後では前年比9.6%増の165億円となりました。営業利益は、売上増に伴う差益増などにより、前年比35.8%増の14億円となりました。【米州事業】米州では、新型コロナウイルスの感染拡大により、特にオフラインチャネルとメイクアップカテゴリーが大きな影響を受けました。以上のことから、売上高は現地通貨ベースで前年比6.8%増、円換算後では前年比4.6%増の244億円となりました。営業損失は、売上増に伴う差益増に加え、人件費効率化や償却費用の減少などにより、前年に対し30億円減の61億円となりました。【欧州事業】欧州事業では、新型コロナウイルス感染拡大の影響が続きましたが、「クレ・ド・ポーボーテ」や「drunk elephant」の展開拡大を進めました。また、オンラインカウンセリングやデジタルプロモーションの強化により、eコマース売上は引き続き大きく伸長しました。以上のことから、売上高は現地通貨ベースで前年比12.3%増、円換算後では前年比19.6%増の244億円となりました。営業損失は、売上増に伴う差益増に加え、マーケティング投資の効率化などにより、前年に対し56億円減の9億円となりました。--【トラベルリテール事業】トラベルリテール事業(空港・市中免税店等での化粧品・フレグランスの販売)は、国際線の大幅減便に伴うグローバルでの旅行者の減少等の影響を受けました。また、「イプサ」や「エリクシール」などの店頭カウンターの展開強化に取り組んだことなどにより、アジアでは前年を上回る成長となりました。以上のことから、売上高は現地通貨ベースで前年比2.5%増、円換算後では前年比0.7%増の280億円となりました。営業利益は、アジアでの売上増に伴う差益増があった一方、国内免税事業の減益などにより、前年比5.1%減の47億円となりました。【プロフェッショナル事業】プロフェッショナル事業は、ヘアサロン向けのヘアケア、スタイリング剤、ヘアカラー剤やパーマ剤などの技術商材を日本、中国、アジアパシフィックで販売しています。当期は、一部の国・地域では新型コロナウイルスの感染拡大の影響が続きましたが、ヘアサロンへの来店客数の回復やeコマースでのプロモーション強化などにより、売上高は現地通貨ベースで前年比23.0%増、円換算後では前年比25.4%増の36億円となりました。営業利益は、売上増に伴う差益増などにより、前年比639.7%増の4億円となりました。 ① 資産、負債、及び純資産の状況総資産は、dolce&gabbana s.r.l.とのライセンス契約解消に伴う商標権の減少の一方、工場設備等への投資による有形固定資産の増加などにより、前連結会計年度末に比べ78億円増の1兆2,120億円となりました。負債は、工場設備関連の支払いに伴う流動負債の減少などにより43億円減の6,934億円に、純資産は、為替換算調整勘定の増加などにより121億円増の5,187億円となりました。投資活動によるキャッシュ・フローは、工場設備等への投資などにより、404億円の支出となりました。財務活動によるキャッシュ・フローは、配当金の支払いなどにより、155億円の支出となりました。以上により、当第1四半期連結累計会計期間末の現金及び現金同等物残高は期首に対し、227億円減の1,136億円となりました。2021年2月9日に公表した通期連結業績予想を下記の通り修正します。2021年12月期の通期連結業績予想に関しては、既存ビジネスでの売上高・利益について本年2月に公表した業績予想に変更はありませんが、パーソナルケア事業譲渡・合弁事業化に伴う下期の売上高、営業利益減少影響、及び事業譲渡後のパーソナルケア商品の製品供給を譲渡先新会社に対して継続する影響を織り込み、売上高は330億円減額し1兆670億円、営業利益は80億円減額し270億円とそれぞれ予想数値を修正します。親会社株主に帰属する当期純利益については、上記事業に関わる株式譲渡益等を特別利益として870億円計上する一方、dolce&gabbana s.r.l.とのライセンス契約解消に伴う商標権の減損損失等を特別損失として350億円を計上すること、また欧州において組織最適化に向けた構造改革を実施すること等から、前回予想を240億円増額し355億円となる見込みです。なお、本業績予想修正に伴う2021年12月期の配当予想に変更はありません。', 'title': '2021年1-3月期の売上高は、日本を除いた全ての地域で成長しました。スキンビューティーブランドが成長をけん引し、eコマースも引き続き伸長しました。営業利益は、売上増に伴う差益増に加え、マーケティング投資や経費等において市場環境の変化に合わせた適切なリソースアロケーションを行ったことなどにより、前年同期比67.6%増となりました。2021年12月期の業績予想に関しては、パーソナルケア事業譲渡・合弁事業化に伴う下期の売上高、営業利益減少影響などを織り込み、売上高と営業利益が下方修正されました。'}, {'body': 'summarize: ダイキン工業。当第1四半期連結累計期間の経営成績については、売上高は7,989億75百万円(前年同期比37.4%増)となりました。利益面では、営業利益は1,092億54百万円(前年同期比100.4%増)、経常利益は1,118億59百万円(前年同期比102.9%増)、親会社株主に帰属する四半期純利益は、786億28百万円(前年同期比137.5%増)となりました。① 空調・冷凍機事業空調・冷凍機事業セグメント合計の売上高は、前年同期比37.1%増の7,356億38百万円となりました。営業利益は、前年同期比93.7%増の999億59百万円となりました。国内業務用空調機器の業界需要は、今年も緊急事態宣言による需要の鈍化が見られたものの、昨年同時期の緊急事態宣言の影響による需要の落ち込みが大きかったため、対前年で増加に転じました。国内住宅用空調機器の業界需要は、在宅時間の増加などに伴う巣ごもり需要により、前年同期を上回りました。米州では、昨年は新型コロナウイルス感染拡大による影響や、工場が一部停止したことで供給力に影響が出た期間がありましたが、今年は工場の停止期間はなく、また、猛暑や巣ごもりによる需要増加の効果もあり、販売が堅調に推移しました。さらに、買収による販売網強化や販売価格の見直しに取り組んだ結果、売上高は前年同期を大きく上回りました。大型ビル(アプライド)空調分野は、新型コロナウイルスの影響により停滞していた市場の回復を背景に、チラー(空調に必要な冷水を作る室外装置)やファンコイル(温度調節用の室内装置)の独自販売網での拡販や、サービス事業の拡大に取り組み、売上高は前年同期を上回りました。店舗・オフィスなど需要回復が遅れている業務用小売り市場では、換気・洗浄を切り口に顧客と接点を拡大し、更新・追加需要を取り込みました。アプライド空調機器市場では、インフラ関連、データセンター、半導体関連など成長分野に資源をシフトし、さらに保守・メンテナンスなどの成長分野での販売を強化しました。アジア・オセアニアでは、4月は住宅用空調機器を中心に販売は堅調に推移しました。業務用空調機器については、感染拡大の影響を受け、建設現場での労働者不足や新型コロナウイルス検査義務付けのため、市場全体で着工遅れや工事の中断・延期が発生する状況が続きました。このような状況ではありましたが、オセアニアでの堅調な販売や、価格政策を着実に実行したことにより、地域全体の売上高は業務用・住宅用ともに前年同期を大きく上回りました。欧州では、地域全体の売上高は前年同期を大きく上回り、新型コロナウイルスによる影響が出る前の2019年以上となりました。期初からスエズ運河での座礁事故による物流の混乱や半導体の調達問題などが発生しましたが、欧州域内の最寄り工場での安定した生産・供給体制により販売を拡大しました。住宅用空調機器では、幅広い品揃えと販売力で、昨年からの堅調な巣ごもり需要による新規・追加需要を取り込みました。住宅用ヒートポンプ式温水暖房機器は、経済復興とco2削減の実現に向けて昨年に各国で新設・増設された欧州グリーンディールによる補助金が追い風となり、ガスやオイルボイラーからの更新需要の拡大や販売店開発、補助金申請支援等の販売力強化で大幅に販売を伸ばしました。これらにより、住宅用事業の売上高は前年同期を大きく上回りました。業務用空調機器においては、各国でロックダウンの解除によりレストランの営業、観光客の受け入れ等の経済活動が再開され、また、ワクチン接種の加速によるコロナ禍収束への見通しから、需要回復の兆しが見られました。その結果、業務用空調機器の売上高は前年同期を大きく上回りました。また、低温事業は、投資が拡大する食品スーパー業界への販売を強化し、売上高は前年同期を大きく上回りました。中近東・アフリカでは、カタールやエジプトでの販売強化により、売上高は前年同期を上回りました。フィルタ事業は、新型コロナウイルス感染拡大により世界的に急速に高まった空気・換気ニーズに対して、他社に先駆けて感染症対策商材を市場に投入しました。また、ワクチン接種が進む欧米諸国を中心に、徐々に業務用市場での投資が再開し、電子・半導体業界、製薬業界、商業ビル向けなどの販売も好調に推移しました。また、ガスタービン・集塵機事業も、投資環境の改善など市場は概ね回復傾向にあり、売上高は前年同期を上回りました。舶用事業は、海上コンテナ冷凍装置の販売台数増加により、売上高は前年同期を上回りました。② 化学事業化学事業セグメント合計の売上高は、前年同期比41.8%増の504億17百万円となりました。営業利益は、前年同期比197.6%増の79億1百万円となりました。フッ素化学製品全体の販売は、新型コロナウイルスの世界的流行の影響で大きく落ち込んだ昨年に対し、半導体・自動車分野を中心に広範囲で需要が回復したこともあり、売上高は前年同期を大きく上回りました。フッ素樹脂は、世界的な半導体・自動車関連の需要回復が鮮明になってきており、売上高は前年同期を大きく上回りました。フルオロカーボンガスについては、需要が回復傾向にあり、売上高は前年同期を上回りました。③ その他事業その他事業セグメント合計の売上高は、前年同期比37.1%増の129億19百万円となりました。営業利益は、前年同期比459.5%増の13億91百万円となりました。また、建機・車両用油圧機器は、国内及び米国主要顧客向けの販売が増加したことにより、売上高は前年同期を上回りました。固定資産は、のれんの償却による減少等により、前連結会計年度末に比べて19億92百万円減少の1兆5,043億9百万円となりました。有利子負債比率は、前連結会計年度末の23.2%から22.2%となりました。純資産は、親会社株主に帰属する四半期純利益の計上による増加等により、前連結会計年度末に比べて619億69百万円増加の1兆7,604億64百万円となりました。② キャッシュ・フローの状況当第1四半期連結累計期間のキャッシュ・フローについては、営業活動では、税金等調整前四半期純利益の増加等により、前年同期に比べて28億38百万円収入が増加し、620億40百万円の収入となりました。投資活動では、有形固定資産の取得による支出の増加等により、前年同期に比べて61億82百万円支出が増加し、394億59百万円の支出となりました。財務活動では、長期借入れによる収入の減少等により、前年同期に比べて2,714億91百万円収入が減少し、371億3百万円の支出となりました。これらの結果に為替換算差額を加えた当第1四半期連結累計期間の現金及び現金同等物の増減額は、前年同期に比べて2,755億37百万円減少し、126億11百万円のキャッシュの減少となりました。当第1四半期業績は、前回(2021年5月11日)に公表しました業績予想の想定を上回る実績となりましたので、以下のとおり通期及び第2四半期連結累計期間の業績予想を見直します。また、第2四半期以降には、原材料価格、物流コスト高騰の影響が一層拡大してまいります。', 'title': '国内では、住宅向けは「うるさらx」など換気のできる高付加価値のエアコンが好調でした。業務用はコロナ対策として換気・除菌ニーズに対応した空調機器製品が伸びました。米州では昨年新型コロナ感染拡大の影響で工場が一部停止していた反動に加えて、猛暑や巣ごもりによる需要の増加がありました。中国もオンラインを活用した販売活動により堅調な推移となりました。会社は通期見通しを上方修正しており、達成できれば営業利益は過去最高の更新となります。'}, {'body': 'summarize: スズキ。(経営成績)当第1四半期連結累計期間の業績につきましては、世界的な新型コロナウイルス感染拡大による深刻な影響があった前年同期に比べ連結売上高は、8,454億円と4,201億円増加しました。営業利益は、売上増加、特に在庫車の販売促進や為替差益等により、545億円と前年同期に比べ532億円増加しました。経常利益は、金融収支改善380億円等により、1,108億円と前年同期に比べ963億円増加しました。親会社株主に帰属する四半期純利益は、前年同期が新型コロナウイルス関連損失154億円を計上したのに対し、当第1四半期連結累計期間は旧豊川工場跡地売却益180億円等により、848億円と前年同期に比べ830億円増加しました。なお、「収益認識に関する会計基準」等を当第1四半期連結会計期間の期首から適用しており、当第1四半期連結累計期間の売上高は298億円減少し、営業利益、経常利益及び税金等調整前四半期純利益はそれぞれ14億円増加しています。<事業別セグメントの業績>① 四輪事業売上高は7,588億円と前年同期に比べ3,913億円(106.5%)増加しました。営業利益は、売上増加、特に在庫車の販売促進や為替差益等により、420億円となりました。② 二輪事業新型ハヤブサの投入効果や事業体質改善の進捗等により、売上高は575億円と前年同期に比べ226億円(64.5%)増加、営業利益は44億円と黒字化し、営業利益率は7.7%となりました。③ マリン事業北米での船外機の販売が引き続き堅調に推移しており、売上高は260億円と前年同期に比べ58億円(28.7%)増加、営業利益は68億円と前年同期に比べ30億円(77.9%)増加しました。④ その他事業売上高は31億円と前年同期に比べ4億円(14.3%)増加、営業利益は13億円と前年同期に比べ8億円(167.8%)増加しました。<所在地別の業績>全ての地域で増収増益となりました。(財政状態)<資産、負債及び純資産の状況>当第1四半期連結会計期間末の財政状態は、総資産は4兆51億円(前期末比312億円減少)となりました。負債の部は、1兆9,427億円(前期末比617億円減少)となりました。純資産の部は、2兆625億円(前期末比305億円増加)となりました。自己資本比率につきましては、当第1四半期連結会計期間末では43.0%となりました。自己資本比率につきましては、引き続き収益改善を通して改善に取り組んでまいります。-2-<キャッシュ・フローの状況>当第1四半期連結会計期間末の現金及び現金同等物は9,499億円となり、前期末に比べ255億円増加しました。① 営業活動によるキャッシュ・フロー業績改善に伴い、844億円の増加(前年同期は760億円の資金減少)となりました。その結果、フリー・キャッシュ・フローは557億円の増加(前年同期は595億円の資金減少)となりました。③ 財務活動によるキャッシュ・フロー借入水準は当面維持する方針のなか、配当金の支払等により290億円の減少(前年同期は4,031億円の資金増加)となりました。(2)今後の見通し2022年3月期の連結業績予想につきましては、半導体不足の見通しが不透明のため、工場稼働への影響は期末まで続く前提としています。さらに原材料価格の高騰、研究開発費の増加等もあり営業利益は減益となる見通しです。(連結業績予想…通期)売上高3兆4,000億円(前期比7.0%増)営業利益1,700億円(前期比12.6%減)経常利益2,200億円(前期比11.4%減)親会社株主に帰属する当期純利益1,500億円(前期比2.4%増)為替レート1米ドル＝108円、1ユーロ＝129円、1インドルピー＝1.47円、100インドネシアルピア＝0.76円、1タイバーツ＝3.36円※連結業績予想については、現時点で入手可能な情報及び仮定に基づき算出したもので、リスクや不確実性を含んでおり、当社としてその実現を約束する趣旨のものではありません。', 'title': '地域別販売では、インドはロックダウンにより落ち込んだ前年と比較すると大幅増になりましたが、コロナの第2波により販売店の稼働は大きく制約されており、前々年比では19.7%の減少となりました。国内もコロナの影響が大きかった前年同期比では大きく回復しましたが、半導体不足の影響により生産台数が落ち込み、前々年に対しては14.6%の減少でした。会社はこれまで未定としていた通期見通しを開示しました。半導体不足の工場稼働への影響は期末まで続く前提としています。'}, {'body': 'summarize: アサヒグループホールディングス。その結果、アサヒグループの売上収益は、日本や欧州における外食産業の低迷によるマイナス影響があったものの、2020年6月に取得手続きが完了した豪州のビール・サイダー事業(以下「cub事業」といいます。)の新規連結効果などにより、1兆335億9千5百万円(前年同期比18.2%増)となりました。また、利益につきましては、事業利益※1は893億4百万円(前年同期比76.6%増)、営業利益は1,094億1千3百万円(前年同期比152.8%増)、親会社の所有者に帰属する四半期利益は793億1千5百万円(前年同期比175.7%増)となりました。なお、為替変動による影響を除くと、売上収益は前年同期比12.2%の増収、事業利益は前年同期比63.8%の増益となりました。[酒類事業]酒類事業につきましては、各カテゴリーにおいて主力ブランドへの投資を重点化するとともに、多様化する消費者ニーズに対応した商品や飲み方提案を強化することにより、新たな市場の創造に取り組みました。以上の結果、酒類事業の売上収益は、健康志向の高まりなどの消費者ニーズの変化を捉えた発泡酒やアルコールテイスト清涼飲料の売上は前年実績を上回ったものの、新型コロナウイルスの感染拡大が続き、飲食店向けのビールの売上が大幅に減少したことなどにより、前年同期比7.1%減の3,165億4千6百万円となりました。事業利益については、製造原価の低減や収益構造改革などに取り組みましたが、売上収益の減少により、前年同期比20.9%減の267億7千7百万円となりました(営業利益は前年同期比41.7%減の199億6千1百万円)。[飲料事業]飲料事業につきましては、主力ブランドを中心にこれまで培ってきたブランド価値をより一層磨くとともに、変化する生活に寄り添った商品や社会的課題の解決に向けた提案の強化などに取り組みました。以上の結果、飲料事業の売上収益は、競争環境の変化に伴いスーパーマーケットでの売上が減少しましたが、コーヒー飲料および炭酸飲料の販売数量が前年実績を上回ったことなどにより、前年同期比4.3%増収の1,737億6千2百万円となりました。事業利益については、自動販売機での増収に伴う品種・容器構成比の改善や、ブランドの選択と集中による広告・販売促進費の効率化、委託製造品の自社製造への切替えなどによる製造原価の低減などにより、前年同期比65.3%増の163億7千2百万円となりました(営業利益は前年同期比508.7%増の482億6百万円)。[食品事業]食品事業につきましては、新しい生活様式に合わせた価値創造と、市場構造の変化に適応した各カテゴリーの強化により、持続的な成長基盤の構築に取り組みました。以上の結果、食品事業の売上収益は、オフィス勤務での需要減少に伴い『ミンティア』の売上が減少したものの、巣ごもり需要を捉えたフリーズドライみそ汁や健康ニーズの高まりに対応した『ディアナチュラ』などの売上が前年実績を上回ったことなどにより、前年同期比1.6%増の608億4千9百万円となりました。事業利益については、増収効果に加えて、固定費全般の効率化などにより、前年同期比6.6%増の57億8千4百万円となりました(営業利益は、前年同期比2.8%減の52億3千6百万円)。[国際事業]国際事業につきましては、ローカル市場における主力ブランドやアルコールテイスト清涼飲料を軸としたプレミアム化戦略の推進に加えて、『アサヒスーパードライ』、『peroni nastro azzurro』などのグローバルブランドの販路拡大を強化しました。オセアニア事業については、酒類において、主力ブランド『great northern』を中心に積極的なマーケティング活動を展開したほか、『アサヒスーパードライ』、『peroni nastro azzurro』の飲食店向けの販売強化など、cub事業取得により確立した強固な販売体制を活かしたシナジーの創出に取り組みました。以上の結果、国際事業の売上収益は、欧州事業を中心に新型コロナウイルスの感染拡大に伴う各国の規制などによる市場縮小の影響などがあったものの、cub事業の新規連結効果などにより、前年同期比57.3%増の4,777億2千6百万円となりました。事業利益については、業態別の売上構成比の変化によるマイナス影響はありましたが、cub事業の新規連結効果や固定費全般の効率化などにより、前年同期比176.0%増の681億2千2百万円となりました(営業利益は、前年同期比395.9%増の494億1千8百万円)。なお、為替変動による影響を除くと、売上収益は前年同期比40.0%の増収、事業利益は前年同期比143.9%の増益となりました。[その他の事業]その他の事業につきましては、売上収益は、前年同期比0.1%増の493億6千2百万円となりました。事業損失については、前年同期比7億6千2百万円改善の2億8千6百万円となりました(営業損失は前年同期比17億2千万円改善の10億8千4百万円)。当第2四半期連結会計期間の連結総資産は、季節要因等により営業債権が減少したものの、為替相場の変動によるのれん及び無形資産の増加等により、総資産は前年度末と比較して1,267億9千5百万円増加し、4兆5,661億7千4百万円となりました。負債は、社債及び借入金の減少等により、前年度末と比較して620億4千万円減少し、2兆8,595億2千2百万円となりました。資本は、前年度末に比べ1,888億3千5百万円増加し、1兆7,066億5千1百万円となりました。これは、配当金支出により利益剰余金が減少したものの、当第2四半期連結累計期間の親会社の所有者に帰属する四半期利益の計上による利益剰余金の増加及び為替相場の変動により在外営業活動体の換算差額が増加したこと等によるものです。当第2四半期連結累計期間の業績と今後の見通しを勘案した結果、2021年2月12日に公表しました通期の連結業績予想の修正を行っております。(単位:百万円)(ご参考)2021年12月期通期業績予想税引前利益209,000百万円(ご参考)前回発表予想203,000百万円前期実績125,399百万円(為替一定)売上収益2,196,082百万円(ご参考)前回発表予想2,272,185百万円前期実績2,034,591百万円(為替一定)事業利益213,755百万円(ご参考)前回発表予想214,265百万円前期実績168,082百万円2021年通期の業績予想につきましては、酒類の飲食店向け需要の一定の回復などを見込んでいる地域もありますが、新型コロナウイルス感染症の拡大により大規模な社会的制限が実施されるなど、当社グループの業績に深刻な影響を及ぼす社会経済情勢や事業環境の変化がないことを前提としており、実際の業績は様々な要因により大きく異なる可能性があります。', 'title': '4-6月期の事業利益は前年同期比+76.6%となりました。事業利益をセグメント別にみると、酒類事業は飲食店向けのビールの売上が大幅に減少して減益でしたが、国際事業は欧州事業を中心に新型コロナの感染拡大に伴う各国の規制の影響があったものの、豪州のビール・サイダー事業の新規連結効果や固定費全般の効率化などにより増益を確保しました。通期見通しに関しては、売上収益は下方修正されましたが、事業利益は上方修正されました。'}, {'body': 'summarize: ダイフク。このような経済・事業環境のもと、当社グループの受注は、新型コロナウイルス感染症の影響により商談が停滞した前年同期から国内を中心に大幅に回復しました。この結果、受注高は1,384億27百万円(前年同期比32.0%増)、売上高は1,202億20百万円(同5.5%増)となりました。利益面は、一般製造業・流通業向けシステム、半導体生産ライン向けシステムの売上増が寄与し、増益となりました。この結果、営業利益は105億17百万円(同16.5%増)、経常利益は108億56百万円(同9.9%増)、親会社株主に帰属する四半期純利益は77億26百万円(同4.5%増)となりました。為替の変動により、前年同期比で受注高は約101億円増加しました。売上高は約9億円増加したものの、営業利益への影響は軽微でした。① 株式会社ダイフク受注は、一般製造業・流通業向けシステム、自動車生産ライン向けシステムが好調に推移し、半導体・液晶生産ライン向けシステムは堅調に推移しました。売上は、豊富な受注残高をベースに一般製造業・流通業向けシステム、半導体生産ライン向けシステム、自動車生産ライン向けシステムがいずれも順調に推移しました。この結果、受注高は568億39百万円(前年同期比67.8%増)、売上高は560億26百万円(同10.7%増)、セグメント利益は62億25百万円(同36.4%増)となりました。② コンテックグループ日本市場では、製造業の設備投資意欲が回復傾向にあることや、半導体関連業界が好調なことから、各製品の販売が堅調に推移しました。この結果、受注高は47億32百万円(前年同期比14.0%増)、売上高は34億93百万円(同12.0%減)、セグメント利益は5億円(同52.2%増)となりました。2③ daifuku north america holding company(dnahc)グループ米国ではワクチン接種の進展を背景に経済活動の制限の緩和・解除の動きが加速しており、受注は、eコマースがけん引した一般製造業・流通業向けシステム、半導体生産ライン向けシステムは好調に、自動車生産ライン向けシステムは堅調に推移しました。売上は、前期に大型案件の売上を計上した自動車生産ライン向けシステムの反動減により、減少しました。セグメント利益は、空港向けシステム、一般製造業・流通業向けシステムの売上が伸長したことなどから増加しました。この結果、受注高は305億43百万円(前年同期比24.9%増)、売上高は309億44百万円(同8.9%減)、セグメント利益は13億96百万円(同11.8%増)となりました。④ clean factomation,inc.(cfi)受注は、データセンター向け等の半導体の需要が増加した前年同期には及ばなかったものの、売上は受注残高をベースに順調に推移しました。この結果、受注高は91億76百万円(前年同期比25.9%減)、売上高は101億83百万円(同40.6%増)、セグメント利益は9億28百万円(同22.1%減)となりました。⑤ その他「その他」は、当社グループを構成する連結子会社67社のうち、上記②③④以外の国内外の子会社です。受注は、大型案件が寄与した前年同期を上回る水準で推移しました。売上は、受注残高をベースに順調に推移しました。この結果、受注高は371億36百万円(前年同期比23.6%増)、売上高は201億11百万円(同17.5%増)、セグメント損失は5億35百万円(同9億39百万円減益)となりました。純資産は、前連結会計年度末に比べ74億2百万円増加し、2,694億15百万円となりました。(営業活動によるキャッシュ・フロー)営業活動による資金の増加は、主に売上債権及び契約資産の減少額が180億48百万円、税金等調整前四半期純利益が109億95百万円あったことにより、281億55百万円(前年同四半期は187億77百万円の増加)となりました。今後の見通しにつきましては、2021年5月11日に発表した2022年3月期の第2四半期連結累計期間および通期連結累計期間の業績予想数値に修正は加えていません。第1四半期はほぼ予定通りに進捗し、増収増益となりました。第2四半期以降も、2021年3月期末受注残からの売上と、サービス売上の堅調な進捗を見込んでいます。通期受注予想については、一般製造業・流通業向けシステムが好調に推移していることなどから、5,200億円を5,250億円に修正します。', 'title': '受注高は前年同期比+32.0%となり、商談が停滞した前年から、国内を中心に大幅に回復しました。業種別受注高では、半導体向け大型案件を受注したエレクトロニクス向けや、日本・北米のeコマース関連がけん引した商業および小売業向けが好調でした。通期見通しに関しては、従来予想を据え置きました。'}, {'body': 'summarize: ソフトバンク。新型コロナウイルス感染症拡大の影響により、日本企業の景況感は非常に不透明かつ悪化していますが、その一方で、テレワーク、オンラインショッピング、非接触型の決済方法など新しい生活様式への移行が半ば強制的に進み、社会を支えるためのデジタル技術活用の必要性があらためて認識されました。なお、この戦略の下で、当社グループの連結売上高や連結営業利益に占めるモバイル通信料(注4)の比率は年々低下しており、収益源の多様化が進んでいます。引き続き、当社グループは、「beyond carrier」成長戦略と弛まぬ構造改革を同時に実行していくことにより、2022年度に営業利益1兆円を達成することを目指します。これらの結果、当期末のスマートフォン契約数は、前期末比で179万件増加しました。ブロードバンドサービスにおいても家庭向け高速インターネット接続サービスである「softbank光」の契約数が順調に伸びており、この「softbank光」契約数は、前期末比で53万件増加しました。paypay㈱2021年3月末でのpaypayの累計登録者数は3,803万人となり、当期の決済回数は前期比の約2.5倍となる20億回を超え、決済取扱高は前期比の約2.6倍となる3.2兆円となり、いずれも順調に増加しました。(a)売上高当期の売上高は、全セグメントで増収し、前期比344,290百万円(7.1%)増の5,205,537百万円となりました。法人事業はテレワーク関連の商材需要の増加などにより52,757百万円、ヤフー事業ではeコマース取扱高の増加などにより152,905百万円、コンシューマ事業はサービス売上の増加により73,701百万円、流通事業は行政の大型プロジェクト受注により48,892百万円、それぞれ増収となりました。(b)営業利益当期の営業利益は、全セグメントで増益し、前期比59,045百万円(6.5%)増の970,770百万円となりました。法人事業では24,124百万円、ヤフー事業では9,849百万円、コンシューマ事業では11,354百万円、流通事業では5,129百万円の増益となりました。(c)純利益当期の純利益は、前期比41,052百万円(8.1%)増の547,720百万円となりました。(d)親会社の所有者に帰属する純利益当期の親会社の所有者に帰属する純利益は、前期比18,152百万円(3.8%)増の491,287百万円となりました。なお、当期の非支配持分に帰属する純利益は、主としてzホールディングスグループの増益により、前期比22,900百万円(68.3%)増の56,433百万円となりました。(a)コンシューマ事業<事業概要>コンシューマ事業では、主として国内の個人のお客さまに対し、モバイル通信およびモバイル付加サービス、ブロードバンドサービスおよび電力サービスを提供しています。コンシューマ事業の売上高は、前期比73,701百万円(2.7%)増の2,770,388百万円となりました。サービス売上のうち、モバイルは前期比670百万円(0.0%)増加しました。物販等売上の増加は、主として、携帯端末の販売台数が増加したことによるものです。上記の結果、セグメント利益は、前期比11,354百万円(1.8%)増の658,624百万円となりました。(b)法人事業<事業概要>法人事業では、法人のお客さまに対し、移動通信サービス、固定電話サービス「おとくライン」を提供するほか、vpnサービス「smartvpn」やインターネットなどのネットワークサービス、データセンターサービス、クラウドサービス、ai、iot、ロボット、セキュリティ、デジタルマーケティング等の多様な法人向けソリューションを提供しています。モバイル売上の増加は、主として、テレワークなどによる需要の高まりに伴いスマートフォン契約数が増加したことによるものです。ソリューション等売上の増加は、新型コロナウイルス感染拡大の影響により、テレワーク関連の商材の需要が伸び、クラウドサービスやセキュリティソリューションの売上が増加し、iot商材に係る売上も増加したことなどによるものです。上記の結果、セグメント利益は、前期比24,124百万円(28.9%)増の107,731百万円となりました。(c)流通事業<事業概要>流通事業は、変化する市場環境を迅速にとらえた最先端のプロダクトやサービスを提供しています。<業績全般>(単位:百万円)3月31日に終了した1年間2020年2021年増減増減率売上高482,441 531,333 48,892 10.1%セグメント利益17,164 22,293 5,129 29.9%減価償却費及び償却費3,052 3,641 589 19.3%流通事業の売上高は、前期比48,892百万円(10.1%)増の531,333百万円となりました。これは主として、行政の大型プロジェクトを受注したことや、注力していたクラウド、saasなどのサブスクリプションサービスが堅調に伸びたことによるものです。上記の結果、セグメント利益は、前期比5,129百万円(29.9%)増の22,293百万円となりました。(d)ヤフー事業<事業概要>ヤフー事業は、eコマース、決済金融、メディアを中心としたサービスを展開し、オンラインからオフラインまで一気通貫でサービスを提供しています。ヤフー事業の売上高は、前期比152,905百万円(14.5%)増の1,205,847百万円となりました。コマース売上の増加は、主として、2019年11月の子会社化に伴い、前期は5カ月分であった㈱zozoの売上が当期は12カ月分計上されていることに加え、同社の売上収益が好調に推移したことによる増加、ショッピング広告売上収益の増加およびその他のコマースサービスでの取扱高の増加によるものです。メディア売上の増加は、新型コロナウイルスの影響で広告出稿の減少が続いたものの、営業活動やプロダクト改善施策などを行ったことにより、ディスプレイ広告関連収益が増加したことによるものです。上記の結果、セグメント利益は、前期比9,849百万円(6.5%)増の162,125百万円となりました。のれんの増加および顧客基盤や商標権を含む無形資産の増加は、主として、line㈱の子会社化によるものです。(負債)当期末の負債は、前期末から1,391,266百万円(17.2%)増加し、9,475,960百万円となりました。当期の財務活動によるキャッシュ・フローの支出は、前期比で244,849百万円増加しました。a.〜c.の結果、当期における現金及び現金同等物の残高は、前期比441,084百万円増の1,584,892百万円となりました。主として、上記の通り、投資活動によるキャッシュ・フローの支出が減少したことにより、前期比451,383百万円増加しました。f.設備投資当期の設備投資(検収ベース、zホールディングスグループ含む)は、前期比114,796百万円増の680,277百万円となりました。これは主として、竹芝新本社の新規賃貸借契約による使用権資産の増加と、5g設備およびデータセンターへの投資が増加したことによるものです。2022年3月期の連結業績予想については、モバイル料金の値下げ影響を織り込みながらも、法人事業やヤフー事業の成長等に加え、グループシナジーを含め徹底したコスト削減を行うことにより、引き続き増収増益を見込んでいます。コンシューマ事業では、スマートフォン契約数の増加を見込む一方で、モバイル料金の値下げによる減益を見込んでいます。流通事業では、サブスクリプションサービスの拡大による増益を見込んでいます。ヤフー事業では、line㈱子会社化に伴う無形資産の償却等を見込む一方で、コマース事業などの成長を見込んでいます。上記方針の下、2021年3月期から2023年3月期においては、親会社の所有者に帰属する純利益に対する総還元性向85%程度(注1)を目安に、安定的かつ継続的に1株当たりの配当を実施するとともに、機動的な自己株式の取得を検討することを目指します。有者に帰属する純利益の合計(注2)本件は、2021年5月21日に開催予定の当社取締役会に付議する予定です。', 'title': '2021年3月期の営業利益は、全セグメントで増益となりました。法人事業はテレワーク関連の商材需要の増加、ヤフー事業はeコマース取扱高の増加、コンシューマ事業はサービス売上の増加、流通事業は行政の大型プロジェクト受注により、それぞれ好調な推移となりました。'}, {'body': 'summarize: 朝日インテック。当社グループは、2023年までの5か年の中期経営計画「『asahi road to 1000』〜only one技術で強固なグローバルニッチno.1を目指す〜」に基づき、連結売上高1,000億円達成に向けた事業ポートフォリオの構築として、「グローバル市場の戦略的な開拓と患部・治療領域の拡大」を推進することで、これまでの基本戦略の集大成を図り、既存事業の収益基盤を強化、また将来に向けた成長への投資を継続することにより「グローバルニッチ市場における新規事業の創出」を実現し、グローバルニッチ市場における当社のプレゼンスの強化と企業価値の一層の向上を目指し、その成長戦略を支えるためのビジネス基盤として、「グローバル展開に最適な研究開発・生産体制の構築」を進めるとともに「持続的成長に向けた経営基盤の確立」を図ってまいりました。その背景といたしましては、新型コロナウイルス感染症の影響が想定外であったことや、上記③などのm&a戦略の実行は現中期経営計画の期限である2023年を超えて更に長期的な事業拡大を視野に入れたものであり、更なる中長期期間における将来成長イメージを明確化することが必要であると考えたことによります。なお、2020年に入り発生した新型コロナウイルス感染症の影響により、グローバル規模で血管内カテーテル治療の症例数が減少し、市場規模が一時的に縮小いたしました。そのような中、当社グループの当連結会計年度における売上高は、新型コロナウイルス感染症の影響により、デバイス事業が減収し、またメディカル事業においても、全地域において症例数が通常時と比べて減少する影響を受けるなどいたしましたが、メディカル事業の海外市場において、自社ブランド製品の販売促進活動強化や直接販売の推進などにより増収となり、615億7百万円(前年同期比8.8%増)となりました。売上総利益は、売上高の増加に伴い、414億68百万円(同9.0%増)となりました。営業利益は、開発強化のための研究開発費用、直接販売化に関する営業費用、itシステム関係費用(不正アクセスに伴う障害対応費用、itシステム強化費用)、m&a対応費用などの販売費及び一般管理費が増加したものの、127億95百万円(同2.8%増)となりました。経常利益は、為替差益が大幅に増加し、131億96百万円(同7.2%増)となりました。親会社株主に帰属する当期純利益は、特別利益の補助金収入が減少したものの、99億84百万円(同8.8%増)となりました。(メディカル事業)メディカル事業においては、新型コロナウイルス感染症の影響により症例数が通常時と比べて一時的に減少する影響を受けつつも、海外市場での販売促進活動の強化や直接販売の推進などにより増収を確保いたしました。国内市場においては、新型コロナウイルス感染症の影響により通常時と比べて症例数が減少している影響が残る中、非循環器系分野の末梢血管系や脳血管系領域の製品の売上高が増加したものの、医療償還価格下落などにより、減収となりました。海外市場においては、特に欧州地域やアジア地域において新型コロナウイルス感染症の影響により症例数が前期対比においても減少しておりますが、中国の販売促進活動の強化や、米国の直接販売の推進などにより循環器系領域のptcaガイドワイヤーや貫通カテーテルの販売が増加し、また米国・中国・欧州中近東における脳血管系の製品についても増加したことなどから、増収となりました。以上の結果、売上高は530億68百万円(前年同期比10.9%増)となりました。また、セグメント利益は、研究開発費を中心に販売費及び一般管理費が増加したものの、137億円(同8.7%増)となりました。(デバイス事業)デバイス事業においては、新型コロナウイルス感染症の影響を受け、医療部材を中心に売上高は減少いたしました。産業部材につきましては、国内外のoa機器関連取引が減少したものの、国内市場の建築関連・家電関連・自動車関連や、海外市場のレジャー関係取引などが増加し、売上高は増加いたしました。医療部材については、国内市場においては内視鏡用部材の減少、海外市場においては米国向け腹部血管系カテーテル部材及び循環器系検査用カテーテル部材の取引が減少したことなどから、売上高は減少いたしました。以上の結果、売上高は84億38百万円(前年同期比2.9%減)となりました。また、セグメント利益は、セグメント間取引が増加したことにより、33億49百万円(同2.2%増)となりました。当連結会計年度末の資産につきましては、総資産額が1,154億27百万円となり、前連結会計年度末に比べ216億97百万円増加しております。負債につきましては、負債合計額が224億88百万円となり、前連結会計年度末に比べ7億34百万円増加しております。純資産につきましては、純資産合計額が929億38百万円となり、前連結会計年度末に比べ209億63百万円増加しております。当連結会計年度における現金及び現金同等物(以下「資金」という。)の残高は、213億58百万円(前年同期比15.1%増)となっております。(営業活動によるキャッシュ・フロー)営業活動により得られた資金は、89億20百万円(前年同期比22億45百万円減)となりました。これは主に、売上債権が27億54百万円増加、たな卸資産が23億87百万円増加したこと及び法人税等の支払額が38億27百万円であったものの、税金等調整前当期純利益が131億32百万円、減価償却費が48億19百万円であったことによるものであります。(投資活動によるキャッシュ・フロー)投資活動により使用した資金は、163億27百万円(前年同期比59億38百万円増)となりました。(財務活動によるキャッシュ・フロー)財務活動により調達した資金は、101億10百万円(前年同期は8億50百万円の支出)となりました。①グローバル市場の戦略的な開拓と患部・治療領域の拡大②グローバルニッチ市場における新規事業の創出③グローバル展開に最適な研究開発・生産体制の構築④持続的成長に向けた経営基盤の確立本計画では、事業ポートフォリオの構築として、「グローバル市場の戦略的な開拓と患部・治療領域の拡大」を引き続き推進することで、これまでの基本戦略の集大成を図り、既存事業の収益基盤を強化いたします。2022年6月期における業績予想は、前期に引き続き、新型コロナウイルス感染症に伴う血管内カテーテル治療の症例数の減少について、日本や中近東、そしてアジアなどの一部の地域において、上半期を中心に影響が継続するものの、なだらかに回復に向かい、下半期への影響は限定的になることを想定しております。(単位:百万円)<売上高>(メディカル事業)メディカル事業では、医療償還価格の下落などのマイナス影響があるものの、新型コロナウイルス感染症に伴い一時的に減少していた症例数が主要市場を中心に通常まで回復しつつあり、海外市場を中心に売上高は増加する見込みです。国内市場では、新型コロナウイルス感染症による症例数減少の影響がやや継続することや、医療償還価格の価格改定が想定されるなどにより、厳しい環境となりますが、循環器系領域においてptcaガイドワイヤーや貫通カテーテルなどを中心に増加する見込みです。また、非循環器系領域においても、医療償還価格下落の影響を受けるものの、消化器系や脳血管系などの製品群が伸長する見込みなどから、売上高は増加する見込みです。海外市場では、新型コロナウイルス感染症により一時的に減少していた症例数が、一部の地域を除き回復し、全地域において、循環器系領域及び非循環器系領域共に増加する見込みです。欧州中近東市場においては、2021年1月より直接販売化したドイツでの拡販や、2021年7月よりm&aにより直接販売化したイタリアの拡大を目指します。また、oem分野については、国内においては内視鏡関係の取引が減少することや、消化器系製品についてoem取引から直接販売化(自社ブランド化)に区分表記を切り替えたことによる表見的な減少により、売上高は減少いたしますが、海外においては、2021年7月にm&aしたrev.1 engineering,inc.を活かし、米国を中心としてoem事業を強化することなどにより、売上高は増加する予定であり、全体としては好調に推移する予定です。5(デバイス事業)デバイス事業は、医療部材が増加しますが、産業部材が減少し、売上高は減少する見込みです。医療部材については、取引先の動向に比例し、米国向けの循環器系検査用カテーテル部材や、腹部血管系カテーテル部材が増加し、売上高が増加する見込みです。産業部材については、新型コロナウイルス感染症の影響に伴う景気悪化が続くことや、採算性の見直しに伴い建築関連の取引が減少するなどし、売上高が減少する見込みです。<売上総利益>売上総利益は、増収に比例して、増加する予定です。売上総利益率については、設備投資増加による減価償却費の増加があり、微減となる見込みです。(当期・次期の利益配分について)上記の方針に基づき、当期の配当金につきましては、年間11円26銭(連結配当性向30.0%)の配当とすることに決定いたしました。', 'title': '2021年6月期の売上高は、新型コロナの影響により、デバイス事業が減収し、またメディカル事業においても、全地域において症例数が減少する影響を受けましたが、メディカル事業の海外市場において、自社ブランド製品の販売促進活動強化や直接販売の推進などにより増収となりました。同期の営業利益は、販売費及び一般管理費が増加したものの、前期比2.8%増と増益を確保しました。2022年6月期の業績予想は、上半期を中心に新型コロナの影響が継続するものの、なだらかに回復に向かい、下半期への影響は限定的になることを想定しています。'}, {'body': 'summarize: ミスミグループ本社。当連結会計年度における世界経済は、新型コロナウイルス感染拡大の影響が年間を通して続いたものの、中国では製造業を中心にいち早く経済が回復し、海外他地域の景況も期中より改善が見られ、設備投資需要は回復基調となりました。当連結会計年度は期中より海外の需要が回復したものの、上期の景況低迷の影響により、売上高は前年比微減となりました。利益面につきましては、持続成長に不可欠な先行投資を厳選した上で継続しつつも、非効率業務の抜本的見直しなどにより販管費抑制を徹底したことで、営業利益は271億9千9百万円(前年同期比15.1%増)、経常利益は271億8千9百万円(前年同期比17.0%増)、親会社株主に帰属する当期純利益は171億3千8百万円(前年同期比3.8%増)となりました。①fa事業fa事業は、中国が年間を通して好調に推移したことに加え、期中より各地域とも回復傾向となり、売上高は1,022億4千4百万円(前年同期比2.9%増)、営業利益については、売上数量の回復および収益改善策の徹底により、161億1千5百万円(前年同期比28.1%増)となりました。②金型部品事業金型部品事業は、自動車関連が下期に緩やかな回復を見せたものの上期のマイナスを補えず、売上高は668億7千1百万円(前年同期比7.7%減)、営業利益については、売上減少の影響を販管費抑制によりカバーするも49億3千万円(前年同期比1.6%減)となりました。③vona事業vona事業は、ミスミブランド以外の他社製品も含めた生産設備関連部品、製造副資材、mro(消耗品)等を販売するミスミグループの流通事業です。国内は設備投資低迷の影響を受けたものの、海外は確実短納期の強化や新規顧客の開拓により概ね好調に推移し、売上高は1,416億2百万円(前年同期比0.1%増)、営業利益については、非効率業務の見直しや価格是正の効果で、61億5千2百万円(前年同期比1.7%増)となりました。これらの結果、自己資本比率は前連結会計年度の79.2%から80.0%となりました。(4)今後の見通し世界経済および日本経済は、新型コロナウイルス感染拡大の長期化や米中対立の影響などにより今後も不透明な経営環境が続くものと想定しています。2022年3月期の連結業績予想については、売上高は3,400億円、営業利益は380億円、親会社株主に帰属する当期純利益は274億円と予想しております。(為替の前提レートは米ドル:105.0円、ユーロ:125.0円、人民元:16.0円です。)なお、今後の新型コロナウイルス感染症拡大等の事業環境の変化により、本業績予想は変動する可能性があります。当社グループは、今後の外国人株主比率の推移及び国内他社のifrs(国際財務報告基準)採用動向を踏まえつつ、ifrs適用の検討をすすめていく方針であります。', 'title': '2021年3月期については、主力のfa事業は、中国が年間を通して好調に推移したことに加え、期中より各地域とも回復し、売上高は前期比2.9%増、営業利益は、売上数量の回復や収益改善策により、前期比28.1%増と好調でした。2022年3月期については、コロナ後を見据え、自動化の需要がグローバルで一層高まると見込み、営業利益は380億円と大幅増益を予想しています。'}, {'body': 'summarize: 日本通運。(1)経営成績に関する説明当第1四半期連結累計期間の世界経済は、主要先進国でのワクチン接種が進んだことによる経済活動の再開や財政支援等により、新型コロナウイルス感染症による経済的影響が縮小した結果、日本を含む主要国経済では景気改善の兆しがみられたものの、依然として多くの新興国・途上国では感染拡大に伴う経済的影響が強く残っており、世界的なインフレ率上昇も加わって、先行きが見通せない状況にありました。このような経済情勢の中、物流業界におきましては、大きく落ち込んだ荷動きは、主要国における生産・販売活動の再開により回復傾向が継続しておりましたが、国内においては、自動車関連、化学非鉄金属、生産用機械、及び電気機械などの一部商材に堅調さはみられたものの、全体としては力強さに欠ける状況で推移しました。こうした経営環境のもと、当社グループの当第1四半期連結累計期間の業績は、航空運送を中心とした国際貨物の輸送需要が伸長し、各セグメントとも概ね好調に推移しました。この結果、売上高は5,450億円、営業利益は201億円、経常利益は234億円、親会社株主に帰属する四半期純利益は152億円となりました。なお、「収益認識に関する会計基準」(企業会計基準第29号2020年3月31日)等の適用により、売上高は178億円減少しておりますが、営業利益、経常利益、及び親会社株主に帰属する四半期純利益に与える影響は軽微であります。(2)財政状態に関する説明当第1四半期連結会計期間末の総資産は1兆5,918億円となり、前連結会計年度末に比べ399億円、2.4%減となりました。流動資産は6,890億円で前連結会計年度末に比べ828億円、10.7%減、固定資産は9,028億円で前連結会計年度末に比べ429億円、5.0%増となりました。流動資産減少の主な要因は、リース事業の吸収分割に関連した短期貸付金の減少等によるものです。流動負債は4,229億円で前連結会計年度末に比べ925億円、17.9%減、固定負債は5,485億円で前連結会計年度末に比べ329億円、6.4%増となりました。固定負債増加の主な要因は、長期リース債務の増加等によるものです。当第1四半期連結会計期間末の純資産は6,203億円で前連結会計年度末に比べ196億円、3.3%増となりました。2021年4月28日に公表いたしました2021年12月期連結業績予想及び2021年12月期個別業績予想につきましては、最近の業績動向を踏まえ、下記のとおり修正いたしました。d 2021年12月期通期個別業績予想数値の修正(2021年4月1日〜2021年12月31日)※当期は、決算期の変更により2021年4月1日から2021年12月31日の9ヶ月間となっております。② 業績予想修正の理由連結及び個別の売上高につきましては、国際貨物の輸送需要の伸長により、第2四半期累計及び通期の業績予想が、前回発表を上回ることが想定されますので、上方修正いたしました。個別の営業利益、経常利益、四半期純利益並びに当期純利益は、利用運送費、燃油費等の仕入単価の上昇により、前回発表を下回ることが見込まれますので、下方修正いたしました。一方で、連結の営業利益、経常利益、親会社株主に帰属する四半期純利益並びに当期純利益は、国際貨物の輸送需要の伸長により、海外子会社の業績が前回予想を上回ると見込まれるため、据え置きといたしました。また、新型コロナウイルス感染症拡大による当社グループの事業への影響は、前回発表予想と同様に限定的であると想定しております。', 'title': '第1四半期の業績は、航空運送を中心とした国際貨物の輸送需要が伸長し、各セグメントとも概ね好調に推移しました。「収益認識に関する会計基準」等の適用により、売上高は178億円減少しましたが、各利益指標に与えた影響は軽微でした。最近の業績動向を踏まえ、通期の業績予想は売上高が上方修正されました。'}, {'body': 'summarize: パナソニック。(a)経営成績2020年度の世界経済は、新型コロナウイルス感染症による影響の長期化を背景に、世界的に消費や投資が落ち込みました。当年度の連結売上高は、6兆6,988億円(前年比11%減)となりました。国内売上は、空気清浄機などの増収はあったものの、新型コロナウイルス感染症の影響に加え、住宅関連事業の非連結化影響もあり、減収となりました。海外売上は、プロセスオートメーションの実装機や、情報通信インフラ向けの蓄電システム、産業モータなどが増収となったものの、新型コロナウイルス感染症の影響が大きく、減収となりました。営業利益は、2,586億円(前年比12%減)となりました。経営体質強化に向けた固定費削減や、空調空質・車載電池・情報通信インフラ向けなどの中長期的な社会変化を捉えた事業の増益がありましたが、減販損に加え、前年の事業譲渡益の反動もあり、減益となりました。また、税引前利益は、2,608億円(前年比10%減)、親会社の所有者に帰属する当期純利益は、1,651億円(前年比27%減)となりました。a.アプライアンスアプライアンスの売上高は、2兆4,944億円(前年比4%減)となりました。国内や中国でルームエアコン・冷蔵庫・洗濯機などが堅調に推移し、その他の地域も回復傾向にありましたが、上期における市況悪化の影響に加え、テレビやデジタルカメラの販売絞込みなども影響し、全体では減収となりました。営業利益については、減販損の影響を、固定費・拡売費削減などの効果によりカバーし、前年から増益の1,043億円となりました。b.ライフソリューションズライフソリューションズの売上高は、1兆5,073億円(前年比21%減)となりました。空気清浄機は好調でしたが、住宅関連事業の非連結化に加え、上期における市況悪化の影響により、減収となりました。営業利益は、固定費削減の効果はあったものの、減販損に加え、前年の住宅関連事業の譲渡益の反動などにより、前年から減益の692億円となりました。c.コネクティッドソリューションズコネクティッドソリューションズの売上高は、8,182億円(前年比21%減)となりました。営業利益は、固定費削減の効果はあったものの、減販損に加え、前年の事業譲渡益の反動や減損損失の計上もあり、前年から減益の200億円の損失となりました。d.オートモーティブオートモーティブの売上高は、1兆3,394億円(前年比10%減)となりました。上期における顧客工場の一時停止による需要減などが響き、減収となりました。営業利益については、減販損に加えて、車載機器で充電器関連の一時費用があったものの、車載機器での固定費削減や、円筒形車載電池の材料合理化等に加え、車載用角形電池事業の合弁会社化に伴う利益や、前年ののれん減損の反動もあり、前年から増益の109億円となりました。e.インダストリアルソリューションズインダストリアルソリューションズの売上高は、1兆2,555億円(前年比2%減)となりました。情報通信インフラ向けの蓄電システム・コンデンサや産業モータなどが伸長しましたが、米中貿易摩擦の影響を受けた基板材料の苦戦や半導体事業の非連結化影響もあり、減収となりました。営業利益については、固定費削減効果に加え、前年の構造改革費用の反動もあり、前年から増益の662億円となりました。(c)財政状態当年度の営業活動により増加したキャッシュ・フローは5,040億円(前年度は4,303億円の増加)となりました。投資活動により増加したキャッシュ・フローは1,766億円(前年度は2,061億円の減少)となりました。財務活動により減少したキャッシュ・フローは1,777億円(前年度は482億円の増加)となりました。これらに為替変動の影響等を加味した結果、当年度末で現金及び現金同等物の残高は1兆5,932億円となり、前年度末に比べ5,767億円増加しました。当年度末の総資産は6兆8,471億円となり、前年度末に比べ6,286億円の増加となりました。負債は、前年度末に比べ159億円増加し、4兆786億円となりました。親会社の所有者に帰属する持分は2兆5,940億円となり、前年度末に比べ5,957億円増加しました。これは、主に親会社の所有者に帰属する当期純利益及びその他の包括利益の計上などによるものです。また、親会社の所有者に帰属する持分に非支配持分を加味した資本合計は2兆7,685億円となりました。(2)2021年度通期の見通し現時点における連結業績見通しは、以下のとおりです。売上高については、各国経済の回復や、社会変化を捉えた事業の増販もあり、増収を見込んでいます。また、利益についても、増販益に加え、経営体質強化の取り組み継続により、増益を見込んでいます。連結業績見通し(通期)売上高7兆円(前年比104%)営業利益3,300億円(前年比128%)税引前利益3,300億円(前年比127%)親会社の所有者に帰属する当期純利益2,100億円(前年比127%)(ご参考)調整後営業利益(※)3,900億円(前年比127%) ※「調整後営業利益」は、売上高から、売上原価と、販売費及び一般管理費を控除して算出しています。この基本的な考えのもと、配当については、株主からの投下資本に対するリターンとの見地から連結業績に応じた利益配分を基本とし、連結配当性向30%を目安に、安定的かつ継続的な配当に努めてまいります。当年度は、親会社の所有者に帰属する当期純利益は減益となりました。この業績を踏まえ、連結業績に応じた利益配分を基本とする当社の配当方針、および財務体質の状況などを総合的に勘案し、2020年11月30日に実施した中間配当10円と期末配当10円を合わせ、1株当たりの年間配当を20円とさせていただきます。2020年度末2019年度末増減(2021年3月31日現在)(2020年3月31日現在)確定給付制度の再測定※ ---その他の包括利益を通じて公正価値で34,832 57,794 △22,962測定する金融資産在外営業活動体の換算差額 △179,860 △293,633 113,773キャッシュ・フロー・ヘッジの公正価6,658 7,882 △1,224値の純変動 ※確定給付制度の再測定は、その他の資本の構成要素から直接利益剰余金に振り替えております。', 'title': '当社は、売上高から、売上原価と販売費及び一般管理費を控除した調整後営業利益を算出しています。2021年3月期は、売上高は事業ポートフォリオ改革による非連結化の影響などで減収となりました。営業利益は前年度の事業譲渡益などの一時益の反動もあり減益となりましたが、調整後営業利益は、空調空室・車載電池・情報通信インフラ向けなどで社会的な変化を捉えた事業が好調で、増益となりました。'}, {'body': 'summarize: ヒロセ電機。このような状況下当社グループは、主にスマートフォン市場向け、自動車市場向け及び産業用機器市場向けのグローバル事業拡大を進めると共に高度化する市場ニーズへの更なる迅速な対応を目指し、高付加価値新製品の開発・販売・生産体制の強化を推進して参りました。その結果、民生用及び産業用機器市場向けビジネスが堅調に推移したため、当連結会計年度の売上収益は、1,335億38百万円(前年同期比9.7%増)、営業利益は278億85百万円(同37.0%増)、税引前利益は283億32百万円(同33.6%増)、親会社の所有者に帰属する当期利益は199億16百万円(同30.1%増)となりました。[多極コネクタ]当社の主力製品群であります多極コネクタは、丸形コネクタ、角形コネクタ、リボンケーブル用コネクタ、プリント基板用コネクタ、fpc(フレキシブル基板)用コネクタ、ナイロンコネクタ等多品種にわたります。[同軸コネクタ]同軸コネクタは、マイクロ波のような高周波信号を接続する特殊な高性能コネクタであり、主にスマートフォンやパソコンなどの無線lanやbluetooth通信のアンテナ接続や自動車でのgpsアンテナ接続として、また無線通信装置や電子計測器の高周波信号接続として使用されるコネクタであります。[その他]以上のコネクタ製品以外の製品としてマイクロスイッチ類及びコネクタ用治工具類を一括しております。この結果、親会社所有者帰属持分比率は88.0%となり、前連結会計年度末と比べ1.3%減少しました。このような環境下、当社グループの属するエレクトロニクス業界においても大きな影響が出るものと予測しておりますが、自動車向け市場及び産業用機器向け市場の電子部品需要は引き続き旺盛であります。新型コロナウィルス感染症の更なる拡大により今後世界的な経済活動及び当社グループの生産活動や原材料調達等サプライチェーンの支障がないこと等の前提に基づいた、現時点の次期連結業績としまして、売上収益1,380億円(前年同期比3.3%増)、営業利益265億円(同5.0%減)、税引前利益265億円(同6.5%減)、親会社の所有者に帰属する当期利益190億円(同4.6%減)を見込んでおります。2022年3月期より2025年3月期の間で、400億円を上限とし自己株式の取得を実施いたします。当期(2021年3月期)の1株当たり配当金につきましては、期末120円、年間合計240円を予定しております。また、次期(2022年3月期)の1株当たり配当金は上記の方針に従い、中間・期末それぞれ130円、年間合計260円を予定しております。次期(2022年3月期)の自己株式の取得内容については、決定次第開示する予定です。', 'title': '2021年3月期については、主力製品群である多極コネクタが、スマートフォンなどの民生用及びfa機器や医療機器などの産業用機器市場向けに販売が堅調に推移したため、増収増益となりました。なお、2022年3月期については、増収減益を予想しています。'}, {'body': 'summarize: tdk。当社の連結業績に影響を与えるエレクトロニクス市場では、全般的な需要の回復により半導体等の部材の供給が不足し、各社の生産計画にも影響を及ぼしました。また、前期は低調だったデータセンター向けの需要に回復が見られ、hdd(ハードディスクドライブ)の生産が好調に推移しました。これらを含め全体の為替変動により、約214億円の増収、営業利益で約17億円の減益となりました。2 tdk株式会社(6762)2022年3月期第1四半期決算短信(米国会計基準)<製品別売上高の概況>(単位:百万円,%)1)受動部品セグメント当セグメントは、①コンデンサ ②インダクティブデバイス ③その他受動部品で構成され、売上高は、121,183百万円(前年同期84,357百万円、前年同期比43.7%増)となりました。セラミックコンデンサの販売は、自動車市場向けが増加しましたが、ict市場向けが減少しました。アルミ電解コンデンサ及びフィルムコンデンサの販売は、産業機器市場及び自動車市場向けが増加しました。インダクティブデバイスの売上高は、42,028百万円(前年同期27,377百万円、前年同期比53.5%増)となりました。主に自動車市場向けの販売が大幅に増加しました。主に自動車市場向けの販売が増加しました。2)センサ応用製品セグメント当セグメントは、温度・圧力センサ、磁気センサ、memsセンサで構成され、売上高は、26,828百万円(前年同期14,703百万円、前年同期比82.5%増)となりました。3)磁気応用製品セグメント当セグメントは、hdd用ヘッド、hdd用サスペンション、マグネットで構成され、売上高は、60,623百万円(前年同期38,278百万円、前年同期比58.4%増)となりました。4)エナジー応用製品セグメント当セグメントは、エナジーデバイス(二次電池)、電源で構成され、売上高は、199,592百万円(前年同期156,855百万円、前年同期比27.2%増)となりました。エナジーデバイスは、主にict市場向けの販売が大幅に増加しました。3 tdk株式会社(6762)2022年3月期第1四半期決算短信(米国会計基準)5)その他その他は、メカトロニクス(製造設備)、スマートフォン向けカメラモジュール用マイクロアクチュエータ等で構成され、売上高は、11,832百万円(前年同期15,200百万円、前年同期比22.2%減)となりました。メカトロニクスは、産業機器市場向けの販売が増加しました。スマートフォン向けカメラモジュール用マイクロアクチュエータは、ict市場向けの販売が減少しました。<海外売上高の概況>海外売上高の合計は、前年同期の283,907百万円から35.6%増の384,999百万円となり、連結売上高に対する海外売上高の比率は、前年同期の91.8%から0.1ポイント減少し91.7%となりました。負債は、前期末と比較して76,607百万円増加しました。仕入債務が51,880百万円、短期借入債務が21,517百万円それぞれ増加しました。純資産のうち株主資本は、前期末と比較して30,220百万円増加しました。その他の利益剰余金が14,984百万円増加しました。また、外貨換算調整額が増加した結果、その他の包括利益(△損失)累計額が14,894百万円増加しました。2)当第1四半期のキャッシュ・フローの状況(単位:百万円)*営業活動によって得たキャッシュ・フローは、1,171百万円となり、前年同期比8,627百万円減少しました。*投資活動に使用したキャッシュ・フローは、28,473百万円となり、前年同期比13,620百万円減少しました。*財務活動によって得たキャッシュ・フローは、9,829百万円となり、前年同期比16,295百万円減少しました。当期の1株当たり配当見通しにつきましては、前回発表いたしました当期中間配当金95円/株及び期末配当金95円/株を、2021年7月28日開催の取締役会において決議しました株式分割に伴い、次のとおり変更いたします。今回の株式分割は2021年10月1日を効力発生日とし、普通株式1株を3株に分割いたします。(6)重要な後発事象株式分割及び定款の一部変更当社は、2021年7月28日開催の取締役会において、株式分割及び定款の一部変更について下記のとおりとすることを決議いたしました。① 分割の方法2021年9月30日最終の株主名簿に記載または記録された株主の所有する普通株式1株を3株に分割いたします。3)定款の一部変更 ① 変更の理由今回の株式分割に伴い、会社法第184条第2項の規定に基づき、2021年10月1日をもって、当社定款第6条に定める発行可能株式総数を変更いたします。', 'title': '主力のエナジー応用品セグメントでは、二次電池がict市場向けに販売好調でした。また、エナジー応用品セグメントでは、セラミックコンデンサーの自動車向け販売が増加しました。しかし、半導体などの部材の供給不足や、スマホ生産がインド・東南アジアでのコロナ感染再拡大による悪影響を受けたことなどが業績の重石となりました。決算発表に併せて、株式分割も発表しており、2021年9月30日最終の株主名簿に記載または記録された株主の所有する普通株式1株を3株に分割するとしました。'}, {'body': 'summarize: 日本電信電話。当連結会計年度における情報通信市場では、引き続きクラウドサービスやiot、ビッグデータ、aiなどの進展により、デジタル化への取り組みが加速するとともに、5gのサービスが拡大しています。 ○ そうした経営環境において、nttグループが中期的に成長・発展していくため、①リモートワールドを考慮した新サービスの展開・提供、②リソースの集中化とデジタルトランスフォーメーションの推進、③世界規模での研究開発の推進、④スマートライフ事業など新規事業の強化をめざします。 ○ そのために、グループ横断でのリソース・アセットの戦略的活用と意思決定の迅速化が不可欠と考え、nttドコモを完全子会社化しました。 ○ 今後、nttドコモは、nttコミュニケーションズ、nttコムウェアなどのグループ会社の能力を活用していくことにより、法人営業力の強化、サービス創出力の強化、コスト競争力の強化、研究開発力の強化を図ります。エリア拡大に加え、5g対応機種の充実、新サービスの展開などに取り組み、2021年3月末時点の5gサービス契約者数は309万契約となりました。 ○ 株主還元については、継続的な増配および機動的な自己株式取得を実施しました。以上の取り組みの結果、当連結会計年度のnttグループの営業収益は11兆9,440億円(前期比0.4%増)となりました。また、営業費用は10兆2,726億円(前期比0.6%減)となりました。この結果、営業利益は1兆6,714億円(前期比7.0%増)、また、税引前利益は1兆6,526億円(前期比5.3%増)、当社に帰属する当期利益は9,162億円(前期比7.1%増)となりました。また、2021年度の連結業績については、営業収益は12兆円、営業利益は1兆7,300億円、税引前利益は1兆7,160億円、当社に帰属する当期利益は1兆850億円を予想しております。 ■移動通信事業セグメントセグメント業績の概要(2020年4月1日〜2021年3月31日)(単位:億円)契約数(単位:千契約)(注)携帯電話サービス契約数、lte(xi)サービス契約数及びfomaサービス契約数には、mvnoとの契約及び通信モジュールサービス《主な取り組み内容》 ○ スマートフォン決済サービスの「d払い」や「dポイント」の取扱い店舗の拡大に努め、2021年3月末時点の「dポイントクラブ」会員数は8,195万会員、「dポイントカード」登録数は5,078万件となりました。以上の取り組みの結果、移動通信事業セグメントにおける当連結会計年度の営業収益は、4兆7,252億円(前期比1.6%増)となりました。一方、当連結会計年度の営業費用は、3兆8,120億円(前期比0.4%増)となりました。この結果、当連結会計年度の営業利益は、9,132億円(前期比6.9%増)となりました。■地域通信事業セグメントセグメント業績の概要(2020年4月1日〜2021年3月31日)(単位:億円)契約数(単位:千契約)(注)1.「フレッツ光(コラボ光含む)」は、ntt東日本の「フレッツ光クロス」、「bフレッツ」、「フレッツ光ネクスト」、「フレ以上の取り組みの結果、地域通信事業セグメントにおける当連結会計年度の営業収益は、3兆2,074億円(前期比4.1%増)となりました。一方、当連結会計年度の営業費用は、2兆7,872億円(前期比3.6%増)となりました。この結果、当連結会計年度の営業利益は、4,202億円(前期比8.2%増)となりました。 ■長距離・国際通信事業セグメントセグメント業績の概要(2020年4月1日〜2021年3月31日)(単位:億円)長距離・国際通信事業では、ネットワーク、セキュリティなどを組み合わせたictソリューションの提供力を強化したほか、クラウドサービスやマネージドサービスといった成長分野でのサービス提供力の強化を図りました。以上の取り組みの結果、長距離・国際通信事業セグメントにおける当連結会計年度の営業収益は、2兆656億円(前期比6.4%減)となりました。一方、当連結会計年度の営業費用は、1兆9,194億円(前期比8.7%減)となりました。この結果、当連結会計年度の営業利益は、1,462億円(前期比41.2%増)となりました。 ■データ通信事業セグメントセグメント業績の概要(2020年4月1日〜2021年3月31日)(単位:億円)データ通信事業では、グローバルでのデジタルトランスフォーメーションなどの加速や、ニーズの多様化・高度化に対応するため、グローバル市場でビジネス拡大を図るとともに、市場の変化に対応したデジタル化の提案、システムインテグレーションなどの多様なitサービスの拡大と安定的な提供に取り組みました。以上の取り組みの結果、データ通信事業セグメントにおける当連結会計年度の営業収益は、2兆3,187億円(前期比2.3%増)となりました。一方、当連結会計年度の営業費用は、2兆1,795億円(前期比2.0%増)となりました。この結果、当連結会計年度の営業利益は、1,392億円(前期比6.3%増)となりました。 ■その他の事業セグメントセグメント業績の概要(2020年4月1日〜2021年3月31日)(単位:億円)その他の事業では、主に不動産事業、金融事業、電力事業、システム開発事業に係るサービスを提供しました。以上の取り組みの結果、その他の事業セグメントにおける当連結会計年度の営業収益は、1兆4,671億円(前期比8.4%減)となりました。一方、当連結会計年度の営業費用は、1兆4,023億円(前期比7.2%減)となりました。この結果、当連結会計年度の営業利益は、648億円(前期比28.7%減)となりました。当連結会計年度における「営業活動によるキャッシュ・フロー」は、3兆91億円の収入となりました。休日影響を除いた前期比では、2,375億円(8.6%)増加しておりますが、これは当期利益の増加などによるものであります。「投資活動によるキャッシュ・フロー」については、1兆4,245億円の支出となりました。「財務活動によるキャッシュ・フロー」については、1兆6,895億円の支出となりました。以上の結果、当連結会計年度末におけるnttグループの現預金及び現金同等物の残高は、前連結会計年度末と比較して978億円(9.5%)減少し、9,357億円となりました。設立後、高付加価値サービスを提供する体制の構築を行い、本格的に開始した新たな事業体制のもと当連結会計年度より、高付加価値サービスに注力したサービス提供を行っていくのに合わせて新たなサービスモデルにも対応した収益認識方法について検討を行いました。', 'title': '2021年3月期は、その他事業を除く主要4セグメント全てが増益となりました。2020年12月のnttドコモ完全子会社化をはじめ、リモート移行やdxへの需要などに対応した結果としています。最大部門の移動通信事業では、契約数が前期比2.9%増となり、低価格プラン「ahamo(アハモ)」の事前エントリーも254万件と好調でした。会社は2022年3月期についても、営業収益・営業利益ともに過去最高を見込んでいます。'}, {'body': 'summarize: 味の素。ⅰ.当期の経営成績の概況当社グループは、ifrsの適用に当たり、投資家、取締役会及び経営会議が各事業の恒常的な業績や将来の見通しを把握すること、取締役会及び経営会議が継続的に事業ポートフォリオを評価することを目的として、「事業利益」という段階利益を導入しております。当該「事業利益」は、「売上高」から「売上原価」、「販売費」、「研究開発費」及び「一般管理費」を控除し、「持分法による損益」を加えたものであり、「その他の営業収益」及び「その他の営業費用」を含まない段階利益です。当連結会計年度の売上高は、covid-19のグローバルでの拡大に伴い、主に、調味料・食品及び冷凍食品において、内食需要の伸張により家庭用製品の販売が増加した一方、外食向け製品は需要の回復傾向がみられるものの、ロックダウン等の影響により引き続き外食用・業務用の販売が減少した結果、前期を285億円下回る1兆714億円(前期比97.4%)となりました。事業利益は、化成品の大幅な増収による大幅な増益、調味料・食品や冷凍食品における家庭用製品の増収効果や製品ミックス改善効果等による増益に加え、前期にはプロマシドール・ホールディングス社(以下、ph社)の商標権に係る減損損失の計上があったこと等から、前期を138億円上回る1,131億円(前期比114.0%)となりました。営業利益は、その他の営業収益で固定資産(遊休資産)の譲渡により前期を大幅に上回る固定資産売却益を計上したことに加え、その他の営業費用においても、当期は欧州及び北米の動物栄養事業の事業構造改革に伴う減損損失等を計上したものの、前期は当期を大幅に上回る減損損失の計上があったこと等により、前期を523億円上回る1,011億円(前期比207.3%)となりました。(1)調味料・食品セグメント調味料・食品セグメントの売上高は、主に、内食需要の増加により家庭用製品の販売が増加したものの、換算為替影響や外食需要の減少により外食向け製品の販売が減少した結果、前期を212億円下回る6,205億円(前期比96.7%)となりました。事業利益は、外食向け製品の減収影響があったものの、家庭用製品の増収効果や製品ミックス改善効果に加え、前期にph社の商標権に係る減損損失計上があったこと等により、前期を51億円上回る867億円(前期比106.3%)となりました。・ソリューションアンドイングリディエンツは、外食需要減による国内外食向け製品の販売減や、換算為替影響等により減収。<主要な変動要因>・調味料は、家庭用製品の増収効果や製品ミックス改善効果等により増益。・栄養・加工食品は、前期にph社の商標権に係る減損損失計上があったことや、国内の家庭用主力製品の増収効果等により大幅増益。国内は、家庭用コーヒー主力製品やスープの増収効果等により増益。・ソリューションアンドイングリディエンツは、主に国内外食向け製品の減収影響により減益。(2)冷凍食品セグメント冷凍食品セグメントの売上高は、主に、内食需要の増加により家庭用製品の販売が増加したものの、外食需要の減少により業務用製品の販売が減少した結果、前期を129億円下回る1,982億円(前期比93.9%)となりました。事業利益は、家庭用製品の増収効果や製品ミックスの改善効果等により大幅な増益となった結果、前期を22億円上回る23億円(前期比-%)となりました。<主要な変動要因>・家庭用製品の増収効果や製品ミックス改善効果等により大幅増益。国内は、家庭用主力製品の増収効果等により増益。(3)ヘルスケア等セグメントヘルスケア等セグメントの売上高は、化成品の大幅な増収等により前期を78億円上回る2,395億円(前期比103.4%)となりました。事業利益は、バイオファーマサービスが大幅な減益となったものの、化成品及び動物栄養の大幅な増益にともない、前期を67億円上回る262億円(前期比134.6%)となりました。<主要な変動要因>・アミノ酸は、医薬用・食品用アミノ酸の販売増やバイオファーマサービスの換算為替影響等により、全体で増収。・化成品は、主に電子材料の販売好調により大幅増収。<主要な変動要因>・アミノ酸は、医薬用・食品用アミノ酸は大幅増益も、バイオファーマサービスが大幅減益となり、全体で減益。・化成品は、大幅増収により大幅増益。(4)その他その他の事業の売上高は前期を22億円下回る131億円(前期比85.6%)となり、事業利益は△22億円となりました。2.次期の見通し(億円)次期の連結売上高は1兆1,130億円、同事業利益は1,150億円を見込んでおります。また同親会社の所有者に帰属する当期利益は600億円を見込んでおります。現時点で新型コロナウイルス感染症の終息時期は明確には見通せず、経済の先行きは引き続き不透明ですが、以下の前提で業績予想を策定しております。資本合計は、その他の資本の構成要素の増加等により、前連結会計年度末に対して757億円増加しました。資本合計から非支配持分を引いた親会社の所有者に帰属する持分は、6,202億円となり、親会社所有者帰属持分比率は43.3%となりました。当期の連結キャッシュ・フローの状況(億円)営業活動によるキャッシュ・フローは、1,656億円の収入(前期は1,148億円の収入)となりました。税引前当期利益が983億円であり、減価償却費及び償却費630億円と、法人所得税の支払額261億円があったこと等によるものです。投資活動によるキャッシュ・フローは、662億円の支出(前期は666億円の支出)となりました。有形固定資産の取得による支出768億円と、無形資産の取得による支出91億円があったこと等によるものです。連結の範囲の変更を伴わない子会社株式の取得による支出220億円と、配当金の支払額175億円があったこと等によるものです。当社グループは、グループ内外における財務情報の国際的な比較可能性の向上と株主・投資家の皆さまをはじめとしたステークホルダーとのコミュニケーションの向上を目的として、2017年3月期の有価証券報告書における連結財務諸表から、「連結財務諸表の用語、様式及び作成方法に関する規則」(昭和51年大蔵省令第28号)第93条の規定により、国際会計基準(ifrs)に基づいて連結財務諸表を作成しております。(重要な会計方針の変更)(新会計基準の適用の影響)当社グループは当連結会計年度より以下の基準を採用しております。当社グループの報告セグメントは、主として製品別のセグメントから構成されております。当社グループは第1四半期連結会計期間より、中期経営計画における重点事業について事業軸でグローバルに管理する体制の強化等を目的とした会社組織の変更に伴い、報告セグメントを従来の「日本食品」、「海外食品」、「ライフサポート」、「ヘルスケア」の4つの区分から、「調味料・食品」、「冷凍食品」、「ヘルスケア等」の3つの区分に変更しております。当社グループは、前連結会計年度において包材事業を非継続事業に分類しており、セグメント情報は包材事業を除く継続事業のみの金額を表示しております。なお、セグメント間の内部売上高は、主に第三者間取引価格に基づいております。', 'title': '当社は、ifrs(国際会計基準)の適用にあたり、事業利益という段階利益を導入しています。事業利益は、売上高から売上原価、販売費、研究開発費及び一般管理費を控除し、持分法による損益を加えたものです。2021年3月期は、主力の調味料・食品セグメントで外食向け製品の減収影響があったものの、家庭用製品の増収効果や製品ミックス改善効果があったことに加え、ヘルスケア等セグメントでは化成品及び動物栄養が堅調に推移し、増益となりました。併せて、発行済株式総数(自己株式を除く)に対する割合4.55%の自己株式取得も発表しています。'}, {'body': 'summarize: シスメックス。', 'title': '試薬は、検査需要の回復により、ヘマトロジー(血球計数検査)・尿分野が二桁増収となった他、コロナ関連検査も堅調でした。機器は、米国の納品遅延が段階的に解消したことや、フランスおよび新たな直販エリアの売上伸長により、ヘマトロジー分野が伸長しました。通期見通しは従来予想が据え置かれました。'}, {'body': 'summarize: ライオン。(1)経営成績に関する説明当第1四半期の連結業績は、売上高824億5千6百万円(前年同期比0.1%減、為替変動の影響を除いた実質前年同期比0.9%減)、事業利益80億9千万円(前年同期比11.0%減)、営業利益82億8千1百万円(同55.8%減)、親会社の所有者に帰属する四半期利益59億5千5百万円(同56.1%減)となりました。【連結業績の概況】(単位:百万円)(注)事業利益は、売上総利益から販売費及び一般管理費を控除したもので、恒常的な事業の業績を測る当社の利益指標<一般用消費財事業>当事業は、「オーラルケア分野」、「ビューティケア分野」、「ファブリックケア分野」、「リビングケア分野」、「薬品分野」、「その他の分野」で構成されています。(単位:百万円)(注)売上高には、セグメント内およびセグメント間の内部売上高を含んでおり、その金額は当第1四半期(ビュ-ティケア分野)ハンドソープは、前年同期の需要拡大の反動で「キレイキレイ薬用泡ハンドソープ」が前年同期を下回り、全体の売上は前年同期を下回りました。ペット用品は、猫用トイレの砂「ニオイをとる砂」が堅調に推移するとともに、オーラルケア用品が好調に推移し、全体の売上は前年同期を上回りました。--<産業用品事業>当事業は、タイヤの防着剤等を取り扱う「モビリティ分野」、2次電池用導電性カーボン等の「エレクトロニクス分野」、施設・厨房向け洗浄剤等の「業務用洗浄剤分野」等で構成されており、全体の売上高は、前年同期比4.9%の増加となりました。(単位:百万円)(注)売上高には、セグメント内およびセグメント間の内部売上高を含んでおり、その金額は当第1四半期モビリティ分野では、タイヤの防着剤やゴム離型剤が好調に推移し、全体の売上は前年同期を大幅に上回りました。エレクトロニクス分野では、車載電池向けカーボンや半導体搬送材料向け導電樹脂が好調に推移し、全体の売上は前年同期を大幅に上回りました。業務用洗浄剤分野では、ハンドソープが前年同期を大幅に上回りましたが、厨房向け消毒用アルコールや食器洗浄機用洗浄剤が前年同期を下回り、全体の売上は前年同期比微減となりました。<海外事業>海外は、タイ、マレーシア等の東南アジア、韓国、中国等の北東アジアにおいて事業を展開しております。全体の売上高は、前年同期比4.7%の増加(為替変動の影響を除いた実質前年同期比は1.8%の増加)となりました。(単位:百万円)(注)売上高には、セグメント内およびセグメント間の内部売上高を含んでおり、その金額は当第1四半期[地域別売上状況](単位:百万円)(地域別の状況)東南アジア全体の売上高は、前年同期比1.6%の増加となりました。<その他>(建設請負事業等)(単位:百万円)(注)売上高には、セグメント内およびセグメント間の内部売上高を含んでおり、その金額は当第1四半期(2)財政状態に関する説明当四半期における資産、負債および資本の状況(連結財政状態)資産合計は、現金及び現金同等物の減少等により、前連結会計年度末と比較して323億5千1百万円減少し、4,031億5千万円となりました。資本合計は、63億2千4百万円増加し、2,511億8千1百万円となり、親会社所有者帰属持分比率は58.8%となりました。', 'title': '事業利益は、売上総利益から販売費及び一般管理費を控除したもので、当社は恒常的な事業業績を測る利益指標として重視しています。2021年1-3月期は、主力の一般用消費財事業でオーラルケア分野の売上は堅調な一方、ビューティーケア分野のハンドソープなどで前年同期の需要拡大の反動がでました。'}, {'body': 'summarize: 島津製作所。(1)経営成績に関する説明当第1四半期連結累計期間における世界経済は、新型コロナウイルス感染症の再拡大があったものの、ワクチン接種が進んだことや、各国政府の経済対策などにより需要回復の動きが見られました。このような状況のもと、計測機器事業は、ヘルスケア、官庁・大学分野向けに液体クロマトグラフ、質量分析システムが好調に推移しました。産業機器事業は、半導体製造装置向けターボ分子ポンプが好調に推移したことに加え、設備投資の回復に伴い油圧機器も増加しました。航空機器事業は、新型コロナウイルス感染症の影響を受けて厳しく推移しました。以上の結果、当第1四半期連結累計期間の業績につきましては、売上高は942億9千8百万円(前年同期比17.6%増)、営業利益は124億1千8百万円(同104.1%増)、経常利益は127億2千7百万円(同105.6%増)、親会社株主に帰属する四半期純利益は87億2千6百万円(同109.7%増)となり、過去最高の業績を達成しました。 ⅰ.計測機器事業各国政府の経済対策や、民間企業の設備投資の増加により、需要回復の動きが見られました。ヘルスケア分野では、医薬・受託分析向けに、主力の液体クロマトグラフや質量分析システムが好調に推移しました。この結果、当事業の売上高は、613億5百万円(前年同期比28.6%増)となり、営業利益は売上の増加などにより、109億5千7百万円(同108.0%増)となりました。 ⅱ.医用機器事業新規感染者数の減少に伴い、新型コロナウイルスの肺炎診断で用いられる回診用x線撮影装置の需要は前年比で減少しました。一方、医療機関での診断・治療件数はコロナ禍前の水準まで戻り、前年に凍結となった設備投資が進んだことなどにより、x線tvシステムなどが増加しました。この結果、当事業の売上高は144億8千7百万円(前年同期比10.5%増)となり、営業利益は売上の増加などにより、8億8千7百万円(同365.8%増)となりました。 ⅲ.産業機器事業5g対応機器やデータセンター向け半導体需要の増加などにより、ターボ分子ポンプは好調に推移しました。また、産業車両・建設機械分野の需要が回復し、油圧機器の売上も増加しました。この結果、当事業の売上高は129億6千万円(前年同期比25.0%増)となり、営業利益は売上の増加などにより、13億7千3百万円(同78.6%増)となりました。 ⅳ.航空機器事業防衛分野は前年に大口案件があったことにより大幅な減収となりました。この結果、当事業の売上高は41億4千1百万円(前年同期比49.3%減)となり、営業損失は防衛分野の売上の減少などにより、3億5千9百万円となりました(前年同期は1億3千万円の営業利益)。 ⅴ.その他の事業当事業の売上高は14億3百万円(前年同期比60.8%増)、営業損失は3千3百万円となりました(前年同期は2億円の営業利益)。連結業績予想につきましては、当第1四半期連結累計期間における業績の進捗状況を勘案し、2021年5月11日に公表しました予想を見直しています。', 'title': '主力の計測機器は、液体クロマトグラフと呼ばれる分離装置や質量分析システムなどの検査機器が医療機関や官庁・大学向けに好調に推移し、同事業の営業利益は前年同期比2倍超となりました。新型コロナのpcr検査関連も堅調に推移しました。医用機器や産業機器も好調でしたが、航空機器は営業損失となりました。主力部門の好調を受け、2022年3月期通期の営業利益を上方修正しています。'}, {'body': 'summarize: 日本航空。当連結会計年度(2020年4月1日〜2021年3月31日)は、新型コロナウイルス感染拡大により、当社グループが属する航空業界は極めて厳しい状況に置かれました。当連結会計年度(2020年4月1日〜2021年3月31日)における売上収益は4,812億円(前年同期比65.3%減少)、営業費用は8,850億円(前年同期比32.4%減少)となり、財務・法人所得税前利益(△は損失)(以下「ebit」という。)は△3,983億円(前年同期は888億円)、親会社の所有者に帰属する当期利益(△は損失)は△2,866億円(前年同期は480億円)となりました。 ※ebitマージン＝財務・法人所得税前利益(ebit)/売上収益当連結会計年度における当社グループを取り巻く経営環境を概括すると、新型コロナウイルス感染拡大により、世界および日本経済は大きな打撃を受けました。以下、当連結会計年度における当社グループの経営状況につき概括します。財務戦略においては、当社グループでは、これまで培ってきた強固な財務体質を活かした資金調達を実施し、当連結会計年度において2,623億円の借入れを実施すると同時に、3,000億円の未使用のコミットメントラインを確保し、充分な手元流動性の確保に努めました。その結果、2021年3月末時点においても、自己資本比率は45.0%、d/eレシオは0.5倍と、航空業界においては世界最高レベルの強固な財務基盤を維持できております。手元流動性については、2021年3月末時点で、未使用のコミットメントライン3,000億円を含む7,083億円となっており、十分な水準の手元流動性を確保しております。<航空運送事業セグメント>当連結会計年度における航空運送事業セグメントの経営成績については、売上収益は4,318億円(前年同期比65.8%減少)、投資・財務・法人所得税前利益(△は損失)(以下「セグメント利益(△は損失)」という。)は、△4,033億円(前年同期は747億円)となりました。(売上収益及びセグメント利益(△は損失)はセグメント間連結消去前数値です。)国際旅客収入(フルサービスキャリア)は279億円(前年同期比94.3%減少)、国内旅客収入は1,740億円(前年同期比67.2%減少)、貨物郵便収入は1,288億円(前年同期比40.6%増加)となりました。<その他>株式会社ジャルパックと株式会社ジャルカードの概況は、次のとおりです。(資産)当連結会計年度末の資産につきましては、現金及び現金同等物残高の増加などを主因として前連結会計年度末に比べ1,250億円増加し、2兆1,072億円となりました。(負債)負債につきましては、有利子負債の増加や契約負債の減少などにより、前連結会計年度末に比べ1,931億円増加の1兆1,257億円となりました。(資本)資本につきましては、2020年11月に公募増資を実施し、資本増強を行ったものの、当期損失の計上を主因として、前連結会計年度末に比べ680億円減少の9,815億円となりました。以上の結果、親会社所有者帰属持分は9,474億円となり、親会社所有者帰属持分比率は前連結会計年度末に比べ6.2ポイント下落して45.0%となりました。(財務活動によるキャッシュ・フロー)長期借入れによる収入及び株式の発行による収入を主因として、財務活動によるキャッシュ・フロー(インフロー)は3,886億円(前年同期は△388億円のキャッシュ・アウトフロー)となりました。以上の結果、当連結会計年度末における現金及び現金同等物の残高は、前連結会計年度末に比べ791億円増加し、4,083億円となりました。ただし、これらは当社グループに関する全てのリスクを網羅したものではなく、記載された事項以外の予見しがたいリスクも存在します。当社グループは、資本市場における財務情報の国際的な比較可能性の向上とステークホルダーとのコミュニケーションの向上を目的として、2021年3月期から国際財務報告基準(ifrs)を任意適用しております。', 'title': '当社は、グループの業績を継続的に比較・評価することに資する指標として「財務・法人所得税前利益」を表示しています。2021年3月期の同利益は、4月26日の業績予想修正並みの水準で着地しました。2022年3月期の業績予想に関しては、合理的な数値の算出が困難とし、開示を見合わせました。'}, {'body': 'summarize: ソフトバンクグループ。未上場投資先で合計1兆1,930億円の未実現評価益(純額)を計上・svf2:ke holdingsをはじめとする上場投資先の好調な株価推移などにより未実現評価益(純額)4,903億円を計上-持株会社投資事業からの投資利益9,459億円:スプリントとt-mobile us,inc.の合併およびその後のtモバイル株式一部売却に関連して、tモバイル株式売却関連利益4,218億円、引き続き保有するtモバイル株式に係る未実現評価益2,196億円、条件付対価の公正価値上昇に伴うデリバティブ関連利益2,644億円をそれぞれ計上。当期末に保有する全投資先44社のうち、3社が上場済み \\uf077 spac:当第4四半期にsbiaの子会社3社を含む7社の子会社spac(特別買収目的会社)が上場し、当期末現在で累計9社が上場済み。3.4.5兆円プログラムが終了 \\uf077 資産売却または資金化:tモバイル、アリババおよびソフトバンク㈱の株式の一部売却または資金化により、2020年4〜9月の6カ月間で5.6兆円の資産売却・資金化を実現 \\uf077 自己株式取得:合計2兆円の自己株式取得枠を設定済み。取得枠上限まで取得を継続予定 \\uf077 負債削減:国内社債および外貨建て社債の買入れならびにシニアローンおよびコミットメントラインによる借入金の返済により、当期末までに合計1兆円の負債を削減 \\uf077 その他の手取金は上場株式で運用しながら投資機会に備えた資金として保持4.当期の年間配当は1株当たり44円で取締役会決定5.2021年3月1日付でzホールディングス㈱とline㈱が経営統合<4.5兆円の資産の売却または資金化の方針(4.5兆円プログラム)>ソフトバンクグループ㈱は2020年3月23日、自己株式取得と負債削減等を通じた財務改善のために4.5兆円の当社保有資産の売却または資金化に関する方針を発表しました。このうち、保有資産の売却または資金化については、当第2四半期末までに、目標額の4.5兆円を達成して完了しました。2020年4月から9月までの6カ月間における資産の売却または資金化額は5.6兆円にのぼります。一方、最大2兆円の自己株式取得については、2020年5月から7月にかけて計2兆円の自己株式の取得枠を設定済みであり、このうち2021年4月末時点で累計取得額は1兆9,502億円に達しており、取得枠上限まで取得を継続する予定です。また、負債削減については、当期末までに国内社債および外貨建て社債の買入れのほか、シニアローンおよびコミットメントラインによる借入金の返済により合計1兆円の負債を削減しています。(g)条件付対価で株式を取得した場合の所有株式数(e)+(f)53,551,557株 ③ tモバイル株式を活用した借入れ2020年7月30日、ソフトバンクグループ㈱の100%子会社が、保有するtモバイル株式を担保に、43.8億米ドルの借入れ(マージン・ローン)を行いました。本マージン・ローンについては、例外的にソフトバンクグループ㈱が一部保証しているため、当該保証債務の上限枠(資金化時点において20.8億米ドル)を控除した23.0億米ドルを4.5兆円プログラムに基づく資産の資金化額としています。また同時に、前期に締結したアリババ株式を使った株式先渡売買契約(カラー契約)についても決済株価のキャップおよびフロアの設定を見直しています。3.ソフトバンク㈱株式の一部売却2020年5月および9月、ソフトバンクグループ㈱は、ソフトバンクグループジャパン㈱を通じて、保有する子会社ソフトバンク㈱の普通株式3,182,919,470株のうち合計1,268,061,400株を以下の通り売却し、合計1.5兆円を受領しました。なお、これらの売却後もソフトバンク㈱は引き続きソフトバンクグループ㈱の子会社であるため、当該売却における売却益相当額(税金考慮後)は、連結財政状態計算書上、「資本剰余金」として計上されています。これに加え、これらの取引で生じた課税所得について、繰延税金資産を認識していなかった繰越欠損金を使用したことなどにより、法人所得税が利益方向に256,060百万円計上されました。本取引の完了までには最終契約の締結から約18カ月かかると見込んでいます。また、本取引の完了後、sbgcおよびsvf1は合計でnvidiaの発行済み株式(自己株式を除きます。)の約6.7〜8.1%を保有することになると見込んでいます(最終的なアーンアウト(詳細は以下をご参照ください)の金額により変動します。)。受領する株式はクロージング時にfvtplの金融資産として公正価値で計上され、以降は毎四半期末の公正価値の変動が純損益として認識される予定です。同アーンアウトをnvidia株式で受領する場合、当該株式はクロージング時にfvtplの金融資産として公正価値で計上され、以降は毎四半期の公正価値の変動が純損益として認識される予定です。本合併取引時に公正価値1,963億円で計上した後、当期末までに2,644億円の公正価値の上昇を認識したものです(当該上昇はデリバティブ関連利益として「持株会社投資事業からの投資損益」で認識)。なお、引き続き保有するtモバイル株式は毎四半期末に公正価値で測定し、その変動額は連結損益計算書上、「持株会社投資事業からの投資損益」に計上します。2020年6月26日から当期末までの期間に認識したtモバイル株式に係る投資の評価益は2,196億円です。なお、ドイツテレコムの株式購入オプションは毎四半期末に公正価値で測定し、その変動額は連結損益計算書の「持株会社投資事業からの投資損益」にデリバティブ関連損益として計上します。 ③ 連結キャッシュ・フロー計算書への影響投資活動によるキャッシュ・フローtモバイル株式売却の手取金2.1兆円を「投資の売却または償還による収入」に計上<新型コロナウイルス感染拡大の市場および当社事業への主な影響>当期の世界の経済状況は新型コロナウイルスの感染拡大によって大きな影響を受け、その影響は今なお継続しています。これらの要因により、当期、svf1およびsvf2を中心に投資のパフォーマンスは好調に推移し、当社の投資損益合計は7,529,006百万円に達しました。a売上高ソフトバンク事業とアーム事業はいずれも増収となりました。b持株会社投資事業からの投資損益スプリントとt-mobile us,inc.の合併およびその後のtモバイル株式一部売却に関連して、tモバイル株式売却関連利益421,755百万円、引き続き保有するtモバイル株式に係る未実現評価益219,608百万円、条件付対価の公正価値上昇に伴うデリバティブ関連利益264,395百万円をそれぞれ計上した一方、上場株式等への投資で232,856百万円の投資損失を計上しました。なお、前期には、アリババ株式先渡売買契約決済益1,218,527百万円を計上していました。c svf1およびsvf2等からの投資損益svf1が、保有銘柄の一部について、株式の全部(関係投資先株式との株式の交換を含む)または一部を売却したことにより、投資の売却による実現益423,683百万円(純額)を計上しました。また、coupang,inc(.以下「coupang」)やdoordash,inc(.以下「doordash」)、uber technologies,inc.(以下「uber」)などの好調な株価を反映し上場投資先について合計4,285,133百万円の未実現評価益(純額)を計上したほか、未上場投資先について上場の決定や資金調達ラウンドなどによる公正価値上昇を反映し1,193,015百万円の未実現評価益(純額)を計上しました。また、svf2が、ke holdings inc.(以下「ke holdings」)をはじめとする上場投資先の好調な株価推移などを反映し、未実現評価益490,255百万円(純額)を計上しました。主にbおよびcの結果、投資損益合計は7,529,006百万円の利益となりました。d財務費用持株会社投資事業で20,069百万円、ソフトバンク事業で4,167百万円、それぞれの支払利息が増加した一方、svf1等sbiaの運営するファンド事業で支払利息が13,128百万円減少しました。e持分法による投資損益アリババに係る持分法投資利益は572,516百万円3でした。fデリバティブ関連損益(投資損益を除く)2019年11月および2020年4月から8月にかけて締結したアリババ株式の先渡売買契約に係るデリバティブ関連損失504,048百万円を計上しました(2020年10月および11月に行った契約の一部変更による影響を含む)。主にa〜fの結果、税引前利益は前期比5,620,418百万円増加の5,670,456百万円となりました。経営成績の概況<4.5兆円の資産の売却または資金化の方針(4.5兆円プログラム)>3.ソフトバンク㈱株式の一部売却」ご参照)で生じた課税所得について、繰延税金資産を認識していなかった繰越欠損金を使用したことなどにより、法人所得税が利益方向に256,060百万円計上されました。当期末現在、「持株会社投資事業」、「svf1等sbiaの運営するファンド事業」、「ソフトバンク事業」、「アーム事業」の4つを報告セグメントとしています。(a)持株会社投資事業<事業概要>当事業においては、主にソフトバンクグループ㈱が、戦略的投資持株会社として直接または子会社を通じて投資活動を行っています。持株会社投資事業からの投資損益は、ソフトバンクグループ㈱が、直接または子会社を通じて保有する投資からの投資損益により構成されています。fvtplの金融資産に該当する投資は、四半期ごとに公正価値を測定し、その変動額を「投資損益」として連結損益計算書に計上しています。当第1四半期においてはソフトバンクグループ㈱がこうした投資を行っていましたが、当第2四半期からは資産運用子会社であるsb northstarが上場株式等の取得および売却、上場株式に関連するデリバティブ取引および信用取引を行っています。なお、上場株式等への投資の規模は、ソフトバンクグループ㈱の資金需要、手元現金の状況、および保有資産の状況により変動します。これは、①2020年6月26日に保有するtモバイル株式304,606,049株のうち173,564,426株を売却したことに伴う関連会社株式売却益280,341百万円、②tモバイルの持分法適用除外時に引き続き保有する同社株式に係る再測定益296,013百万円、③ドイツテレコムが受領した当社が保有するtモバイル株式101,491,623株を対象とする株式購入オプションに関するデリバティブ関連損失154,491百万円、④2020年7月16日に保有するtモバイル株式5,000,000株、2020年8月3日に同19,750,000株を売却したことに伴う投資の売却による実現損失3,122百万円およびデリバティブ負債の認識の中止に伴うデリバティブ関連利益3,014百万円から成ります。・資産運用子会社からの投資の売却による実現損失20,537百万円、資産運用子会社からの投資の未実現評価利益134,237百万円をそれぞれ計上しました。・資産運用子会社からの投資に係るデリバティブ関連損失610,690百万円を計上しました。・投資の売却による実現利益222,161百万円、投資の未実現評価利益608,448百万円をそれぞれ計上しました。前者については、主にソフトバンクグループ㈱からの上場株式への投資により222,009百万円の実現利益を計上したことによるものです。後者については、2020年6月26日から当期末までの期間に認識したtモバイル株式に係る投資の評価利益219,608百万円を計上したことに加え、公正価値上昇を反映してsocial finance,inc.、lemonade,inc.、berkshire grey inc.4への投資に係る未実現評価益をそれぞれ124,420百万円、72,994百万円、49,462百万円計上したことなどによるものです。そのほかに、ソフトバンクグループ㈱による上場株式への投資により42,288百万円の未実現評価益も計上しました。・投資に係るデリバティブ関連利益185,769百万円を計上しました。b財務費用:218,604百万円(前期比20,069百万円増加)・ソフトバンクグループ㈱の支払利息5が12,406百万円増の210,649百万円となりました。これは主に、2020年4月から8月にかけて資金調達を行う100%子会社がアリババ株式を利用した複数の先渡売買契約を金融機関との間で締結して資金調達を行った結果、有利子負債が増加したことによるものです。c持分法による投資利益:601,364百万円(前期比55,868百万円減少)・アリババに係る持分法投資利益は572,516百万円でした。・2020年4月1日から同年6月25日までの期間におけるtモバイルに係る持分法投資利益24,736百万円を計上しました(前期は計上なし)。dデリバティブ関連損失(投資損益を除く):477,536百万円・2019年11月および2020年4月から8月にかけて締結したアリババ株式の先渡売買契約に関するデリバティブ関連損失504,048百万円を計上しました(2020年10月および11月に行った契約の一部変更による影響を含む)。sb northstarが当該上場株式を外部に売却した際に、当該差額を「投資の(注5)85,350 △85,198 △113,455 46,164 △67,139未実現評価損益」から「投資の売却による実現損益」に振り替えています。当期末現在、これらのwework株式への投資の累計額は108.30億米ドル(2021年4月に完了した総額9.22億米ドルの株式の公開買付けを含まない)です。本合併取引においては、合併により誕生する新会社(以下「合併会社」)のプレマネーの企業価値は総額約90億米ドルと見積もられており、本合併取引完了時に約13億米ドルの資金を調達し(pipe(private investment in public equity;上場企業の私募増資)による出資コミットメント8億米ドルを含む)、成長計画に充てる予定です。本合併取引完了後、当社の合併会社に対する経済的持分比率(完全希薄化後;svf1の持分を含む)は約56%となる見込みです。(1)既存コミットメントの行使価格の引き下げおよび早期支払いmtaに基づき、wework投資用100%子会社が当初2020年4月に払い込みを予定していた15億米ドル分の既存コミットメントについて、行使価格を1株当たり110.00米ドルから11.60米ドルに引き下げた上で、2019年10月30日に全額を払い込みました。この投資の前払い金のうち、2億米ドル分は2019年11月に、残りの13億米ドル分は2020年4月に、それぞれwework優先株式に転換済みです。we holdings llcからの普通株式の買い取りについては、取得額と取得時における公正価値との差額54,277百万円の減損損失を計上しました。本和解契約に基づき2021年3月に開始した公開買付けはフォワード契約のデリバティブとして会計処理し、取得見込みの普通株式および優先株式の評価額と取得予定額との差額76,823百万円を、当期末の連結財政状態計算書上、「デリバティブ金融負債(流動)」に計上しました。また、当期において、取得見込みの普通株式の評価額と取得予定額との差額17,594百万円、取得見込みの優先株式の評価額と取得予定額との差額56,127百万円を、連結損益計算書上、「デリバティブ関連損益(投資損益を除く)」および「持株会社投資事業からの投資損益」にそれぞれ損失として計上しました。当該ワラントについては、当期末現在、取得可能な優先株式136百万株のうち130百万株を取得済です。前期末において、金融保証契約およびローンコミットメントに係る損失評価引当金を、連結財政状態計算書上、「その他の金融負債(流動)」にそれぞれ89,202百万円、145,133百万円計上しています。当期末において、金融保証契約および未使用のローンコミットメントに係る損失評価引当金を、連結財政状態計算書上、「その他の金融負債(流動)」にそれぞれ24,381百万円、10,218百万円計上しています。当期においては同社の信用リスクが改善したことなどにより、損失評価引当金戻入益を計上しています。(b)svf1等sbiaの運営するファンド事業外部投資家持分増減額を控除したセグメント利益は4兆268億円に \\uf077 svf1-投資の売却による実現益(純額)4,242億円guardant health(一部)、osisoft、uber(一部)などの投資を売却-当期末に保有する投資の未実現評価益(純額)5兆5,231億円・上場投資先に係る評価益4兆2,851億円すべての上場投資先で株価が好調に推移。投資額合計67億米ドルに対し、保有投資先公正価値合計112億米ドル \\uf077 その他-当第4四半期にsbia子会社のspac3社が上場(注1)累計投資利益(グロス)は外部投資家持分および税金等の控除前の金額です。当期において、svf1は、既存投資先およびその合弁会社へ合計47億米ドルの追加投資7を行った一方、投資先8銘柄7の全株式および5銘柄の一部株式を、合計48億米ドルの当初取得額に対し合計88億米ドル8で売却しました。セグメント利益a svf1およびsvf2等からの投資利益:6,357,462百万円・svf1-投資先8銘柄7の全株式および5銘柄の一部株式を売却したことにより、投資の売却による実現益424,215百万円を計上しました。このうち、上場投資先について、当期に上場したcoupangおよびdoordash、ならびにuberなどの投資先の株価の好調な推移により、合計40,507百万米ドルの未実現評価益を計上しました。また、非上場株式について、上場が決定した投資先や資金調達ラウンドがあった投資先の公正価値が上昇したことなどにより、合計11,679百万米ドルの未実現評価益を計上しました。これは主に、当期に上場したke holdingsなどの株価の好調な推移を反映し上場株式について合計4,671百万米ドルの未実現評価益を計上したことによるものです。当期において、既存投資先3社の株式をその関係会社株式に交換しました。(c)ソフトバンク事業<業績全般>セグメント利益は、zホールディングス㈱や法人向け事業が好調に推移したことなどにより、前期比32,316百万円(4.0%)増加の847,933百万円となりました。一方、wework japan合同会社における持分法投資の減損損失の計上や、投資損益の悪化などのマイナス影響がありました。なおコンシューマ向け事業は、主に販売手数料が減少したことや、「半額サポート」13に係る契約負債の取り崩しを売上に計上したことがそれぞれ利益に貢献した結果、増益となりました。(d)アーム事業セグメント利益セグメント利益は、前期から22,768百万円悪化し、33,873百万円の損失となりました。(e)その他(単位:百万円)3月31日に終了した1年間2020年2021年増減増減率売上高205,772 238,591 32,819 15.9%セグメント利益(税引前利益) △299,703 92,625 392,328ー減価償却費及び償却費 △46,587 △42,954 3,633 △7.8%投資損益 △59,626 289,241 348,867ー財務費用 △17,018 △16,621 397 △2.3%持分法による投資損益 △30,169 21,578 51,747ーデリバティブ関連損益(投資損益を除く)2,594 △3,972 △6,566ー(注)当期より、アームのisg事業の業績を含めて表示しています。その他のセグメント利益は92,625百万円となりました。ソフトバンク・ラテンアメリカ・ファンドおよびfortress investment group llc(以下「フォートレス」)の税引前利益がそれぞれ188,883百万円、57,107百万円となった一方、paypay㈱の税引前損失が72,650百万円となりました。・ラテンアメリカにおけるファンド事業ソフトバンク・ラテンアメリカ・ファンドの投資先の公正価値が前期末から上昇したことにより投資利益が196,556百万円となり、188,883百万円の税引前利益を計上しました。当期末における同ファンドの保有投資銘柄数は37銘柄、累計投資額は2,605百万米ドル、公正価値は合計4,013百万米ドルとなりました。なお、当第4四半期に、ラテンアメリカにおけるファンド事業子会社がスポンサーとして設立したspac1社がnasdaqに新規上場しました。・フォートレス同社が保有する投資の公正価値が上昇したことにより投資利益が88,411百万円となり、57,107百万円の税引前利益を計上しました。当期において、同社の子会社である5社のspacが新規上場し、そのうち1社は事業会社と合併し連結対象から除外されました。「その他」に含まれるpaypay㈱の業績(単位:百万円)3月31日に終了した1年間2020年2021年増減増減率売上高9,159 29,986 20,827 227.4%税引前損失 △82,217 △72,650 9,567ーソフトバンク・ラテンアメリカ・ファンドの投資先の一覧は、近日中に当社ウェブサイトに掲載予定の「決算データシート」をご参照ください:https://group.softbank/ir/presentations/1.4.5兆円プログラムと主な影響 \\uf077 資産売却および資金化 ➀tモバイル株式の一部売却および資金化(注1)-売却後に引き続き保有する同社株式1兆4,744億円(当期末時点)を投資有価証券に計上-同社株式を担保に43.8億米ドルの借入れ(マージン・ローン)を実施。c資産運用子会社からのsb northstarが当期末に保有する上場株式の公正価値を計上し投資ました。e資産運用子会社におけるsb northstarが当期末に保有する上場株式に係る買建コールオデリバティブ金融資産プションなどの公正価値を計上しました。fその他の金融資産・アリババ株式を活用した先渡契約のうちカラー契約の一部を2021年4月に早期解約するにあたり、当期末において当該契約に係る当該解約手続きに必要な資金361,355百万円を拘束性預金として計上しました。当期末に差入証拠金14,685百万円、拘束性預金111,787百万円を計上しました。k持分法で会計処理アリババの持分法投資利益を計上しました。されている投資l fvtplで会計処理・svf1が、当期末に保有する投資の公正価値の上昇を反映して、されているsvf1未実現評価益5,478,148百万円(純額)を計上しました。およびsvf2から・svf2が、合計47億米ドルの新規および追加の投資を行ったほの投資か、当期末に保有する投資の公正価値の上昇を反映して未実現評価益490,255百万円(純額)を計上しました。m投資有価証券・tモバイル株式の一部売却後に引き続き保有する同社株式1,474,356百万円を計上しました(2020年6月26日の当初認識後、当期末までに同社株式の公正価値が219,608百万円上昇)。・ソフトバンク・ラテンアメリカ・ファンドの投資の帳簿価額が、保有する投資先の公正価値上昇ならびに新規および追加投資により、327,537百万円増加しました(当期末残高:441,008百万円)。・social finance,inc.およびlemonade,inc.への投資の公正価値上昇を反映し、未実現評価益をそれぞれ124,420百万円、72,994百万円計上しました。nデリバティブ金融・スプリントとt-mobile us,inc.の合併取引の対価として受領した、資産一定の条件を満たした場合に当社が無償でtモバイル株式を取得できる権利について、デリバティブ金融資産460,709百万円を計上しました(本合併取引時から当期末までに公正価値が264,396百万円上昇)。・アリババ株式を利用した複数の先渡売買契約に係るデリバティブ金融資産が339,550百万円増加しました。oその他の金融資産・当社子会社がスポンサーとして設立したspac(当期末までに上場し、かつ事業会社との合併が未了のもの)が新規上場により調達した資金について、当期末におけるmoney market fundでの運用残高が含まれています。cその他の流動負債・ソフトバンクグループジャパン㈱からのソフトバンクグループ㈱への配当に係る源泉所得税の支払見込み額245,053百万円を計上しました。前期末からの主な会社別の増減理由ソフトバンクグループ㈱/資金調達を行う100%子会社/sb northstarソフトバンクグループ㈱ ・借入金シニアローン3,924億円(借入額面総額、うち期限前返済※分3,000億円)を返済しました。また、2021年3月にコミットメントラインによる借入金3,100億円を返済※しました。一方、手元資金の拡充を目的に当第4四半期に5,400億円の短期借入れを行いました。一方、リファイナンスを目的に国内ハイブリッド社債1,770億円を新規発行しました。 ※4.5兆円プログラムに基づく負債削減の一環として実行(資金調達を行う100%子会社)スカイウォークファイナンス合同会社・アリババ株式を活用した借入れ(マージン・ローン)として、2020年7月に94.4億米ドルを返済した後、2021年3月に81.3億米ドルを借入れました。sb northstar・上場株式取得を目的とした短期借入金が1,203,925百万円増加しました。ソフトバンク事業ソフトバンク㈱ ・通信設備のセール・アンド・リースバックを通じた資金調達などにより、借入金が増加しました。・取得総額1,000,000百万円を上限とする自己株式取得に関する2020年7月30日の取締役会決議に基づき742,223百万円(80,681千株)取得しました。dその他の包括利益海外を拠点とする子会社・関連会社を円換算する際に生じる在外営業活累計額動体の為替換算差額が、主要な通貨の為替換算レートが円安となったことにより、651,960百万円増加しました。(b)投資活動によるキャッシュ・フロー主な科目別の内容投資の取得による支出・ソフトバンクグループ㈱が、保有資産の多様化と余剰資金△4,186,663百万円の運用を目的に、当第2四半期に資産運用子会社sb northstarが受け継いで活動する前に流動性の高い上場株式を2,705,425百万円で取得しました。・ソフトバンク・ラテンアメリカ・ファンドが合計98,886百万円の新規および追加の投資を行いました。・zホールディングス㈱とline㈱の経営統合の一環として、ソフトバンク㈱がline㈱株式取得のために支出した金額は、純額で175,313百万円です。ただし、line㈱の子会社化前にソフトバンク㈱とline㈱の間で実施した取引は、連結キャッシュ・フロー計算書上、「投資の取得による支出」と「投資の売却または償還による収入」にそれぞれ総額で表示しています。投資の売却または償還による・ソフトバンクグループ㈱が、上記の流動性の高い上場株式収入の一部を売却し675,688百万円を受領しました。3,845,787百万円・ソフトバンクグループ㈱が、子会社を通じて保有するtモバイル株式の一部を売却し2,099,746百万円を受領しました。・上記のline㈱の子会社化前にソフトバンク㈱とline㈱の間で実施した取引として、「投資の売却または償還による収入」には、ソフトバンク㈱がline㈱株式の株式併合を用いたスクイーズアウト手続き等により、line㈱株式を売却して得た収入93,821百万円が含まれています。svf1およびsvf2による投資・svf1が既存投資先およびその合弁会社へ合計41億米ドの取得による支出ルの追加投資を行いました。拘束性預金の預入による支出保有するアリババ株式を利用した複数の先渡売買契約のう△351,343百万円ち、カラー契約の一部の2021年4月の早期解約に先立ち、当該解約手続きに必要な資金33億米ドルを拘束性預金に計上しました。spacにおける信託口座への預当社子会社がスポンサーとして設立したspacが新規上場に入による支出より調達した資金合計33.0億米ドルが信託口座に預託され△350,990百万円ました。(c)財務活動によるキャッシュ・フロー主な科目別の内容短期有利子負債の収支(純額)・sb northstarによる上場株式取得を目的とした短期借入1,575,327百万円(注1)金が1,144,502百万円(純額)増加しました。・ソフトバンク㈱の短期借入金が255,591百万円(純額)増加しました。有利子負債の収入7,965,114百万円借入れによる収入・ソフトバンクグループ㈱が1,040,100百万円の短期借入5,707,162百万円(注2)れを行いました。・スカイウォークファイナンス合同会社が、アリババ株式を活用して81.3億米ドルを借入れました(マージン・ローン)。社債発行による収入・ソフトバンクグループ㈱が国内ハイブリッド社債を597,000百万円1,770億円新規発行しました。社債の償還による支出ソフトバンクグループ㈱が、国内無担保社債合計1,500億△567,630百万円円(額面総額)を満期償還したほか、国内無担保社債1,676億円(額面総額)および外貨建普通社債9.8億米ドルおよび9.0億ユーロ(額面総額、合計2,249億円)を買入れました。非支配持分への子会社持分のソフトバンクグループ㈱が、ソフトバンクグループジャパ一部売却による収入ン㈱を通じて保有するソフトバンク㈱株式の一部を2020年1,552,957百万円5月および9月に売却しました。自己株式の取得による支出ソフトバンクグループ㈱が、2020年3月13日および5月15△2,226,229百万円日、6月25日、7月30日の各取締役会決議に基づき自己株式を取得しました。', 'title': '2021年3月期のsvf(ソフトバンク・ビジョン・ファンド)1およびsvf2などからの投資利益は6兆2,920億円となりました。ガーダントヘルス(一部)やウーバーテクノロジーズ(一部)などの売却による実現益や、クーパンやドアダッシュといった上場投資先の未実現評価益が計上されました。2021年1-3月期もauto1やクーパンなど複数の投資先企業が上場を実現しました。純利益は4兆9,879億円となり、国内企業で過去最大を更新しました。併せて自己株式取得と負債削減のための4.5兆円プログラムの終了も公表しています。'}, {'body': 'summarize: 東海旅客鉄道。しかしながら、新型コロナウイルス感染症の発生を受けた外出及び移動の自粛等の影響により、ビジネス、観光ともにご利用が大幅に減少したことから、当期における全体の輸送実績(輸送人キロ)は、前期比61.2%減の246億1千万人キロとなりました。 ① 運輸業東海道新幹線については、お客様に安心してご利用いただけるよう「のぞみ12本ダイヤ」を活用するなど十分な輸送力を確保しつつ、車内の換気、駅や列車のお客様が手に触れやすい箇所の定期的な消毒及びお客様と接する社員のマスクの着用等、感染拡大防止に取り組むとともに、駅のデジタルサイネージ等でピクトグラムや動画を用いてお客様へわかりやすくご案内しました。しかしながら、新型コロナウイルス感染症の発生を受けた外出及び移動の自粛等の影響により、ビジネス、観光ともにご利用が大幅に減少したことから、当期における輸送実績(輸送人キロ)は、東海道新幹線は前期比66.3%減の181億9千9百万人キロ、在来線は前期比31.9%減の64億1千1百万人キロとなりました。 ② 流通業流通業においては、感染拡大防止に取り組みながら、食料品売場の大規模リニューアルを進めた「ジェイアール名古屋タカシマヤ」と「タカシマヤゲートタワーモール」において、顧客ニーズを捉えた営業施策を展開することで、収益の確保に努めました。 ③ 不動産業不動産業においては、東京駅で「東京ギフトパレット」、有楽町駅・新橋駅間の高架下で「日比谷グルメゾン」を開業したほか、豊橋駅ビル「カルミア」、静岡駅「アスティ静岡西館」でリニューアルを実施するなど、競争力、販売力の強化に取り組みました。 ④ その他ホテル業においては、感染拡大防止に取り組みながら、高品質なサービスの提供に努めました。次期の業績予想については、最近の輸送動向等を踏まえつつ、ワクチンの接種が進むことで感染が次第に収束するに従い、ご利用が回復していくと想定し、以下のとおり算定しました。なお、当業績予想は、今後の新型コロナウイルス感染症の収束状況や経済動向等により、大きく変動する可能性があります。売上高1兆2,340億円(当期比49.8%増)営業利益2,150億円経常利益1,420億円親会社株主に帰属する900億円当期純利益新型コロナウイルス感染症の収束時期等を合理的に予想することは困難ですが、鉄道事業において、ワクチンの接種が進むことで感染が次第に収束するに従い、翌第3四半期連結会計期間にかけて一定水準までご利用が回復していくと仮定し、会計上の見積りを行っています。', 'title': '2021年3月期は、新型コロナウイルス感染拡大を受けた外出及び移動の自粛等の影響で、ビジネス、観光ともに利用が大幅に減少し、当期における全体の輸送実績(輸送人キロ)は、前期比61.2%減となりました。2022年3月期の業績予想については、最近の輸送動向等を踏まえつつ、ワクチンの接種が進むことで感染が次第に収束するに従い、利用が回復していくと想定し、算定されています。'}, {'body': 'summarize: ファナック。当期(2020年4月1日から2021年3月31日まで)における当社グループを取り巻く事業環境は、新型コロナウイルス感染拡大の影響を受け、世界的に設備投資の減少傾向が続くなど、厳しい市場環境となりましたが、中国がいち早く回復したほか、その他の地域も第2四半期頃から緩やかに回復してきました。2020年度における連結業績は、売上高が5,512億87百万円(前期比8.5%増)、経常利益が1,287億44百万円(前期比25.2%増)、親会社株主に帰属する当期純利益が940億12百万円(前期比28.1%増)となりました。[fa部門]fa部門については、cncシステムの主要顧客である工作機械業界の需要は、中国ではいち早く回復し好調に推移しました。これまで需要が低調に推移していた国内や欧州、韓国、台湾でも、中国市場向けをはじめとして機械の輸出需要が少しずつ増えてきました。レーザについては、中国市場および欧州市場で回復基調にありますが、海外メーカとの厳しい競争が継続しています。fa部門の連結売上高は、1,492億40百万円(前期比4.2%増)、全連結売上高に対する構成比は27.1%となりました。[ロボット部門]ロボット部門については、米州では一般産業向けが堅調で、自動車産業向けもev関連の需要を取り込み、売上が増加しました。欧州では、一般産業向けは堅調でしたが、自動車産業向けが設備投資の谷間となり、前年同期に比べて売上が減少したほか、国内では売上が低調に推移しました。ロボット部門の連結売上高は、2,100億24百万円(前期比3.7%増)、全連結売上高に対する構成比は38.1%となりました。[ロボマシン部門]ロボマシン部門については、ロボドリル(小型切削加工機)は、期の後半から中国を中心に、パソコン、タブレット、スマートフォン市場向けの需要が急増したため、売上が増加しました。ロボマシン部門の連結売上高は、1,145億18百万円(前期比52.9%増)、全連結売上高に対する構成比は20.8%となりました。[サービス部門]サービス部門については、第1四半期における世界各地でのロックダウンなどによる影響を受け、お客様の工場の稼働停止や工場の稼働率低下等により、当社サービスへの依頼が減少したものの、その後当社サービスへの依頼は回復しました。サービス部門の連結売上高は、775億5百万円(前期比11.5%減)、全連結売上高に対する構成比は14.0%となりました。資産合計は、前年度末比1,126億92百万円増の1兆6,251億91百万円となりました。負債合計は、前年度末比400億3百万円増の1,896億37百万円となりました。純資産合計は、前年度末比726億89百万円増の1兆4,355億54百万円となりました。(4)今後の見通し今後しばらくの間、fa、ロボット、ロボマシンの各分野において、it関連など様々な分野で旺盛な需要が見込まれることから、2021年度(2022年3月期)の連結業績予想を以下のとおりとします。', 'title': '新型コロナウイルス感染拡大の影響を受け、世界的に設備投資の減少傾向が続くなど、厳しい市場環境となりましたが、中国がいち早く回復したほか、その他の地域も第2四半期頃から緩やかに回復しました。業績の先行指標となる受注高は2021年1-3月期に2,028億円と、前年同期比60%増となりました。また、決算発表後に自己株式取得を発表しました。'}, {'body': 'summarize: シチズン時計。(1)経営成績に関する説明当第1四半期連結累計期間における国内経済は、緊急事態宣言が再発令となるなど新型コロナウイルスの感染拡大の影響の長期化によりインバウンド需要の消失や内需の低迷が続き、緩やかな回復にとどまりました。このような状況のもと、当第1四半期連結累計期間の連結経営成績は、主力事業である時計事業および工作機械事業の回復により、売上高は657億円(前年同期比78.4%増)、営業利益は42億円(前年同期は56億円の営業損失)と増収増益となりました。また、経常利益は50億円(前年同期は49億円の経常損失)、親会社株主に帰属する四半期純利益については43億円(前年同期は67億円の親会社株主に帰属する四半期純損失)と、それぞれ増益となりました。(時計事業)ウオッチ販売のうち、“citizen\"ブランドの国内市場は、インバウンド需要の回復が見込めない中、緊急事態宣言の再発令に伴う店舗休業や時短営業の影響を受け苦戦を強いられましたが、ブランド横断企画商品が好調に推移したほか、「citizen xc」、「citizen attesa」などの主力ブランドも売り上げを牽引しました。海外市場のうち、北米市場は、個人消費の回復が進み、ec販売だけでなくジュエリーチェーンや百貨店などの実店舗販売も大きく売り上げを伸ばし、欧州市場においても国により差はあるものの、営業再開の動きが進んだことから徐々に回復へと向かいました。アジア市場は、中国市場が引き続きec販売を中心に売り上げを伸ばしたほか、経済活動の正常化に伴い実店舗販売も堅調に推移しました。以上の結果、時計事業全体では、依然として新型コロナウイルスの感染拡大の影響が拭えない中、ec販売の強化に向けた取り組みの加速や、流通に適した製品展開を進めた結果、売上高は290億円(前年同期比141.0%増)と、増収となりました。営業利益においては、主に海外市場の売り上げ回復と2020年度に実施した事業構造改革の効果が寄与したことにより、14億円(前年同期は38億円の営業損失)と増益となりました。(工作機械事業)国内市場は半導体関連をはじめ、建機、住宅設備関連など幅広い業種で受注が回復しているものの、自動車向けの回復が緩やかなものとなり、減収となりました。海外市場は、中国市場が通信、自動車関連等を中心に好調に推移し、欧州市場も旺盛な設備投資需要が受注を牽引し、売り上げは大幅に回復しました。以上の結果、工作機械事業全体では売上高は186億円(前年同期比85.2%増)と増収となりました。営業利益においては、好調な市況を受け大きく売り上げが伸長したことにより、26億円(前年同期比618.6%増)と、増益となりました。(デバイス事業)精密加工部品は、自動車部品が世界的な半導体の供給不足により自動車メーカーが減産を強いられるなどの懸念材料を抱えながらも、ブレーキ関連、エンジン関連がともに堅調に推移しました。スイッチは増収となりましたが、顧客の在庫調整の影響を受け受注は減速しています。その他部品は、水晶デバイスが引き続きスマートフォン向けなどの通信機器向けの需要が増加しているほか、小型モーターも医療関連や半導体関連が堅調に推移し、その他の部品全体で増収となりました。以上の結果、デバイス事業全体では売上高は131億円(前年同期比25.7%増)と、増収となりました。営業利益においては、売り上げの回復が寄与し、9億円(前年同期は7億円の営業損失)と増益となりました。(電子機器他事業)情報機器は、フォトプリンターの需要回復に向けた動きは弱い推移となりましたが、posプリンターやバーコードプリンターが、経済活動の再開に伴い米州や欧州市場などで売り上げが回復傾向をたどり、増収となりました。健康機器は、体温計の特需に一服感があるものの売り上げは堅調に推移し、また、健康意識の高まりにより個人使用が増えている血圧計も好調に推移した結果、増収となりました。以上の結果、電子機器他事業全体では、売上高は49億円(前年同期比15.0%増)、営業利益は3億円(前年同期は3億円の営業損失)と、増収増益となりました。当第1四半期連結会計期間末の総資産は、前連結会計年度末に比べ132億円増加し、3,790億円となりました。純資産につきましては、前連結会計年度末に比べ、利益剰余金が25億円、為替換算調整勘定が3億円、その他有価証券評価差額金が2億円増加したこと等により32億円増加し、2,161億円となりました。また、工作機械事業においても、世界的な受注回復を受け大きく売り上げが拡大しました。このような状況のもと、第2四半期(累計)業績予想を見直し、時計事業は売上高を前回予想比10億円増の1,250億円、営業利益を前回予想比15億円増の55億円と上方修正しました。工作機械事業も売上高を前回予想比60億円増の730億円、営業利益を前回予想比13億円増の103億円とそれぞれ上方修正しました。以上のことから、当連結会計年度の業績につきましては、売上高2,680億円(前年同期比29.7%増)、営業利益138億円(前年同期は95億円の営業損失)、経常利益は150億円(前年同期は41億円の営業損失)、親会社株主に帰属する当期純利益は115億円(前年同期は251億円の親会社株主に帰属する当期純損失)を予想しています。', 'title': '高収益のムーブメント(駆動装置)外販を含む時計事業が回復していることに加え、中国や欧州向けの工作機械事業が堅調に推移していることから、2022年3月期通期の業績予想を上方修正しました。また、通期の配当を前回会社予想から4円増配となる18円とすることも発表しました。'}, {'body': 'summarize: 住友金属鉱山。当期の平均為替レートは前期と比べ円高となりました。この結果、当期の銅及びニッケル並びに金価格はいずれも前期を上回りました。このような状況のなか、当期の連結売上高は、電池材料事業での一時的な生産調整による減販などはあったものの、銅及びニッケル並びに金価格が前期を上回ったことなどにより、前期に比べ741億76百万円増加し、9,261億22百万円となりました。また、前期にも本会計方針の変更を遡及適用し、売上高を表示しております。連結税引前当期利益は、増収及び持分法による投資損益が好転したことなどにより、前期に比べ443億44百万円増加し、1,233億79百万円となりました。親会社の所有者に帰属する当期利益は、連結税引前当期利益が増加したことなどにより、前期に比べ340億4百万円増加し、946億4百万円となりました。 ②報告セグメントの状況(a)資源セグメント(単位:百万円)セグメント利益は、新型コロナウイルス感染症拡大の影響による販売量の減少及び、ケブラダ・ブランカ銅鉱山(チリ)における建設中断期間の費用計上などによる悪化があったものの、金及び銅価格の上昇などにより前期を上回りました。(うち非支配持分を除く当社持分は31.5%)(b)製錬セグメント(単位:百万円)(当社の主な製品別生産量)(注)生産量には、受委託分を含めて表示しております。(c)材料セグメント(単位:百万円)セグメント利益は、電池材料等では一時的な生産調整により販売量が減少しましたが、粉体材料等において前期と比較し販売量が増加したことなどにより、前期を上回りました。連結財政状態計算書(単位:百万円)当期末の資産合計は前期末に比べて増加しました。非鉄価格については、経済環境の好転期待や余剰となった資金がコモディティ市場にも流入していることから高値で推移しておりますが、需給環境からは乖離した水準と見られ急落するリスクも想定されます。このような環境の中で非鉄金属の需給は、銅・ニッケルともにほぼ均衡または若干の供給余剰と見込まれており、次期の価格については銅7,800$/t(当期6,879$/t)、ニッケル7.00$/lb(当期6.80$/lb)と予想しています。次期の連結業績予想につきましては、主要な非鉄金属価格は足元の水準を考慮の上で将来の需給バランスを予測して設定し、主要製品の生産量及び販売量は足元の実績を踏まえて計画いたしました。その結果、連結売上高は1兆470億円、連結税引前当期利益は1,380億円、当期利益は1,140億円、親会社の所有者に帰属する当期利益は1,040億円となる見込みです。また、従来の方法によった場合と比較して、当連結会計年度の外部売上高が22,060百万円減少しておりますが、セグメント利益に影響はありません。', 'title': '2021年3月期は、電池材料事業での一時的な生産調整による減販などはあったものの、銅・ニッケル・金価格が前期を上回ったことで増収増益となりました。2022年3月期については、市場予想を下回る税引前利益の見通しを示しましたが、高値で推移する非鉄価格が需給環境から乖離した水準にあるリスクも想定したうえで、需給バランスを予測して計画したとしています。前期比で、金価格は下落、銅・ニッケル価格は上昇を想定しています。'}, {'body': 'summarize: nttデータ。当連結会計年度の経済及び情報サービス産業における経営環境は以下のとおりです。国内及び海外の経済は、当連結会計年度を通じた新型コロナウイルス感染症の世界的大流行の影響により、依然として厳しい状況にある中、下期以降は持ち直しの動きが続いています。国内の情報サービス産業においては、新型コロナウイルス感染症の世界的大流行の影響により、一部のお客様企業におけるit投資抑制がみられ、今年度のit市場はマイナス成長となりました。2020年度は、dsoの取り組みの中で開発した保険業向けプラットフォームにより北米で大型案件を獲得するなど、これまで15件のグローバルデジタルオファリングがサービス提供段階となりました。2020年度において、国内では、官公庁や金融機関、法人のお客様における基幹システム等、複数の大型案件受注に加え、blockchain技術を活用した貿易プラットフォーム「tradewaltz」や、地域通貨のデジタル化に向けたキャッシュレスサービス、次世代グローバルecサービスの提供等、デジタル関連案件の拡大に繋がりました。このように2020年度は、新型コロナウイルス感染症の発生により、経済、企業活動へのダメージという逆風が吹く厳しい環境下でも、国内を中心にレジリエンスを発揮することができました。当期における業績につきましては、新型コロナウイルス感染症拡大に伴うマイナス影響はあったものの、売上高は32期連続増収を達成、営業利益は増益を確保しました。受注高は国内事業を中心とした更改案件の獲得による増加はあるものの、前期に獲得した大型案件の反動減等により減少しました。売上高は、国内事業を中心とした規模拡大等により増収となりました。営業利益は、事業構造改革費用等の増加はあるものの、不採算案件の抑制及び増収等により増益となりました。[公共・社会基盤]政府・インフラ企業の基幹業務のシステム更改を確実に獲得しつつ、これまでの当社グループの実績や培ってきたノウハウを活用した案件創出、society 5.0に基づく成長戦略やデジタル・ガバメント実行計画に沿った官民融合の新たな社会システム実現に向けた新規ビジネス等により事業拡大をめざしました。当期の公共・社会基盤セグメントの業績は以下のとおりです。・売上高は、中央府省及びテレコム向けサービスの規模拡大等により、5,405億円(前期比8.1%増)となりました。・営業利益は、増収及び不採算案件の抑制等により、678億円(前期比28.5%増)となりました。当期の金融セグメントの業績は以下のとおりです。・売上高は、金融機関向けサービスの規模拡大等により、6,076億円(前期比4.7%増)となりました。・営業利益は、不採算案件の抑制等により、567億円(前期比12.6%増)となりました。当期の法人・ソリューションセグメントの業績は以下のとおりです。・売上高は、製造業を中心とした新型コロナウイルス感染症拡大影響等はあるものの、流通・サービス業向けサービスの規模拡大等により、5,909億円(前期比0.4%増)となりました。・営業利益は、新型コロナウイルス感染症拡大影響による売上高販管費率の悪化等により、523億円(前期比2.3%減)となりました。当期の北米セグメントの業績は以下のとおりです。・売上高は、新型コロナウイルス感染症拡大影響及び為替影響等による減収はあるものの、m&aによる規模拡大等により、4,294億円(前期比0.8%増)となりました。・営業利益は、将来に向けた事業構造改革の実施に伴う費用増及び新型コロナウイルス感染症拡大影響等により、△162億円(前期比-%)となりました。当期のemea・中南米分野の業績は以下のとおりです。・売上高は、イタリア等での堅実な売り上げ確保はあるものの、新型コロナウイルス感染症拡大影響等により、4,542億円(前期比0.3%減)となりました。・営業利益は、新型コロナウイルス感染症拡大影響等による減益はあるものの、事業構造改革の効果及び費用減等により、△61億円(前期比57.8%増)となりました。また、財務活動によるキャッシュ・フローについては、有利子負債の返済による支出や配当金支払の実施等により、1,016億円の支出(前期比355億円の支出増加)となりました。(4)次期の見通し[2021年度業績見通し]新型コロナウイルス感染症拡大の影響により、お客様企業におけるit投資抑制がみられる一方、新たな社会の実現に向けたデジタルトランスフォーメーションの取り組みが加速するなど当社を取り巻く事業環境は大きく変化しています。また、今中期経営計画の完遂に向けては重要経営課題である「不採算案件の抑止」に引き続き取り組み、加えて「海外事業の収益性改善」へ対処することが必須であり、重点的に取り組んでいきます。上記を踏まえ、次期の業績については、売上高を2兆3,600億円、営業利益を1,800億円と予想しています。[公共・社会基盤]it基本法の見直しやデジタル庁設置などを契機としたデジタル社会実現への加速を踏まえ、政府・インフラ企業の基幹業務のシステム更改を確実に獲得しつつ、society 5.0に基づく成長戦略やデジタル・ガバメント実行計画に沿った新たな社会システム実現に向けた利用者目線での新規ビジネス創出等により事業拡大をめざします。売上高は5,590億円(外部顧客への売上高4,740億円)、営業利益は680億円をそれぞれ予想しています。[金融]規制緩和や技術革新による金融機関の事業環境の大きな変化に加え、新型コロナウィルス感染症の影響に伴い価値観や生活様式も大きく変化しキャッシュレス・ペーパレスなどのデジタルシフトが加速しています。売上高は6,200億円(外部顧客への売上高5,380億円)、営業利益は590億円をそれぞれ予想しています。[法人・ソリューション]ウィズコロナ社会で加速するデジタル化の波を捉えるとともに、需要回復の機会も着実に捉えることにより、日本を代表する企業と共に先進デジタル領域での取組みを加速し事業成長に貢献することで、更なるビジネス拡大をめざします。売上高は5,980億円(外部顧客への売上高4,450億円)、営業利益は540億円をそれぞれ予想しています。[北米]ウィズコロナ社会における新たなニーズの拡大等、市場環境が継続して変化する中、昨年度実行した事業構造改革の成果を通じたデジタルとコンサルティング領域の更なる強化を図り、既存の強みを掛け合わせることで、お客様のデジタルトランスフォーメーションをサポートしていきます。売上高は3,950億円(外部顧客への売上高3,910億円)、営業利益は150億円をそれぞれ予想しています。[emea・中南米]ウィズコロナ社会における新たなニーズの拡大等、市場環境が大きく変化する中、デジタル人財・デジタルアセットの強化によるデジタルビジネスの拡大を図るとともに、グローバルブランドの統一・事業会社の一体運営を早期に実現し、お客様のデジタルトランスフォーメーションへのニーズに的確に対応していきます。また、次期の設備投資については、1,750億円を予想しています。', 'title': '2021年3月期は、主力の公共・社会基盤セグメントや金融セグメントが堅調で増収増益を確保しました。海外事業では、事業構造改革によりemea・中南米分野の赤字幅が縮小しました。2022年3月期は、不採算案件の抑止や海外事業の収益性改善に重点に取り組むとしており、大幅な営業増益を見込んでいます。'}, {'body': 'summarize: 森永製菓。当第1四半期連結累計期間の売上高は、全体では445億6千3百万円と前年同期実績に比べ43億2千9百万円(10.8%)の増収となりました。損益は、売上高の増収により、営業利益は前年同期実績に比べ9億4千1百万円(17.7%)増益の62億5千5百万円、経常利益も前年同期実績に比べ10億2千8百万円(18.0%)増益の67億3千6百万円となりました。親会社株主に帰属する四半期純利益は前年同期実績に比べ8億1千7百万円(20.4%)増益の48億3千万円となりました。<食料品製造事業>菓子食品部門国内主力ブランドでは、「森永ビスケット」が定番品に加え、季節限定品も好調に推移し、前年同期実績を大きく上回りました。「ハイチュウ」「チョコボール」は前年の大幅な売上減少の反動もあり前年同期実績を上回りました。「ダース」「カレ・ド・ショコラ」「森永甘酒」「森永ココア」は前年同期実績を下回りましたが、主力ブランド全体では前年同期実績を上回りました。その他のブランドでは、「森永ホットケーキミックス」は巣ごもり需要が落ち着いたこともあり前年同期実績を下回りましたが、国内全体では前年同期実績を上回りました。台湾では今年発売30周年を迎えた「ミルクキャラメル」が好調に推移したこともあり、海外全体では前年同期実績を大きく上回りました。これらの結果、菓子食品部門全体の売上高は211億1千5百万円と前年同期実績に比べ10億2千3百万円(5.1%)増となりました。損益は、海外が好調に推移したことで、営業利益は前年同期実績に比べ1億7千万円(10.1%)増益の18億5千万円となりました。冷菓部門主力ブランドの「ジャンボ」グループ、「アイスボックス」は、積極的なプロモーションを展開しましたが前年の大幅な売上拡大の反動もあり苦戦しました。その他のブランドでは、コンテンツとのコラボレーションを展開した効果もあり「板チョコアイス」「パキシエル」が好調に推移しました。これらの結果、冷菓部門全体の売上高は118億6百万円と前年同期実績に比べ2百万円(0.0%)増となりました。損益は、原価改善、販売費及び一般管理費の抑制等、コスト削減に取り組んでまいりましたが、営業利益は前年同期実績に比べ3億8千7百万円(15.0%)減益の21億8千9百万円となりました。2健康部門主力ブランドの「inゼリー」は、前年の大幅な売上減少の反動に加え、自宅トレーニングにおける栄養補給といった飲用シーンの提案、フルーツ食感などの新たなニーズに対応した新商品の展開もあり、前年同期実績を大きく上回りました。「inバー」は、手軽なタンパク質の摂取ニーズを訴求するとともに、在宅ワークにおける間食需要も取り込んだことで前年同期実績を大きく上回りました。通販事業は、積極的なプロモーションの展開によって「おいしいコラーゲンドリンク」が好調に推移し、通販事業全体としても前年同期実績を大きく上回りました。これらの結果、健康部門全体の売上高は97億2千3百万円と前年同期実績に比べ29億4千8百万円(43.5%)増となりました。損益は、主要なブランドが好調に推移したことにより、営業利益は前年同期実績に比べ11億4千9百万円(119.5%)増益の21億1千万円となりました。[主な商品の前年同期比(単位:%)] ※表内の数値は国内販売実績にて算出これらの結果、<食料品製造事業>の売上高は426億4千6百万円と前年同期実績に比べ10.3%増となりました。セグメント利益は61億5千万円と前年同期実績に比べ9億3千1百万円の増益となりました。<食料卸売事業>売上高は、12億7千5百万円と前年同期実績に比べ25.9%増となりました。セグメント利益は3千7百万円と前年同期実績に比べ4千7百万円の増益となりました。<不動産及びサービス事業>売上高は、5億円と前年同期実績に比べ19.7%増となりました。セグメント利益は2億4千7百万円と前年同期実績に比べ8千1百万円の増益となりました。<その他>売上高1億4千1百万円、セグメント利益2千7百万円であります。3(2)財政状態に関する説明当第1四半期連結会計期間末における総資産の残高は2,071億9千6百万円となり、前連結会計年度末に比べ42億8千6百万円増加しております。負債の残高は822億5千9百万円となり、前連結会計年度末に比べ30億5千6百万円増加しております。純資産の残高は1,249億3千7百万円となり、前連結会計年度末に比べ12億3千1百万円増加しております。以上の結果、自己資本比率は前連結会計年度末より0.7ポイント減少し、59.8%となりました。', 'title': '食料品製造事業の健康部門がけん引役となりました。特に、主力ブランドの「inゼリー」が、前年の売上減少の反動に加え、自宅トレーニングにおける栄養補給といった飲用シーンの提案、フルーツ食感などの新たなニーズに対応した新商品の展開もあり、前年同期実績を大きく上回りました。'}, {'body': 'summarize: 日本製鉄。○昨年度断行した抜本的コスト改善(損益分岐点の大幅な引下げ)、一貫能力絞り込みによる注文選択の効果、海外gr会社の収益力の向上等により、v字回復を実現。', 'title': '4-6月の事業利益実績は前年同期から黒字転換しました。コスト改善に加え、生産・出荷能⼒の絞り込みによる注文選択の効果や、海外子会社の収益⼒の向上などにより、業績が大幅に改善しました。堅調な事業環境を受けて、会社は通期の事業利益見通しを大幅に上方修正しています。第2四半期の剰余金の配当についても、従来は未定としていましたが、1株につき55円の予定としました。'}, {'body': 'summarize: ミネベアミツミ。(1)経営成績に関する説明当第1四半期連結累計期間(自2021年4月1日至2021年6月30日)のわが国の経済は、新型コロナウイルス感染再拡大により国内消費の低迷は続いたものの、世界的な半導体不足や原材料価格高騰の影響のある中、欧米や中国向けの輸出の回復を背景に緩やかに回復しました。当社グループは、かかる経営環境下で、収益力のさらなる向上を実現するために、徹底したコスト削減、高付加価値製品と新技術の開発及び拡販活動に注力してまいりました。この結果、売上高は248,305百万円と前年同期比60,842百万円(32.5%)の増収となりました。機械加工品事業は、当社グループの主力であるボールベアリングのほかに、主として航空機に使用されるロッドエンドベアリング、ハードディスク駆動装置(hdd)用ピボットアッセンブリー等のメカニカルパーツ及び航空機用のねじが主な製品であります。主力製品であるボールベアリングは、自動車向けにおいて需要が堅調に推移したことにより売上高は増加しました。ロッドエンドベアリングは、航空機関連の需要減により売上高は減少しました。この結果、当第1四半期連結累計期間の売上高は44,090百万円と前年同期比8,583百万円(24.2%)の増収となり、営業利益は10,918百万円と前年同期比3,764百万円(52.6%)の増益となりました。電子機器事業は、電子デバイス(液晶用バックライト等のエレクトロデバイス、センシングデバイス(計測機器)等)、hdd用スピンドルモーター、ステッピングモーター、dcモーター、エアームーバー及び特殊機器が主な製品であります。液晶用バックライトのスマートフォンにおける採用モデルの減少に伴う需要減はありましたが、車載モーターの需要増により、売上高は増加となりました。この結果、当第1四半期連結累計期間の売上高は90,435百万円と前年同期比13,678百万円(17.8%)の増収となり、営業利益は7,886百万円と前年同期比5,564百万円(239.6%)の増益となりました。ミツミ事業は、半導体デバイス、光デバイス、機構部品、電源部品及びスマート製品が主な製品であります。半導体デバイス、カメラ用アクチュエータは堅調に推移し、また世界的な外出抑制によるゲーム機器等の需要増を受けて機構部品の販売が好調に推移したことにより、売上高は増加しました。この結果、当第1四半期連結累計期間の売上高は76,753百万円と前年同期比20,686百万円(36.9%)の増収となり、営業利益は5,085百万円と前年同期比5,159百万円の改善となりました。ユーシン事業は、キーセット、ドアラッチ、ドアハンドル等の自動車部品のほかに、産業機器用部品が主な製品であります。自動車部品は自動車市場の回復により需要が堅調に推移し、産業機器用部品も農機、建機向けで需要が好調に推移したことにより、売上高は増加しました。この結果、当第1四半期連結累計期間の売上高は36,869百万円と前年同期比17,805百万円(93.4%)の増収となり、営業損失は83百万円と前年同期比2,733百万円の改善となりました。その他の事業は、自社製機械が主な製品であります。当第1四半期連結累計期間の売上高は158百万円と前年同期比90百万円(131.1%)の増収、営業損失は549百万円と前年同期比122百万円の悪化となりました。 ② 資産、負債及び資本の状況当第1四半期連結会計期間末における総資産は1,005,486百万円となり、前連結会計年度末に比べ28,715百万円の増加となりました。当第1四半期連結会計期間末における負債は550,905百万円となり、前連結会計年度末に比べ28,132百万円の増加となりました。 ③ キャッシュ・フローの状況当第1四半期連結会計期間末における現金及び現金同等物の残高は159,282百万円となり、前連結会計年度末に比べ6,197百万円減少しました。営業活動によるキャッシュ・フローは、12,317百万円の収入(前年同期は3,537百万円の収入)となりました。投資活動によるキャッシュ・フローは、10,731百万円の支出(前年同期は34,108百万円の支出)となりました。財務活動によるキャッシュ・フローは、7,847百万円の支出(前年同期は35,962百万円の収入)となりました。連結業績予想につきましては、当第1四半期の実績が当初の見込みを上回ったことに加え、第2四半期以降も引き続きボールベアリング、モーター、半導体等の堅調な需要が見込まれることから、2021年5月7日の決算短信で公表いたしました業績予想を売上高について、1兆円から1兆500億円に、営業利益について、800億円から870億円に、親会社の所有者に帰属する当期利益については640億円から680億円にそれぞれ上方修正いたしました。当期の中間配当金、期末配当金に関しましては、連結配当性向20%程度を目処に決定する予定です。これにより、従来の方法に比べて、当第1四半期連結累計期間の営業利益、税金等調整前四半期純利益がそれぞれ1,639百万円増加しております。これにより、従来の方法に比べて、当第1四半期連結累計期間のセグメント利益が、「機械加工品事業」で549百万円、「電子機器事業」で511百万円、「ミツミ事業」で579百万円それぞれ増加しております。', 'title': '機械加工品事業では主力製品のボールベアリングが、自動車向けで需要が堅調に推移しました。電子機器事業では、車載モーターの需要が増加しました。ミツミ事業では、半導体デバイスやカメラ部品、ゲーム機器向けに需要が増加した機構部品の販売が好調に推移しました。堅調な事業環境を受け、会社は通期見通しを上方修正しました。合わせて、上限300万株(発行済株式総数(自己株式を除く)に対する割合0.74%)の自社株買いも発表しました。'}, {'body': 'summarize: アドバンテスト。当社の主力事業である半導体試験装置事業においては、コロナ禍の中でもリモートワークの普及や巣ごもり消費が拡大したことで、データセンターやゲーム機器関連の需要が年間を通じて堅調に推移しました。自動車や産業機器関連では、コロナウイルス封じ込めのための都市封鎖や人的移動制限の影響下、春先から需要停滞が続きましたが、最終製品の生産回復を受け、下期より市況が改善しました。スマートフォン関連領域では、米中摩擦が先鋭化したことで試験装置需要の大幅な調整に遭遇しましたが、その影響を補うべく、端末性能の競争を背景に生じた新規試験装置需要の取り込みに努めました。また半導体の性能進化や信頼性保証ニーズが一段と進展する中、メカトロニクス事業製品やシステムレベルテスト事業製品など、統合的なテスト・ソリューション販売の推進にも取り組みました。<半導体・部品テストシステム事業部門>(単位:億円)当部門では、リモートワークの拡大等を背景にhpc(ハイ・パフォーマンス・コンピューティング)用soc半導体向けで堅調な需要環境が続きました。またスマートフォンの高性能化を背景にディスプレイドライバーicやイメージセンサーの高機能化が促進されたことで、これら品種の試験需要が大きく伸び、受注高の増加に寄与しました。年度末にかけて車載用半導体等で在庫確保の動きが強まったことも、soc半導体用試験装置の受注高を押し上げました。一方、米中摩擦先鋭化に伴い、スマートフォン関連の一部soc半導体顧客において昨夏を中心に大幅な需要調整が発生し、当部門の収益悪化の一因となりました。メモリ半導体用試験装置は、データサーバーやゲーム機器用のメモリ半導体の試験需要の伸びを背景に高水準で推移しました。<メカトロニクス関連事業部門>(単位:億円)当部門では、メモリ半導体用試験装置の需要が伸長する中、同装置と事業関連性の高いデバイス・インタフェース製品の販売が伸びました。<サービス他部門>(単位:億円)当部門では、半導体市場の好調を背景として、当社に対するサービス需要が堅調に推移しました。また当社は2020年1月に米essai社を買収していますが、同社の連結効果に加え、同社製品を含めた各種システムレベルテスト機器需要が半導体の高性能化や信頼性強化を背景に好調に推移したことで、大幅な増収を達成しました。当事業年度は、米中摩擦の先鋭化に伴い、スマートフォン関連の半導体試験装置需要調整があった一方、データサーバーやゲーム機器用の半導体試験需要の伸びにより高水準な需要が通年継続しました。(4)今後の見通し2021年度の事業環境を展望しますと、soc半導体用試験装置事業では、先端半導体への活発な技術投資を背景に、スマートフォンやhpc用先端soc半導体に対する試験需要の拡大を予想しています。一方、メモリ半導体においては、堅調な需要に加え、微細化や多層化などの技術投資が2021年も進展する見通しです。これらが、メモリ半導体の試験需要を牽引することからメモリ半導体用試験装置事業も堅調に推移するものと想定しています。2021年度の通期連結業績予想については、各事業の今後の見通し、為替の状況などを踏まえ、受注高3,500億円、売上高3,500億円、営業利益850億円、税引前利益850億円、当期利益640億円を予想しています。当社はこれまで、半導体のウエハ・レベル試験やパッケージ・レベル試験といった既存事業の強化のみならず、システム/モジュール・レベルでのテスト・ソリューション分野への参入や、半導体のテストデータを半導体プロセス解析などに活用するデータ・アナリティクス分野への展開を進めてきました。', 'title': '主力の半導体試験検査装置の販売については、テレワークの普及や巣ごもり消費拡大により、データセンターやゲーム機器向けの半導体需要が堅調であり、好調に推移しました。地域別では米州向けが前年比62%増と伸長しました。2022年3月期についても、スマートフォン向けや自動車向け等の半導体各分野で需要が拡大するとの見通しを示しました。'}, {'body': 'summarize: ソフトバンク。当第1四半期連結累計期間においては、新料金プランを巡る競合他社との競争が激化する中、特に「y!mobile」ブランドが好調に推移し、当第1四半期連結会計期間末のスマートフォン契約数は、前期末比で25万件増加しました。ブロードバンドサービスにおいても家庭向け高速インターネット接続サービスである「softbank光」の契約数が順調に伸びており、この「softbank光」契約数は前期末比で11万件増加しました。当第1四半期連結累計期間における決済回数は前年同期比の約1.8倍となる7.9億回を超え、決済取扱高は前年同期比の約1.7倍となる1.2兆円となり、いずれも順調に増加しました。(a)売上高当第1四半期連結累計期間の売上高は、2018年度、2019年度、2020年度に引き続き、全セグメントで増収となり、前年同期比1,839億円(15.7%)増の13,566億円となりました。ヤフー・line事業はline㈱の子会社化に伴う増加などにより995億円、コンシューマ事業は物販等売上の増加により677億円、法人事業はデジタル化に伴うソリューション需要の増加などにより90億円、流通事業はサブスクリプションサービスの堅調な増加などにより72億円、それぞれ増収となりました。(b)営業利益当第1四半期連結累計期間の営業利益は、前年同期比32億円(1.1%)増の2,831億円となりました。コンシューマ事業では49億円の減益となりましたが、前年同期比23%増益した法人事業を中心に増益を確保し、法人事業では72億円、ヤフー・line事業では8億円、流通事業では6億円の増益となりました。(c)純利益当第1四半期連結累計期間の純利益は、前年同期比13億円(0.8%)増の1,694億円となりました。これは、営業利益が増加したことに加えて、保有する投資有価証券の評価益の計上などにより金融収益が79億円増加した一方で、法人所得税が138億円増加したことによるものです。(d)親会社の所有者に帰属する純利益当第1四半期連結累計期間の親会社の所有者に帰属する純利益は、前年同期比12億円(0.8%)減の1,510億円となりました。一方、当第1四半期連結累計期間の非支配持分に帰属する純利益は、主としてzホールディングス㈱とline㈱との経営統合に伴うzホールディングス㈱の議決権所有割合の低下の影響により、前年同期比25億円(15.4%)増の184億円となりました。(e)調整後ebitda当第1四半期連結累計期間の調整後ebitdaは、前年同期比162億円(3.6%)増の4,700億円となりました。(a)コンシューマ事業<事業概要>コンシューマ事業では、主として国内の個人のお客さまに対し、モバイルサービス、ブロードバンドサービスおよび電力サービスを提供しています。そのうち、サービス売上は前年同期比64億円(1.2%)増加し5,345億円となり、物販等売上は前年同期比613億円(63.0%)増加し1,587億円となりました。サービス売上のうち、モバイルは前年同期比38億円(0.9%)減少しました。スマートフォン契約数が「y!mobile」ブランドを中心に伸び、半額サポートに係る改善があった一方で、「softbank」ブランドから「y!mobile」ブランド・「linemo」ブランドへの移行が増加したことや、「softbank」ブランド・「y!mobile」ブランドにおける新料金プラン導入の影響により平均単価が減少したことから、結果としてモバイル売上は減収となりました。ブロードバンドは前年同期比43億円(4.5%)増加しました。また、でんきは、前年同期比59億円(31.3%)増加しました。物販等売上の増加は、主として、前年同期において新型コロナウイルス感染症拡大の影響により落ち込んでいた端末販売が回復し、端末の販売台数および単価が増加したことによるものです。営業費用(売上原価と販売費及び一般管理費)およびその他の営業損益(その他の営業収益とその他の営業費用)の合計は5,087億円となり、前年同期比で726億円(16.6%)増加しました。上記の結果、セグメント利益は、前年同期比49億円(2.6%)減の1,845億円となりました。(b)法人事業<事業概要>法人事業では、法人のお客さまに対し、モバイル回線提供や携帯端末レンタルなどのモバイルサービス、固定電話やデータ通信などの固定通信サービス、データセンター、クラウド、セキュリティ、グローバル、ai、iot、デジタルマーケティング等のソリューション等サービスなど、多様な法人向けソリューションを提供しています。モバイル売上の増加は、主として、テレワークなどによる需要の高まりに伴いスマートフォン契約数が増加したことによるものです。ソリューション等売上の増加は、新型コロナウイルス感染症拡大を契機とした企業のデジタル化需要をとらえ、クラウドサービスやセキュリティソリューションの売上が増加したことなどによるものです。営業費用(売上原価と販売費及び一般管理費)およびその他の営業損益(その他の営業収益とその他の営業費用)の合計は1,330億円となり、前年同期比で17億円(1.3%)増加しました。上記の結果、セグメント利益は、前年同期比72億円(23.2%)増の385億円となりました。(c)流通事業<事業概要>流通事業は、変化する市場環境を迅速にとらえた最先端のプロダクトやサービスを提供しています。<業績全般>(単位:億円)6月30日に終了した3カ月間2020年2021年増減増減率売上高1,099 1,171 72 6.6%セグメント利益55 61 6 11.5%減価償却費及び償却費9 9 0 4.3%流通事業の売上高は、前年同期比72億円(6.6%)増の1,171億円となりました。営業費用(売上原価と販売費及び一般管理費)およびその他の営業損益(その他の営業収益とその他の営業費用)の合計は1,110億円となり、前年同期比で66億円(6.3%)増加しました。上記の結果、セグメント利益は、前年同期比6億円(11.5%)増の61億円となりました。(d)ヤフー・line事業<事業概要>ヤフー・line事業は、メディア、コマース、決済金融を中心としたサービスを展開し、オンラインからオフラインまで一気通貫でサービスを提供しています。ヤフー・line事業の売上高は、前年同期比995億円(36.3%)増の3,734億円となりました。メディア売上の増加は、主として、line㈱を子会社化したことに加え、広告の需要回復、プロダクト改善施策等によるものです。コマース売上の増加は、主として、line㈱を子会社化したことに加え、㈱zozoやアスクルグループの売上が増加したことによるものです。戦略売上の増加は、主として、line㈱を子会社化したことに加え、fintech(注)領域の売上が増加したことによるものです。営業費用(売上原価と販売費及び一般管理費)およびその他の営業損益(その他の営業収益とその他の営業費用)の合計は3,220億円となり、前年同期比で987億円(44.2%)増加しました。上記の結果、セグメント利益は前年同期比8億円(1.5%)増の514億円となりました。(負債)当第1四半期連結会計期間末の負債合計は、前連結会計年度末から1,792億円(1.9%)増加し、96,552億円となりました。有利子負債の増加は、主として、債権流動化による資金調達や当社の無担保社債1,000億円を発行したことによるものです。(資本)当第1四半期連結会計期間末の資本合計は、前連結会計年度末から698億円(2.5%)減少し、26,809億円となりました。これは主として、当第1四半期連結累計期間の純利益の計上による増加1,694億円、剰余金の配当による減少2,212億円があったことによるものです。前年同期比では650億円収入が減少しており、これは主として、法人所得税の支出が減少した一方で、営業債務及びその他の営業債務の支払いに伴う支出の増加や、銀行事業における預金に係る収入の減少などがあったことによるものです。b.投資活動によるキャッシュ・フロー当第1四半期連結累計期間の投資活動によるキャッシュ・フローは、2,935億円の支出となりました。前年同期比では1,393億円支出が増加しましたが、これは主として、line㈱(現aホールディングス㈱)株式の併合による単元未満株式買い取りに伴う投資の取得による支出があったことによるものです。a.〜c.の結果、当第1四半期連結会計期間末における現金及び現金同等物の残高は、前年同期比2,547億円増の17,241億円となりました。e.調整後フリー・キャッシュ・フロー当第1四半期連結累計期間の調整後フリー・キャッシュ・フローは、314億円の支出となりました。前年同期比では2,105億円減少しましたが、これは上記の通り、営業活動によるキャッシュ・フローの収入の減少および投資活動によるキャッシュ・フローの支出の増加によるものです。f.設備投資当第1四半期連結累計期間の設備投資(検収ベース、zホールディングスグループ含む)は、前年同期比390億円増の1,326億円となりました。通期の連結損益状況については、売上高5兆5,000億円、営業利益9,750億円、親会社の所有者に帰属する純利益5,000億円を予想しており、2021年5月11日に2021年3月期決算短信で開示した連結業績予想から変更していません。', 'title': '低価格ブランドや低価格プランへの移行によりコンシューマ事業は49億円の減益となりました。一方、テレワークの導入拡大によりスマホの契約数が伸びた法人事業は、72億円(前年同期比+23.2%)増益と全体をけん引しました。ヤフー・line事業では8億円、流通事業では6億円の増益となりました。'}, {'body': 'summarize: ブリヂストン。しかしながら、昨年後半より世界各国で感染対策と経済活動の両立が進められ、今年に入ってからは、covid-19に対するワクチン接種進展等により、一段と世界経済の持ち直しの動きが加速したことから、2021年前半のグローバルのタイヤ需要は、当社グループの想定を上回るペースでの大きな回復が見られました。特にトラック・バス用タイヤや建設用タイヤについては、堅調な建設需要/運送需要に支えられて大きく需要が伸長し、当社グループの補修用タイヤ販売も第2四半期累計で2019年同等の水準まで回復しております。さらに、当社グループが現在取り組んでいる、「稼ぐ力の再構築」に向けた「経費・コスト構造改革」、「プレミアムビジネス戦略強化」を柱とした収益性向上の取り組みにおきましても、各分野における施策が期初の計画を上回るペースで進捗しており、当社グループのビジネスの収益性を大きく改善させることができました。このような状況において、第2四半期累計業績が2021年2月発表時の見通しを上回る結果となったことを受け、通期見通しについても再精査を行い、業績予想の修正を決定いたしました。当期は、前年のcovid-19影響に伴う業績悪化からの早期回復を期し、需要回復を捉えた生産・販売活動に注力するとともに、中期事業計画に基づく本質的な体質改善にスピード感を持って取り組んでまいりました。その結果、第2四半期累計業績は2021年2月発表時の想定を上回る水準で着地し、通期業績についても従来予想を大幅に上回る見通しです。このような業績回復の成果を踏まえ、当社基本方針に基づき利益配分の検討を行った結果、増配を通して株主の皆様のご期待におこたえすべく、配当金額を修正することを決定いたしました。', 'title': 'グローバルでのタイヤ需要が回復する中、補修用のタイヤ中心に販売を伸ばし、売上収益は前期比24.2%増収となりました。原材料高騰の影響を売値やミックスの改善でカバーし、経費・コスト構造改革にも取り組み、2021年12月期上期調整後営業利益は前年比4.7倍と大幅増益となりました。会社は、補修用タイヤ販売の回復や経費・コスト構造改革の進捗を受けて、通期見通しを上方修正しました。また、中間と期末を合計した一株当たり配当を170円(前回予想130円)としました。'}, {'body': 'summarize: 三菱地所。当年度の業績及び各セグメントの業績当年度の業績は、営業収益が1,207,594百万円で前年度に比べ94,601百万円の減収(△7.3%)、営業利益は224,394百万円で16,374百万円の減益(△6.8%)、経常利益は210,965百万円で8,606百万円の減益(△3.9%)となりました。この結果、税金等調整前当期純利益は201,265百万円となり、親会社株主に帰属する当期純利益は前年度に比べ12,796百万円減益(△8.6%)の135,655百万円となりました。(2)海外事業の拡大・収益力強化に向け、エリア毎に最適なポートフォリオ戦略を立案し、各アセットタイプの事業を一体的に推進する体制とすることに伴い、「住宅事業」に含まれていた海外住宅事業を「海外事業」に一元化いたしました。(a)コマーシャル不動産事業・当年度において、オフィスビルでは、新規ビル(co・mo・re yotsuya等)の通期稼働や既存ビルでの賃料増額改定等により、前年度に比べ増収となりました。・一方で、商業施設やホテルでは、2020年春の緊急事態宣言期間中の休館対応を含め、新型コロナウイルス感染症拡大により利用客数が減少し、期間を通して店舗売上や稼働率が前年を大きく下回ったことにより、前年度に比べ大幅な減収となりました。・その他、物件売却件数が前年度よりも減少したことにより、不動産販売が前年度に比べ大幅な減収となりました。・この結果、当セグメントの営業収益は前年度に比べ51,270百万円減収の672,441百万円となり、営業利益は7,079百万円減益の180,775百万円となりました。(b)住宅事業・マンション事業の主な売上計上物件「津田沼ザ・タワー」(千葉県習志野市)「hitoto広島the tower」(広島県広島市)「ザ・パークハウス川口本町」(埼玉県川口市)「ザ・パークハウス市ヶ谷」(東京都新宿区)「ザ・パークハウス早稲田」(東京都新宿区)・当年度において、国内マンション事業では、売上計上戸数が前年度に比べて増加したこと等により、増収となりました。・一方で、当年度において賃貸住宅の売却が前年度に比べて大幅な減収となりました。・この結果、当セグメントの営業収益は前年度に比べ22,782百万円減収の362,755百万円となり、営業利益は251百万円減益の24,068百万円となりました。(c)海外事業・当年度においては、不動産開発・賃貸事業は、アジアにおいて分譲マンション事業による売上計上戸数の増加等があった一方で、前年度に計上した英国での物件売却収入の反動により減収となりました。・この結果、当セグメントの営業収益は前年度に比べ19,718百万円減収の114,457百万円となり、営業利益は8,224百万円減益の37,932百万円となりました。(d)投資マネジメント事業・当年度においては、前年度に比べ当社グループがアセットマネジメントを行うファンドの資産残高が増加し、報酬が増加した等により、増収となりました。・この結果、当セグメントの営業収益は前年度に比べ882百万円増収の22,199百万円となり、営業利益は1,499百万円増益の5,966百万円となりました。(e)設計監理・不動産サービス事業・㈱三菱地所設計において、2023年度着工予定の、「torch tower(東京駅前常盤橋プロジェクトb棟)」等の設計監理業務他の収益を計上しました。・当年度においては、設計監理収益は売上件数が減少したものの、1件あたりの金額が増加したこと等により増収となりましたが、新型コロナウイルス感染症拡大の影響により、不動産仲介・駐車場運営管理については減収となりました。・この結果、当セグメントの営業収益は前年度に比べ1,063百万円減収の56,064百万円となり、営業利益は1,448百万円減益の959百万円となりました。次年度の見通し次年度のセグメント別の業績見通しについては次の通りです。コマーシャル不動産事業セグメントにおいては、再開発を予定するビルで閉館に向けた賃料収入の減少等により賃貸利益が減少する一方、新規ビルの竣工・通期稼働及び物件売却収入の増加等により増収増益となる見込みです。なお、アウトレットモール等の商業施設、及びホテルについては、新型コロナウイルス感染症拡大の影響の軽減が収益・利益ともに見込まれる予定です。住宅事業セグメントにおいては、国内分譲マンション事業の好調持続により収益・利益共に前期並みとなる見込みです。海外事業セグメントにおいては、欧州ハイブリッドモデル投資に関するファンドのオープンエンドファンド化に伴う収益計上の反動減により減収となる一方、物件売却収入の増加等により増益の見込みです。当年度の連結キャッシュ・フロー当年度における連結ベースの現金及び現金同等物(以下、「資金」)は、税金等調整前当期純利益、長期借入れ等による収入、有形固定資産の取得等による支出により、前年度末に比べ40,701百万円減少し、172,307百万円となりました。(営業活動によるキャッシュ・フロー)当年度における営業活動によるキャッシュ・フローは、207,414百万円の資金の増加(前年度比△134,352百万円)となりました。(投資活動によるキャッシュ・フロー)当年度における投資活動によるキャッシュ・フローは、297,303百万円の資金の減少(前年度比△19,863百万円)となりました。(財務活動によるキャッシュ・フロー)当年度における財務活動によるキャッシュ・フローは、50,425百万円の資金の増加(前年度比+79,312百万円)となりました。(3)会社の利益配分に関する基本方針及び当期・次期の配当当社は、丸の内再構築をはじめとする今後の事業展開に伴う資金需要にも配慮しつつ、業績の水準及び不動産市況等の事業環境等を総合的に勘案した適切な利益還元に努めていくことを利益配分の基本方針とし、当期および次期の配当につきましては、連結配当性向30%程度を目処として、決定して参りたいと考えております。当期につきましては、中間配当金を12円、期末配当金を18円としておりましたが、2020年度連結決算において親会社株主に帰属する当期純利益は135,655百万円となりましたので、期末配当金については19円とする予定であります。また、2021年度につきましては、今後の見通し及び上記配当方針を総合的に勘案した結果、中間配当金を16円、期末配当金を17円とし、1株当たり年間配当金を33円とする予定ですが、連結配当性向30%程度を目処に実際の配当対象株式数に応じて1株当たり配当金を決定して参りたいと考えております。将来国際会計基準を適用するかにつきましては、現時点では未定です。', 'title': '2021年3月期の業績は、前期比で減収減益となりました。新規オフィスビルの通期稼働や竣工、及び既存ビルでの賃料増額改定などによってビル賃貸利益は増加しましたが、新型コロナウイルス感染症拡大の影響を受けた商業施設及びホテル事業の利益の減少などにより、減収減益となりました。2022年3月期の業績は、ホテルや商業施設における新型コロナ影響の軽減も期待できることから、2021年3月期比で増収増益を見込んでいます。配当政策に関しては、連結配当性向30%程度を目処として決定する方針としています。'}, {'body': 'summarize: 栗田工業。海外においては、米国のペンタゴン・テクノロジーズ・グループ,inc.(水処理装置事業)を連結子会社化し、最先端の精密洗浄技術とそのノウハウ獲得および国内精密洗浄事業とのシナジー発揮に努めたほか、北米の子会社4社を統合しました。また、海外水処理薬品事業の製品構成の見直しやグローバルな調達体制の構築によりコスト低減の成果を上げております。以上の結果、受注高は262,341百万円(前年同期比1.1%増)、売上高は267,749百万円(前年同期比1.1%増)となりました。なお、第1四半期連結会計期間から、持分法適用関連会社であった米国のペンタゴン・テクノロジーズ・グループ,inc.(水処理装置事業)を連結子会社化し、同社の経営成績を新規に連結しております。 ①水処理薬品事業受注高・売上高につきましては、国内では、新型コロナウイルス感染拡大による経済活動停滞の影響を受け電子産業などの一部顧客を除き、顧客の工場稼働率が低下したことにより、受注高・売上高は、ともに減少しました。この結果、当社グループの水処理薬品事業全体の受注高は103,579百万円(前年同期比9.0%減)、売上高は103,231百万円(前年同期比9.2%減)となりました。利益につきましては、減収の影響があったものの、売上原価率改善や経費削減の取り組みにより、事業利益は12,287百万円(前年同期比5.3%増)、営業利益は11,816百万円(前年同期比16.7%増)となりました。 ②水処理装置事業国内では、電子産業分野向けの水処理装置の受注高は、大型案件の受注計上により増加しましたが、売上高は、大型案件の売上計上が一巡し、減少しました。同分野向けのメンテナンス・サービスの受注高は、年度後半にかけてメンテナンス需要が回復し、横ばいとなりました。売上高は、前連結会計年度に受注計上した案件の工事が進捗したことに加え、年度後半の需要回復により増加しました。一般産業分野向けの水処理装置は、受注高・売上高ともに、大型案件の受注・売上計上により増加しました。電力分野向け水処理装置は、受注高は前年同期の大型案件の受注計上の反動で減少しましたが、売上高は増加しました。海外では、ペンタゴン・テクノロジーズ・グループ,inc.の経営成績(12カ月分)を新規連結したことにより、受注高・売上高は、ともに増加しました。なお、超純水供給事業の国内および海外を合わせた売上高は、前連結会計年度に開始した契約案件があり増収となりました。これらの結果、当社グループの水処理装置事業全体の受注高は158,762百万円(前年同期比8.9%増)、売上高は164,518百万円(前年同期比8.8%増)となりました。利益につきましては、ペンタゴン・テクノロジーズ・グループ,inc.を新規連結したことに加え、経費削減の取り組みにより、事業利益は17,129百万円(前年同期比13.7%増)、営業利益は19,634百万円(前年同期比12.9%増)となりました。有形固定資産の増加(11,245百万円)は、主に当社が2022年4月に開設を予定している新研究開発拠点(東京都昭島市)の建設工事が進捗したことによるものであります。2)投資活動によるキャッシュ・フロー投資活動で使用した資金は10,771百万円(前年同期比32,912百万円減少)となりました。(4)今後の見通し1)生産、販売、損益等の状況を含む業績全般に関する見通し世界経済全体は、新型コロナウイルスのパンデミックに伴う各国のロックダウン等により2020年度は大きく減速しましたが、2021年度はその反動による回復が見込まれます。また、日本経済も世界経済全体と同様の傾向となることが見込まれ、企業におけるテレワークや遠隔サービスに関連した投資が一部拡大するものの、全体としての需要回復は弱く、回復の推移は世界経済全体より緩やかになると予想されます。2022年3月期第2四半期(累計)および通期の連結業績予想は、以下のとおりであります。2)セグメント別の見通し ①水処理薬品事業新型コロナウイルスの感染拡大の影響による需要の減少の反動により顧客の生産活動が回復することに加え、中東の水処理薬品事業会社クリタ・アクアケミー,ltd.などが新規に連結されることにより受注高・売上高が増加する見通しであります。②水処理装置事業メンテナンス需要の拡大と超純水供給事業の伸長等により受注高は増加するものの、水処理装置案件の対前年比減少もあり、売上高は横ばいの見通しであります。配当性向は30%〜50%を目安とし、毎年の業績変動に柔軟に対応するため直近5年間通算での配当性向により判断し、増配の継続に努めます。2021年3月期の配当予想におきましては、コロナ禍で先行き不透明な状況であったことから、1株につき2円増配の年間64円としておりました。', 'title': '2021年3月期は、売上高は前期比微増に留まったもののコスト削減が奏功し、営業利益は同14%増となりました。主要2部門である水処理薬品事業、水処理装置事業ともに営業利益ベースで前期比2桁増を維持しました。2022年3月期については、世界経済全体のコロナ禍による急減速からの反動を前提に、前期比で増収増益を見込んでいます。'}, {'body': 'summarize: テルモ。(1)経営成績に関する説明当第1四半期連結累計期間(2021年4月1日〜2021年6月30日、以下「当第1四半期」)における医療市場では、昨年度に始まった新型コロナウイルス感染症(covid-19)拡大の影響が大幅に緩和され、特に北米・欧州においては、新型コロナウイルスワクチンの普及に伴い、様々な診療科において延期されていた待機症例の実施、検査や診断、入院の増加等による医療需要の回復が見られました。こうした主要な市場の回復を受け、当社グループの販売は好調に推移しました。(単位:百万円)<売上収益>売上収益は、前年同期比30.8%増の1,717億円となりました。日本では、ホスピタルカンパニーのアライアンス事業の好調に加え、ホスピタルシステム事業の回転品、心臓血管カンパニーのtis(カテーテル)事業、ニューロバスキュラー事業において需要が着実に回復し、前年同期比10.9%の増収となりました。海外では、心臓血管カンパニーのtis事業とニューロバスキュラー事業、血液・細胞テクノロジーカンパニーにおいて需要が顕著な回復を示し、前年同期比40.9%の増収となりました。<売上総利益>売上総利益は、心臓血管カンパニーを中心に売上収益が増加したことで製品ミックスが改善し、前年同期比36.9%増の943億円となりました。<調整後営業利益>調整後営業利益は、売上総利益の増加により、前年同期比85.4%増の402億円となりました。<営業利益>営業利益は、調整後営業利益の増加により、前年同期比100.5%増の362億円となりました。<税引前四半期利益>税引前四半期利益は、営業利益の増加により、前年同期比101.4%増の360億円となりました。<親会社の所有者に帰属する四半期利益>親会社の所有者に帰属する四半期利益は、税引前四半期利益の増加により、前年同期比99.2%増の279億円となりました。(単位:百万円)<心臓血管カンパニー>日本では、tis事業やニューロバスキュラー事業の需要が回復し、増収となりました。海外では、北米・欧州においてtis事業とニューロバスキュラー事業の需要が顕著な回復を示し、グローバルの売上収益は前年同期比47.9%増の996億円となりました。<ホスピタルカンパニー>日本では、ホスピタルシステム事業の回転品の需要が回復したことに加え、アライアンス事業の製薬企業との提携ビジネスが拡大しました。海外では、北米の獣医市場やアジア・中国における回転品の需要が顕著な回復を示し、グローバルの売上収益は前年同期比11.7%増の438億円となりました。海外では、全血採血やアフェレシス治療製品、細胞処理製品の需要が回復した結果、グローバルの売上収益は前年同期比14.4%増の283億円となりました。(2)財政状態に関する説明資産合計は、116億円減少して1兆3,396億円となりました。負債合計は、290億円減少して4,656億円となりました。資本合計は、173億円増加して8,740億円となりました。これは主に、四半期利益の計上により279億円増加した一方で、剰余金の配当により113億円減少したことによるものです。現時点では不透明な新型コロナウイルス感染症の再拡大の動向、またその影響による需要減やサプライチェーンの断絶等のリスクについては、引き続き注視していく必要がありますが、当社グループは目標の達成に向けて、医療の質と効率の向上に貢献する高付加価値製品の導入及び拡大、さらなる原価改善、販管費の効率的な運用等に注力してまいります。', 'title': '北米や欧州市場で症例数が回復したことで、心臓血管セグメント(カテーテルなど)を中心に需要が着実に増加し、製品ミックスも大きく改善しました。会社は、症例数を始めとした医療需要の継続した回復を見込んでおり、通期見通しを上方修正しています。'}, {'body': 'summarize: ダイキン工業。当期の経営成績については、売上高は2兆4,933億86百万円(前期比2.2%減)となりました。利益面では、営業利益は2,386億23百万円(前期比10.1%減)、経常利益は2,402億48百万円(前期比10.7%減)、親会社株主に帰属する当期純利益は1,562億49百万円(前期比8.5%減)となりました。① 空調・冷凍機事業空調・冷凍機事業セグメント合計の売上高は、前期比1.5%減の2兆2,738億21百万円となりました。営業利益は、前期比5.5%減の2,231億10百万円となりました。国内業務用空調機器の業界需要は、新型コロナウイルス感染拡大の影響を受け、店舗市場をはじめとして落ち込みました。当社グループは、換気・除菌などの空気質ニーズが高まる中、室内の温度を変えずに換気ができる高機能換気設備『ベンティエール』の新たなラインナップを発売するなど、空調機器と換気機器を組み合わせたシステムでの空気環境提案を拡大しました。また、オンラインを活用した非対面営業の展開に加え、換気・除菌を切り口とした広告宣伝による需要の喚起、顧客の悩みに直接答える「空気の相談窓口」の開設など空調メーカーとしての期待に応えるべく、市場に価値を伝える取り組みを強化しましたが、需要が減少したことなどが影響し、業務用空調機器の売上高は前期を下回りました。国内住宅用空調機器の業界需要は、在宅時間の増加に伴う家電製品の需要拡大に加え、リモートワークなど住宅用途の変化に伴う空調機器の買い足し需要も見られ、ルームエアコン・空気清浄機ともに前期を上回りました。これらの取り組みもあり、住宅用空調機器の売上高は前期を上回りました。住宅用空調機器は、天候に恵まれたことや、巣ごもり・リモートワークによる需要のプラス効果がありました。また、業務用空調機器は、小売業や飲食業など特定の業種におけるプロジェクトの見直し・中止などにより、売上高は前期を下回りました。大型ビル(アプライド)空調分野は、販売網強化やルーフトップ・エアハンドリングユニット(業態や部屋用途によって異なる多彩な空調ニーズに応える大型の業務用空調機器)を中心に換気商材の拡販に取り組みました。店舗・オフィスなど需要回復が遅れている業務用小売り市場では、換気・洗浄を切り口に顧客との接点を拡大し、更新・追加需要を取り込みました。アジア・オセアニアでは、新型コロナウイルス感染拡大に伴う各国政府の発令により、4月は多くの国で事業活動が停止し、販売が大きく落ち込みました。住宅用空調機器については、事業活動の制限は残るものの、制限緩和が進み、事業活動停止期間の需要減少の反動や在宅時間増加による巣ごもり需要を取り込みました。業務用空調機器では、感染拡大の影響で、建設現場での労働者不足や新型コロナウイルス検査義務付けのため、市場全体で着工遅れ・工期延期が発生する厳しい状況が続きました。また、コロナ禍で顕在化したリモートワーク・巣ごもり需要や換気・除菌などの空気質への意識の高まりといった新たなニーズの取り込みなどで業績を伸ばしたことにより、地域全体の売上高は前期を上回りました。住宅用空調機器では、巣ごもり需要に加え、フランスやスペインなどでの猛暑効果で需要が急増する中、チェコやトルコの最寄り工場を活かした供給対応により、需要を最大限に取り込みました。さらに、住宅用ヒートポンプ式温水暖房機器は、各国の景気刺激策として2030年の温室効果ガス削減目標の達成に向けた欧州グリーンディールによる補助金が新設・増額されたことを追い風に、新規販売店の開発で販売網を強化し拡販しました。業務用空調機器においては、各国での度重なるロックダウンの発動の影響で、主要用途のオフィス・ホテル・レストラン・店舗向けの需要が減少しました。このように市場環境が厳しく、顧客・現場への訪問などの営業活動も制約される中、オンラインツールを効果的に活用した提案営業の展開などで販売を最大化しましたが、業務用空調機器の売上高は前期を下回りました。米国では住宅向けを中心に高性能フィルタの販売が好調に推移し、国内では補助金の効果もあり、陰圧機や空気清浄機の販売が拡大しました。しかしながら、欧州では業務用途のエンドユーザーへの販売がメインであることからロックダウンの影響を大きく受け、また、ガスタービン・大規模プラント等の業務用集塵システムも顧客の投資抑制があり、フィルタ事業全体の売上高は前期並みとなりました。② 化学事業化学事業セグメント合計の売上高は、前期比8.7%減の1,641億65百万円となりました。営業利益は、前期比52.2%減の113億71百万円となりました。フッ素化学製品全体の販売は、半導体・自動車分野を含め広範囲での新型コロナウイルス感染拡大の影響による需要減少や、欧州ガス市場の需要の落ち込みなどにより、全般的に厳しい状況となりました。しかし、全般的に新型コロナウイルスの影響により需要が減少したこともあり、化成品全体の売上高は前期並みとなりました。③ その他事業その他事業セグメント合計の売上高は、前期比9.6%減の553億99百万円となりました。営業利益は、前期比25.5%減の41億32百万円となりました。特機部門では、在宅酸素医療機器は、酸素濃縮装置の販売が堅調に推移したことに加え、新型コロナウイルス感染拡大に伴うパルスオキシメータ(採血することなく血中酸素飽和度を簡易に測定できる医療機器)の需要を取り込んだことにより販売が拡大しましたが、防衛省向けの砲弾の販売が減少したことにより、売上高は前期を下回りました。純資産は、親会社株主に帰属する当期純利益の計上による増加等により、前連結会計年度末に比べて2,359億3百万円増加し、1兆6,984億95百万円となりました。当連結会計年度のキャッシュ・フローについては、営業活動では、仕入債務の増加等により、前連結会計年度に比べて725億24百万円収入が増加し、3,746億91百万円の収入となりました。財務活動では、長期借入れによる収入の増加等により、前連結会計年度に比べて2,688億75百万円収入が増加し、989億42百万円の収入となりました。2021年度通期の連結業績予想につきましては、売上高は、前期比10.3%増の2兆7,500億円、営業利益は13.1%増の2,700億円、経常利益は12.4%増の2,700億円、親会社株主に帰属する当期純利益は13.3%増の1,770億円を見込んでおります。', 'title': '新型コロナウイルス感染拡大の影響により、業務用エアコンは厳しかったものの、巣ごもり需要などで家庭用エアコンや空気清浄機の販売が世界的に伸びました。22年3月期営業利益は前期比13%増と、新型コロナウイルス感染が広がる前の20年3月期の営業利益水準を上回る見込みです。'}, {'body': 'summarize: 東急。(1)経営成績に関する説明当第1四半期連結累計期間における我が国経済は、新型コロナウイルス感染症拡大の影響により、依然として先行きが不透明な状況が続いております。当社および連結子会社の事業におきましても、今年4月に発出された3回目の緊急事態宣言に伴う営業時間短縮や一部店舗における休業等の実施による影響を受けました。以下「収益認識会計基準」という。)等の適用の影響により、1,991億7千5百万円(前年同期比5.0%減)、営業利益は、交通事業やホテル・リゾート事業を中心に、前年4月に発出された緊急事態宣言に伴う外出自粛、店舗休業影響からの利用者数回復があり、11億2千9百万円(前年同期は157億1千6百万円の営業損失)、経常利益は17億1千4百万円(前年同期は181億6千1百万円の経常損失)となりました。親会社株主に帰属する四半期純利益は、固定資産売却益の計上があったことにより、93億9百万円(前年同期は201億4千1百万円の親会社株主に帰属する四半期純損失)となりました。① 交通事業交通事業では、東急電鉄㈱の鉄軌道業における輸送人員は、前年同期と比べ、定期で14.3%増加、定期外で73.5%増加し、全体では33.1%の増加となりました。この結果、営業収益は395億3千万円(同31.6%増)、営業利益は2億7千1百万円(前年同期は98億2千6百万円の営業損失)となりました。客車走行キロ平均定員② 不動産事業不動産事業では、当社の不動産賃貸業において、前年4月に発出された緊急事態宣言に伴う一部施設休業影響の反動等により、営業収益は461億1千4百万円(同3.2%増)、営業利益は、複合物件における一部ホテル店舗が新型コロナウイルス感染症拡大の影響を受けたこと等により、59億2千3百万円(同21.2%減)となりました。③ 生活サービス事業生活サービス事業では、営業時間短縮の影響などを受けながらも、前年同期と比べ利用者数は回復しましたが、「収益認識会計基準」等の適用の影響により、営業収益は1,176億3千3百万円(同18.5%減)、営業利益は1億3千8百万円(前年同期は27億9千5百万円の営業損失)となりました。④ ホテル・リゾート事業ホテル・リゾート事業では、ホテル業の㈱東急ホテルズにおいて、前年4月に発出された緊急事態宣言に伴う店舗休業影響の反動がありましたが、引き続き新型コロナウイルス感染症拡大の影響を受けたこと等により、稼働率は31.2%(前年同期比+17.9ポイント)となりました。この結果、営業収益は87億8千万円(同67.7%増)、営業損失は53億2千3百万円(前年同期は107億6千5百万円の営業損失)となりました。(2)財政状態に関する説明(資産)当第1四半期連結会計期間末における総資産は、当社の分譲土地建物の増加等により、2兆4,798億5千5百万円(前期末比37億9千3百万円増)となりました。(純資産)純資産は、親会社株主に帰属する四半期純利益の計上等により、7,540億9千4百万円(同15億5千5百万円増)となりました。通期の業績予想につきましては、前回発表時の予想(2021年5月13日公表)を変更しておりませんが、第1四半期までの業績等を踏まえ、セグメント別内訳等を変更しております。', 'title': '4-6月期の営業収益は、「収益認識に関する会計基準」などの適用により前期比5%の減収となるものの、営業利益は交通事業やホテル・リゾート事業中心に、前年の緊急事態宣言による外出自粛や店舗休業の影響から利用者数が回復し、前年同期157億円の営業損失から11億円の営業黒字で着地しました。2022年3月期は緊急事態宣言の延長により、ホテル・百貨店を中心に減収・減益が見込まれますが不動産販売事業の増収増益が寄与し、通期見通しの営業収益・営業利益は据え置かれました。'}, {'body': 'summarize: ラクス。(1)経営成績に関する説明当社が所属する情報通信サービス市場においては、新型コロナウイルス感染症(covid-19)の影響によるリモートワークの推進や、景気の不透明感に対応する形での業務効率化ニーズが強く、安価で早期に導入が可能なクラウドサービスへの期待が高まっております。このような経営環境の中、当社グループは、2021年3月期を基準として、2026年3月期の5ヵ年で売上高をcagr(年平均成長率)25%から30%、2026年3月期の親会社株主に帰属する当期純利益100億円以上、純資産200億円以上とする新中期経営目標を策定いたしました。当第1四半期連結累計期間において、クラウドサービスの新規受注については、緊急事態宣言が発令されたものの、前年の経験を活かすことで影響を最小限に抑えることができておりますが、採用については、高成長に向けた大幅な増員計画に対して若干の遅れが出ております。この結果、当第1四半期連結累計期間の業績は、売上高4,613百万円(前年同期比33.3%増)、営業利益519百万円(前年同期比42.9%減)、経常利益526百万円(前年同期比42.5%減)、親会社株主に帰属する四半期純利益は346百万円(前年同期比43.8%減)となりました。 ①クラウド事業クラウド事業は引き続き楽楽精算と楽楽明細の新規受注が好調に推移しており、その他のサービスの新規受注も堅調に推移しているため、クラウド事業の顧客数が前年同期比で大幅に増加した結果、売上高は3,709百万円(前年同期比38.0%増)となりました。利益面では、新中期経営目標を高い水準で達成するために成長投資を強化していることから、セグメント利益は422百万円(前年同期比48.2%減)となりました。 ②it人材事業it人材事業は前年同期において新型コロナウイルス感染症(covid-19)の影響で、育成期間が終了したエンジニアのアサイン活動が停滞したため稼働率が低下しましたが、稼働率回復を最優先するための対策を行った結果、稼働率は平常時並みに回復しております。この結果、売上高は903百万円(前年同期比17.2%増)、セグメント利益は99百万円(前年同期比7.5%増)となりました。(2)財政状態に関する説明①資産当第1四半期連結会計期間末における流動資産は7,229百万円となり、前連結会計年度末に比べ1,350百万円減少いたしました。固定資産は2,929百万円となり、前連結会計年度末に比べ38百万円増加いたしました。この結果、総資産は10,159百万円となり、前連結会計年度末に比べ1,311百万円減少いたしました。②負債当第1四半期連結会計期間末における流動負債は2,244百万円となり、前連結会計年度末に比べ1,362百万円減少いたしました。固定負債は44百万円となり、前連結会計年度末に比べ21百万円増加いたしました。この結果、負債合計は2,288百万円となり、前連結会計年度末に比べ1,340百万円減少いたしました。③純資産当第1四半期連結会計期間末における純資産合計は7,871百万円となり、前連結会計年度末に比べ29百万円増加いたしました。前回の中期経営目標を高い水準で達成するために、2020年3月期に四半期ごとに予算や施策を組み替えて、業績予想も四半期ごとに開示をさせて頂き、大きな成長を実現しました。新型コロナウイルス感染症(covid-19)の影響による働き方の見直しが進む中で、バックオフィス業務のデジタル化が推進される見込みであること、業務システムのクラウド化が加速していることから、このチャンスを活かすべく積極的な成長投資を計画しており、2022年3月期第2四半期は、売上高は9,437百万円(前年同期比33.4%増)、営業利益は682百万円(前年同期比60.0%減)、経常利益は694百万円(前年同期比59.5%減)、親会社株主に帰属する四半期純利益は446百万円(前年同期比65.7%減)に計画を修正しております。', 'title': '主力のクラウド事業では、楽楽精算と楽楽明細の新規受注が好調に推移し、その他のサービスの新規受注も堅調に推移しました。その結果、顧客数は前期比で大幅に増加し、クラウド事業の売上高は前年同期比+38%となりました。一方で利益面では、新中期経営目標を達成するため積極的な成長投資を強化していることから、クラウド事業のセグメント利益は前年同期比-48%となりました。it人材事業はエンジニアの稼働率が回復し増収増益となりました。会社はこの結果を踏まえて4-9月期の業績見通しを上方修正しました。'}, {'body': 'summarize: 小糸製作所。(1)経営成績に関する説明当第1四半期連結累計期間における我が国及び海外の経済情勢は、前期からの新型コロナウイルスの影響や、半導体の需給ひっ迫の影響等もありますが、ワクチン接種進展による経済活動正常化への動きや各国の経済対策等から、米国・中国を中心に景況感の改善が見られるなど、緩やかな回復傾向となりました。世界自動車生産台数は、前期に新型コロナウイルス感染拡大による生産調整・休止等の減産があったことから、前年同期に比べ大幅に増加いたしました。このような状況のもと、当第1四半期連結累計期間における売上高は、自動車照明器関連事業が堅調に推移したことから、前年同期比は日本39.0%増、北米163.9%増、中国24.7%増、アジア111.4%増などにより、69.8%増収の1,839億円となりました。利益につきましても、営業利益は155億円、経常利益は163億円、親会社株主に帰属する四半期純利益は106億円と、各利益とも前年同期に比べ大幅な増益となりました。当第1四半期末の資産の残高は、現金及び預金の増加、保有有価証券の時価上昇に伴う投資有価証券の増加等により、前期末に比べ89億円増加の7,911億円となりました。負債の残高は、前期末並みの2,129億円となりました。純資産の残高は、四半期純利益により利益剰余金が増加したこと等から、前期末に比べ88億円増加の5,782億円となりました。営業活動によるキャッシュ・フローは、税金等調整前四半期純利益162億円、減価償却費80億円を主体に334億円となり、法人税等を支払った結果、286億円の資金を確保いたしました。財務活動によるキャッシュ・フローは、配当金等の支払い51億円等を実施した結果、47億円の支出となりました。', 'title': '世界自動車生産台数が、前年のコロナ禍による生産調整・休止等の減産から回復したことに伴い、当社の自動車照明器関連事業も堅調に推移しました。22.3期の見通しを上方修正しましたが、市場予想には届きませんでした。'}, {'body': 'summarize: スズキ。(当期の経営成績)当期の当社をとりまく経営環境につきましては、新型コロナウイルス感染拡大により世界経済全体が大きく減速しました。このような状況のなか、当期の業績は、第1四半期連結会計期間の減収減益を7月以降のインド、日本での販売回復や経費削減努力等でカバーできず、連結売上高は3兆1,782億円と前期に比べ3,102億円(8.9%)減少しました。営業利益は売上減、原材料価格高騰等により1,944億円と前期に比べ207億円(9.6%)減少しました。経常利益は金融収支の改善もあり2,483億円と前期に比べ29億円(1.2%)増加、親会社株主に帰属する当期純利益は投資有価証券売却益142億円の計上もあり1,464億円と前期に比べ122億円(9.1%)増加しました。<事業別セグメントの状況>① 四輪事業第1四半期連結会計期間の減収減益を7月以降のインド、日本での販売回復や経費削減努力等でカバーできず、売上高は2兆8,766億円と前期に比べ2,808億円(8.9%)減少しました。営業利益は売上減に加え、原材料価格高騰もあり1,720億円と前期に比べ251億円(12.7%)減少しました。② 二輪事業大型二輪の販売シーズンである第1四半期連結会計期間の落込み、さらにインド、アセアンなど小型二輪の販売減少の影響により、売上高は2,065億円と前期に比べ361億円(14.9%)減少しました。営業利益は体質改善による経費削減等により26億円と前期に比べ19億円増加しました。③ マリン事業他・マリン事業北米を中心とした大型船外機の需要拡大により、売上高は834億円と前期に比べ89億円(11.9%)増加し、営業利益も171億円と前期に比べ30億円(21.1%)増加しました。・マリン事業他合計売上高は951億円と前期に比べ67億円(7.5%)増加し、営業利益は198億円と前期に比べ25億円(14.6%)増加しました。<所在地別の状況>日本、欧州、およびアジアは、第1四半期連結会計期間の減収減益を7月以降にカバーできず、当期の業績は減収減益となりました。負債の部につきましては、新型コロナウイルス感染拡大の見通しが不透明な中、手元資金を十分に確保すべく、第1四半期連結会計期間において4,000億円の新規借入を実施した結果、有利子負債残高は7,708億円(前期末比3,666億円増加)となり、負債の部合計では2兆44億円(前期末比4,583億円増加)となりました。自己資本比率につきまして前期までは45%を目標として改善に取り組んでまいりましたが、第1四半期連結会計期間において新規借入を実施したことに伴い低下し、当期末では41.8%となりました。① 営業活動によるキャッシュ・フロー第2四半期連結会計期間以降の業績回復に伴い、4,154億円の増加(前期は1,715億円の資金増加)となりました。その結果、フリー・キャッシュ・フローは1,824億円の増加(前期は1,255億円の資金減少)となりました。③ 財務活動によるキャッシュ・フロー第1四半期連結会計期間において新型コロナウイルス感染拡大の見通しが不透明な中、手元資金を十分に確保すべく4,000億円の新規借入を実施したことに伴い、3,026億円の増加(前年同期は807億円の資金増加)となりました。次期の配当金につきましては、業績予想を未定とさせていただいたことから同じく未定とさせていただきます。', 'title': '2021年3月期は、新型コロナウイルス感染拡大による影響で第1四半期に大幅な減収減益となり、7月以降はインドや日本市場で販売が回復しましたがカバーできず、原材料価格の高騰もあり減収減益となりました。ただし、営業利益実績は市場コンセンサス予想を上回りました。インドでの新型コロナウイルス感染拡大による影響などにより、2022年3月期の業績予想は未公表でした。'}, {'body': 'summarize: 武田薬品工業。当期の連結業績は、以下のとおりとなりました。前年同期の実勢為替レートを当期に適用することにより算出した為替影響を除くと、売上収益は14.3%の増収となります。2021年4月、当社は、日本における糖尿病治療剤ポートフォリオの1,330億円での帝人ファーマ株式会社への譲渡を完了し、これを売上収益に計上しました。なお、当該譲渡価額を除くと、当期の売上収益は1.8%の増収となります。当社の主要な疾患領域(消化器系疾患、希少疾患、血漿分画製剤(免疫疾患)、オンコロジー、およびニューロサイエンス(神経精神疾患))はそれぞれ全社の売上収益の増収に貢献しました。しかしながら、希少疾患と血漿分画製剤(免疫疾患)における一部の製品は、競争の激化や後発品の浸透、出荷タイミングによる影響を受け、円安によるプラス影響を除くと両領域は減収となります。当期の売上収益は新型コロナウイルス感染症(covid-19)のグローバルな流行拡大に大きく影響を受けることがありませんでした。当社の主要な疾患領域以外の売上収益は、主に日本における糖尿病治療剤ポートフォリオの譲渡価額1,330億円が事業等の売却影響を吸収し、1,018億円増収(+72.8%)の2,416億円となりました。・消化器系疾患消化器系疾患領域の売上収益は、前年同期から236億円増収(+12.6%)の2,105億円となりました。当社のトップ製品である潰瘍性大腸炎・クローン病治療剤「エンティビオ」(国内製品名:「エンタイビオ」)の売上が伸長し、前年同期から241億円増収(+23.9%)の1,254億円となり、売上成長を牽引しました。本剤は需要の増加により、米国内の売上が、前年同期から122億円増収(+17.1%)の837億円となり、欧州およびカナダにおける売上は、前年同期から86億円増収(+35.6%)の327億円となりました。成長新興国においては、主にブラジルおよび中国における売上が伸長しました。酸関連疾患治療剤「タケキャブ」も、逆流性食道炎や低用量アスピリン投与時における胃潰瘍・十二指腸潰瘍の再発抑制等の効能を中心として、日本において新規処方が拡大し、売上は41億円増収(+20.1%)の243億円となりました。・希少疾患希少疾患領域の売上収益は、前年同期から5億円微増(+0.3%)の1,555億円となりました。希少代謝性疾患領域の売上収益は、43億円増収(+10.9%)の443億円となりました。酵素補充療法のファブリー病治療剤「リプレガル」、ゴーシェ病治療剤「ビプリブ」およびハンター症候群治療剤「エラプレース」の売上は、需要の増加と円安の影響により増収となりました。希少血液疾患領域の売上収益は、46億円減収(△5.9%)の722億円となりました。「アドベイト」は30億円減収(△8.9%)の307億円となりました。「アディノベイト」は、円安の影響もあり、1億円増収(+0.6%)の154億円となりました。また、「ファイバ」の売上は、15億円減収(△11.3%)の114億円となりました。遺伝性血管性浮腫領域の売上収益は、7億円増収(+1.8%)の390億円となりました。「takhzyro」は、主に欧州におけるプレフィルドシリンジ製剤を含む上市により、22億円増収(+9.6%)の255億円となりました。「フィラジル」は、主に米国における後発品参入の影響が続き、12億円減収(△15.1%)の69億円となりました。・血漿分画製剤(免疫疾患)血漿分画製剤(免疫疾患)領域の売上収益は、前年同期から19億円増収(+1.8%)の1,072億円となりました。免疫グロブリン製剤の売上合計は、35億円減収(△4.1%)の816億円となりました。一方、皮下注製剤である「cuvitru」は引き続き2桁台の増収率となりました。・オンコロジーオンコロジー領域の売上収益は、前年同期から134億円増収(+12.4%)の1,214億円となりました。多発性骨髄腫治療剤「ベルケイド」の売上は、前年同期から59億円増収(+24.6%)の301億円となりました。米国外の売上にかかるロイヤルティ収益は、後発品の浸透により前年同期から3億円の減収(△30.8%)となりましたが、米国内の売上は、covid-19が流行拡大し処方者が点滴や注射よりも経口投与の薬剤を選好したことで売上が低下していた前年同期と比べ、当期は需要の回復があったことから63億円の増収(+27.3%)となりました。多発性骨髄腫治療剤「ニンラーロ」の売上は、前年同期から14億円増収(+6.3%)の244億円となりました。また、悪性リンパ腫治療剤「アドセトリス」の売上は、2020年5月に承認された中国を中心に成長新興国において伸長し、前年同期から21億円増収(+14.2%)の172億円となりました。子宮内膜症・子宮筋腫・閉経前乳がん・前立腺がん等の治療に用いられる特許満了製品の「リュープリン」(一般名:「リュープロレリン」)は、主に日本における後発品の浸透および競合品の影響により、前年同期から12億円減収(△4.3%)の262億円となりました。・ニューロサイエンス(神経精神疾患)ニューロサイエンス(神経精神疾患)領域の売上収益は、前年同期から66億円増収(+6.1%)の1,134億円となりました。注意欠陥/多動性障害(adhd)治療剤「バイバンス」(国内製品名:「ビバンセ」)の売上は、前年同期から132億円増収(+20.0%)の792億円となりました。この傾向は2020年から2021年にかけて変動してきましたが、当期と前年同期を比較すると、処方の増加によるプラス影響がありました。大うつ病(mdd)治療剤「トリンテリックス」の売上は、主に日本での浸透が進んだことにより、前年同期から10億円増収(+5.9%)の179億円になりました。これらの製品の増収は、主に後発品参入による競争の影響を受けたアルツハイマー病治療剤「レミニール」やadhd治療剤「adderall xr」等の他のニューロサイエンス(神経精神疾患)領域の製品の減収によって一部相殺されました。地域別売上収益(単位:億円、%は売上収益の構成比)(注1)当期は、日本における糖尿病治療剤ポートフォリオの譲渡価額1,330億円を含みます。〔売上原価〕売上原価は、前年同期から32億円増加(+1.3%)の2,413億円となり、売上原価率は25.4%(△4.3pp)となりました。なお、売上原価率の低下は主に、日本において糖尿病治療剤を帝人ファーマ株式会社に譲渡したことに伴い、譲渡価額1,330億円の売上収益を計上したことによるものです。〔販売費及び一般管理費〕販売費及び一般管理費は、前年同期から175億円増加(+8.6%)の2,198億円となりました。〔製品に係る無形資産償却費及び減損損失〕製品に係る無形資産償却費及び減損損失は、前年同期から14億円減少(△1.4%)の1,028億円となりました。〔その他の営業収益〕その他の営業収益は、前年同期から526億円減少(△82.6%)の111億円となりました。〔その他の営業費用〕その他の営業費用は、前年同期から210億円減少(△44.9%)の258億円となりました。〔営業利益〕営業利益は、上記の要因を反映し、前年同期から813億円増益(+48.6%)の2,486億円となりました。〔金融損益〕金融収益と金融費用をあわせた金融損益は252億円の損失となり、前年同期から損失が20億円減少しました。当期の金融損失の減少は主に、これまで持分法適用会社であったmaverick therapeutics社を2021年4月に買収したことに伴い、投資の再測定に係る利益を計上したことによるものです。〔持分法による投資損益〕当期の持分法による投資損益は、前年同期の持分法による投資損失から94億円減少の4億円の損失となりました。〔法人所得税費用〕法人所得税費用は、前年同期から375億円増加の853億円となりました。この増加は主に、2014年にshire社がabbvie社からの買収申し出の取下げに関連して受領した違約金に対するアイルランドでの課税を巡る税務評価から生じた税金および利息の合計と関連する税務便益5億円との純額627億円ならびに税引前四半期利益の増加によるものです。〔四半期利益〕四半期利益は、上記の要因を反映し、前年同期から552億円増益の1,377億円となりました。実質的な業績〔実質的な売上収益の成長〕実質的な売上収益の成長は、前年同期から+3.8%となりました。タケダの14のグローバル製品(注)の実質的な売上収益は、「gammagard liquid/kiovig」の減収影響があったものの、前年同期から+6.8%成長しました。・2020年11月に売却が完了したアジア太平洋における一部の一般用医薬品および非中核資産に係る前年同期の売上収益を控除して調整しております。・2020年12月に売却が完了した主に欧州における一部の非中核資産である医療用医薬品に係る前年同期の売上収益を控除して調整しております。・2021年3月に売却が完了した主に欧州における一部の一般用医薬品および非中核資産に係る前年同期の売上収益を控除して調整しております。また、売却完了により計上された非定常的な譲渡価額1,330億円は当期の売上収益から控除して調整しております。・売却が公表され、当年度上期中の売却完了を見込んでいた中国における一部の非中核資産である医療用医薬品に係る当期と前年同期の売上収益を控除して調整しております。〔当期の実質的なcore営業利益の成長〕当期の実質的なcore営業利益の成長は、研究開発投資の増加を反映し、前年同期から△2.1%となりました。日本における糖尿病治療剤ポートフォリオの売却など、当社の本業に起因しない(非中核)事象による影響を控除した当期のcore営業利益は2,489億円となりました。〔当期の実質的なcore営業利益率〕当期の実質的なcore営業利益率は、30.5%となりました。(2)財政状態に関する説明〔資産〕当第1四半期末における資産合計は、前年度末から2,551億円減少し、12兆6,572億円となりました。〔負債〕当第1四半期末における負債合計は、前年度末から3,165億円減少し、7兆4,186億円となりました。社債及び借入金は、借入金の返済および社債の償還の結果、前年度末から2,295億円減少の4兆4,059億円(注)となりました。さらに、引当金が638億円減少しております。〔資本〕当第1四半期末における資本合計は、前年度末から615億円増加の5兆2,386億円となりました。〔キャッシュ・フロー〕(単位:億円)営業活動によるキャッシュ・フローは、前年同期1,459億円から210億円増加の1,669億円となりました。投資活動によるキャッシュ・フローは、前年同期7億円から711億円減少の△704億円となりました。財務活動によるキャッシュ・フローは、前年同期△1,928億円から2,183億円減少の△4,110億円となりました。2021年度の通期の業績予想につきましては、次の当初予想(2021年5月11日の決算発表時)から修正ありません。当社は、2014年にshire社がabbvie社からの買収申し出の取下げに関連して受領した違約金に対するアイルランドでの課税を巡る税務評価から生じた税金および利息の合計と関連する税務便益5億円との純額627億円を当期(4-6月)に引当計上しましたが、2021年度の通期の業績予想は、本件とその他の要因も含め考慮し、適切な時期に見直してまいります。', 'title': '希少疾患と血漿分画製剤(免疫疾患)における一部の製品に関しては減収となったものの、オンコロジー(がん等)の売上高は前年同期比+12.4%と好調でした。地域別売上収益では、米国や欧州、カナダ向けが増収をけん引しました(日本事業は糖尿病治療剤ポートフォリオの帝人ファーマへの譲渡で大幅増収となっています)。前年同期に神経性心疾患向けなどでみられた、新型コロナによる医療機関の受診回避によるマイナス影響は軽微でした。'}, {'body': 'summarize: agc。要約四半期連結純損益計算書における「営業利益」は、当社グループの業績を継続的に比較・評価することに資する指標であります。', 'title': '2021年1-3月期は、東南アジアにおける塩化ビニル樹脂、および建築用ガラスの販売価格上昇や、合成医農薬およびバイオ医薬品の受託件数増加により、前年同期比で増収増益となりました。'}, {'body': 'summarize: kddi。 ■連結業績第1四半期連結累計期間(単位:百万円)当第1四半期連結累計期間の売上高は、前年同期と比較し、端末販売収入の増加やモバイル通信料収入(ローミング収入等含む)の増加等により、1,300,264百万円(4.6%増)となりました。営業利益は、前年同期と比較し、売上高の増加等により、299,193百万円(2.9%増)となりました。親会社の所有者に帰属する四半期利益は、189,890百万円(4.1%増)となりました。 ② セグメント別の状況パーソナルセグメントパーソナルセグメントでは、個人のお客さま向けにサービスを提供しています。パーソナルセグメントにおける、当第1四半期の業績概要等は以下のとおりです。 ■業績第1四半期連結累計期間(単位:百万円)当第1四半期連結累計期間の売上高は、前年同期と比較し、端末販売収入の増加やモバイル通信料収入(ローミング収入等含む)の増加等により、1,120,169百万円(4.3%増)となりました。営業利益は、前年同期と比較し、売上高の増加等により、250,622百万円(3.1%増)となりました。ビジネスセグメントビジネスセグメントでは、日本国内及び海外において、幅広い法人のお客さま向けに、スマートフォン等のデバイス、ネットワーク・クラウド等の多様なソリューションに加え、「telehouse」ブランドでのデータセンターサービス等を提供しています。ビジネスセグメントにおける、当第1四半期の業績概要等は以下のとおりです。 ■業績第1四半期連結累計期間(単位:百万円)当第1四半期連結累計期間の売上高は、前年同期と比較し、モバイル通信料収入やソリューション収入の増加等により、245,271百万円(4.3%増)となりました。営業利益は、前年同期と比較し、売上高が増加したものの、端末販売粗利の減少等により、44,391百万円(3.3%減)となりました。以上の結果、親会社所有者帰属持分比率は、前連結会計年度末の45.2%から46.3%となりました。営業活動によるキャッシュ・フロー(収入)は、前年同期と比較し、金融事業の預金の増加幅が小さくなったこと等により、219,242百万円減少し、15,698百万円の収入となりました。投資活動によるキャッシュ・フロー(支出)は、前年同期と比較し、無形資産の取得による支出の増加等により、18,177百万円増加し、200,296百万円の支出となりました。財務活動によるキャッシュ・フロー(支出)は、前年同期と比較し、短期借入金の純増加額の減少等により、140,093百万円増加し、185,446百万円の支出となりました。また、上記キャッシュ・フローに加えて、現金及び現金同等物に係る換算差額により58百万円増加した結果、当第1四半期連結累計期間末における現金及び現金同等物の残高は、前連結会計年度末と比較し、369,987百万円減少し、439,815百万円となりました。通期の連結損益状況につきましては、売上高は5,350,000百万円、営業利益は1,050,000百万円、親会社の所有者に帰属する当期利益は655,000百万円を予想しており、2021年3月期決算短信(2021年5月14日開示)に記載した内容と変更しておりません。', 'title': 'モバイル料金の引き下げが逆風となりましたが、住宅ローンをはじめ決済・金融取扱高が順調に拡大した金融事業などライフデザイン領域や、法人向けitビジネスの成長領域が順調に拡大し、全体では増益を確保しました。'}, {'body': 'summarize: オリックス。業績総括(2021年4月1日から2021年6月30日まで)当第1四半期連結累計期間の営業収益は、生命保険料収入および運用益が減少したものの、サービス収入や有価証券売却・評価損益および受取配当金、オペレーティング・リース収益が増加したため、前年同期の537,641百万円に比べて13%増の608,813百万円になりました。営業費用は、信用損失費用と生命保険費用が減少したものの、販売費および一般管理費やサービス費用、オペレーティング・リース原価が増加したため、前年同期の492,125百万円に比べて3%増の506,834百万円になりました。一方で、持分法投資損益は前年同期に比べて17,350百万円減の4,920百万円の損失になりました。子会社・関連会社株式売却損益および清算損は前年同期に比べて2,323百万円減の2,997百万円になりました。以上により、当第1四半期連結累計期間の税引前四半期純利益は、前年同期の67,631百万円に比べて48%増の100,056百万円、当社株主に帰属する四半期純利益は、前年同期の50,048百万円に比べて30%増の65,216百万円になりました。セグメント別動向当第1四半期連結累計期間のセグメント利益は、前年同期に比べて36%増の106,881百万円となりました。法人営業・メンテナンスリース:金融・各種手数料ビジネス、自動車および電子計測器・it関連機器などのリースおよびレンタル、弥生セグメント利益は、自動車関連事業において車両売却益が増加したこと、およびレンタル事業において電子計測器やit関連機器のレンタルが増加したことにより、オペレーティング・リース収益が増加したため、前年同期に比べて53%増の20,279百万円になりました。セグメント資産は、リース純投資、営業貸付金およびオペレーティング・リース投資が減少したことにより、前連結会計年度末に比べて2%減の1,635,925百万円になりました。不動産:不動産開発・賃貸・管理、施設運営、不動産のアセットマネジメントセグメント利益は、賃貸不動産の売却によりオペレーティング・リース収益が増加したことにより、前年同期に比べて495%増の11,013百万円になりました。セグメント資産は、賃貸資産前渡金が増加したものの、オペレーティング・リース投資が減少したことにより、前連結会計年度末に比べて1%減の864,348百万円になりました。事業投資・コンセッション:企業投資、コンセッションセグメント利益は、コンセッションにおいて関西3空港からの持分法投資損益が減少したことにより、前年同期に比べて94%減の268百万円になりました。セグメント資産は、前第3四半期連結累計期間に取得した子会社の取得原価の配分により、前連結会計年度末に比べて1%増の382,004百万円になりました。環境エネルギー:国内外再生可能エネルギー、電力小売、省エネルギーサービス、ソーラーパネル・蓄電池販売、廃棄物処理セグメント利益は、前年同期にインドで風力発電事業を行う投資先を完全子会社化したことによるバーゲン・パーチェス益を計上したことの反動により、前年同期に比べて42%減の4,489百万円になりました。セグメント資産は、関連会社投資が増加したものの、事業用資産が減少したことにより、前連結会計年度末に比べて横ばいの490,892百万円になりました。保険:生命保険セグメント利益は、保険契約の増加に伴い生命保険料収入が増加したものの、前年同期に変額保険にかかる責任準備金の戻入を計上したことの反動により、前年同期に比べて15%減の15,489百万円になりました。セグメント資産は、前連結会計年度末に比べて横ばいの1,951,533百万円になりました。銀行・クレジット:銀行、カードローンセグメント利益は、有価証券売却・評価損益および受取配当金が増加したことにより、前年同期に比べて7%増の12,759百万円になりました。セグメント資産は、前連結会計年度末に比べて横ばいの2,702,780百万円になりました。輸送機器:航空機のリース・管理、船舶関連投融資セグメント利益は、avolon holdings limitedが損失を計上したことにより、持分法投資損益が減少したため、前年同期に比べて12,415百万円減の4,831百万円の損失となりました。セグメント資産は、オペレーティング・リース投資が減少したことにより、前連結会計年度末に比べて1%減の593,642百万円になりました。orix usa:米州における金融、投資、アセットマネジメントセグメント利益は、投資先の売却等により有価証券売却・評価損益および受取配当金が増加したこと、および前年同期に信用損失費用を計上したことの反動により、前年同期に比べて25,748百万円増の25,163百万円になりました。セグメント資産は、投資有価証券が減少したことにより、前連結会計年度末に比べて1%減の1,210,777百万円になりました。orix europe:グローバル株式・債券のアセットマネジメントセグメント利益は、受託資産の平均残高の増加によりサービス収入が増加したため、前年同期に比べて87%増の13,472百万円になりました。セグメント資産は、為替の影響により営業権や企業結合で取得した無形資産が増加したものの、投資有価証券が減少したことにより、前連結会計年度末に比べて横ばいの368,030百万円になりました。アジア・豪州:アジア・豪州における金融、投資セグメント利益は、前年同期にアジアにおいて子会社・関連会社株式売却益を計上したことの反動があったものの、金融収益やオペレーティング・リース収益が増加したこと、および信用損失費用が減少したことにより、前年同期に比べて28%増の8,780百万円になりました。セグメント資産は、中国におけるリース純投資、および韓国における営業貸付金が増加したことにより、前連結会計年度末に比べて2%増の1,111,153百万円になりました。総資産は、投資有価証券と受取手形、売掛金および未収入金が減少したものの、その他資産や現金および現金等価物が増加したことで、前連結会計年度末に比べて横ばいの13,581,966百万円になりました。また、セグメント資産は、前連結会計年度末に比べて横ばいの11,311,084百万円になりました。負債については、長期借入債務と支払手形、買掛金および未払金が減少した一方で、短期借入債務が増加したことで、前連結会計年度末に比べて横ばいの10,466,715百万円になりました。当社株主資本は、前連結会計年度末から1%増の3,047,532百万円になりました。', 'title': '生命保険料収入および運用益などは減少したものの、有価証券売却益の増加や、自動車関連事業における車両売却益や賃貸不動産の売却などによるオペレーティング・リース収益の増加などによって、増益を確保しました。'}, {'body': 'summarize: エムスリー。また、日本、米国、欧州、中国、韓国をはじめ、当社グループが世界中で運営する医療従事者向けウェブサイト及び医師パネルに登録する医師は合計で約600万人となっており、医師パネルを活用したグローバルな調査サービスの提供も行っています。(当期の業績)(単位:百万円)(セグメント別業績)(単位:百万円) ① メディカルプラットフォーム製薬会社向けのマーケティング支援の需要が引き続き堅調に推移し、セグメント売上収益は、18,932百万円(前年同期比39.1%増)となりました。製薬マーケティングチームの強化等、将来の成長に向けた積極的な先行投資により、人件費を中心として販売費及び一般管理費は増加しているものの、売上増加によりセグメント利益は8,179百万円(前年同期比31.9%増)となりました。 ② エビデンスソリューション前年同期において新型コロナウイルス感染症拡大に伴い複数の治験プロジェクトが一時的に停止したこと等の影響が一巡したことにより、セグメント売上収益は4,833百万円(前年同期比2.3%増)、セグメント利益は858百万円(前年同期比6.8%増)となりました。 ③ キャリアソリューション新型コロナウイルス感染症拡大に伴い薬剤師を中心に転職動向が低調となったこと等により、セグメント売上収益は4,883百万円(前年同期比9.1%減)となったものの、売上構成比の改善を背景にセグメント利益は2,466百万円(前年同期比4.3%増)となりました。 ④ サイトソリューション提携医療機関の増加に加え、新型コロナウイルス感染症拡大の大きな影響を受けた前年同期との比較もあり、セグメント売上収益は5,329百万円(前年同期比45.3%増)、セグメント利益は520百万円(前年同期比271.6%増)となりました。 ⑤ 海外新型コロナウイルス感染症拡大に関連する治験プロジェクトにより好調な米国治験事業をはじめ、すべての地域で事業が堅調に推移した結果、セグメント売上収益は12,662百万円(前年同期比53.6%増)となりました。セグメント利益は、売上の増加に加え、中国にて事業を運営する子会社を傘下に持つmedliveの支配を喪失したことに伴い利益を計上したこと等により、12,952百万円(前年同期比560.8%増)となりました。 ⑥ その他エマージング事業群新型コロナウイルス感染症拡大に伴う事業へのマイナス影響からは回復傾向にあり、セグメント売上収益は711百万円(前年同期比8.3%増)となりました。以上の結果、当第1四半期連結累計期間における当社グループの売上収益は46,403百万円(前年同期比30.8%増)、営業利益は24,651百万円(前年同期比119.1%増)、税引前四半期利益は24,763百万円(前年同期比120.7%増)、四半期利益は16,919百万円(前年同期比121.1%増)となりました。非流動資産については、主に連結子会社が支配喪失に伴い持分法適用関連会社となったことにより持分法で会計処理されている投資が12,249百万円増加し、前連結会計年度末比13,170百万円増の122,183百万円となりました。「海外」は、米国、英国、中国、韓国、インド、フランス、ドイツ及びスペイン等での医療従事者専門サイトを活用した医療関連会社マーケティング支援、調査、治験支援、人材サービス等の各種サービスを提供しています。', 'title': '新型コロナ禍で製薬会社の医療情報担当者(mr)の活動が制限される中、当社の提供する医薬品情報サイトを利用して製品情報を提供する会社が増加しました。海外事業は米国での臨床試験(治験)を支援する事業や、中国をはじめすべての事業が堅調に推移したことに加え、中国子会社の香港上場に伴う利益を計上したことにより、同事業のセグメント利益は前年同期比109億円増加しました。'}, {'body': 'summarize: シマノ。(1)経営成績に関する説明当第1四半期連結累計期間におきましては、世界各国で新型コロナウイルス(covid-19)感染拡大防止に向けたワクチンの接種が開始されたものの、その猛威は衰えが見られず、封じ込め施策に苦慮する状況が続きました。① 自転車部品新型コロナウイルス感染再拡大の状況下において、昨年来の世界的な自転車に対する需要は引き続き高い水準で推移しました。このような状況の下、欧州市場、北米市場をはじめとする海外市場では、自転車および自転車関連商品の店頭販売は好調を維持し、需要に供給が追いつかない状況が継続しました。日本市場では、レクリエーションや通勤通学などの交通手段を目的としたクロスバイクや電動アシスト軽快車の店頭販売は堅調に推移し、市場在庫は概ね適正水準で推移しました。この結果、当セグメントの売上高は103,757百万円(前年同期比76.3%増)、営業利益は27,730百万円(前年同期比169.3%増)となりました。② 釣具昨年来、感染リスクの低いレジャーの1つである釣りは、これまでの釣り愛好家に支えられるとともに新たな客層も加わり、釣具市場は全世界的に盛況な動きを見せました。このような状況の下、日本市場では、暖冬に恵まれソルトルアーフィッシングの人気も継続し、販売は好調に推移しました。海外市場では、北米市場においては強い需要に支えられ、中級・普及価格帯を中心に販売は好調に推移しました。欧州市場においては釣具のオンラインビジネスの普及と堅調な需要に支えられ販売は好調を維持しました。アジア市場の販売はスポーツフィッシングを中心に堅調さを維持し、好天に恵まれた豪州市場においては旺盛な需要から販売は好調に推移しました。この結果、当セグメントの売上高は22,575百万円(前年同期比25.6%増)、営業利益は4,846百万円(前年同期比102.7%増)となりました。③ その他当セグメントの売上高は93百万円(前年同期比24.3%増)、営業損失は5百万円(前年同期は営業損失30百万円)となりました。連結業績予想につきましては、当第1四半期連結累計期間においてアジア通貨安の影響から営業外収益が発生したため、第2四半期(累計)及び通期の経常利益、親会社株主に帰属する四半期(当期)純利益の予想について、次のとおり変更いたします。', 'title': '主力の自転車部品セグメントは、欧州や北米などの海外市場で自転車および自転車関連商品の店頭販売が好調で、需要に供給が追いつかない状況が継続しました。日本市場でも、交通手段を目的としたクロスバイクや電動アシスト軽快車の店頭販売が堅調でした。また、第1四半期においてアジア通貨安の影響から営業外収益が発生したため、2021年12月期の経常利益、当期純利益の予想を上方修正しています。'}, {'body': 'summarize: ミネベアミツミ。機械加工品事業は、当社グループの主力であるボールベアリングのほかに、主として航空機に使用されるロッドエンドベアリング、ハードディスク駆動装置(hdd)用ピボットアッセンブリー等のメカニカルパーツ及び航空機用のねじが主な製品であります。主力製品であるボールベアリングは、ファンモーター向けにおいて需要が堅調に推移したことにより売上高は増加しました。電子機器事業は、電子デバイス(液晶用バックライト等のエレクトロデバイス、センシングデバイス(計測機器)等)、hdd用スピンドルモーター、ステッピングモーター、dcモーター、エアームーバー及び特殊機器が主な製品であります。液晶用バックライトはスマートフォンにおける採用モデルの減少に伴う需要減により、売上高は減少となりました。ミツミ事業は、半導体デバイス、光デバイス、機構部品、高周波部品及び電源部品が主な製品であります。半導体デバイス、ゲーム機器等の機構部品が好調に推移し、売上高は増加しました。ユーシン事業は、キーセット、ドアラッチ、ドアハンドル等の自動車部品のほかに、産業機器用部品、住宅機器用部品(ビル、住宅用錠前その他)が主な製品であります。その他の事業は、自社製機械が主な製品であります。 ④ 急激な市場環境の変化と低価格競争によるリスクpc及び周辺機器、情報通信機器、家電、自動車、航空機部品を中心とする当社グループ製品の主要市場は、国内外において競争が非常に激しく需要の大きな変動によるリスクがあります。', 'title': '2021年3月期は、主力のファンモーター向けボールベアリングや半導体デバイス、nintendo switch等ゲーム機器向け機構部品が好調だった一方で、航空機向けのロッドエンドベアリングやスマートフォン向け液晶用バックライト、自動車部品等の需要減が業績の下押し圧力となりました。'}, {'body': 'summarize: 楽天グループ。当社グループは、経営者が意思決定する際に使用する社内指標(以下、non-gaap指標)及びifrsに基づく指標の双方によって、連結経営成績を開示しています。non-gaap営業利益は、ifrsに基づく営業利益(以下、ifrs営業利益)から、当社グループが定める非経常的な項目やその他の調整項目を控除したものです。経営者は、non-gaap指標を開示することで、ステークホルダーにとって同業他社比較や過年度比較が容易になり、当社グループの恒常的な経営成績や将来見通しを理解する上で有益な情報を提供できると判断しています。インターネットサービスにおいては、インターネット・ショッピングモール『楽天市場』における送料無料ラインの統一施策の奏功や新型コロナウイルス感染症の流行に伴ういわゆる「巣ごもり消費」等を背景に、『楽天市場』等において増加した顧客の定着が進み、国内ec取扱高が大幅な伸長を続けています。フィンテックにおいては、各サービスにおける顧客基盤の拡大が続き、売上収益、カードショッピング取扱高等が伸長しています。また、モバイルにおいては、自社回線エリアの拡大や2021年1月に発表した新料金プラン『rakutenun-limit vi』へのアップグレードの好評等により、契約申し込みが加速しました。この結果、当社グループの当第1四半期連結累計期間における売上収益は391,513百万円(前年同期比18.1%増)となりましたが、モバイルにおける自社基地局設置等の先行投資が継続中のため、non-gaap営業損失は31,585百万円(前年同期は18,136百万円のnon-gaap営業損失)となりました。(non-gaapベース)(単位:百万円)② non-gaap営業利益からifrs営業利益への調整当第1四半期連結累計期間において、non-gaap営業利益で控除される無形資産の償却費は2,590百万円、株式報酬費用は3,165百万円となりました。なお、ifrs上のマネジメントアプローチの観点から、セグメント損益をnon-gaap営業損益ベースで表示しています。デジタルコンテンツサービスとモバイルサービスの連携を強化しシナジー効果を高めることを目的に、前第4四半期連結会計期間より、一部の事業及び子会社をセグメント間で移管しています。(インターネットサービス)主力サービスである国内ecにおいては、流通総額及び売上収益の更なる成長を目指し、ロイヤルカスタマーの醸成や新規顧客の獲得のための販促活動、クロスユースの促進に加え、楽天エコシステムのオープン化戦略等に注力しました。インターネット・ショッピングモール『楽天市場』や医療品・日用品等の通信販売等を行う『rakuten 24』等においては、こうした施策の奏功やいわゆる「巣ごもり消費」の拡大に伴うオンラインショッピング需要の高まりにより、顧客の定着が進み、取扱高の伸長が続いています。一方で、インターネット旅行予約サービスの『楽天トラベル』においては、新型コロナウイルス感染症の再拡大に伴う、「go toトラベル事業」の一時停止や、各地で相次いで発令された緊急事態宣言の影響を受け、宿泊予約の低迷が続きましたが、コスト精査の施策等により営業利益は前年同期比で増加しました。また、投資事業におけるフィンテック関連企業への株式投資の評価益を30,603百万円計上しています。この結果、インターネットサービスセグメントにおける売上収益は212,117百万円(前年同期比17.6%増)、セグメント利益は41,208百万円(前年同期は334百万円の利益)となりました。(単位:百万円)(フィンテック)クレジットカード関連サービスにおいては、会員基盤の拡大が続き、当第1四半期連結累計期間には、同会員数が2,200万人に到達しました。同サービスにおいては、宿泊・飲食サービス等の消費に依然厳しさがみられるものの、オンラインショッピングを中心に取扱高が伸長し、売上収益及び利益の増加に貢献しました。また、銀行サービスにおいても、新規口座獲得が加速し、2021年1月には、国内のインターネット銀行として初めて(注)口座数が1,000万口座を突破し、役務取引等収益等の増加が売上収益の増加に貢献しました。同様に、証券サービスにおいても、新規口座開設の加速が続くと同時に、国内外株式売買代金の伸長に伴う手数料収入等の増加が、売上収益及び利益の増加に貢献しました。この結果、フィンテックセグメントにおける売上収益は151,572百万円(前年同期比8.2%増)、セグメント利益は24,550百万円(前年同期比23.8%増)となりました。(単位:百万円)(モバイル)モバイルにおいては、基地局の開設が加速し、自社回線エリアの拡大が進んだほか、2021年1月に発表した毎月のユーザーのご利用状況に応じた柔軟でシンプルな新料金プラン『rakuten un-limit vi』へのアップグレードの好評等により、契約申し込みが加速しました。電子書籍サービス、ビデオストリーミング等のデジタルコンテンツサービスにおいては、新型コロナウイルス感染症の影響によるオンラインコンテンツサービス需要の拡大等を受け、引き続き顧客基盤の拡大が続いています。この結果、モバイルセグメントにおける売上収益は68,631百万円(前年同期比38.6%増)となりましたが、モバイルにおける自社基地局設置等の先行投資が継続中のため、セグメント損失は97,245百万円(前年同期は36,593百万円の損失)となりました。これは主に、当第1四半期連結累計期間における親会社の所有者に帰属する四半期損失を25,143百万円計上したこと等により利益剰余金が30,962百万円減少となった一方で、第三者割当による新株式の発行及び自己株式の処分等により資本金が80,721百万円、資本剰余金が79,831百万円増加し、自己株式が84,941百万円減少したことによるものです。このほかに、円安等の要因によりその他の資本の構成要素が37,878百万円増加しています。現時点では、当期の連結業績予想において、株式市況の影響を大きく受ける証券サービスを除いた連結売上収益については、前期に比べ二桁成長を目指します。(フィンテック)クレジットカード関連サービスにおいては、引き続きマーケットシェアやグループシナジーの拡大を狙いとしたマーケティング施策の強化により、ショッピング取扱高の更なる成長を目指します。(モバイル)モバイルにおいては、2021年4月以降、通信料金を1年間無料とするキャンペーンが順次終了し、新たに新規ユーザー向けに、通信料金を3ヶ月無料とするキャンペーンを提供していることから、売上収益は徐々に計上されていく見込みです。2021年3月1日に、株式会社syホールディングスの株式を取得したことにより、同日より同社に対する株式投資について持分法を適用しています。(重要な会計方針)当社グループが本要約四半期連結財務諸表において適用する重要な会計方針は、前連結会計年度に係る連結財務諸表において適用した会計方針と同一です。新型コロナウイルス感染症の拡大を原因とする個人消費の低迷、失業率の増加、企業の倒産等経済状況の悪化等の不確実性があるものの、新型コロナウイルス感染症が拡大し経済状況の悪化がみられ始めた2020年度第1四半期連結会計期間以降の実績においても、当社グループは多岐にわたる分野で70を超えるサービスを提供していることから当社経営成績への影響は限定的です。カード事業の貸付金の回収状況は当第1四半期連結累計期間末において重要な悪化はありませんが、今後の新型コロナウイルス感染症の拡大を原因とする不確実性を考慮し、信用リスクの悪化に備え、発生するであろう損失を予想し貸倒引当金の会計上の見積りを必要に応じて修正しています。これらのセグメントは、当社グループの構成単位のうち分離された財務情報が入手可能であり、取締役会が経営資源の配分の決定及び業績を評価するために、定期的に検討を行う対象となっています。報告されている事業セグメントの会計処理の方法はifrsに基づいており、事業セグメントの売上収益及び損益は一部の連結子会社を除き連結修正を考慮していない内部取引消去前の金額です。経営者が意思決定する際に使用する社内指標は、ifrsに基づく営業利益に当社グループが定める非経常的な項目やその他の調整項目を調整したnon-gaap営業利益ベースです。経営者は、non-gaap指標を開示することで、ステークホルダーにとって同業他社比較や過年度比較が容易になり、当社グループの恒常的な経営成績や将来見通しを理解する上で有益な情報を提供できると判断しています。(単位:百万円)セグメント損益から税引前四半期損失(△)への調整は、以下のとおりです。(単位:百万円)(営業費用の性質別内訳)(単位:百万円)(その他の収益)当社グループにおけるその他の収益の内容は、以下のとおりです。(単位:百万円)(注)当第1四半期連結累計期間において、投資事業におけるフィンテック関連企業への株式投資の評価益を(その他の費用)当社グループにおけるその他の費用の内容は、以下のとおりです。(単位:百万円)(持分法による投資利益)当社グループは当第1四半期連結会計期間に株式会社syホールディングスに対する株式投資を行い、持分法により会計処理をしています。この結果、当第1四半期連結累計期間の要約四半期連結損益計算書において、当社グループの保有する持分に応じた株式会社syホールディングスの、主に割安購入益を含む利益20,513百万円を持分法による投資利益に計上しています。なお、割安購入益は、当第1四半期連結会計期間末において、取得日における識別可能資産及び負債の公正価値の測定が未了であり、投資原価との差額の算定が完了していないため、取得日時点で入手可能な全ての情報に基づき暫定的に算定された金額です。本社債は、償還期限の定めがなく当社の裁量のみで償還が可能であること、また、利息支払の任意繰延が可能であること等により、ifrs上、資本性金融商品に分類されるため、当社の連結財政状態計算書において「資本の部」に計上される予定です。分割する事業部門の内容:当社の営む物流事業分割する事業部門の属する報告セグメント:インターネットサービスセグメント分割する事業部門の経営成績(前連結会計年度):売上収益16,924百万円分割する資産、負債の項目及び金額(前連結会計年度末日):', 'title': '当社の売上収益は、新型コロナウイルス感染拡大に伴うec需要の高まりを受けて、「楽天市場」などのサービスの取扱高が伸長し、第1四半期として過去最高を更新しました。一方、モバイル事業における基地局設置の前倒しを含め、先行投資が継続中のため、non-gaap営業損失は315億円となりました。(non-gaap営業利益は、ifrsに基づく営業利益から、当社グループが定める非経常的な項目やその他の調整項目を控除したものです。)なお、投資事業において、フィンテック関連企業への株式投資の評価益が306億円計上されています。'}, {'body': 'summarize: 協和キリン。(1)財政状態に関する説明(単位:億円) ◎ 資産は、前連結会計年度末に比べ185億円増加し、8,198億円となりました。・非流動資産は、為替の円安影響によるのれんの増加に加え、繰延税金資産の増加等により、前連結会計年度末に比べ83億円増加し、3,671億円となりました。・流動資産は、売却目的で保有する資産(日立化成ダイアグノスティックス・システムズ(株)株式)の減少がありましたが、当該資産の売却による収入等に伴う現金及び現金同等物の増加に加え、棚卸資産の増加等もあり、前連結会計年度末に比べ102億円増加し、4,527億円となりました。 ◎ 資本は、配当金の支払いによる減少等がありましたが、親会社の所有者に帰属する四半期利益の計上や為替影響による在外営業活動体の換算差額による増加等により、前連結会計年度末に比べ221億円増加し、7,205億円となりました。この結果、当第2四半期連結会計期間末の親会社所有者帰属持分比率は、前連結会計年度末に比べ0.7ポイント上昇し、87.9%となりました。(単位:億円)<期中平均為替レート>当第2四半期連結累計期間(2021年1月1日から6月30日までの6か月間)の売上収益は1,650億円(前年同期比4.6%増)、コア営業利益は309億円(同10.2%減)となりました。親会社の所有者に帰属する四半期利益は251億円(同9.8%減)となりました。 ◎ 売上収益は、日本は減収となったものの、北米及びemeaにおいてグローバル戦略品が順調に伸長し、アジアにおいても中国を中心に好調に推移した結果、増収となりました。なお、売上収益に係る為替の増収影響は15億円となりました。 ◎ コア営業利益は、海外売上収益の増収により売上総利益が増益となったものの、販売費及び一般管理費や研究開発費が増加し、減益となりました。なお、コア営業利益に係る為替の増益影響は2億円となりました。 ◎ 親会社の所有者に帰属する四半期利益は、その他の費用が減少したものの、コア営業利益の減益に加え、法人所得税費用が増加したため、減益となりました。<日本の概況>(単位:億円) ◎ 日本の売上収益は、fgf23関連疾患治療剤クリースビータ等の新製品群が伸長したものの、2020年4月及び2021年4月に実施された薬価基準引下げの影響があったことに加え、一部製品の共同販売等終了の影響により、前年同期に比べ減少しました。・抗アレルギー点眼剤パタノールは、花粉飛散量の増加により、売上収益が増加しました。<北米・emea・アジア/オセアニアの概況>(単位:億円) ◎ 北米の売上収益は、グローバル戦略品が順調に伸長し、前年同期を上回りました。・抗悪性腫瘍剤poteligeo(日本製品名:ポテリジオ)は、堅調に売上収益を伸ばしました。 ◎ emeaの売上収益は、グローバル戦略品が順調に伸長し、前年同期を上回りました。・癌疼痛治療剤abstral(日本製品名:アブストラル)は、後発医薬品の浸透の影響や出荷調整等により、売上収益が前年同期を下回りました。 ◎ アジア/オセアニアの売上収益は、中国を中心に好調に推移し、前年同期を上回りました。<その他の売上収益> ◎ その他の売上収益は、前年同期を上回りました。・アストラゼネカ社からのベンラリズマブに関する売上ロイヤルティの増加に加え、抗lightヒト型モノクローナル抗体に関する全ての適応症及び全世界での開発、製造及び販売の権利をアーヴィジェノミックメディシン社に許諾する契約を締結したことに伴い技術収入が増加しました。 ③ コア営業利益 ◎ コア営業利益は、グローバル戦略品を中心とした海外の売上収益の増加に伴う売上総利益の増加があったものの、グローバル戦略品の価値最大化と競争力あるグローバルビジネス基盤の早期確立に向けた販売費及び一般管理費の増加や研究開発費の増加等により、前年同期に比べ減益となりました。(3)キャッシュ・フローに関する説明(単位:億円) ◎ 当第2四半期連結累計期間における現金及び現金同等物の期末残高は、前連結会計年度末の2,870億円に比べ57億円増加し、2,928億円となりました。 ◎ 営業活動によるキャッシュ・フローは、230億円の収入(前年同期は206億円の収入)となりました。一方、主な支出要因は、法人所得税の支払額65億円等であります。 ◎ 投資活動によるキャッシュ・フローは、19億円の支出(前年同期は2,165億円の収入)となりました。一方、収入要因は、持分法で会計処理されている投資の売却による収入51億円であります。 ◎ 財務活動によるキャッシュ・フローは、143億円の支出(前年同期は133億円の支出)となりました。', 'title': '売上収益は、日本は減収となったものの、北米及びemea(ヨーロッパ・中東・アフリカ)においてクリースビータ(x染色体連鎖性低リン血症治療剤)やポテリジオ(抗悪性腫瘍剤)などのグローバル戦略品が伸長し、アジアも中国を中心に好調に推移した結果、増収となりました。しかし、販売費及び一般管理費や研究開発費が増加したことに加えて、法人所得税費用が増加したため、親会社株主利益は減益となりました。'}, {'body': 'summarize: キヤノン。このような状況の中、当社関連市場においては、オフィス向け複合機の需要は、新型コロナウイルスの世界的な感染が拡大し市場が急激に縮小した前年同期を大幅に上回りました。レーザープリンターは、モノクロ機を中心に前年の水準を上回って推移しました。インクジェットプリンターは、引き続き先進国と新興国において在宅需要が好調に推移しました。当四半期は、オフィス向け複合機とプロダクション市場向け機器の販売台数がともに前年同期を上回りました。また、オフィスの稼働率が回復に向かった結果、サービスと消耗品の売上も増加しました。レーザープリンターとインクジェットプリンターにより構成されるプロシューマーについては、レーザープリンターは、在宅勤務に伴う需要が増加しましたが、生産活動が停滞した影響により、全体の販売台数は前年同期を下回りました。一方で、インクジェットプリンターは、新型コロナウイルスの感染拡大により急速に在宅需要が高まった前年同期の販売台数を下回ったものの、大容量インクモデルの販売が伸び、増収となりました。また、多様な用途への展開が進むネットワークカメラは販売活動を強化し、増収となりました。医療機器は、ct装置やx線診断装置などが売上を牽引し、主要な地域において増収となりました。半導体露光装置は堅調に推移し、fpd露光装置は前年同期を大きく上回りましたが、一部の顧客が投資時期を見直した影響などがあり、有機elディスプレイ製造装置は前年同期を下回りました。これらの結果、当四半期の売上高は、前年同期比31.0%増の8,819億円となり、当四半期累計では18.5%増の1兆7,246億円となりました。売上総利益率は、前年同期を6.5ポイント上回る47.4%となりました。営業費用はグループを挙げて経費の効率的な運用に注力したことに加え、構造改革の成果が表れ、経費率は大きく改善したものの、為替の影響などにより前年同期比16.1%増の3,404億円となりました。その結果、営業利益は前年同期の営業損失から黒字に転換し、773億円となりました。営業外収益及び費用は有価証券評価損などにより、前年同期比で20億円悪化し、85億円の収益となりました。税引前四半期純利益は858億円、当社株主に帰属する四半期純利益は611億円となり、ともに前年同期の純損失から大幅な反転となりました。当四半期累計では、営業利益は前年同期比877.6%増の1,478億円、税引前四半期純利益は前年同期比456.4%増の1,518億円、当社株主に帰属する四半期純利益は前年同期比707.9%増の1,056億円となりました。基本的1株当たり当社株主に帰属する四半期純利益は、前年同期の純損失から反転し、66円93銭増の58円48銭、当四半期累計では88円58銭増加し100円99銭となりました。(2)事業の種類別セグメントの状況当四半期の業績をビジネスユニット別に概観しますと、プリンティングビジネスユニットでは、オフィス向け複合機のimagerunner advance dxシリーズの販売が好調に推移し、販売台数は前年同期を上回りました。プロダクション市場向け機器も売上を伸ばし、販売台数は前年同期から大幅に増加しました。サービスと消耗品は、オフィスの稼働率が回復に向かい、オフィス向け複合機を中心に顧客のプリントボリュームが上向いた影響により、増収となりました。プロシューマーについては、レーザープリンターは、在宅勤務に伴う需要が増加しましたが、東南アジアにおけるロックダウンの影響により生産活動が停滞し、モノクロ機、カラー機ともに前年同期を下回りました。一方で、消耗品は、新型コロナウイルスの影響により需要が減退した前年同期を大きく上回りました。インクジェットプリンターは、全体としては新型コロナウイルスの感染拡大により急速に在宅需要が高まった前年同期の販売台数を下回ったものの、世界的に堅調な需要を背景に大容量インクモデルの販売台数は前年同期を上回り、増収となりました。これらの結果、当ユニットの売上高は、前年同期比24.5%増の4,896億円となり、税引前四半期純利益は前年同期比229.5%増の660億円となりました。当四半期累計の売上高は10.1%増の9,590億円、税引前四半期純利益は57.0%増の1,206億円となりました。イメージングビジネスユニットでは、レンズ交換式デジタルカメラは、コロナ禍が続く中、カメラを新たな趣味とする顧客の購買意欲を捉えるとともに、eos r5とeos r6の販売が好調に推移した結果、全体の販売台数は前年同期を上回りました。また、製品ラインアップを強化したレンズの売上が大きな伸びを示しました。ネットワークカメラは、新型コロナウイルスの影響を受けたものの、防犯や災害監視など従来のニーズに加え、遠隔モニタリングや人の密集度合いの把握など、用途の多様化を背景に販売活動を強化し、増収となりました。これらの結果、当ユニットの売上高は、前年同期比77.8%増の1,698億円となり、税引前四半期純利益は前年同期の赤字から黒字に転換し、209億円となりました。当四半期累計の売上高は47.9%増の3,185億円、税引前四半期純利益は前年同期の赤字から反転し389億円となりました。メディカルビジネスユニットでは、新型コロナウイルスの再拡大により一部の地域では商談・据付への影響がありましたが、販売が好調な日本に加え、海外も欧米を中心にct装置やx線診断装置の売上が伸長した結果、当ユニットの売上高は前年同期比9.7%増の1,118億円となりました。一方で、税引前四半期純利益は、昨年は見送った展示会への出展などの活動を再開した影響により、前年同期比36.5%減の38億円となりました。当四半期累計の売上高は13.6%増の2,362億円となり、税引前四半期純利益は53.0%増の155億円となりました。インダストリアルその他ビジネスユニットでは、センサーや車載、メモリー向け半導体露光装置は堅調に推移し、好調だった前年並みの販売台数となりました。fpd露光装置については、パネルの需要が伸び、販売台数は新型コロナウイルスにより設置が停滞していた前年同期を大きく上回りました。一方で、一部の顧客が投資時期を見直した有機elディスプレイ製造装置は減収となりました。これらの結果、当ユニットの売上高は、前年同期比38.7%増の1,381億円となり、税引前四半期純利益は前年同期比733.4%増の156億円となりました。当四半期累計の売上高は32.4%増の2,626億円、税引前四半期純利益は177.6%増の248億円となりました。(3)キャッシュ・フローの状況当四半期累計の営業キャッシュ・フローは、大幅な増益と運転資金の改善により、前年同期比1,318億円増加し、2,726億円の収入となりました。投資キャッシュ・フローは、固定資産の売却が減少したことなどにより、前年同期から75億円増加し、804億円の支出となりました。この結果、フリーキャッシュ・フローは前年同期比で1,243億円増加し、1,922億円の収入となりました。財務キャッシュ・フローは、長期債務の返済や配当金の支払いなどの支出があった結果、897億円の支出となりました。これらの結果、当四半期末の現金及び現金同等物は、為替変動の影響分を合わせて、前期末から1,159億円増加し、5,236億円となりました。当社関連市場においては、オフィス向け複合機は、オフィスの稼働率が回復するとともに、imagerunner advance dxシリーズの需要は増加する見込みです。レーザープリンターは、在宅需要の増加に加えて、オフィスの需要が回復に向かうと予想されるため、前年を上回る見通しです。インクジェットプリンター市場は、新型コロナウイルスの影響により定着した在宅勤務や在宅学習におけるプリントボリュームが見込まれるため、堅調に推移する見通しです。医療機器については、新型コロナウイルス感染再拡大による影響が懸念されますが、医療機関向け営業活動が進み、市場は回復を続ける見通しです。通期の連結業績見通しは、各地域の旺盛な需要を背景に、インクジェットプリンター、フルサイズミラーレスカメラ、医療機器や半導体露光装置などの販売が順調に伸びている状況とオフィス市場において見込まれるプリント需要の回復を考慮した結果、この為替レートを前提として、売上高3兆6,000億円(前期比13.9%増)、営業利益2,830億円(前期比156.0%増)、税引前当期純利益2,980億円(前期比128.7%増)及び当社株主に帰属する当期純利益2,010億円(前期比141.2%増)としております。', 'title': 'ユニット別にみると、プリンティングビジネスユニットでは、オフィス稼働率の回復に伴い、オフィス向け複合機が販売好調であり、併せてサービスと消耗品も回復しました。また、インクジェットプリンターも前年の在宅特需の反動はありましたが堅調を維持し、同ユニットは大幅増益となりました。その他、イメージングビジネスユニットは、デジタルカメラなどの販売が好調で前年同期の赤字から黒字転換しました。通期見通しに関しては、7月19日に上方修正済みであり、据え置きました。'}, {'body': \"summarize: 富士フイルムホールディングス。(単位:億円)当社グループの2021年3月期における連結売上高は、バイオcdmo事業、医薬品事業、電子材料事業などで売上を伸ばしましたが、フォトイメージング事業、光学・電子映像事業、ドキュメント事業の売上減少などにより2兆1,925億円(前年同期比5.3%減)となりました。【事業セグメント別の売上高】(単位:億円)【事業セグメント別の営業利益】(単位:億円)「イメージングソリューション部門」イメージングソリューション部門の連結売上高は、2,852億円(前年同期比14.2%減)となりました。当部門の営業利益は、156億円(前年同期比37.8%減)となりました。フォトイメージング事業では、新型コロナウイルス感染症(以下、covid-19)流行拡大によるイベント自粛・中止の影響などにより、売上は減少しましたが、撮影したその場で写真をプリントして楽しめるインスタントフォトシステムが下期では前年を上回る売上となりました。「ヘルスケア&マテリアルズソリューション部門」ヘルスケア&マテリアルズソリューション部門の連結売上高は、10,526億円(前年同期比2.8%増)となりました。当部門の営業利益は、1,075億円(前年同期比16.3%増)となりました。メディカルシステム事業では、covid-19流行拡大により病院への営業活動自粛や商談遅延など一部影響を受けたものの、covid-19関連の検査に有用な製品(回診用デジタルx線撮影装置、超音波画像診断装置)の需要拡大などにより、第3四半期に続き、第4四半期の売上も前年を上回りました。抗菌材料分野では、銀系材料と超親水ポリマーを組み合わせることにより、長時間にわたり高い抗菌・抗ウイルス性能が持続する独自の抗菌技術「hydro ag+(ハイドロエージープラス)」を活用したアルコール製剤、薬用ハンドジェル、抗菌フィルムの販売が急増し、売上が大幅に増加しました。超音波診断分野では、欧州や日本を中心としたcovid-19流行下での需要増にタイムリーに対応したことに加え、2020年7月に米国、同8月に欧州、2021年1月に日本で販売を開始した超音波画像診断装置「sonosite px」の販売が好調に推移し、売上が増加しました。内視鏡分野では、特殊光観察が可能な「7000システム」などの販売が中国において堅調に推移しました。体外診断(ivd)分野では、上期に国内外ともcovid-19流行の影響を受けたものの、下期は海外の動物市場を中心に血液生化学検査「富士ドライケム」機器・スライドの販売が好調に推移しました。医薬品事業では、期首より、covid-19治療薬としての承認が期待されている抗インフルエンザウイルス薬「アビガン®錠」(一般名:ファビピラビル)の増産に向けて、富士フイルム和光純薬株式会社や国内外の協力企業と新たなサプライチェーンを構築しました。日本政府から要請のあった国家備蓄の積み増し(164百万錠)や、提携先であるインド大手製薬企業dr.reddy's laboratories ltd.、及び世界的な医療物資・医薬品提供会社global response aid ltd.からのライセンス収入、海外への提供などにより、売上は増加しました。バイオcdmo事業では、バイオ医薬品のプロセス開発受託及び製造受託が好調に推移し、売上が増加しました。事業成長を一段と加速させるため、2020年6月には、約1,000億円を投じてデンマーク拠点に製造設備を増強することを発表しました。再生医療事業では、fujifilm irvine scientific,inc.(米国)が展開するバイオ医薬品製造用途の培地販売が好調に推移し、売上が増加しました。また、fujifilm cellular dynamics,inc.(米国)が展開する医薬品候補化合物の評価試験などに使用するips細胞由来分化細胞を、製薬企業やアカデミアに提供する創薬支援事業、及び次世代がん免疫治療薬に使用する他家ips細胞の開発受託事業が好調でした。ライフサイエンス事業では、新製品を中心に化粧品の販売が好調だったことに加え、サプリメント「メタバリアex」などが好調に推移し、全体の売上が増加しました。ディスプレイ材料事業では、covid-19の流行下でのモニター及びタブレット需要の増加や、tvの販売好調に加えて、スマートフォン需要の回復に伴い、各種の高機能フィルム製品の販売が好調に推移し、全体の売上が増加しました。産業機材事業では、covid-19流行拡大の影響を受けて非破壊検査用機器・材料などの販売が減少しましたが、在宅勤務・在宅学習向けのモバイルpc需要が増加したことにより、タッチパネル用センサーフィルム「エクスクリア」の販売が好調に推移しました。、ファインケミカル事業では、covid-19の流行拡大により大学や企業の研究活動が停滞し、試薬の需要減少などの影響を受けた一方で、需要が増加した消毒用エタノールなどの販売が堅調に推移し、全体の売上が増加しました。記録メディア事業では、covid-19流行下で在宅勤務などに対応する通信インフラの能力増強が優先され、データアーカイブへの投資が抑制されたことなどを背景にテープ需要が落ち込み、売上は減少しました。グラフィックシステム事業では、刷版材料分野において、covid-19流行拡大の影響による需要の減少を受けて売上が減少しました。インクジェット事業では、産業用インクジェットヘッドの販売が中国のセラミック市場での需要増により堅調に推移しました。「ドキュメントソリューション部門」ドキュメントソリューション部門の連結売上高は、8,547億円(前年同期比10.8%減)となりました。当部門の営業利益は、733億円(前年同期比30.2%減)となりました。オフィスプロダクト&プリンター事業では、オフィスプロダクト分野で、日本・中国及びアジアパシフィック地域のそれぞれで販売台数が前年を上回りました。オフィスプリンター分野は、販売台数が前年から減少しました。プロダクションサービス事業では、covid-19流行拡大の影響による経済の先行き不透明感から顧客が投資を抑制したことで、販売台数は前年から減少しました。ソリューション&サービス事業では、covid-19流行拡大の影響を受けて、営業活動が制限されたことなどにより、全体の売上が減少しましたが、在宅勤務を始めとする新たな働き方を支援するソリューションの販売が好調に推移し、第4四半期では前年を上回る売上となりました。\", 'title': '主力のヘルスケア&マテリアルズソリューション部門の事業は増収増益となりました。メディカルシステム事業は新型コロナウイルス感染症の拡大により、営業活動自粛などの影響を受けたものの、第3四半期から売上が回復しました。バイオ医薬品cdmo(受託開発)事業も売上は好調に推移しました。'}, {'body': 'summarize: 日本電子。この結果、当第1四半期連結累計期間の経営成績は、売上高が23,794百万円(前年同期比13.6%増)となりました。損益面におきましては、営業利益が872百万円(前年同期比997.2%増)、経常利益は1,093百万円(前年同期比166.2%増)、親会社株主に帰属する四半期純利益は763百万円(前年同期比560.8%増)となりました。 ① 理科学・計測機器事業電子顕微鏡を中心とした引合いは好調に推移し、売上高は堅調に推移しました。この結果、当事業の売上高は12,854百万円(前年同期比9.8%増)となりました。② 産業機器事業電子ビーム描画装置を中心に、受注が好調に推移し、売上高についても好調に推移しました。この結果、当事業の売上高は6,452百万円(前年同期比16.5%増)となりました。③ 医用機器事業生化学自動分析装置を中心とした引合いが好調に推移し、売上高は堅調に推移しました。この結果、当事業の売上高は4,487百万円(前年同期比21.0%増)となりました。一方、当第1四半期連結会計期間末の純資産合計は、利益剰余金の増加に伴い51,364百万円となりました。その結果、当第1四半期連結会計期間末の自己資本比率は前連結会計年度末から1.5ポイント増加し36.3%となりました。なお、当社の売上・利益は第4四半期に集中する傾向があります。', 'title': '理科学・計測機器事業では、電子顕微鏡を中心とした引き合いが好調に推移しました。産機器事業ではeuv露光装置市場の拡大にともない、マルチビーム描画装置を中心に受注が好調に推移し、同事業のセグメント利益は大幅増となりました。'}, {'body': 'summarize: 武田薬品工業。当社は、グローバルに展開した事業基盤をもとに、世界の主要各国で医療用医薬品を販売しております。特に2019年1月にshire plc.(以下、「shire社」)を買収したことにより、当社の消化器系疾患およびニューロサイエンス(神経精神疾患)の領域が強化され、希少疾患と血漿分画製剤の主導的地位を獲得しました。当社は、本買収や投資、独自の研究開発提携モデルを通じて、相互補完的で強固かつ多様なモダリティ(創薬手法)のパイプラインを構築しました。当社は、shire社買収の対価の現金部分の資金を調達するため、多額の負債を計上しましたが、主に営業活動から生じるキャッシュ・フローを用いて、負債の削減を進める方針です。当社の主要な疾患領域のうち、消化器系疾患および血漿由来の免疫疾患治療は増収となりました。しかしながら、これら疾患領域における増収は、希少疾患における競争の激化や後発品の浸透による影響、および製品ポートフォリオ全般に亘った為替変動による減収影響を受けて相殺されました。当年度における新型コロナウイルス感染症(covid-19)のグローバルな流行拡大に伴う売上収益に対する全体的な影響は、重要性のあるものではありませんでした。当社の主要な疾患領域以外の売上収益は、複数の事業売却による減収影響、および高尿酸血症治療剤「ユーロリック」や痛風治療剤「コルクリス」等の特許満了製品の減収影響を受け、1,307億円の減収(△18.5%)となりました。・消化器系疾患消化器系疾患領域の売上収益は、前年度から799億円増収(+11.4%)の7,778億円となりました。当社のトップ製品である潰瘍性大腸炎・クローン病治療剤「エンティビオ」(国内製品名:「エンタイビオ」)の売上が伸長し、前年度から821億円増収(+23.6%)の4,293億円となり、売上成長を牽引しました。本剤は需要の増加により、米国内の売上が、前年度から550億円増収(+23.0%)の2,943億円となり、欧州およびカナダにおける売上は、前年度から210億円増収(+23.9%)の1,089億円となりました。・希少疾患希少疾患領域の売上収益は、前年度から431億円減収(△6.8%)の5,917億円となりました。希少血液疾患領域の売上収益は、444億円減収(△13.3%)の2,898億円となりました。これは主に米国の血友病aのインヒビター非保有市場における競争の激化によるものです。「ファイバ」の売上は、主に欧州において、インヒビター保有市場の出血予防セグメントにおける競争圧力が高まったことにより、70億円減収(△13.6%)の445億円となりました。また、希少代謝性疾患領域の売上収益は、82億円減収(△4.8%)の1,626億円となりました。遺伝性血管性浮腫領域の売上収益は、95億円増収(+7.3%)の1,393億円となりました。・血漿由来の免疫疾患治療血漿由来の免疫疾患治療領域の売上収益は、前年度から262億円増収(+6.7%)の4,204億円となりました。免疫グロブリン製剤の売上合計は、強い需要と供給能力の拡大により、362億円増収(+12.1%)の3,349億円となりました。また、主に血液量減少症と低アルブミン血症の治療に用いられる「human albumin」と「flexbumin」を含むアルブミン製剤の売上合計は前年度から96億円減収(△14.3%)の576億円となりました。・オンコロジーオンコロジー(がん)領域の売上収益は、前年度から44億円減収(△1.1%)の4,165億円となりました。多発性骨髄腫治療剤「ニンラーロ」の売上は、服薬の利便性が高い経口投与の製品特性もあり、特に米国と中国での好調な業績が成長に寄与し、前年度から98億円増収(+12.7%)の874億円となりました。また、悪性リンパ腫治療剤「アドセトリス」の売上は、近年、複数の効能追加を取得した日本において特に伸長し、前年度から68億円増収(+12.8%)の594億円となりました。白血病治療剤「アイクルシグ」の売上は、米国における新たなオムニチャネル販促アプローチおよび米国外における地理的拡大により、前年度から24億円増収(+7.5%)の342億円となりました。非小細胞肺がん治療剤「アルンブリグ」の売上は、引き続き欧州および新興諸国での上市があったことにより、前年度から16億円増収(+21.7%)の88億円となりました。多発性骨髄腫治療剤「ベルケイド」の売上は、前年度から172億円減収(△14.5%)の1,011億円となり、うち、米国外の売上にかかるロイヤルティ収益は、2019年の欧州および中国における後発品の参入により、前年度から47億円の大幅な減収(△49.4%)の48億円となりました。米国内の売上は、covid-19に関連する懸念から患者さんが受診を控え、第一選択薬としての新規処方患者数が減少したこと、および2020年5月初めに競合他社の皮下注射製剤が米国において上市されたことから、前年度から125億円減収(△11.5%)の963億円となりました。子宮内膜症・子宮筋腫・閉経前乳がん・前立腺がん等の治療に用いられる特許満了製品の「リュープリン」(一般名:「リュープロレリン」)は、前年度から137億円減収(△12.5%)の954億円となりました。・ニューロサイエンスニューロサイエンス(神経精神疾患)領域の売上収益は、前年度から212億円減収(△4.8%)の4,173億円となりました。減収影響の一部は、アルツハイマー病治療剤「レミニール」の後発品が、2020年6月に日本において上市されたことによるものであり、同剤の売上は前年度から101億円減収(△58.3%)の72億円となりました。また、不眠症治療剤「ロゼレム」の売上も、2019年7月に米国における独占販売期間が満了したことによる減収影響を受け、25億円減収(△17.0%)の120億円となりました。注意欠陥/多動性障害(adhd)治療剤「adderall xr」の売上は、主に後発品参入による競争の影響を受け、65億円減収(△26.9%)の178億円となりました。adhd治療剤「バイバンス」(国内製品名:「ビバンセ」)の売上は、前年度から25億円減収(△0.9%)の2,715億円となりました。大うつ病(mdd)治療剤「トリンテリックス」の売上は、前年度から18億円減収(△2.5%)の689億円になりました。これらの減少は、adhd治療剤「インチュニブ」の売上が、主に日本における需要の増加およびcovid-19によるライセンシーの在庫積み増しの影響を受け、前年度から58億円増収(+39.5%)の204億円となったことにより、一部相殺されております。この減少は、「コルクリス」や「ベルケイド」等の特許満了品を含む利益率の高い製品の売上減少に伴う売上原価の増加により一部相殺されております。この増加は主に、武田コンシューマーヘルスケア株式会社株式および関連資産の売却に伴う譲渡益1,395億円およびその他ノン・コア資産の譲渡に伴う益894億円により、2,289億円の譲渡益を当年度に計上したことによるものです。また、当年度においてshp647および関連する権利の売却に関する当社グループの義務を解除する2020年5月の欧州委員会の決定に伴い、当社グループがshp647に関する臨床試験プログラムを中止する意思決定を行ったことを反映し、これまで計上していた当該プログラムに関連する負債の再見積りを行った結果、602億円の再評価益を計上したことによるものです。これは、当社グループとtevapharmaceutical industries ltd.が設立した合弁会社である、武田テバ薬品株式会社に移管した長期収載品事業に関連する無形資産の減損に伴う繰延事業譲渡益の実現額を前年度に計上したことによるものです。当年度の金融損失の増加は主に、2019年10月に上場した企業のワラントにかかるデリバティブ評価益が前年度から110億円減少したことによるものです。なお、当年度認識された減損損失は、武田テバファーマ株式会社においてジェネリック医薬品事業の一部および製造拠点の売却を決定したこと、および長期収載品事業の将来予測を見直したことに伴う、関連資産の回収可能価額の再評価によるものです。これら税金増加の影響は、在外子会社の適用税率との差異、未認識であった繰延税金資産の認識による税務便益、および当年度の税務調査における有利な結果と一部相殺されております。タケダの14のグローバル製品(注)の実質的な売上収益は、米国における「natpara」の回収や特許が満了した製品の減収影響があったものの、前年度から+16.0%成長しました。・2020年3月に売却が完了した中近東・アフリカ諸国における一部の一般用医薬品およびノン・コア資産に係る前年度の売上収益を控除して調整しております。・2020年3月に売却が完了したロシア、ジョージアなどの独立国家共同体の国々における一部の一般用医薬品およびノン・コア資産に係る前年度の売上収益を控除して調整しております。・2020年11月に売却が完了したアジア太平洋における一部の一般用医薬品およびノン・コア資産に係る当年度と前年度の売上収益を控除して調整しております。・2020年12月に売却が完了した主に欧州における一部のノン・コア資産に係る当年度と前年度の売上収益を控除して調整しております。・2021年1月に売却が完了した中南米における一部の一般用医薬品およびノン・コア資産に係る当年度と前年度の売上収益を控除して調整しております。〔実質的なcore営業利益の成長〕実質的なcore営業利益の成長は、特許満了品を含む利益率の高い製品の売上減少に伴う売上総利益の減少があったものの、covid-19の影響による経費減少およびコストシナジー等を反映し、前年度から+13.0%となりました。shire社の統合費用や企業結合会計に伴う非資金性の費用など、当社の本業に起因しない(ノン・コア)事象による影響を控除した当年度のcore営業利益は9,679億円となりました。これは主に、前年度に「xiidra」の売却があったものの、当年度に武田コンシューマーヘルスケア株式会社株式およびその他ノン・コア資産の売却があったことに伴い、事業売却による収入が688億円増加したことによるものです。当社は、当社製品の需要動向について注視しておりますが、当社の医薬品は病院での待機手術を要しない重篤な慢性疾患や生命を脅かす恐れのある疾患に対するものが多く、これまでのところ影響は限定的です。2021年度の業績予想[売上収益]売上収益は、タケダの14のグローバル製品のモメンタムと、日本の糖尿病治療剤ポートフォリオの譲渡(注)による一時的な収益の計上によって、事業等の売却影響を吸収し、当年度から1,722億円増収(+5.4%)の3兆3,700億円を見込んでいます。5つの主要ビジネスエリアのうち、消化器系疾患では「エンティビオ」や「gattex/revestive」、オンコロジーでは「ニンラーロ」、「アドセトリス」および「アルンブリグ」、ニューロサイエンスでは「バイバンス」や「トリンテリックス」などの主力製品が引き続き伸長することを見込んでいます。希少疾患では、遺伝性血管性浮腫の発作予防剤「takhzyro」がさらに市場浸透するとともに、血漿由来の免疫疾患治療の領域では、免疫グロブリン製剤やアルブミン製剤が好調に推移することを見込んでいます。(注)2021年4月、当社は、日本における糖尿病治療剤ポートフォリオの1,330億円での帝人ファーマ株式会社への譲渡[営業利益およびcore営業利益]core営業利益は、革新的なパイプラインに投下する研究開発費を大幅に増加させるため、当年度から379億円減益(△3.9%)の9,300億円を見込んでいます。営業利益についても、core営業利益の減益と概ね同じ理由であり、研究開発費を増額させることから、当年度から213億円減益(△4.2%)の4,880億円を見込んでいます。当社の資本配分に関する基本方針は次の通りです。このため、保険者は保険償還対象となる医薬品をより厳格に選定するようになっており、各国政府は後発品やバイオシミラーの使用を促進し、薬価引き下げの圧力を強めています。本買収は、事業展開の地域バランスの改善と米国をはじめとする主要な市場における競争力の源泉となる規模をもたらし、当社は、世界の大手製薬企業と伍していける力を得ました。連結売上収益に占める米国の割合は約半数にまで高まっております。', 'title': '2021年3月期の売上高は、当社の主要セグメントのうち、消化器系疾患および血漿由来の免疫疾患治療は増収となりました。しかしながら、希少疾患における競争の激化や後発品の浸透による影響、為替変動による減収影響を受けて相殺されました。当年度における新型コロナウイルス感染症に伴う影響は、軽微でした。'}, {'body': 'summarize: 花王。ワクチンへの期待は高まっていますが、新規感染者数は増加と減少を繰り返し、各国・地域で行われている出入国規制や外出制限及び店舗閉鎖等により消費の回復が遅れる等、世界経済は不透明な状況が続きました。当社グループの主要市場である日本のコンシューマープロダクツ(化粧品及びトイレタリー)市場は、小売店の販売実績や消費者購入調査データによると、感染症拡大により前年同期で発生した衛生関連製品を中心とした需要拡大の反動を受け、2021年1月から3月において前年を下回りました。トイレタリー商品の平均単価は、大容量化が進み前年同期に対して7ポイント上昇しました。1.ハイジーン&リビングケア事業を新設し、従来、ファブリック&ホームケア事業に分類していたファブリックケア製品、ホームケア製品に加え、ヒューマンヘルスケア事業のサニタリー製品を組み入れています。コンシューマープロダクツ事業売上高は、前年同期に対して7.3%減の2,566億円(実質7.8%減)となりました。感染症拡大により、前年同期に発生した衛生関連製品を中心とした需要拡大の反動で、さまざまなカテゴリーで市場が縮小しました。さらに各国・地域で行われたロックダウンや緊急事態宣言の影響を受けました。当社は、【ハイジーン&リビングケア事業】、【ヘルス&ビューティケア事業】、【ライフケア事業】、【化粧品事業】を総称して、コンシューマープロダクツ事業としています。【ハイジーン&リビングケア事業】売上高は、日本やアジアで感染症拡大によって、前年に発生した需要拡大の反動の影響を大きく受け、前年同期に対し6.1%減の1,123億円(実質6.5%減)となりました。ファブリックケア製品は、日本ではコロナ禍における清潔意識の高まりの影響もあり、衣料用洗剤の売り上げは堅調に推移しましたが、アジアでは前年を下回りました。ホームケア製品は、日本では台所用漂白剤や住居用洗浄剤等の衛生関連製品で市場全体が縮小し、売り上げは減少しましたが、アジアでは引き続き好調に推移しました。サニタリー製品は、生理用品「ロリエ」は、中国で順調に売り上げを伸ばしましたが、日本では前年同期に比べ市場が大幅に縮小し、売り上げは大きく減少しました。【ヘルス&ビューティケア事業】売上高は、衛生関連製品を中心に、前年同期の需要拡大の反動が影響したこと等で、前年同期に対して6.0%減の815億円(実質6.3%減)となりました。スキンケア製品は、日本では前年同期にハンドソープ等の衛生関連製品の市場が大幅に拡大した反動により、売り上げは減少しましたがシェアは伸長しました。ヘアケア製品は、売り上げは減少しました。日本では市場の回復が遅れており、また欧米のヘアサロン向け製品は、欧州でロックダウンの影響を受けましたが、米国の「oribe(オリベ)」が、eコマースを中心に好調に推移したこと等により、売り上げは伸長しました。巣ごもり需要により入浴剤は好調に推移しましたが、インバウンド需要が減少した影響を受けました。【ライフケア事業】売上高は、前年同期に対して3.0%増の118億円(実質3.4%増)となりました。業務用衛生製品は、日本では感染症拡大が継続し、衛生管理や感染症対策が特に必要な医療関連施設や飲食店等で、手指消毒液等の需要が高まり、売り上げは伸長しました。健康飲料は、特定保健用食品「ヘルシア」が、緊急事態宣言が延長したこと等で市場が伸び悩み、売り上げは前年同期に比べて減少しました。【化粧品事業】売上高は、前年同期に対して13.7%減の510億円(実質14.7%減)となりました。化粧品事業は、日本ではインバウンド需要が消滅し、さらに緊急事態宣言の延長等が影響したことで、市場の回復が遅れ、売り上げは大きく減少しました。欧州では、ロックダウンに伴う店舗閉鎖の影響を受けました。一方、アジアでは中国で「フリープラス」や「キュレル」が引き続き好調に推移し、売り上げは大きく伸長しました。ケミカル事業売上高は、前年同期に対して4.7%増の731億円(実質3.6%増)となりました。油脂製品では、殺菌や洗浄用途の油脂誘導体製品が堅調に推移したことに加えて、天然油脂価格の上昇に伴う販売価格の改定に努めたこともあり、売り上げは伸長しました。機能材料製品は、自動車関連分野等での需要回復の動きも受けて、堅調に推移しました。スペシャルティケミカルズ製品では、一時の市場低迷からは回復傾向にあるものの、トナー・トナーバインダーが需要減少の影響を受けて、売り上げは減少しました。現時点では、新型コロナウイルス感染症拡大により不透明な経営環境が続くことが予想されますが、今期からスタートした5ヵ年にわたる花王グループ中期経営計画「k25」の戦略を着実に実行し、公表数値の達成を目指していきます。', 'title': '2021年1-3月期は、主力のコンシューマープロダクツ(化粧品及びトイレタリー)事業が減収となりました。コロナ禍により、前年同期に発生した衛生関連製品を中心とした需要拡大の反動で、さまざまなカテゴリーで市場が縮小しました。さらに、各国・地域で行われたロックダウンや緊急事態宣言の影響も受けました。'}, {'body': 'summarize: カネカ。(1)経営成績に関する説明➢世界経済の状況当第1四半期(2021年4月〜6月、以下1q)の世界経済は、先進国を中心としたワクチン接種の普及や各国の財政・金融政策が下支えし、全体として回復基調が続きました。➢当社グループの業績このような状況のなか、当社グループの1qの業績は、売上高164,106百万円(前年同期比29.6%増)、営業利益11,848百万円(前年同期比483.9%増)、経常利益10,765百万円(前年同期比1,207.6%増)、親会社株主に帰属する四半期純利益7,757百万円(前年同期比1,674.9%増)となりました。海外市場を中心に先端事業・コア事業ともに強いモメンタムを継続しています。四半期として、売上高は過去最高を更新し、営業利益は前年3q、4qをさらに上回りました。新型コロナウイルス感染拡大による世界経済の大停滞に直面した前年同期に比べ、すべての事業セグメントで増収増益となりました。2022年3月期第1四半期連結業績(単位:百万円)セグメント別売上高・営業利益(単位:百万円)各セグメントの状況は次のとおりです。① material solutions unit ➢ vinylsは、pvcはアジア市場の活発な需要が継続し、衛生用手袋向けペーストの販売も堅調となりました。② quality of life solutions unit ➢ foamのスチレン系発泡樹脂、押出し発泡ボードは、国内需要が回復していますが、原材料高騰の影響を受けました。③ health care solutions unit ➢ medicalは、コロナ禍を背景とした治療頻度の減少が続くなか、aso治療用の新血液浄化器は市場の評価が高く、販売数量が順調に増加しています。④ nutrition solutions unit ➢ supplementは、欧米消費者の「免疫力アップ」意識の高まりを背景に、還元型コエンザイムq10の販売が好調に推移しています。高付加価値品の拡販に注力しています。(2)財政状態に関する説明1q末の総資産は、棚卸資産の増加等により前期末に比べて7,164百万円増の674,594百万円となりました。また、純資産は、利益剰余金の増加等により5,121百万円増の386,162百万円となりました。事業環境の不透明感はますます深まっており、引き続き事業構造改革に注力し、着実に収益基盤の強化を進めてまいります。以上のことから、2021年5月13日公表の連結業績予想は変更いたしません。', 'title': '海外市場を中心に先端事業・コア事業ともに強いモメンタムが継続しました。四半期として、売上高は過去最高を更新し、営業利益は前年の第3四半期、第4四半期をさらに上回りました。新型コロナ感染拡大の影響を受けた前年同期に比べて、すべての事業セグメントで増収増益となりました。事業環境の不透明感から、通期見通しに関しては据え置かれました。'}, {'body': 'summarize: アドバンテスト。また5gスマートフォンメーカー間の販売競争は、関連する半導体の需要増と高機能化対応を促しました。加えてコロナ禍からの最終需要回復を受け、自動車向けを中心に、多様な用途で半導体不足感が顕著となりました。こうした環境下、当社は、強みとする幅広い製品ポートフォリオを活用することで、拡大する半導体試験需要の全方位的な取り込みに努めました。これらの結果、受注高は1,612億円(前年同期比2.6倍)となり、四半期受注としての過去最高額を大幅に更新しました。売上高も971億円(同45.5%増)と、受注同様に過去最高の数字を収めました。<半導体・部品テストシステム事業部門>(単位:億円)当部門では、soc半導体用試験装置は、ハイエンド化が進むスマートフォン関連や市況改善が進んだ車載・産業機器関連を中心に全般的に需要が伸びました。とりわけ微細化を通じてアプリケーション・プロセッサやhpc用デバイスの複雑化が進展し、当社製品の需要を力強く牽引しました。加えて顧客間で当社製品に対する先行確保の動きが強まったことも、soc半導体用試験装置の受注増の要因となりました。メモリ半導体用試験装置は、昨年から良好な市場環境が続く中、前年同期と同等の需要水準で推移しました。以上により、当部門の受注高は1,162億円(前年同期比2.7倍)、売上高は673億円(同59.2%増)、セグメント利益は244億円(同2.1倍)となりました。<メカトロニクス関連事業部門>(単位:億円)当部門では、メモリ半導体用試験装置の需要が高水準であったことを背景に、同装置向けのデバイス・インタフェースやテスト・ハンドラの需要が堅調でした。以上により、当部門の受注高は140億円(前年同期比64.9%増)、売上高は115億円(同29.1%増)、セグメント利益は20億円(同10.9倍)となりました。<サービス他部門>(単位:億円)当部門では、高規格なssdの普及やサーバー・パソコン市場の堅調さを主因として、システムレベル・テスト製品の受注が伸長しました。当部門でも当社製品の先行確保の動きが一部生じ、受注高の増加に繋がりました。以上により、当部門の受注高は310億円(前年同期比2.9倍)、売上高は184億円(同15.5%増)、セグメント利益は32億円(同12.6%減)となりました。営業活動によるキャッシュ・フローは、税引前四半期利益257億円を計上したことに加え、棚卸資産の増加(△73億円)、法人所得税の支払額(△67億円)に減価償却費などの非資金項目等の損益を調整した結果、146億円の収入(前年同期は、98億円の収入)となりました。(4)今後の見通し今後の市場環境を展望しますと、最終製品の需要拡大と高機能化に沿って半導体需要の拡大が見込まれる中、半導体供給不足を解消するための能力増強投資は当面持続するものと予想しています。当社においては、第1四半期の急峻な受注増の反動を今後見込むものの、第2四半期以降も一定以上の高水準な受注が継続すると想定しています。売上高については部材調達面での懸念はあるものの、今後の安定的な推移を予想しています。新型コロナウイルス感染症の影響については、各国における移動制限や都市封鎖による事業制約が継続していますが、当第1四半期連結累計期間の業績に対する影響は軽微であったと認識しています。上述の通り、中長期的にわたる市場環境の好調を現在想定していますが、当社は今後とも、外部環境の変化に機動的に対応することを最優先事項とし事業活動に臨みます。', 'title': 'ハイエンド化が進むスマホ向けや、市況改善が進んだ自動車や産業機器向けを中心に全般に需要が伸びました。今後について、受注急増の反動や部材調達面での懸念があるとしながらも、4月に発表した通期見通しを上方修正しています。'}, {'body': 'summarize: 日本ペイントホールディングス。連結営業利益は、各地で原材料価格が上昇したにも拘わらず、増収効果により486億55百万円(前年同期比40.3%増)となりました。連結税引前四半期利益は481億95百万円(前年同期比41.8%増)、親会社の所有者に帰属する四半期利益は337億31百万円(前年同期比99.7%増)となりました。≪日本≫当地域では、自動車用塗料については、半導体供給不足の影響を受けたものの、自動車生産台数が前年同期を上回り、売上収益は前年同期を上回りました。工業用塗料の売上収益については、新設住宅着工戸数など市況が堅調に推移したことに加え、建設機械市場など新型コロナウイルス感染症の影響からの回復が見られ、前年同期を上回りました。汎用塗料の売上収益については、新型コロナウイルス感染症の再拡大の影響に伴う塗装工事の遅延や新規発注の低迷により、前年同期並みとなりました。これらにより、当地域セグメントの連結売上収益は802億14百万円(前年同期比5.9%増)となりました。また、連結営業利益は73億47百万円(前年同期比6.9%増)となりました。≪アジア≫当地域では、2021年1月からのインドネシア事業の損益を当社グループの連結業績に反映しております。自動車用塗料の売上収益については、中国・タイにおいて自動車生産台数が前年同期を上回るなど、市況の回復が継続し、前年同期を上回りました。アジアの主力事業である汎用塗料の売上収益については、インドネシア事業の貢献に加え、中国において新築住宅等建設及び既存住宅向け内装需要の回復が継続したこと、また中国、マレーシア、シンガポール、インドネシア等の主要市場において、積極的な拡大策の結果、市場シェアも向上したこともあり、前年同期を上回りました。これらにより、当地域セグメントの連結売上収益は2,631億42百万円(前年同期比74.9%増)、連結営業利益は336億88百万円(前年同期比58.2%増)となりました。≪オセアニア≫当地域では、汎用塗料においては、前年の山火事や洪水の影響がなくなったことに加えて、住宅リノベーション需要が堅調に推移したことで、前年同期を上回りました。塗料周辺事業についても、同住宅リノベーション需要が堅調に推移したことで、前年同期を上回りました。これらにより、当地域セグメントの連結売上収益は841億69百万円(前年同期比25.9%増)、連結営業利益は112億43百万円(前年同期比35.4%増)となりました。≪米州≫当地域では、自動車用塗料の売上収益については、中核地域であるアメリカにおいて、半導体供給不足による生産調整の影響を受けたものの、自動車生産台数が前年同期を上回り、自動車部品の販売も堅調に推移したことで、前年同期を上回りました。汎用塗料の売上収益については、底堅い住宅需要や好天が影響し、前年同期を上回りました。これらにより、当地域セグメントの連結売上収益は384億円(前年同期比17.4%増)、連結営業利益は27億38百万円(前年同期比131.0%増)となりました。≪その他≫当地域では、自動車用塗料の売上収益については、半導体不足などの影響により各国で状況は異なるものの、新型コロナウイルス感染症の影響からの市況回復が継続し、前年同期を上回りました。汎用塗料及び塗料周辺事業の売上収益は、旺盛な市況の継続と販促活動の奏功により、前年同期を上回りました。これらにより、当地域セグメントの連結売上収益は317億34百万円(前年同期比61.6%増)、連結営業利益は23億62百万円(前年同期比156.3%増)となりました。(2)財政状態に関する説明当第2四半期連結会計期間末の総資産は前連結会計年度末と比較して3,026億34百万円増加し、1兆9,180億19百万円となりました。流動資産につきましては、前連結会計年度末と比較して329億40百万円減少しております。また、非流動資産につきましては、前連結会計年度末と比較して3,355億75百万円増加しております。負債につきましては、前連結会計年度末と比較して753億32百万円増加し、9,909億11百万円となりました。資本につきましては、前連結会計年度末と比較して2,273億2百万円増加し、9,271億7百万円となりました。以上の結果、親会社所有者帰属持分比率は前連結会計年度末の35.2%から47.9%となりました。2021年2月10日に公表した2021年12月期の連結業績予想につきましては、予想値を修正しております。', 'title': '自動車用塗料は半導体供給不足による自動車減産の影響を受けましたが、住宅向けは各地域とも堅調でした。営業利益ベースでは、原材料高も向かい風となりました。好調な中国やトルコの汎用塗料事業などを背景に通期見通しを引き上げたものの、市場予想には届きませんでした。'}, {'body': 'summarize: smc。自動制御機器の需要は、半導体関連は、中国を中心に日本・北米・欧州・アジアなど各地域とも高い水準が継続しました。自動車関連及び工作機械関連は、一部で半導体供給不足の影響はあったものの、ev関連投資の拡大などもあり、総じて好調でした。医療機器関連及び食品機械関連は、全般的に堅調でした。この結果、当社グループの売上高は182,774百万円(前年同四半期比42.7%増)となり、主に増収効果から営業利益は57,384百万円(同63.8%増)となりました。受取利息は減少したものの、円安による為替差益により、経常利益は61,366百万円(同66.9%増)、税金等調整前四半期純利益は61,411百万円(同68.7%増)、親会社株主に帰属する四半期純利益は45,963百万円(同98.0%増)となりました。自己資本四半期純利益率(roe)は、前年同四半期に比べ1.5ポイント上昇して3.3%となりました。(2)財政状態に関する説明当第1四半期連結会計期間末の総資産は、純利益の計上等による利益剰余金の増加、増収に伴う受取手形及び売掛金の増加を主な要因として、前連結会計年度末に比べ42,402百万円(2.8%)増加して1,582,274百万円となりました。利益剰余金の増加に伴い増加した現預金を積極的な設備投資及び新本社建設のための用地取得に充当し、有形固定資産が増加しました。負債合計は、前連結会計年度末に比べ9,228百万円(5.8%)増加して169,111百万円となりました。純資産は、前連結会計年度末に比べ33,174百万円(2.4%)増加して1,413,162百万円となりました。純利益の計上により利益剰余金が増加し、円安に伴い為替換算調整勘定が増加しました。この結果、自己資本比率は89.1%となりました。', 'title': '自動制御器の需要は、半導体関連では中国を中心に各地域で高い水準が継続しました。自動車関連及び工作機械関連は、一部で半導体供給不足の影響はあったもののの、ev関連投資の拡大などもあり総じて好調でした。半導体関連や米中向けの需要増を受け、通期の営業利益見通しを引き上げています。'}, {'body': 'summarize: ヤマトホールディングス。(1)経営成績に関する説明当第1四半期における経済環境は、世界的な新型コロナウイルス感染症の影響が続く中、製造業を中心に景況感の改善がみられるものの、国内外において感染が再拡大しており、依然として本格的な景気回復は見通しづらい状況にあります。当第1四半期の連結業績は、以下のとおりとなりました。当第1四半期の営業収益は4,198億41百万円となり、前年同期に比べ278億25百万円の増収となりました。これは、前年同期における1回目の緊急事態宣言下で急増した需要の反動があったものの、成長が加速するec領域への対応により荷物の取扱数量が増加したことやお客様の物流最適化に注力したことによるものです。営業費用は4,071億7百万円となり、前年同期に比べ250億44百万円増加しました。これは経営資源の最適配置によるコストの適正化を進めたものの、取扱数量の増加に伴う輸送費用の増加、燃料単価の上昇などに加え、本年4月からスタートした中期経営計画「oneヤマト2023」の推進に伴う戦略的費用が増加したことなどによるものです。この結果、当第1四半期の営業利益は127億34百万円となり、前年同期に比べ27億80百万円の増益となりました。なお、「収益認識に関する会計基準」(企業会計基準第29号2020年3月31日)等を当第1四半期連結会計期間の期首から適用しております。また、当社および国内連結子会社は、資産の使用実態をより反映した費用配分を行うため、従来定率法を採用していた有形固定資産の減価償却方法を、当第1四半期連結会計期間より定額法に変更し、あわせて、一部の車両運搬具の耐用年数を変更しております。<セグメント別の概況>当第1四半期連結会計期間より、報告セグメントの区分を変更しており、以下の前年四半期比較については、前年同四半期の数値を変更後のセグメント区分に組み替えた数値で比較分析しています。 ○リテール部門 ① リテール部門は、宅急便をはじめとする高品質な小口輸送サービスを提供しており、宅急便が持つあらゆるお客様との接点という特性を活かし、お客様のニーズに応える価値提供に取り組んでいます。なお、前期急増したec事業者様からの荷物を法人部門にシフトした結果、部門全体の営業収益は2,694億円となり、前年同期に比べ3.3%減少しました。営業費用は、燃料単価の上昇や取扱数量増加に伴う輸送費用が増加した一方で、人件費が減少したことなどにより、前年同期に比べ1.0%減少したものの、営業利益は前年同期に比べ87.0%減少しました。 ○法人部門 ① 法人部門は、ビジネスの中・上流領域を含む企業物流のサプライチェーン全体への価値提供を推進しています。 ⑤ 外部顧客への営業収益は、ec需要拡大への対応や法人顧客の物流最適化の推進、新型コロナウイルス感染症の影響で停滞していた輸出入の荷動きが回復し始めたことなどにより1,903億55百万円となり、前年同期に比べ10.0%増加しました。営業利益は81億26百万円となり、前年同期に比べ306.6%増加しました。 ② 外部顧客への営業収益は224億83百万円となり、前年同期に比べ20.5%増加しました。営業利益は46億97百万円となり、前年同期に比べ43億54百万円増加しました。(2)財政状態に関する説明総資産は1兆1,195億18百万円となり、前連結会計年度末に比べ295億26百万円増加しました。これは主に、受取手形、売掛金及び契約資産が69億9百万円、投資有価証券が時価評価等により63億46百万円増加したことによるものであります。負債は5,325億77百万円となり、前連結会計年度末に比べ268億73百万円増加しました。純資産は5,869億40百万円となり、前連結会計年度末に比べ26億53百万円増加しました。これは主に、その他の包括利益累計額が投資有価証券の時価評価等により55億9百万円増加した一方で、利益剰余金が会計方針の変更による累積的影響額により33億43百万円減少したことなどによるものであります。以上により、自己資本比率は前連結会計年度の52.9%から51.7%となりました。なお、第2四半期連結累計期間および通期の連結業績予想を、前回発表(2021年4月28日発表)から変更しております。', 'title': 'ec領域への対応による荷物の取扱数量の増加や顧客の物流最適化などにより増収となりましたが、取扱数量の増加に伴う輸送費用の増加や、燃料単価の上昇などで営業費用も増加しました。なお、「収益認識に関する会計基準」等を当第1四半期連結会計期間の期首から適用しています。通期見通しに関しては、投資事業組合運用益として営業外収益が約30億円計上されたことなどを踏まえ、経常利益と当期純利益が上方修正されています。'}, {'body': 'summarize: ソフトバンクグループ。1.業績ハイライト \\uf077 投資利益1兆2,631億円-持株会社投資事業からの投資利益7,415億円:tモバイル株式に係る未実現評価益2,285億円、条件付対価の公正価値上昇に伴うデリバティブ関連利益1,978億円、上場株式等への投資による投資利益2,103億円を計上-svf1およびsvf2等からの投資利益2,879億円・svf1:上場投資先の一部エグジットなどにより実現益(純額)3,097億円を計上。上場投資先で合計1,989億円の未実現評価益(純額)を計上(6社で合計8,994億円の利益計上の一方、coupangなど9社で合計7,005億円の損失)したほか、未上場投資先で合計973億円の未実現評価益(純額)を計上・svf2:実現益970億円および未実現評価益(純額)491億円を計上-ラテンアメリカ・ファンド事業からの投資利益2,194億円:投資の公正価値上昇により未実現評価益(純額)を計上 \\uf077 税引前利益1兆2,925億円(前年同期比4,584億円増加)-財務費用828億円*-デリバティブ関連損失(投資損益を除く)1,115億円*(*費用の当第1四半期計上額) \\uf077 親会社所有者に帰属する純利益7,615億円(前年同期比4,942億円減少)前年同期はsprint支配喪失に伴う利益など非継続事業からの純利益7,345億円を計上このうち当第1四半期に4社が上場したことにより、上場投資先は15社-資金化:投資の一部売却による手取金を基に分配を実施(当社は15億米ドルを受領) \\uf077 svf2:積極的な新規投資を実施-投資:当第1四半期に47銘柄への新規投資および既存投資先への追加投資で合計135億米ドルの投資を実施し、累計投資額は202億米ドルに。このうち当第1四半期に4社が上場したことにより、上場投資先は7社-資金化:上場株式の一部売却や資金化による手取金を基に分配を実施(当社は21億米ドルを受領) \\uf077 ソフトバンク・ラテンアメリカ・ファンド当第1四半期に10銘柄への新規投資および既存投資先への追加投資で合計8億米ドルの投資を実施。a売上高ソフトバンク事業とアーム事業はいずれも増収となりました。b持株会社投資事業からの投資損益tモバイル(sprint corporationと合併後のt-mobile us,inc.)株式に係る未実現評価益228,463百万円、一定の条件を満たした際にtモバイル株式を無償で取得できる権利(以下「条件付対価」)の公正価値上昇に伴うデリバティブ関連利益197,783百万円、上場株式等への投資に係る投資利益210,347百万円をそれぞれ計上しました。また、上場投資先について合計198,927百万円の未実現評価益(純額)を計上しました。このほか、未上場投資先について公正価値上昇を反映し97,265百万円の未実現評価益(純額)を計上しました。dラテンアメリカ・ファンド事業からの投資損益banco inter s.a.の株価上昇に加え、quintoandar,ltd.やvtex2などの未上場投資先の公正価値上昇により、219,236百万円の未実現評価益(純額)を計上しました。主にb〜dの結果、投資損益合計は1,263,068百万円の利益となりました。e財務費用持株会社投資事業で支払利息が6,445百万円増加しました。f持分法による投資損益アリババに係る持分法投資利益は前年同期比77,203百万円改善の58,731百万円3でした。前年同期に損失を計上したのは主に、2020年1〜3月期において、新型コロナウイルスの感染拡大による株式相場の急落に伴う同社のfvtplの金融資産に分類される投資先に係る投資損失を計上したことによるものです。主にa〜gの結果、税引前利益は前年同期比458,358百万円(55.0%)増加の1,292,478百万円となりました。主にa〜iの結果、親会社の所有者に帰属する純利益は前年同期比494,203百万円(39.4%)減少の761,509百万円となりました。(a)持株会社投資事業持株会社投資事業からの投資損益は、ソフトバンクグループ㈱が、直接または子会社を通じて保有する投資からの投資損益により構成されています。・資産運用子会社からの投資に係るデリバティブ関連利益119,511百万円を計上しました。・投資の実現益91,789百万円、投資の未実現評価益288,351百万円をそれぞれ計上しました。後者については、tモバイル株式に係る投資の評価益228,463百万円を計上したことに加え、公正価値上昇を反映してsofi technologies,inc.、wework、lemonade,inc.への投資に係る未実現評価益をそれぞれ49,382百万円、23,764百万円、21,460百万円計上したことなどによるものです。・投資に係るデリバティブ関連利益147,277百万円を計上しました。b財務費用:59,595百万円(前年同期比6,445百万円増加)・sb northstarの支払利息が5,956百万円となりました(前年同期は計上なし)。c持分法による投資利益:54,670百万円(前年同期比50,567百万円増加)・アリババに係る持分法投資利益は前年同期比77,203百万円改善の58,731百万円でした。前年同期に損失を計上したのは主に、2020年1〜3月期において、新型コロナウイルスの感染拡大による株式相場の急落に伴う同社のfvtplの金融資産に分類される投資先に係る投資損失を計上したことによるものです。dデリバティブ関連損失(投資損益を除く):108,105百万円・2019年11月および2020年4月から8月ならびに2021年5月に締結したアリババ株式の先渡売買契約に係るデリバティブ関連損失109,662百万円を計上しました。(b)svf1等sbiaの運営するファンド事業投資額合計740億米ドルに対し、保有投資先公正価値合計1,201億米ドル-累計実現益100億米ドル、累計デリバティブ関連利益15億米ドルおよび累計受取配当金7億米ドルを含めた、活動開始来の累計投資利益(グロス)は583億米ドルに(注1)セグメント利益a svf1およびsvf2等からの投資利益:391,562百万円・svf1-投資先1銘柄の全株式およびdoordash、uber、guardant healthなど上場投資先6社の一部株式を売却1したことにより、投資の実現益309,680百万円(純額)を計上しました。このうち、上場投資先について、coupangなど一部の上場投資先で株価が下落したものの、当第1四半期に上場したdidiおよびfull truck alliance、ならびにdoordashなどの投資先の株価の上昇6売却手数料等の控除後により、合計1,808百万米ドルの評価益(純額)を計上しました。-投資先からの受取配当金20,812百万円を計上しました。上場投資先について、当第1四半期に上場したfull truck allianceおよびdingdongなどの投資先の株価が上昇したものの、ke holdingsおよびseerの株価が下落し、合計322百万米ドルの評価損(純額)を計上した一方、非上場株式について、資金調達ラウンドがあった投資先の公正価値が上昇したことなどにより、合計769百万米ドルの評価益(純額)を計上しました。(c)ソフトバンク事業(単位:百万円)6月30日に終了した3カ月間2020年2021年増減増減率売上高1,172,322 1,356,570 184,248 15.7%セグメント利益(税引前利益)259,249 270,954 11,705 4.5%減価償却費及び償却費 △173,134 △184,340 △11,206 6.5%投資損益4,116 15,262 11,146 270.8%財務費用 △16,256 △15,553 703 △4.3%持分法による投資損益(注1) △9,006 △12,339 △3,333ーデリバティブ関連損益(投資損益を除く)1 △99 △100ー(注1)paypay㈱に係る持分法投資損失が当第1四半期は5,800百万円、前年同期は7,954百万円含まれてい<業績全般>セグメント利益は、コンシューマ向け事業が減益となったものの、主に法人向け事業の増益とline㈱子会社化のプラス影響がこれを補い、前年同期比11,705百万円(4.5%)増加の270,954百万円となりました。法人向け事業は、テレワーク需要の高まりを反映してモバイル売上が拡大したことに加え、企業のデジタル化が加速する中でクラウドサービスやセキュリティーソリューションの売上も拡大し、増益となりました。また、zホールディングス㈱が、2021年3月にline㈱を子会社化したプラス影響に加え、関連会社から除外された投資先の再評価益の計上や投資先の公正価値上昇に伴い投資利益が増加したことにより増益となりました。(d)アーム事業これまで損失要因となっていた研究開発投資が結実し増益をけん引セグメント利益セグメント利益は、前年同期から15,328百万円改善し、8,781百万円の利益となりました。<業績全般>ソフトバンク・ラテンアメリカ・ファンドの上場投資先であるbanco inter s.a.の株価の上昇やquintoandar,ltd.、vtexなどの非上場株式の公正価値が上昇したことにより投資利益が219,368百万円となり、セグメント利益が216,359百万円となりました。セグメント利益は32,848百万円となりました。前年同期から税引前損失が縮小したのは、主に加盟店売上の増加や決済取扱高の拡大に伴い増収となったことによるものです。同社の決済サービスは、当第1四半期の決済回数が7.9億回(前年同期比1.8倍)に達するなど、順調に拡大を続けています。2.国内ハイブリッド社債4,050億円の発行などの資金調達により負債返済および新規投資による資金需要に対応:ソフトバンクグループ㈱の有利子負債が前期末比1兆1,091億円増加b資産運用子会社におけるsb northstarが投資を売却して担保付借入を返済した結果、担保差入有価証券担保差入有価証券が減少しました。g持分法で会計処理されて持分法投資利益の計上のほか、当第1四半期末における対中いる投資国人民元の為替換算レートが前期末から円安となったことにより、アリババの連結簿価が増加しました。i投資有価証券・tモバイル株式の公正価値が227,936百万円増加しました(当第1四半期末残高は1,702,292百万円)。・ソフトバンク・ラテンアメリカ・ファンドの投資の帳簿価額が、保有する投資先の公正価値の上昇ならびに新規および追加投資により、310,270百万円増加しました(当第1四半期末残高は751,278百万円)。jデリバティブ金融資産・tモバイル株式に係る条件付対価の公正価値が197,783百万円増加しました(当第1四半期末残高は658,492百万円)。非流動負債e繰延税金負債ソフトバンクグループ㈱において、繰延税金負債が増加しました。ソフトバンク事業ソフトバンク㈱ ・債権流動化を通じた資金調達などにより、借入金が増加しました。(a)営業活動によるキャッシュ・フロー営業活動によるキャッシュ・フローは前年同期から353,414百万円増加しました。これは主に、法人所得税の支払額(キャッシュ・アウト・フロー)が前年同期と比べ358,758百万円増加した一方、sb northstarが投資を売却したことなどにより、キャッシュ・イン・フローへの増加影響が735,019百万円あったことによるものです。(c)財務活動によるキャッシュ・フロー主な科目別の内容短期有利子負債の収支(純額)・sb northstarの短期借入金が438,221百万円(純額) △112,596百万円(注1)減少しました。・ソフトバンク㈱の短期借入金が166,518百万円(純額)増加しました。有利子負債の支出 △691,384百万円借入金の返済による支出・ソフトバンクグループ㈱がコマーシャル・ペーパー△377,973百万円(注2)26,000百万円および短期借入金9,950百万円を返済しました。', 'title': '4-6月期の税引前利益は、前年同期比+55%と大幅増益となりました。投資利益は1兆2,631億円となり、内訳は持株会社投資事業からの投資利益が7,415億円、svf(ソフトバンク・ビジョン・ファンド)1およびsvf2などからの投資利益が2,879億円、ラテンアメリカ・ファンド事業からの投資利益が2,194億円でした。足元の投資事業の状況ですが、svf1は投資先の上場や資金化が進み、svf2は積極的な新規投資が実施されました。'}, {'body': 'summarize: 住友不動産。(1)経営成績に関する説明(当四半期の経営成績)経常最高益更新へ計画通りの進捗当第1四半期の経営成績は下表の通りで、前年同期に比べ減収減益となりましたが、通期業績予想に対する進捗率は経常利益、純利益ともに33%となり、2期ぶりの経常最高益と9期連続の純利益最高益達成に向け計画通り順調に推移していると判断しております。オフィスビル増収増益、分譲マンション利益5割進捗部門別では、不動産賃貸事業において主力のオフィスビル事業が増収増益となったことに加え、中古住宅の仲介が好調な不動産流通事業が増収増益で業績に寄与しました。また、分譲マンションを中心とする不動産販売事業は、計上戸数が減少して減収減益となったものの、営業利益が通期予想の5割に到達、計画通りの進捗となりました。その結果、売上高は2,504億円(前年同期比△20.7%)、営業利益は710億円(同△14.2%)となりました。営業外損益は11億円(前年同期比△1億円)と前年並み、特別損益は前年に計上した特別利益118億円(中国大連市における分譲マンション開発合弁会社への出資持分譲渡益)がなくなり、△7億円(前年同期比△124億円)となりました。その結果、経常利益は722億円(前年同期比△14.1%)、親会社株主に帰属する四半期純利益は491億円(同△24.9%)となりました。(百万円)(主要セグメント別の概況)(百万円)(百万円)2<不動産賃貸事業部門>通期稼働ビルが寄与、増収増益当第1四半期は、新型コロナウイルス感染症の影響により、ホテルやイベントホールなどの施設営業分野は概ね前年並みの業績にとどまりましたが、主力のオフィスビル事業は前期に竣工した「住友不動産麹町ガーデンタワー」、「住友不動産御茶ノ水ビル」などの通期稼働が業績に寄与して増収増益となりました。通期業績予想に対する営業利益進捗率は27%と、当事業部門の業績は計画通りに推移していると判断しております。<不動産販売事業部門>営業利益進捗率5割、計画通り当第1四半期は、前期までに竣工した大規模物件「シティタワーズ東京ベイ」、「シティタワー銀座東」などの引渡しが順調に進捗したのに加え、「パークスクエア日暮里」などが引渡しを開始、マンション、戸建、宅地の合計で1,602戸(前年同期比△944戸)を販売計上しました。第1四半期に計上が集中した前年に比べ計上戸数が減少したため減収減益となりましたが、通期業績予想に対する営業利益進捗率は5割に達しており、当事業部門の業績は計画通りに推移していると判断しております。マンション契約順調、当期計上予定の9割確保当第1四半期のマンション契約戸数は、743戸(前年同期比+441戸)となり、緊急事態宣言に伴い営業活動を自粛した前年同期に比べ大幅に増加しました。その結果、当期計上予定戸数(3,800戸)に対する第1四半期末時点の契約率は約90%(期首時点80%、前年同期85%)となりました。3<完成工事事業部門>受注好調、計画通りの進捗当第1四半期の受注棟数は、「新築そっくりさん」事業で2,195棟(前年同期比+954棟)、注文住宅事業で620棟(同+256棟)と、緊急事態宣言に伴い営業活動を自粛した前年同期に比べ大幅に増加しました。当事業部門の業績は、計上棟数の減少により減収減益となりましたが、好調な受注により積み上げた受注残が下半期を中心に計上される見通しで、計画通りの進捗と判断しております。<不動産流通事業部門>仲介件数過去最高、増収増益当事業部門の第1四半期は、主力の仲介事業で中古マンション取引を中心に、仲介件数が9,918件(前年同期比+1,981件)と、緊急事態宣言に伴い営業活動を自粛した前年同期に比べ大幅に増加して第1四半期の過去最高を更新、増収増益となりました。通期業績予想に対する営業利益進捗率は30%と、当事業部門の業績は計画通りに推移していると判断しております。(2)財政状態に関する説明当第1四半期末における総資産は、5兆6,416億円(前期末比△320億円)となりました。賃貸ビル投資により有形固定資産が増加した一方、マンション引渡しの進捗により販売用不動産(仕掛含む)が減少しました。負債合計額は、4兆1,108億円(前期末比△598億円)となりました。連結有利子負債は3兆5,703億円(同+90億円)と前期末並みでしたが、未払法人税等や預り金が減少しました。純資産合計額は、1兆5,307億円(前期末比+277億円)となりました。当第1四半期の親会社株主に帰属する四半期純利益が491億円となり、利益剰余金が増加しました。その結果、自己資本比率は27.1%(前期末26.5%)となりました。上記の通り当期の業績は順調に推移していると判断しており、2021年5月13日公表の業績予想に変更はありません。', 'title': '主力のオフィスビル賃貸事業や中古住宅の仲介は好調でしたが、分譲マンションを中心とする不動産販売事業は、戸数減少により前年同期比で減収減益となりました。営業利益ベースの進捗は順調として、2022年3月期通期に関しては期初に示した見通しを据え置きました。'}, {'body': 'summarize: 三菱地所。', 'title': '商業施設・ホテルは緊急事態宣言の影響は受けたものの、前年より改善しました。営業利益625億円のうち300億円はキャピタルゲインでした。通期見通しは従来予想が据え置かれました。'}, {'body': 'summarize: オリンパス。(1)経営成績に関する説明業績全般に関する動向当第1四半期連結累計期間における世界経済は、新型コロナウイルス感染症の大流行の影響により、厳しい状況となりました。(1)売上高前年同期比548億67百万円増収の1,915億17百万円となりました。内視鏡事業、治療機器事業、科学事業、その他事業の全ての事業で増収となりました。(2)売上原価前年同期比168億3百万円増加の682億1百万円となりました。売上原価率は、35.6%と前年同期比2.0ポイント改善しました。前期においては、新型コロナウイルス感染症による影響で生産高が減少した結果、工場の操業度が低下するなどの影響が生じていましたが、当期は増収に加え操業度の改善もあり、売上原価率も改善しました。(3)販売費及び一般管理費前年同期比154億65百万円増加の957億97百万円となりました。前期においては、新型コロナウイルス感染症の感染拡大に伴う販売活動の制限により、旅費交通費、広告・販売促進費等が減少していましたが、当期は、販売活動の再開により、北米を中心に費用が増加しました。その他の収益は、medi-tate ltd.の段階取得に係る差益約28億円や、固定資産売却益約14億円を計上したこと等により、増加しました。一方、その他の費用は、欧州の持分法適用会社への持分法投資について、約17億円の減損損失を計上したこと、企業変革プラン「transform olympus」を推進するための関連費用が約9億円増加したこと等により、増加しました。(5)営業利益上記の要因により、前年同期比239億3百万円増益の276億12百万円となりました。(6)金融損益金融収益と金融費用を合わせた金融損益は6億60百万円の損失となり、前年同期比で損益は3億55百万円改善しました。(7)法人所得税費用税引前四半期利益が増加したことにより、前年同期比で53億38百万円増加し82億6百万円となりました。(8)親会社の所有者に帰属する四半期利益(継続事業及び非継続事業の合算)上記の要因により、前年同期比で214億26百万円増加となる186億90百万円となりました。[内視鏡事業](単位:百万円)内視鏡事業の連結売上高は、1,000億14百万円(前年同期比34.6%増)、営業利益は、226億54百万円(前年同期比82.4%増)となりました。消化器内視鏡分野では、新型コロナウイルス感染症の影響からの回復により、全ての地域で前年同期比プラス成長となり、特に日本と欧州、北米の売上が増加しました。医療サービス分野では、保守サービスを含むサービス契約の安定的な売上に加え、前年同期に新型コロナウイルス感染症の影響を大きく受けたため、全ての地域において修理件数が前年同期比で増加しました。内視鏡事業の営業損益は、欧州の持分法適用会社への持分法投資について、約17億円の減損損失を計上したものの、新型コロナウイルス感染症の影響からの回復に伴う増収を主な要因として、増益となりました。[治療機器事業](単位:百万円)治療機器事業の連結売上高は、636億46百万円(前年同期比48.1%増)、営業利益は、140億72百万円(前年同期比284.2%増)となりました。消化器科(処置具)分野では、症例数が回復傾向にあり、全ての地域・製品群でプラス成長となりました。また、スクリーニング検査における組織採取に用いられる生検鉗子等のサンプリング、病変の切除に使用されるesd(内視鏡的粘膜下層剥離術)、emr(内視鏡的粘膜切除術)用の製品群で売上が増加しました。泌尿器科分野では、症例数が回復している北米と欧州を中心に大幅なプラス成長となりました。呼吸器科分野では、新型コロナウイルス感染症の影響からの回復に加え、2020年12月に子会社化したveran medical technologies,inc.の売上が加わり、ebus-tbna(超音波気管支鏡ガイド下針生検)で主に使われる処置具や気管支鏡等が好調に推移した北米で大幅なプラス成長となりました。その他の治療領域では、エネルギーデバイス、耳鼻科、婦人科で売上が好調に推移しました。治療機器事業の営業損益は、新型コロナウイルス感染症の影響からの回復に伴う増収およびmedi-tate ltd.の段階取得に係る差益約28億円を計上したことにより、増益となりました。[科学事業](単位:百万円)科学事業の連結売上高は、248億29百万円(前年同期比39.8%増)、営業利益は、18億73百万円(前年同期は、16億4百万円の営業損失)となりました。研究所、大学での予算執行が進んだことに加え、販売活動の制限緩和により、市場環境の回復が顕著な北米で生物顕微鏡の拡販等が寄与しました。産業分野では、全体的な市況回復に伴い、顧客の設備投資状況に改善が見られ、全ての分野で前年同期比プラス成長となりました。特に中国で、5g関連の電子部品や半導体市場が活発であることから工業用顕微鏡が好調に推移したことに加え、市場環境に回復が見られる非破壊検査機器も売上増加に寄与しました。また、高値の金市場と好調な貴金属等のリサイクル市場が追い風となり、蛍光x線分析計の売上も拡大しました。科学事業の営業損益は、新型コロナウイルス感染症の影響からの回復に伴う増収により、増益となりました。[その他事業](単位:百万円)その他事業では、人工骨補填材等の生体材料、整形外科用器具などの開発・製造・販売等を行っているほか、新規事業に関する研究開発や探索活動に取り組んでいます。その他事業の連結売上高は、30億28百万円(前年同期比89.8%増)、営業損失は、5億65百万円(前年同期は、5億19百万円の営業損失)となりました。2020年11月に子会社化したfh ortho sasの売上約11億円が加わったことにより、増収となりました。その他事業の営業損益は、fh ortho sasの費用が加わったものの、増収により、前期並みとなりました。[資産]当第1四半期連結会計期間末は、資産合計が、前連結会計年度末から385億39百万円減少し、1兆1,446億6百万円となりました。medi-tate ltd.を買収した影響等により、のれんが215億51百万円増加した一方で、借入金の返済や配当金の支払等により、現金及び現金同等物が487億65百万円減少したことが主な要因です。[負債]負債合計は、前連結会計年度末から444億37百万円減少し、7,432億28百万円となりました。[資本]資本合計は、前連結会計年度末から58億98百万円増加し、4,013億78百万円となりました。以上の結果、親会社所有者帰属持分比率は前連結会計年度末の33.3%から35.0%となりました。(3)キャッシュ・フローに関する説明当第1四半期連結会計期間末における現金及び現金同等物の残高は、前連結会計年度末から487億63百万円減少し、1,687億15百万円となりました。当第1四半期連結累計期間におけるキャッシュ・フローの状況は次のとおりです。[営業活動によるキャッシュ・フロー]当第1四半期連結累計期間において営業活動により増加した資金は、236億81百万円(前第1四半期連結累計期間は83億88百万円の増加)となりました。[投資活動によるキャッシュ・フロー]当第1四半期連結累計期間において投資活動により減少した資金は、335億3百万円(前第1四半期連結累計期間は122億91百万円の減少)となりました。[財務活動によるキャッシュ・フロー]当第1四半期連結累計期間において財務活動により減少した資金は、389億55百万円(前第1四半期連結累計期間は1,118億18百万円の増加)となりました。2022年3月期の業績見通しにつきましては、医療分野を中心とした市場環境の回復に加えて、経費の統制をさらに進めていくことも踏まえて、2021年5月7日の「2021年3月期決算短信」で公表した予想数値から修正しています。目標は、2022年3月期第1四半期決算短信に記載された連結業績予想の売上高となります。3.50%支給は、2020年3月期の売上実績と同額の売上高とします。目標は、2022年3月期第1四半期決算短信に記載された連結業績予想の損益計算書から算出した調整後営業利益率となります。3.調整後営業利益率が2020年3月期の実績と同率の場合に50%を支給します。2020年3月期以降新たな経営戦略に基づき、企業変革プラン「transform olympus」として進めている様々な改革テーマや2021年3月期に実施した映像事業の譲渡による一時費用、および新型コロナウイルス感染拡大による影響等を考慮すると、業績評価指標の実績値は役員報酬に連動する業績目標値の下限値を下回ったものの、執行役による経営努力により、2022年3月期以降につながる成果を創出していると報酬委員会は判断しました。', 'title': '内視鏡事業や治療機器事業、科学事業、その他事業の全ての事業で増収を確保しました。前期においては、新型コロナによる影響で、工場の操業度が低下するなどの影響が生じていましたが、当期は増収に加え操業度の改善もあり、売上原価率も改善しました。市場環境の回復を受けて通期見通しを上方修正しており、営業利益はコロナ禍前の2020年度を超える過去最高を見込んでいます。'}, {'body': 'summarize: バンダイナムコホールディングス。当連結会計年度につきましては、各事業において新型コロナウイルス感染拡大の影響を受けましたが、国内外のトイホビー事業においてハイターゲット層(大人層)に向けた商品や新規ipを活用した商品等が人気となったほか、ネットワークエンターテインメント事業において、ネットワークコンテンツの主力タイトルや家庭用ゲームのリピート販売が好調に推移しました。グループ全体では、幅広い事業のポートフォリオが効果を発揮する結果となりました。[トイホビー事業]トイホビー事業につきましては、国内において「機動戦士ガンダム」シリーズのプラモデルやコレクターズフィギュア等のハイターゲット層(大人層)向けの商品が、デジタルを活用した販売・マーケティング等が効果を発揮したことで好調に推移しました。海外においては、小売店の休業による影響等を受けましたが、アジア地域を中心にハイターゲット層に向けた商品等が安定的に推移しました。この結果、トイホビー事業における売上高は296,016百万円(前期比16.7%増)、セグメント利益は38,220百万円(前期比43.0%増)となりました。[ネットワークエンターテインメント事業]ネットワークエンターテインメント事業につきましては、ネットワークコンテンツにおいて、ワールドワイド展開している「dragon ball」シリーズや「ワンピース」、国内の「アイドルマスター」シリーズ等の主力タイトルがユーザーに向けた継続的な施策により好調に推移しました。この結果、ネットワークエンターテインメント事業における売上高は344,150百万円(前期比4.9%増)、セグメント利益は57,356百万円(前期比30.7%増)となりました。[リアルエンターテインメント事業]リアルエンターテインメント事業につきましては、新型コロナウイルス感染拡大を受け、国内外のアミューズメント施設等を休業したことにより、施設運営、業務用ゲーム機販売とも大きな影響を受けました。[映像音楽プロデュース事業]映像音楽プロデュース事業につきましては、「ラブライブ!」シリーズや「アイドルマスター」シリーズ等のipの映像・音楽パッケージソフトの販売等を行いましたが、新型コロナウイルス感染拡大を受け、ライブイベントの開催が中止となったことに加え、映像・音楽作品の制作スケジュールの遅れ等により、作品の公開やパッケージソフトの発売が延期となったことが業績に影響を与えました。この結果、映像音楽プロデュース事業における売上高は28,089百万円(前期比40.2%減)、セグメント利益は969百万円(前期比87.9%減)となりました。[ipクリエイション事業]ipクリエイション事業につきましては、「機動戦士ガンダム」シリーズや「ラブライブ!」シリーズ等の映像作品の制作や、「gundam factory yokohama」によるipの情報発信等により話題喚起をはかり人気となりました。この結果、ipクリエイション事業における売上高は28,213百万円(前期比20.1%増)、セグメント利益は2,740百万円(前期比56.3%減)となりました。[その他事業]その他事業につきましては、グループ各社へ向けた物流事業、印刷事業、その他管理業務等を行っている会社から構成されており、これらのグループサポート関連業務における効率的な運営に取り組んでおります。', 'title': '2021年3月期業績は、アミューズメント施設休業やライブイベントの中止の影響を大きく受けました。一方、「機動戦士ガンダム」シリーズ等を擁するホビー事業は大人層をターゲットとしたデジタルを活用した販売・マーケティングが効果を発揮し、好調に推移しました。「dragon ball」を抱えるネットワークエンターテインメント事業もゲーム関連のリピート販売が好調で、当社の営業利益は前期比7.5%増となりました。今後に関しては、引き続き販売店の休業やイベント延期を見込んでおり、市場予想を下回る業績見通しを示しました。'}, {'body': 'summarize: 任天堂。これらの状況により、売上高は1兆7,589億円(うち、海外売上高1兆3,614億円、海外売上高比率77.4%)、営業利益は6,406億円、経常利益は6,789億円、親会社株主に帰属する当期純利益は4,803億円となりました。総資産は、主に現金及び預金や有価証券が増加したことにより、前期に比べ5,128億円増加し、2兆4,469億円となりました。純資産は、前期に比べ3,337億円増加し、1兆8,746億円となりました。当期における現金及び現金同等物(以下、「資金」という。)は、前期末から3,106億円増加(前年同期は360億円の増加)し、9,320億円となりました。これらの取り組みにより、次期の業績については売上高1兆6,000億円、営業利益5,000億円、経常利益4,800億円、親会社株主に帰属する当期純利益3,400億円を見込んでいます。また、第2四半期(中間)の配当については、第2四半期累計期間の連結営業利益の33%を第2四半期末の配当金総額の基準とし、この時点で保有する自己株式数を差し引いた発行済株式数で除した金額の10円未満を切り上げた金額を1株当たり中間配当金とすることにしています。この結果、当期の配当は、1株当たり年間配当金2,020円となりますが、当期の業績等を踏まえ、期末配当金に1株当たり200円を加算し、1株当たりの年間配当金は2,220円(中間810円、期末1,410円)とします。次期の配当は、現時点で予想している業績となった場合、1株当たりの年間配当金は1,430円となります。中間配当金は、第2四半期累計期間の業績予想を作成していませんので未定となりますが、配当方針に変更はありません。', 'title': '新型コロナウイルスの感染拡大で、「巣ごもり」需要を取り込み、主力ゲーム機「ニンテンドースイッチ」とゲームソフトの販売がともに好調でした。21年3月期営業利益は81%増と過去最高益を更新しました。2021.3期の一株当たり年間配当も前回発表時より340円増の2,220円と公表しました。'}, {'body': 'summarize: オリンパス。(1)売上高前期比246億87百万円減収の7,305億44百万円となりました。その他事業では増収となった一方、内視鏡事業、治療機器事業、科学事業で減収となりました。(2)売上原価前期比14億42百万円減少の2,710億14百万円となりました。売上原価率は、37.1%と前年同期比1.0ポイント悪化しました。なお、前期においては、顧客の保有する十二指腸内視鏡製品を対象として、先端キャップ固定式の製品から、洗浄消毒作業の容易な先端キャップ着脱式の新製品へ自主的に置き換えることを決定し、その市場対応費用約104億円を引当計上しています。一方、当連結会計年度においては、内視鏡事業で気管支鏡および胆道鏡の自主回収に伴う費用約60億円を計上し、治療機器事業で処置具の自主回収に伴う費用約20億円を計上しています。(3)販売費および一般管理費前期比241億39百万円減少の3,570億32百万円となりました。これは主に、新型コロナウイルスの感染拡大に伴う販売活動の制限により、旅費交通費、広告・販売促進費等が減少したこと、また、2008年にgyrus社を買収した際に計上した無形資産の償却が前期に終了したことにより減価償却費が約52億円減少したこと等によるものです。その他の収益は、新型コロナウイルスの感染症対策に伴う政府補助金約24億円等により、増加しました。一方、その他の費用は、社外転進支援制度の実施に伴う特別支援金等の費用約120億円や事業ポートフォリオの選択と集中を推進するため、映像事業における分社による新会社の設立及び譲渡に係る事業構造改革費用約52億円を計上したこと、企業変革プラン「transform olympus」を推進するための関連費用が約27億円増加したこと等により、増加しました。(5)営業利益上記の要因により、前期比102億15百万円減益の819億85百万円となりました。(6)金融損益金融収益と金融費用を合わせた金融損益は51億75百万円の損失となり、前期比で損益は4億8百万円改善しました。(8)親会社の所有者に帰属する当期利益(継続事業及び非継続事業の合算)上記の要因により、前期比で387億52百万円減益となる129億18百万円となりました。(研究開発費および設備投資)当期においては、当社グループ全体で841億31百万円の研究開発費を投じるとともに、989億35百万円の設備投資を実施しました。(新型コロナウイルス感染症の影響)新型コロナウイルス感染症により、医療分野では各学会から手術の延期、中止が推奨され症例数が減少し、医療機関など顧客先への訪問の制限や商談の延期・中止など、販促活動に制約が生じました。当連結会計年度における当社連結業績への影響は、継続事業の売上高で約324億円として認識しています。なお、為替の影響を除くと、連結売上高は前期比2.4%の減収、連結営業利益は前期比3.5%の減益となります。[内視鏡事業](単位:百万円)内視鏡事業の連結売上高は、4,194億66百万円(前期比1.5%減)、営業利益は1,047億5百万円(前期比4.3%減)となりました。消化器内視鏡においては、2020年4月に欧州と一部アジア地域、7月に日本において、主力の内視鏡システム新製品「evis x1(イーヴィス・エックスワン)」を導入したものの、新型コロナウイルス感染症の影響により、医療機関など顧客先への訪問の制限や商談の延期・中止など、販促活動に制約が生じたことや、各学会から消化器内視鏡検査の延期、中止が推奨され症例数が減少したことで、内視鏡事業の売上高は減収となりました。内視鏡事業の営業損益は、前期において、顧客の保有する十二指腸内視鏡製品を対象として、先端キャップ固定式の製品から、洗浄消毒作業の容易な先端キャップ着脱式の新製品へ自主的に置き換えることを決定し、その市場対応費用として約104億円を引当計上したことで前期の利益が減少していたことに加えて、当期において費用の効率化を進めたことで収益性がその分改善したものの、新型コロナウイルスの感染拡大の影響による減収や第2四半期連結会計期間に気管支鏡および胆道鏡の自主回収に伴う費用として約60億円を引当計上したこと、さらに社外転進支援制度の実施に伴う特別支援金等の費用として約42億円をその他の費用に計上したこと等により、減益となりました。なお、為替の影響を除くと、売上高は前期比0.5%の減収、営業利益は前期比0.3%の減益となっています。[治療機器事業](単位:百万円)治療機器事業の連結売上高は、2,060億40百万円(前期比4.6%減)、営業利益は246億33百万円(前期比5.9%減)となりました。新型コロナウイルス感染症の影響により、各学会から手術の延期、中止が推奨され症例数が減少したことや、医療機関など顧客先への訪問の制限や商談の延期・中止など、販促活動に制約が生じたことで、治療機器事業の売上高は減収となりました。治療機器事業の営業損益は、2008年にgyrus社を買収した際に計上した無形資産の償却が前期に終了したことにより減価償却費が約52億円減少したことや、費用の効率化を進めたものの、減収や第3四半期連結累計期間に処置具の自主回収に関する費用として約20億円を、売上原価に計上したことに加え、社外転進支援制度の実施に伴う特別支援金等の費用として約14億円を、その他の費用に計上したこと等により、減益となりました。なお、為替の影響を除くと、売上高は前期比4.1%の減収、営業利益は前期比横ばいとなっています。[科学事業](単位:百万円)科学事業の連結売上高は、958億61百万円(前期比8.9%減)、営業利益は49億49百万円(前期比50.5%減)となりました。一方で、全体としては、新型コロナウイルス感染症の影響により、航空産業等で設備投資意欲の減退が見られたことに加え、顧客先への訪問の制限や商談の延期・中止など、販促活動に制約が生じたことで、科学事業の売上高は減収となりました。科学事業の営業損益は、費用の効率化を進めたものの、減収や新型コロナウイルス感染症の影響で生産量が減少した結果、生産拠点における操業度が低下したことに加え、社外転進支援制度の実施に伴う特別支援金等の費用として約12億円を、その他の費用に計上したこと等により、減益となりました。なお、為替の影響を除くと、売上高は前期比7.9%の減収、営業利益は前期比39.6%の減益となっています。[その他事業](単位:百万円)その他事業では、人工骨補填材等の生体材料、整形外科用器具などの開発・製造・販売等を行っているほか、新規事業に関する研究開発や探索活動に取り組んでいます。その他事業の連結売上高は、91億77百万円(前期比11.6%増)、営業損失は6億82百万円(前期は28億64百万円の営業損失)となりました。その他事業の営業損益は、2021年3月に当社子会社であったオリンパスrms株式会社の全株式をロート製薬株式会社に譲渡したことに伴う譲渡益17億70百万円をその他収益に計上したことにより、改善しました。(単位:百万円)(売上高)世界的なワクチン接種の進展とともに新型コロナウイルス感染症の影響が引き続き縮小していくことを前提に、全セグメントで増収を見込んでいます。(営業利益、税引前利益)増収に加え、当期に発生した社外転進支援制度の実施に伴う特別支援金等の費用約120億円や映像事業における分社による新会社の設立及び譲渡に係る事業構造改革費用約52億円が次期はなくなることから、ともに改善する見込みです。(親会社の所有者に帰属する当期利益)税引前利益の改善に加えて、当期に発生した映像事業譲渡の影響がなくなることから、増益となる見込みです。一方、第1四半期連結会計期間に、英国子会社の年金制度において、年金バイイン(buy-in)を実施した影響等により退職給付に係る資産が84億34百万円減少しています。新型コロナウイルス感染症による業績への影響を鑑み、手元流動性を確保するため、2020年5月に長期借入により1,000億円、同7月に社債により500億円の資金調達を行っています。税引前当期利益768億10百万円及び減価償却費の調整599億37百万円が主な増加要因になります。[財務活動によるキャッシュ・フロー]当連結会計期間において財務活動により増加した資金は、408億円(前連結会計期間は194億62百万円の減少)となりました。以上の結果、当連結会計年度末における現金及び現金同等物の残高は、前連結会計年度末に比較して547億61百万増加し、2,174億78百万円となりました。(3)利益配分に関する基本方針及び当期・次期の配当当社は、当社グループの持続的な成長を実現させるため、事業成長等への投資を優先しつつ、株主価値を考慮した積極的な株主還元を実施することとし、配当については還元の基礎部分として安定的な実施を基本方針としています。上記方針に基づき、2021年3月期の連結業績実績、財務状況ならびに今後の事業への投資などを総合的に勘案し、当期の期末配当金は、1株あたり12円(年間配当金は、同12円)を予定しています。当社グループの業績は、今後起こりうる様々なリスク(不確実性)によって大きな影響を受ける可能性があります。', 'title': '2021年3月期の内視鏡事業の売上高は、新型コロナウイルス感染症の影響により、医療機関など顧客先への訪問の制限や商談の延期・中止など、販促活動に制約が生じたことなどにより減収となりました。同事業の営業損益は、内視鏡製品の自主回収に関する費用を計上したこと等により、減益となりました。2022年3月期は、全セグメントで増収を見込んでいることに加え、前期の事業構造改革費用等がなくなることから、53%の営業増益を予想しています。'}, {'body': 'summarize: サントリー食品インターナショナル。(1)経営成績に関する説明当社グループは、お客様の嗜好・ニーズを捉えた上質でユニークな商品を提案し、お客様の生活に豊かさをお届けするという考えのもと、ブランド強化や新規需要の創造に注力したほか、品質の向上に取り組みました。市場環境の回復ペースには国ごとに差がありますが、3月以降、当社グループの事業は力強い回復基調を継続しました。全セグメントにおいて、コアブランドへの集中活動、コスト削減活動及び販促広告費の効率化を継続した結果、第1四半期に引き続き、当第2四半期連結会計期間も、売上収益、営業利益ともに想定を超える進捗を示しています。当第2四半期連結累計期間(2021年1月1日〜6月30日)の連結売上収益は6,038億円(前年同期比9.3%増)、連結営業利益は604億円(前年同期比69.1%増)、親会社の所有者に帰属する四半期利益は322億円(前年同期比53.7%増)となりました。[日本事業]緊急事態宣言の断続的な発令により人の動きが制限された影響等で、清涼飲料市場(当社推定)は前年同期並みにとどまりました。当社販売数量は、水・コーヒー・無糖茶カテゴリーを中心にコアブランド強化に取り組み、新商品発売やマーケティング活動が貢献した結果、前年同期を上回り、市場シェアを拡大しました。「サントリー天然水」は、大容量需要増で大きく伸長した前年同期を上回り、ブランド全体の販売数量は前年同期比増となりました。無糖茶カテゴリーでは、「伊右衛門」はリニューアル効果により当第2四半期連結会計期間も伸長し、4月に新発売した「伊右衛門京都ブレンド」の貢献もあり、ブランド全体の販売数量は前年同期を大きく上回りました。収益面では、チャネルミックスの変化が引き続きマイナスに影響しましたが、小容量(500ml pet)サイズの伸長により商品構成は改善し、加えて、コスト削減活動、販促広告費の効率化への継続的な取組みが大きくプラスに寄与しました。これらの結果、日本事業の売上収益は2,980億円(前年同期比0.2%減)、セグメント利益は176億円(前年同期比58.7%増)となりました。[アジアパシフィック事業]アジアでは、清涼飲料市場は、年初より一部地域で新型コロナウイルス感染症(covid-19)に伴い断続的に人の動きが制限された影響を受けたことに加え、5月中旬以降の感染者数再拡大による制限強化の影響を受けました。健康食品事業も、当第2四半期連結会計期間に大きく伸長しました。収益面では、売上の増加及び商品構成の改善に加え、コスト削減活動が寄与しました。これらの結果、アジアパシフィック事業の売上収益は1,487億円(前年同期比16.5%増)、セグメント利益は236億円(前年同期比42.1%増)となりました。[欧州事業]欧州では、各国でのワクチン接種進捗に伴う制限緩和により人の動きが戻ってきており、3月以降、清涼飲料市場は着実に回復してきています。スペインでは、引き続き家庭用が堅調であることに加え、制限緩和を受けて業務用も回復し始めていることが寄与し、主力ブランド「schweppes」の販売数量が前年同期を大きく上回りました。収益面では、売上増加及び販促広告費の効率化に加え、コスト削減活動が寄与しました。これらの結果、欧州事業の売上収益は1,111億円(前年同期比26.7%増)、セグメント利益は188億円(前年同期比78.8%増)となりました。[米州事業]主力炭酸ブランドの更なる販売強化に取り組むとともに、水やコーヒー飲料等、伸長している非炭酸カテゴリーにも注力しました。ワクチン接種の進捗に伴い業務用の制限が撤廃されたことも寄与し、売上は前年同期を大きく上回りました。収益面では、売上増加に加えてコスト削減が寄与しました。これらの結果、米州事業の売上収益は460億円(前年同期比19.2%増)、セグメント利益は58億円(前年同期比97.8%増)となりました。(2)財政状態に関する説明当第2四半期連結会計期間末の資産合計は、売上債権及びその他の債権の増加等により、前連結会計年度末に比べ981億円増加して1兆6,723億円となりました。資本合計は、親会社の所有者に帰属する四半期利益の計上による利益剰余金、その他の資本の構成要素の増加等により、前連結会計年度末に比べ562億円増加して9,157億円となりました。当第2四半期連結会計期間末における現金及び現金同等物の残高は、前連結会計年度末に比べ52億円減少し、1,623億円となりました。営業活動によるキャッシュ・フローは、税引前四半期利益593億円、減価償却費及び償却費345億円、仕入債務及びその他の債務の増加419億円等により、資金の収入は前年同四半期と比べ451億円増加し、890億円の収入となりました。投資活動によるキャッシュ・フローは、有形固定資産及び無形資産の取得による支出225億円等があったものの、資金の支出は前年同四半期と比べ65億円減少し、242億円の支出となりました。財務活動によるキャッシュ・フローは、短期借入金及びコマーシャル・ペーパーの減少426億円、長期借金の返済による支出181億円等により、資金の支出は前年同四半期と比べ1,014億円増加し、726億円の支出となりました。2021年12月期の連結業績予想につきましては、2021年2月9日に発表しました連結業績予想から変更ありません。このような状況の中、下半期は、当第2四半期連結会計期間のモーメンタムを継続するべく、売上収益の成長に向けた活動・投資を推進していきます。', 'title': 'セグメント利益は日本、アジアパシフィック、欧州、米州の全地域が前年同期比で増益を確保しました。小容量サイズの伸長により商品構成が改善したことに加えて、コスト削減活動や販促広告費の効率化への取組みがプラスに寄与しました。通期見通しに関しては従来予想が据え置かれました。'}]\n"
          ]
        }
      ]
    },
    {
      "cell_type": "markdown",
      "metadata": {
        "id": "nywtqNUAyjM0"
      },
      "source": [
        "## データ分割\n",
        "\n",
        "データセットを90% : 5%: 5% の比率でtrain/dev/testに分割します。\n",
        "\n",
        "* trainデータ: 学習に利用するデータ\n",
        "* devデータ: 学習中の精度評価等に利用するデータ\n",
        "* testデータ: 学習結果のモデルの精度評価に利用するデータ"
      ]
    },
    {
      "cell_type": "code",
      "metadata": {
        "colab": {
          "base_uri": "https://localhost:8080/"
        },
        "id": "6b1yB53syjM2",
        "outputId": "2fcd4094-90ff-4250-8083-722908d6efa4"
      },
      "source": [
        "import random\n",
        "from tqdm import tqdm\n",
        "\n",
        "random.seed(1234)\n",
        "random.shuffle(all_data)\n",
        "\n",
        "def to_line(data):\n",
        "    title = data[\"title\"]\n",
        "    body = data[\"body\"]\n",
        "\n",
        "    assert len(title) > 0 and len(body) > 0\n",
        "    return f\"{title}\\t{body}\\n\"\n",
        "\n",
        "data_size = len(all_data)\n",
        "train_ratio, dev_ratio, test_ratio = 0.9, 0.05, 0.05\n",
        "\n",
        "with open(path.join(ROOT, \"data\",\"increased_datasets2\",\"train.tsv\"), \"w\", encoding=\"utf-8\") as f_train, \\\n",
        "    open(path.join(ROOT, \"data\",\"increased_datasets2\",\"dev.tsv\"), \"w\", encoding=\"utf-8\") as f_dev, \\\n",
        "    open(path.join(ROOT, \"data\",\"increased_datasets2\",\"test.tsv\"), \"w\", encoding=\"utf-8\") as f_test:\n",
        "# with open(path.join(ROOT,\"train.tsv\"), \"w\", encoding=\"utf-8\") as f_train, \\\n",
        "#     open(path.join(ROOT,\"dev.tsv\"), \"w\", encoding=\"utf-8\") as f_dev, \\\n",
        "#     open(path.join(ROOT, \"test.tsv\"), \"w\", encoding=\"utf-8\") as f_test:\n",
        "    \n",
        "    for i, data in tqdm(enumerate(all_data)):\n",
        "        line = to_line(data)\n",
        "        if i < train_ratio * data_size:\n",
        "            f_train.write(line)\n",
        "        elif i < (train_ratio + dev_ratio) * data_size:\n",
        "            f_dev.write(line)\n",
        "        else:\n",
        "            f_test.write(line)"
      ],
      "execution_count": 11,
      "outputs": [
        {
          "output_type": "stream",
          "name": "stderr",
          "text": [
            "71it [00:00, 8837.71it/s]\n"
          ]
        }
      ]
    },
    {
      "cell_type": "code",
      "metadata": {
        "id": "LdcJv6I42__O"
      },
      "source": [
        ""
      ],
      "execution_count": 11,
      "outputs": []
    },
    {
      "cell_type": "markdown",
      "metadata": {
        "id": "AZ0-cKHoyjM3"
      },
      "source": [
        "# 学習に必要なクラス等の定義\n",
        "\n",
        "学習にはPyTorch/PyTorch-lightning/Transformersを利用します。"
      ]
    },
    {
      "cell_type": "code",
      "metadata": {
        "id": "hM44SsF-yjM3"
      },
      "source": [
        "import argparse\n",
        "import glob\n",
        "import os\n",
        "import json\n",
        "import time\n",
        "import logging\n",
        "import random\n",
        "import re\n",
        "from itertools import chain\n",
        "from string import punctuation\n",
        "\n",
        "import numpy as np\n",
        "import torch\n",
        "from torch.utils.data import Dataset, DataLoader\n",
        "import pytorch_lightning as pl\n",
        "\n",
        "\n",
        "from transformers import (\n",
        "    AdamW,\n",
        "    T5ForConditionalGeneration,\n",
        "    T5Tokenizer,\n",
        "    get_linear_schedule_with_warmup\n",
        ")\n",
        "\n",
        "# 乱数シードの設定\n",
        "def set_seed(seed):\n",
        "    random.seed(seed)\n",
        "    np.random.seed(seed)\n",
        "    torch.manual_seed(seed)\n",
        "    if torch.cuda.is_available():\n",
        "        torch.cuda.manual_seed_all(seed)\n",
        "\n",
        "set_seed(42)"
      ],
      "execution_count": 12,
      "outputs": []
    },
    {
      "cell_type": "code",
      "metadata": {
        "id": "5Mvdk0LkKPee"
      },
      "source": [
        "from pytorch_lightning.callbacks import ModelCheckpoint, EarlyStopping\n",
        "from pytorch_lightning.loggers import TensorBoardLogger\n",
        "\n",
        "import matplotlib.pyplot as plt\n",
        "from matplotlib import rc\n",
        "# from bert_score import score"
      ],
      "execution_count": 13,
      "outputs": []
    },
    {
      "cell_type": "code",
      "metadata": {
        "id": "oACAS2-NyjM4"
      },
      "source": [
        "# GPU利用有無\n",
        "USE_GPU = torch.cuda.is_available()\n",
        "\n",
        "# 各種ハイパーパラメータ\n",
        "args_dict = dict(\n",
        "    data_dir=path.join(ROOT, \"data\",\"increased_datasets2\"),\n",
        "    # data_dir=path.join(ROOT),  # データセットのディレクトリ\n",
        "    model_name_or_path=PRETRAINED_MODEL_NAME,\n",
        "    tokenizer_name_or_path=PRETRAINED_MODEL_NAME,\n",
        "\n",
        "    learning_rate=3e-4,\n",
        "    weight_decay=0.0,\n",
        "    adam_epsilon=1e-8,\n",
        "    warmup_steps=0,\n",
        "    gradient_accumulation_steps=1,\n",
        "\n",
        "    # max_input_length=512,\n",
        "    # max_target_length=64,\n",
        "    # train_batch_size=8,\n",
        "    # eval_batch_size=8,\n",
        "    # num_train_epochs=4,\n",
        "\n",
        "    n_gpu=1 if USE_GPU else 0,\n",
        "    early_stop_callback=False,\n",
        "    fp_16=False,\n",
        "    opt_level='O1',\n",
        "    max_grad_norm=1.0,\n",
        "    seed=42,\n",
        ")\n"
      ],
      "execution_count": 14,
      "outputs": []
    },
    {
      "cell_type": "markdown",
      "metadata": {
        "id": "xh7f4Wo9yjM4"
      },
      "source": [
        "## TSVデータセットクラス\n",
        "\n",
        "TSV形式のファイルをデータセットとして読み込みます。  \n",
        "形式は\"{title}\\t{body}\\t{genre_id}\"です。"
      ]
    },
    {
      "cell_type": "code",
      "metadata": {
        "id": "iZQgjEivyjM4"
      },
      "source": [
        "class TsvDataset(Dataset):\n",
        "    def __init__(self, tokenizer, data_dir, type_path, input_max_len=512, target_max_len=512):\n",
        "        self.file_path = os.path.join(data_dir, type_path)\n",
        "        \n",
        "        self.input_max_len = input_max_len\n",
        "        self.target_max_len = target_max_len\n",
        "        self.tokenizer = tokenizer\n",
        "        self.inputs = []\n",
        "        self.targets = []\n",
        "\n",
        "        self._build()\n",
        "  \n",
        "    def __len__(self):\n",
        "        return len(self.inputs)\n",
        "  \n",
        "    def __getitem__(self, index):\n",
        "        source_ids = self.inputs[index][\"input_ids\"].squeeze()\n",
        "        target_ids = self.targets[index][\"input_ids\"].squeeze()\n",
        "\n",
        "        source_mask = self.inputs[index][\"attention_mask\"].squeeze()\n",
        "        target_mask = self.targets[index][\"attention_mask\"].squeeze()\n",
        "\n",
        "        return {\"source_ids\": source_ids, \"source_mask\": source_mask, \n",
        "                \"target_ids\": target_ids, \"target_mask\": target_mask}\n",
        "\n",
        "    def _make_record(self, title, body):\n",
        "        # ニュースタイトル生成タスク用の入出力形式に変換する。\n",
        "        input = f\"{body}\"\n",
        "        target = f\"{title}\"\n",
        "        return input, target\n",
        "  \n",
        "    def _build(self):\n",
        "        with open(self.file_path, \"r\", encoding=\"utf-8\") as f:\n",
        "            for line in f:\n",
        "                line = line.strip().split(\"\\t\")\n",
        "                assert len(line) == 2\n",
        "                assert len(line[0]) > 0\n",
        "                assert len(line[1]) > 0\n",
        "\n",
        "                title = line[0]\n",
        "                body = line[1]\n",
        "\n",
        "                input, target = self._make_record(title, body)\n",
        "\n",
        "                tokenized_inputs = self.tokenizer.batch_encode_plus(\n",
        "                    [input], max_length=self.input_max_len, truncation=True, \n",
        "                    padding=\"max_length\", return_tensors=\"pt\"\n",
        "                )\n",
        "\n",
        "                tokenized_targets = self.tokenizer.batch_encode_plus(\n",
        "                    [target], max_length=self.target_max_len, truncation=True, \n",
        "                    padding=\"max_length\", return_tensors=\"pt\"\n",
        "                )\n",
        "\n",
        "                self.inputs.append(tokenized_inputs)\n",
        "                self.targets.append(tokenized_targets)\n"
      ],
      "execution_count": 15,
      "outputs": []
    },
    {
      "cell_type": "markdown",
      "metadata": {
        "id": "JDu5d86IyjM5"
      },
      "source": [
        "試しにテストデータ（test.tsv）を読み込み、トークナイズ結果をみてみます。"
      ]
    },
    {
      "cell_type": "code",
      "metadata": {
        "id": "biQtTDoSyjM5"
      },
      "source": [
        "# トークナイザー（SentencePiece）モデルの読み込み\n",
        "tokenizer = T5Tokenizer.from_pretrained(PRETRAINED_MODEL_NAME, is_fast=True)\n",
        "\n",
        "# テストデータセットの読み込み\n",
        "train_dataset = TsvDataset(tokenizer, args_dict[\"data_dir\"], \"train.tsv\", \n",
        "                           input_max_len=1024, target_max_len=128)"
      ],
      "execution_count": 16,
      "outputs": []
    },
    {
      "cell_type": "code",
      "metadata": {
        "scrolled": true,
        "colab": {
          "base_uri": "https://localhost:8080/"
        },
        "id": "-ZefkZaryjM5",
        "outputId": "3e7b650d-087c-4165-8037-515821deeb53"
      },
      "source": [
        "for data in train_dataset:\n",
        "    print(\"A. 入力データの元になる文字列\")\n",
        "    print(tokenizer.decode(data[\"source_ids\"]))\n",
        "    print()\n",
        "    print(\"B. 入力データ（Aの文字列がトークナイズされたトークンID列）\")\n",
        "    print(data[\"source_ids\"])\n",
        "    print()\n",
        "    print(\"C. 出力データの元になる文字列\")\n",
        "    print(tokenizer.decode(data[\"target_ids\"]))\n",
        "    print()\n",
        "    print(\"D. 出力データ（Cの文字列がトークナイズされたトークンID列）\")\n",
        "    print(data[\"target_ids\"])\n",
        "    break"
      ],
      "execution_count": 17,
      "outputs": [
        {
          "output_type": "stream",
          "name": "stdout",
          "text": [
            "A. 入力データの元になる文字列\n",
            "summarize: 住友金属鉱山。当期の平均為替レートは前期と比べ円高となりました。この結果、当期の銅及びニッケル並びに金価格はいずれも前期を上回りました。このような状況のなか、当期の連結売上高は、電池材料事業での一時的な生産調整による減販などはあったものの、銅及びニッケル並びに金価格が前期を上回ったことなどにより、前期に比べ741億76百万円増加し、9,261億22百万円となりました。また、前期にも本会計方針の変更を遡及適用し、売上高を表示しております。連結税引前当期利益は、増収及び持分法による投資損益が好転したことなどにより、前期に比べ443億44百万円増加し、1,233億79百万円となりました。親会社の所有者に帰属する当期利益は、連結税引前当期利益が増加したことなどにより、前期に比べ340億4百万円増加し、946億4百万円となりました。 2報告セグメントの状況(a)資源セグメント(単位:百万円)セグメント利益は、新型コロナウイルス感染症拡大の影響による販売量の減少及び、ケブラダ・ブランカ銅鉱山(チリ)における建設中断期間の費用計上などによる悪化があったものの、金及び銅価格の上昇などにより前期を上回りました。(うち非支配持分を除く当社持分は31.5%)(b)製錬セグメント(単位:百万円)(当社の主な製品別生産量)(注)生産量には、受委託分を含めて表示しております。(c)材料セグメント(単位:百万円)セグメント利益は、電池材料等では一時的な生産調整により販売量が減少しましたが、粉体材料等において前期と比較し販売量が増加したことなどにより、前期を上回りました。連結財政状態計算書(単位:百万円)当期末の資産合計は前期末に比べて増加しました。非鉄価格については、経済環境の好転期待や余剰となった資金がコモディティ市場にも流入していることから高値で推移しておりますが、需給環境からは乖離した水準と見られ急落するリスクも想定されます。このような環境の中で非鉄金属の需給は、銅・ニッケルともにほぼ均衡または若干の供給余剰と見込まれており、次期の価格については銅7,800$/t(当期6,879$/t)、ニッケル7.00$/lb(当期6.80$/lb)と予想しています。次期の連結業績予想につきましては、主要な非鉄金属価格は足元の水準を考慮の上で将来の需給バランスを予測して設定し、主要製品の生産量及び販売量は足元の実績を踏まえて計画いたしました。その結果、連結売上高は1兆470億円、連結税引前当期利益は1,380億円、当期利益は1,140億円、親会社の所有者に帰属する当期利益は1,040億円となる見込みです。また、従来の方法によった場合と比較して、当連結会計年度の外部売上高が22,060百万円減少しておりますが、セグメント利益に影響はありません。</s> <pad> <pad> <pad> <pad> <pad> <pad> <pad> <pad> <pad> <pad> <pad> <pad> <pad> <pad> <pad> <pad> <pad> <pad> <pad> <pad> <pad> <pad> <pad> <pad> <pad> <pad> <pad> <pad> <pad> <pad> <pad> <pad> <pad> <pad> <pad> <pad> <pad> <pad> <pad> <pad> <pad> <pad> <pad> <pad> <pad> <pad> <pad> <pad> <pad> <pad> <pad> <pad> <pad> <pad> <pad> <pad> <pad> <pad> <pad> <pad> <pad> <pad> <pad> <pad> <pad> <pad> <pad> <pad> <pad> <pad> <pad> <pad> <pad> <pad> <pad> <pad> <pad> <pad> <pad> <pad> <pad> <pad> <pad> <pad> <pad> <pad> <pad> <pad> <pad> <pad> <pad> <pad> <pad> <pad> <pad> <pad> <pad> <pad> <pad> <pad> <pad> <pad> <pad> <pad> <pad> <pad> <pad> <pad> <pad> <pad> <pad> <pad> <pad> <pad> <pad> <pad> <pad> <pad> <pad> <pad> <pad> <pad> <pad> <pad> <pad> <pad> <pad> <pad> <pad> <pad> <pad> <pad> <pad> <pad> <pad> <pad> <pad> <pad> <pad> <pad> <pad> <pad> <pad> <pad> <pad> <pad> <pad> <pad> <pad> <pad> <pad> <pad> <pad> <pad> <pad> <pad> <pad> <pad> <pad> <pad> <pad> <pad> <pad> <pad> <pad> <pad> <pad> <pad> <pad> <pad> <pad> <pad> <pad> <pad> <pad> <pad> <pad> <pad> <pad> <pad> <pad> <pad> <pad> <pad> <pad> <pad> <pad> <pad> <pad> <pad> <pad> <pad> <pad> <pad> <pad> <pad> <pad> <pad> <pad> <pad> <pad> <pad> <pad> <pad> <pad> <pad> <pad> <pad> <pad> <pad> <pad> <pad> <pad> <pad> <pad> <pad> <pad> <pad> <pad> <pad> <pad> <pad> <pad> <pad> <pad> <pad> <pad> <pad> <pad> <pad> <pad> <pad> <pad> <pad> <pad> <pad> <pad> <pad> <pad> <pad> <pad> <pad> <pad> <pad> <pad> <pad> <pad> <pad> <pad> <pad> <pad> <pad> <pad> <pad> <pad> <pad> <pad> <pad> <pad> <pad> <pad> <pad> <pad> <pad> <pad> <pad> <pad> <pad> <pad> <pad> <pad> <pad> <pad> <pad> <pad> <pad> <pad> <pad> <pad> <pad> <pad> <pad> <pad> <pad> <pad> <pad> <pad> <pad> <pad> <pad> <pad> <pad> <pad> <pad> <pad> <pad> <pad> <pad> <pad> <pad> <pad> <pad> <pad> <pad> <pad> <pad> <pad> <pad> <pad> <pad> <pad> <pad> <pad> <pad> <pad> <pad> <pad> <pad> <pad> <pad> <pad> <pad> <pad> <pad> <pad> <pad> <pad> <pad> <pad> <pad> <pad> <pad> <pad> <pad> <pad> <pad> <pad> <pad> <pad> <pad> <pad> <pad> <pad> <pad> <pad> <pad> <pad> <pad> <pad> <pad> <pad> <pad> <pad> <pad> <pad> <pad> <pad> <pad> <pad> <pad> <pad> <pad> <pad> <pad> <pad> <pad> <pad> <pad> <pad> <pad> <pad> <pad> <pad> <pad> <pad> <pad> <pad> <pad> <pad>\n",
            "\n",
            "B. 入力データ（Aの文字列がトークナイズされたトークンID列）\n",
            "tensor([10731,    84, 22780,  ...,     0,     0,     0])\n",
            "\n",
            "C. 出力データの元になる文字列\n",
            "2021年3月期は、電池材料事業での一時的な生産調整による減販などはあったものの、銅・ニッケル・金価格が前期を上回ったことで増収増益となりました。2022年3月期については、市場予想を下回る税引前利益の見通しを示しましたが、高値で推移する非鉄価格が需給環境から乖離した水準にあるリスクも想定したうえで、需給バランスを予測して計画したとしています。前期比で、金価格は下落、銅・ニッケル価格は上昇を想定しています。</s> <pad> <pad> <pad> <pad> <pad> <pad> <pad> <pad> <pad> <pad> <pad> <pad> <pad> <pad> <pad> <pad> <pad>\n",
            "\n",
            "D. 出力データ（Cの文字列がトークナイズされたトークンID列）\n",
            "tensor([ 8161,   250,    12,    25,    18,   400,     7,     3,  8332,  3708,\n",
            "          431,   409, 25192,   798,  2926,    69,  1951,  9738,    42, 30349,\n",
            "            3,  3293,     9, 23329,     9,   232,  2876,     8,  5686,    14,\n",
            "          111, 16217,   664,  1290,  2617,  1290,  4508,   157,  2124,     4,\n",
            "          103,   285,    12,    25,    18,   400,   376,     3,  1386,  4620,\n",
            "        30608,  2274,  1897,   222,  4510,     6, 20209,  7243, 16590,     3,\n",
            "          141,  1254,    15, 10517,    33,   703,   945,  2876,     8, 28498,\n",
            "         4116,   787,    24, 31961,  3053,    27,  7366,   166,  5014,    28,\n",
            "         7277, 24793,     3, 28498,  4116,  6965,    14,  6662,    51,   499,\n",
            "           27,    16, 11141,     4,  5686,  1559,    15,     3,   232, 17397,\n",
            "        24668,     3,  3293,     9, 23329, 17397,  3093, 14830,  6653,     4,\n",
            "            1,     0,     0,     0,     0,     0,     0,     0,     0,     0,\n",
            "            0,     0,     0,     0,     0,     0,     0,     0])\n"
          ]
        }
      ]
    },
    {
      "cell_type": "markdown",
      "metadata": {
        "id": "xKjlTx3tyjM6"
      },
      "source": [
        "## 学習処理クラス\n",
        "\n",
        "[PyTorch-Lightning](https://github.com/PyTorchLightning/pytorch-lightning)を使って学習します。\n",
        "\n",
        "PyTorch-Lightningとは、機械学習の典型的な処理を簡潔に書くことができるフレームワークです。"
      ]
    },
    {
      "cell_type": "code",
      "metadata": {
        "id": "3NXHvalqyjM6"
      },
      "source": [
        "class T5FineTuner(pl.LightningModule):\n",
        "    def __init__(self, hparams):\n",
        "        super().__init__()\n",
        "        self.hparams = hparams\n",
        "#         self.hparams.update(hparams)\n",
        "        # self.hparams.save_hyperparameters\n",
        "        self.save_hyperparameters()\n",
        "        \n",
        "        # 事前学習済みモデルの読み込み\n",
        "        self.model = T5ForConditionalGeneration.from_pretrained(hparams.model_name_or_path)\n",
        "\n",
        "        # トークナイザーの読み込み\n",
        "        self.tokenizer = T5Tokenizer.from_pretrained(hparams.tokenizer_name_or_path, is_fast=True)\n",
        "\n",
        "    def forward(self, input_ids, attention_mask=None, decoder_input_ids=None, \n",
        "                decoder_attention_mask=None, labels=None):\n",
        "        \"\"\"順伝搬\"\"\"\n",
        "        return self.model(\n",
        "            input_ids,\n",
        "            attention_mask=attention_mask,\n",
        "            decoder_input_ids=decoder_input_ids,\n",
        "            decoder_attention_mask=decoder_attention_mask,\n",
        "            labels=labels\n",
        "        )\n",
        "\n",
        "    def _step(self, batch):\n",
        "        \"\"\"ロス計算\"\"\"\n",
        "        labels = batch[\"target_ids\"]\n",
        "\n",
        "        # All labels set to -100 are ignored (masked), \n",
        "        # the loss is only computed for labels in [0, ..., config.vocab_size]\n",
        "        labels[labels[:, :] == self.tokenizer.pad_token_id] = -100\n",
        "        \n",
        "        # self を呼ぶ ≒ forwardメソッドを呼ぶ　≒ modelを呼ぶ　\n",
        "        outputs = self(\n",
        "            input_ids=batch[\"source_ids\"],\n",
        "            attention_mask=batch[\"source_mask\"],\n",
        "            decoder_attention_mask=batch['target_mask'],\n",
        "            labels=labels\n",
        "        )\n",
        "        # T5ForConditionalGeneration クラスの forward methodは、特殊メソッド __call__() をオーバーライドしているため、\n",
        "        # インスタンス名をそのまま関数のように使った場合の処理が記述されている。\n",
        "        # よって、outputsは、T5ForConditionalGenerationクラスのforwardが　returnする Seq2SeqLMOutputオブジェクト。\n",
        "        # T5では、logitsとlabelsのクロスエントロピーロスを使っている。\n",
        "        loss = outputs[0]\n",
        "        logits = outputs[1]\n",
        "        return loss, logits\n",
        "\n",
        "    def training_step(self, batch, batch_idx):\n",
        "        \"\"\"訓練ステップ処理\"\"\"\n",
        "        # loss = self._step(batch)\n",
        "        # self.log(\"train_loss\", loss)\n",
        "        # print(loss)\n",
        "        # return {\"loss\": loss}\n",
        "        target = batch[\"target_ids\"]\n",
        "        loss, logits = self._step(batch)\n",
        "        self.log(\"train_loss\", loss, prog_bar=True, logger=True)\n",
        "        return {\"loss\": loss, \"predictions\": logits, \"targets\":target}\n",
        "\n",
        "    def validation_step(self, batch, batch_idx):\n",
        "        \"\"\"バリデーションステップ処理\"\"\"\n",
        "        # loss = self._step(batch)\n",
        "        # self.log(\"val_loss\", loss)\n",
        "        # print(loss)\n",
        "        # return {\"val_loss\": loss}\n",
        "        target = batch[\"target_ids\"]\n",
        "        loss, logits = self._step(batch)\n",
        "        self.log(\"val_loss\", loss, prog_bar=True, logger=True)\n",
        "        return {\"loss\": loss, \"predictions\": logits, \"targets\":target}\n",
        "\n",
        "    def test_step(self, batch, batch_idx):\n",
        "        \"\"\"テストステップ処理\"\"\"\n",
        "        # loss = self._step(batch)\n",
        "        # self.log(\"test_loss\", loss)\n",
        "        # return {\"test_loss\": loss}\n",
        "        loss, logits = self._step(batch)\n",
        "        self.log(\"test_loss\", loss, prog_bar=True, logger=True)\n",
        "        return loss\n",
        "\n",
        "\n",
        "\n",
        "\n",
        "\n",
        "    def configure_optimizers(self):\n",
        "        \"\"\"オプティマイザーとスケジューラーを作成する\"\"\"\n",
        "        model = self.model\n",
        "        no_decay = [\"bias\", \"LayerNorm.weight\"]\n",
        "        optimizer_grouped_parameters = [\n",
        "            {\n",
        "                \"params\": [p for n, p in model.named_parameters() \n",
        "                            if not any(nd in n for nd in no_decay)],\n",
        "                \"weight_decay\": self.hparams.weight_decay,\n",
        "            },\n",
        "            {\n",
        "                \"params\": [p for n, p in model.named_parameters() \n",
        "                            if any(nd in n for nd in no_decay)],\n",
        "                \"weight_decay\": 0.0,\n",
        "            },\n",
        "        ]\n",
        "        optimizer = AdamW(optimizer_grouped_parameters, \n",
        "                          lr=self.hparams.learning_rate, \n",
        "                          eps=self.hparams.adam_epsilon)\n",
        "        self.optimizer = optimizer\n",
        "\n",
        "        scheduler = get_linear_schedule_with_warmup(\n",
        "            optimizer, num_warmup_steps=self.hparams.warmup_steps, \n",
        "            num_training_steps=self.t_total\n",
        "        )\n",
        "        self.scheduler = scheduler\n",
        "\n",
        "        return [optimizer], [{\"scheduler\": scheduler, \"interval\": \"step\", \"frequency\": 1}]\n",
        "\n",
        "    def get_dataset(self, tokenizer, type_path, args):\n",
        "        \"\"\"データセットを作成する\"\"\"\n",
        "        return TsvDataset(\n",
        "            tokenizer=tokenizer, \n",
        "            data_dir=args.data_dir, \n",
        "            type_path=type_path, \n",
        "            input_max_len=args.max_input_length,\n",
        "            target_max_len=args.max_target_length)\n",
        "    \n",
        "    def setup(self, stage=None):\n",
        "        \"\"\"初期設定（データセットの読み込み）\"\"\"\n",
        "        if stage == 'fit' or stage is None:\n",
        "            train_dataset = self.get_dataset(tokenizer=self.tokenizer, \n",
        "                                             type_path=\"train.tsv\", args=self.hparams)\n",
        "            self.train_dataset = train_dataset\n",
        "\n",
        "            val_dataset = self.get_dataset(tokenizer=self.tokenizer, \n",
        "                                           type_path=\"dev.tsv\", args=self.hparams)\n",
        "            self.val_dataset = val_dataset\n",
        "\n",
        "            self.t_total = (\n",
        "                (len(train_dataset) // (self.hparams.train_batch_size * max(1, self.hparams.n_gpu)))\n",
        "                // self.hparams.gradient_accumulation_steps\n",
        "                * float(self.hparams.num_train_epochs)\n",
        "            )\n",
        "\n",
        "    def train_dataloader(self):\n",
        "        \"\"\"訓練データローダーを作成する\"\"\"\n",
        "        return DataLoader(self.train_dataset, \n",
        "                          batch_size=self.hparams.train_batch_size, \n",
        "                          drop_last=True, shuffle=True, num_workers=4)\n",
        "\n",
        "    def val_dataloader(self):\n",
        "        \"\"\"バリデーションデータローダーを作成する\"\"\"\n",
        "        return DataLoader(self.val_dataset, \n",
        "                          batch_size=self.hparams.eval_batch_size, \n",
        "                          num_workers=4)"
      ],
      "execution_count": 18,
      "outputs": []
    },
    {
      "cell_type": "markdown",
      "metadata": {
        "id": "Y6yCgnTyyjM6"
      },
      "source": [
        "# 転移学習を実行"
      ]
    },
    {
      "cell_type": "markdown",
      "metadata": {
        "id": "eAd1QJCcyjM7"
      },
      "source": [
        "GPUのOut Of Memoryエラーが発生することがあります。\n",
        "その場合、次の順にハイパーパラメータの調整を試してみるとエラーを解消できる場合があります。\n",
        "\n",
        "1. 訓練時のバッチサイズ train_batch_size を小さくする（例えば4）。  \n",
        "小さくしすぎると精度が悪化することがあります。\n",
        "2. 入力文の最大トークン数 max_input_length や出力文の最大トークン数 max_target_length を小さくする（例えば、入力を256や出力を32にする）。  \n",
        "入力文の最大トークン数を小さくすると一般に精度が落ち、出力文の最大トークン数を小さくすると生成できる文章の長さが短くなります。"
      ]
    },
    {
      "cell_type": "code",
      "metadata": {
        "id": "SPZT2EbxsEe2"
      },
      "source": [
        "logger = TensorBoardLogger(LOG_DIR , name=\"1125_increased_data_T5\")\n",
        "# 5エポック連続で損失が改善されなかった場合に、早期停止可能\n",
        "early_stopping_callback = EarlyStopping(monitor='val_loss', patience=3)"
      ],
      "execution_count": 19,
      "outputs": []
    },
    {
      "cell_type": "code",
      "metadata": {
        "id": "v_Nk2m2ovaD2",
        "colab": {
          "base_uri": "https://localhost:8080/"
        },
        "outputId": "99bd7219-96f9-484a-f7ba-abfe36d0ca22"
      },
      "source": [
        "checkpoint_callback = ModelCheckpoint(\n",
        "  # 保存パスとファイル名を指定\n",
        "  dirpath=CHECKPOINT_DIR,\n",
        "  filename=\"1125_best-checkpoint_for_T5_increased_data\",\n",
        "  save_top_k=1,\n",
        "  verbose=True,\n",
        "  monitor=\"val_loss\",\n",
        "  mode=\"min\"\n",
        ")"
      ],
      "execution_count": 20,
      "outputs": [
        {
          "output_type": "stream",
          "name": "stderr",
          "text": [
            "/usr/local/lib/python3.7/dist-packages/pytorch_lightning/utilities/distributed.py:50: UserWarning: Checkpoint directory ./drive/MyDrive/Colab_Data/Tanshin/increased_datasets_checkpoints exists and is not empty.\n",
            "  warnings.warn(*args, **kwargs)\n"
          ]
        }
      ]
    },
    {
      "cell_type": "code",
      "metadata": {
        "id": "eCNcHlspyjM7"
      },
      "source": [
        "# 学習に用いるハイパーパラメータを設定する\n",
        "args_dict.update({\n",
        "    \"max_input_length\":  1024,  # 入力文の最大トークン数\n",
        "    \"max_target_length\": 128,  # 出力文の最大トークン数\n",
        "    \"train_batch_size\":  2,  # 訓練時のバッチサイズ\n",
        "    \"eval_batch_size\":   8,  # テスト時のバッチサイズ\n",
        "    \"num_train_epochs\":  1,  # 訓練するエポック数\n",
        "    })\n",
        "args = argparse.Namespace(**args_dict)\n",
        "\n",
        "# train_params = dict(\n",
        "#     accumulate_grad_batches=args.gradient_accumulation_steps,\n",
        "#     gpus=args.n_gpu,\n",
        "# #     gpus=1,\n",
        "#     max_epochs=args.num_train_epochs,\n",
        "#     precision= 16 if args.fp_16 else 32,\n",
        "#     amp_level=args.opt_level,\n",
        "#     gradient_clip_val=args.max_grad_norm,\n",
        "# )\n",
        "\n",
        "train_params = dict(\n",
        "    logger = logger,\n",
        "    callbacks=[early_stopping_callback, checkpoint_callback],\n",
        "    accumulate_grad_batches=args.gradient_accumulation_steps,\n",
        "    gpus=args.n_gpu,\n",
        "#     gpus=1,\n",
        "    max_epochs=args.num_train_epochs,\n",
        "    precision= 16 if args.fp_16 else 32,\n",
        "    amp_level=args.opt_level,\n",
        "    gradient_clip_val=args.max_grad_norm,\n",
        ")"
      ],
      "execution_count": 22,
      "outputs": []
    },
    {
      "cell_type": "code",
      "metadata": {
        "colab": {
          "base_uri": "https://localhost:8080/",
          "height": 307,
          "referenced_widgets": [
            "35c3163f71874bc3834fc0039eea4572",
            "705adfe01a5e4958926b531867eba645",
            "0eebc647821844d4bce6e48d3173b236",
            "e01b5e6aefb24fcfa206b116bc85c74a",
            "f9efa4e0452f49dbb77792584a1316f0",
            "fb864e5a1f7c48cd933bc05246889f03",
            "e76b5ce4e7b34bbcb9f9f9d16a1944cc",
            "ef571267f9ff4728bd89d0dc6d26cf9a",
            "6a057e0e17ad4d3e8ec6dd033eca2177",
            "f3ee7b74f0774e65a32c4c8eab178941",
            "ac645abd83f6443cad69ce9cfe928c53",
            "daf6a502665a49629f4cc023a0f3d3e8",
            "1ad580a5e3b142898461d7a26e1f0ce6",
            "499d0099466641169701006e75eca406",
            "3a0162f14760452ea431cb5988df3c65",
            "5b062a160eb742efbef63ee45b3aeabc",
            "009daade0b0a44448dc0149470e97980",
            "d6cbd1d5997541e4a86fc4d80715829b",
            "21ed749f8a3444709560612543c961d6",
            "c22b37023c3a4e5e86abfd6acf791808",
            "c00aac5e42fe46648cec1b63eb9acc7b",
            "be77956846444e918eefcdb58519f4e2",
            "953861ef9a4b45cd960c83778129f4be",
            "5f052391177d4c27b0401e5884a7ceec",
            "ea8d02daaf22428caafc5e798249edfe",
            "14e678a41eac49c28bff27b364c3c2d5",
            "e63070c7cc704ae6a8d31e953aeadd7e",
            "29c949aedd0c42e29346fc25cceae0b6",
            "6ea19798d1bb43f3b5e06854079da395",
            "55581895e0a04d969e937f06e7a58829",
            "5db1ded7177b42aba494b6d40a237894",
            "b3f1dfa5b43940bbb9ec0d9d744d1f81",
            "8dae551f39f549219688108d9cd061c5"
          ]
        },
        "id": "lG9AU8q2yjM7",
        "outputId": "88553c1d-d08e-4add-a33e-b15e29012082"
      },
      "source": [
        "# 転移学習の実行（GPUを利用すれば1エポック10分程度）\n",
        "model = T5FineTuner(args)\n",
        "trainer = pl.Trainer(**train_params)\n",
        "trainer.fit(model)\n",
        "\n",
        "# 最終エポックのモデルを保存\n",
        "# model.tokenizer.save_pretrained(MODEL_DIR)\n",
        "# model.model.save_pretrained(MODEL_DIR)\n",
        "\n",
        "del model"
      ],
      "execution_count": 23,
      "outputs": [
        {
          "output_type": "stream",
          "name": "stderr",
          "text": [
            "GPU available: True, used: True\n",
            "TPU available: None, using: 0 TPU cores\n",
            "\n",
            "  | Name  | Type                       | Params\n",
            "-----------------------------------------------------\n",
            "0 | model | T5ForConditionalGeneration | 222 M \n",
            "-----------------------------------------------------\n",
            "222 M     Trainable params\n",
            "0         Non-trainable params\n",
            "222 M     Total params\n",
            "891.614   Total estimated model params size (MB)\n"
          ]
        },
        {
          "output_type": "display_data",
          "data": {
            "application/vnd.jupyter.widget-view+json": {
              "model_id": "35c3163f71874bc3834fc0039eea4572",
              "version_minor": 0,
              "version_major": 2
            },
            "text/plain": [
              "Validation sanity check: 0it [00:00, ?it/s]"
            ]
          },
          "metadata": {}
        },
        {
          "output_type": "display_data",
          "data": {
            "application/vnd.jupyter.widget-view+json": {
              "model_id": "daf6a502665a49629f4cc023a0f3d3e8",
              "version_minor": 0,
              "version_major": 2
            },
            "text/plain": [
              "Training: 0it [00:00, ?it/s]"
            ]
          },
          "metadata": {}
        },
        {
          "output_type": "display_data",
          "data": {
            "application/vnd.jupyter.widget-view+json": {
              "model_id": "953861ef9a4b45cd960c83778129f4be",
              "version_minor": 0,
              "version_major": 2
            },
            "text/plain": [
              "Validating: 0it [00:00, ?it/s]"
            ]
          },
          "metadata": {}
        },
        {
          "output_type": "stream",
          "name": "stderr",
          "text": [
            "Epoch 0, global step 31: val_loss reached 1.99118 (best 1.99118), saving model to \"/content/drive/MyDrive/Colab_Data/Tanshin/increased_datasets_checkpoints/1125_best-checkpoint_for_T5_increased_data-v1.ckpt\" as top 1\n",
            "/usr/local/lib/python3.7/dist-packages/torch/optim/lr_scheduler.py:216: UserWarning: Please also save or load the state of the optimizer when saving or loading the scheduler.\n",
            "  warnings.warn(SAVE_STATE_WARNING, UserWarning)\n"
          ]
        }
      ]
    },
    {
      "cell_type": "code",
      "metadata": {
        "colab": {
          "base_uri": "https://localhost:8080/"
        },
        "id": "mKQU1ux7gHuZ",
        "outputId": "8bac72e2-110a-4c9c-c01b-2f1e5f39896f"
      },
      "source": [
        "# test_step を実行\n",
        "result= trainer.test()\n",
        "print(result)\n",
        "\n",
        "# ベストなモデルが保存されたパスを表示\n",
        "print(trainer.checkpoint_callback.best_model_path)\n",
        "# ベストなモデルの、validation dataに対する損失を表示\n",
        "print(trainer.checkpoint_callback.best_model_score)"
      ],
      "execution_count": 24,
      "outputs": [
        {
          "output_type": "stream",
          "name": "stderr",
          "text": [
            "/usr/local/lib/python3.7/dist-packages/pytorch_lightning/utilities/distributed.py:50: UserWarning: you defined a test_step but have no test_dataloader. Skipping test loop\n",
            "  warnings.warn(*args, **kwargs)\n"
          ]
        },
        {
          "output_type": "stream",
          "name": "stdout",
          "text": [
            "1\n",
            "/content/drive/MyDrive/Colab_Data/Tanshin/increased_datasets_checkpoints/1125_best-checkpoint_for_T5_increased_data-v1.ckpt\n",
            "tensor(1.9912, device='cuda:0')\n"
          ]
        }
      ]
    },
    {
      "cell_type": "markdown",
      "metadata": {
        "id": "qrpprNMUyjM8"
      },
      "source": [
        "# 学習済みモデルの読み込み"
      ]
    },
    {
      "cell_type": "code",
      "metadata": {
        "id": "Edk4Tqul8SlF"
      },
      "source": [
        "import torch\n",
        "from torch.utils.data import Dataset, DataLoader\n",
        "from transformers import T5ForConditionalGeneration, T5Tokenizer\n",
        "\n",
        "\n",
        "model = T5FineTuner.load_from_checkpoint(\"./drive/MyDrive/Colab_Data/Tanshin/increased_datasets_checkpoints/1125_best-checkpoint_for_T5_increased_data-v1.ckpt\")\n",
        "\n",
        "# save the model in HF format with\n",
        "model.model.save_pretrained(MODEL_DIR)\n",
        "model.tokenizer.save_pretrained(MODEL_DIR)\n",
        "\n",
        "# after this you can load the hf_model using\n",
        "trained_model =T5ForConditionalGeneration.from_pretrained(MODEL_DIR)\n",
        "tokenizer = T5Tokenizer.from_pretrained(MODEL_DIR, is_fast=True)"
      ],
      "execution_count": 25,
      "outputs": []
    },
    {
      "cell_type": "code",
      "metadata": {
        "id": "aH3k8X6byjM8"
      },
      "source": [
        "# GPUの利用有無\n",
        "USE_GPU = torch.cuda.is_available()\n",
        "if USE_GPU:\n",
        "    trained_model.cuda()"
      ],
      "execution_count": 26,
      "outputs": []
    },
    {
      "cell_type": "markdown",
      "metadata": {
        "id": "5KGPvmNIyjM8"
      },
      "source": [
        "# 全テストデータの本文に対するタイトル生成"
      ]
    },
    {
      "cell_type": "code",
      "metadata": {
        "id": "o3Nz8dW7yjM8",
        "colab": {
          "base_uri": "https://localhost:8080/",
          "height": 49,
          "referenced_widgets": [
            "70731c02c4a34a7ea107b71292684569",
            "af46c6a63b0448d2a6b70e610a918037",
            "2d89360a102745c7ae6c5c76c8b12410",
            "51f7d2341073478c9e192291f82f36fc",
            "8c6194c04cec48ef87d78ed504499832",
            "20309d94d3a8424f930d538796c2d771",
            "db5548bde1064718867cfa7ba69eb832",
            "5b059b1633e444e3aa35170ef392da82",
            "6257598d3a3641efb47d49b6bc0c6152",
            "d5b17d4b9ef34f019eb0c30ea099889b",
            "82e7590d670c42a5a698799c4d863fb3"
          ]
        },
        "outputId": "3f2b9e9b-7eaf-424b-b849-8de5d6548dce"
      },
      "source": [
        "import textwrap\n",
        "from tqdm.auto import tqdm\n",
        "from sklearn import metrics\n",
        "\n",
        "# テストデータの読み込み\n",
        "test_dataset = TsvDataset(tokenizer, args_dict[\"data_dir\"], \"dev.tsv\", \n",
        "                          input_max_len=args.max_input_length, \n",
        "                          target_max_len=args.max_target_length)\n",
        "\n",
        "test_loader = DataLoader(test_dataset, batch_size=4, num_workers=4)\n",
        "\n",
        "trained_model.eval()\n",
        "\n",
        "inputs = []\n",
        "outputs = []\n",
        "targets = []\n",
        "\n",
        "for batch in tqdm(test_loader):\n",
        "    input_ids = batch['source_ids']\n",
        "    input_mask = batch['source_mask']\n",
        "    if USE_GPU:\n",
        "        input_ids = input_ids.cuda()\n",
        "        input_mask = input_mask.cuda()\n",
        "\n",
        "    output = trained_model.generate(input_ids=input_ids, \n",
        "        attention_mask=input_mask, \n",
        "        max_length=args.max_target_length,\n",
        "        temperature=1.0,          # 生成にランダム性を入れる温度パラメータ\n",
        "        repetition_penalty=2.5,   # 同じ文の繰り返し（モード崩壊）へのペナルティ\n",
        "        )\n",
        "\n",
        "    output_text = [tokenizer.decode(ids, skip_special_tokens=True, \n",
        "                            clean_up_tokenization_spaces=False) \n",
        "                for ids in output]\n",
        "    target_text = [tokenizer.decode(ids, skip_special_tokens=True, \n",
        "                               clean_up_tokenization_spaces=False) \n",
        "                for ids in batch[\"target_ids\"]]\n",
        "    input_text = [tokenizer.decode(ids, skip_special_tokens=True, \n",
        "                               clean_up_tokenization_spaces=False) \n",
        "                for ids in input_ids]\n",
        "\n",
        "    inputs.extend(input_text)\n",
        "    outputs.extend(output_text)\n",
        "    targets.extend(target_text)\n",
        "    "
      ],
      "execution_count": 27,
      "outputs": [
        {
          "output_type": "display_data",
          "data": {
            "application/vnd.jupyter.widget-view+json": {
              "model_id": "70731c02c4a34a7ea107b71292684569",
              "version_minor": 0,
              "version_major": 2
            },
            "text/plain": [
              "  0%|          | 0/1 [00:00<?, ?it/s]"
            ]
          },
          "metadata": {}
        }
      ]
    },
    {
      "cell_type": "markdown",
      "metadata": {
        "id": "I0GRzm3UyjM8"
      },
      "source": [
        "## 生成結果確認\n",
        "\n",
        "形式\n",
        "- generated: 生成されたタイトル\n",
        "- actual: 人が作成したタイトル（正解）\n",
        "- body: ニュース記事の本文\n"
      ]
    },
    {
      "cell_type": "code",
      "metadata": {
        "id": "ZfAr3mUZ41aT",
        "colab": {
          "base_uri": "https://localhost:8080/"
        },
        "outputId": "5769ea33-2e4c-48e3-909c-9e94fb4fd157"
      },
      "source": [
        "for output, target, input in zip(outputs, targets, inputs):\n",
        "    print(\"generated: \" + output)\n",
        "    print(\"actual:    \" + target)\n",
        "    print(\"body:      \" + input)\n",
        "    print()"
      ],
      "execution_count": 28,
      "outputs": [
        {
          "output_type": "stream",
          "name": "stdout",
          "text": [
            "generated: 、2023年3月期の営業利益は、新型コロナウイルス感染症の影響により、デバイス事業が減収となりました。2020年3月期の営業利益は、新型コロナウイルス感染症の影響により、医療部材を中心に販売費及び一般管理費が増加したものの、売上総利益は増収となりました。当社グループは、新型コロナウイルス感染症の影響により、米国・欧州地域や米国・欧州地域において新型コロナウイルス感染症の影響により、心臓血管系領域のptcaガイドワイヤーや貫通カテーテルなどの医療機器関連取引が減少したものの、2018年4-6月期通期連結業績予想を据え\n",
            "actual:    朝日インテック、2021年6月期の営業利益実績は市場予想並みの水準で着地。2021年6月期の営業利益実績は市場予想並みの水準でした。2021年6月期の売上高は、新型コロナの影響により、デバイス事業が減収し、またメディカル事業においても、全地域において症例数が減少する影響を受けましたが、メディカル事業の海外市場において、自社ブランド製品の販売促進活動強化や直接販売の推進などにより増収となりました。同期の営業利益は、販売費及び一般管理費が増加したものの、前期比2.8%増と増益を確保しました\n",
            "body:      重要文:朝日インテック。当社グループは、2023年までの5か年の中期経営計画「『asahi road to 1000』〜only one技術で強固なグローバルニッチno.1を目指す〜」に基づき、連結売上高1,000億円達成に向けた事業ポートフォリオの構築として、「グローバル市場の戦略的な開拓と患部・治療領域の拡大」を推進することで、これまでの基本戦略の集大成を図り、既存事業の収益基盤を強化、また将来に向けた成長への投資を継続することにより「グローバルニッチ市場における新規事業の創出」を実現し、グローバルニッチ市場における当社のプレゼンスの強化と企業価値の一層の向上を目指し、その成長戦略を支えるためのビジネス基盤として、「グローバル展開に最適な研究開発・生産体制の構築」を進めるとともに「持続的成長に向けた経営基盤の確立」を図ってまいりました。その背景といたしましては、新型コロナウイルス感染症の影響が想定外であったことや、上記3などのm&a戦略の実行は現中期経営計画の期限である2023年を超えて更に長期的な事業拡大を視野に入れたものであり、更なる中長期期間における将来成長イメージを明確化することが必要であると考えたことによります。なお、2020年に入り発生した新型コロナウイルス感染症の影響により、グローバル規模で血管内カテーテル治療の症例数が減少し、市場規模が一時的に縮小いたしました。そのような中、当社グループの当連結会計年度における売上高は、新型コロナウイルス感染症の影響により、デバイス事業が減収し、またメディカル事業においても、全地域において症例数が通常時と比べて減少する影響を受けるなどいたしましたが、メディカル事業の海外市場において、自社ブランド製品の販売促進活動強化や直接販売の推進などにより増収となり、615億7百万円(前年同期比8.8%増)となりました。売上総利益は、売上高の増加に伴い、414億68百万円(同9.0%増)となりました。営業利益は、開発強化のための研究開発費用、直接販売化に関する営業費用、itシステム関係費用(不正アクセスに伴う障害対応費用、itシステム強化費用)、m&a対応費用などの販売費及び一般管理費が増加したものの、127億95百万円(同2.8%増)となりました。経常利益は、為替差益が大幅に増加し、131億96百万円(同7.2%増)となりました。親会社株主に帰属する当期純利益は、特別利益の補助金収入が減少したものの、99億84百万円(同8.8%増)となりました。(メディカル事業)メディカル事業においては、新型コロナウイルス感染症の影響により症例数が通常時と比べて一時的に減少する影響を受けつつも、海外市場での販売促進活動の強化や直接販売の推進などにより増収を確保いたしました。国内市場においては、新型コロナウイルス感染症の影響により通常時と比べて症例数が減少している影響が残る中、非循環器系分野の末梢血管系や脳血管系領域の製品の売上高が増加したものの、医療償還価格下落などにより、減収となりました。海外市場においては、特に欧州地域やアジア地域において新型コロナウイルス感染症の影響により症例数が前期対比においても減少しておりますが、中国の販売促進活動の強化や、米国の直接販売の推進などにより循環器系領域のptcaガイドワイヤーや貫通カテーテルの販売が増加し、また米国・中国・欧州中近東における脳血管系の製品についても増加したことなどから、増収となりました。以上の結果、売上高は530億68百万円(前年同期比10.9%増)となりました。また、セグメント利益は、研究開発費を中心に販売費及び一般管理費が増加したものの、137億円(同8.7%増)となりました。(デバイス事業)デバイス事業においては、新型コロナウイルス感染症の影響を受け、医療部材を中心に売上高は減少いたしました。産業部材につきましては、国内外のoa機器関連取引が減少したものの、国内市場の建築関連・家電関連・自動車関連や、海外市場のレジャー関係取引などが増加し、売上高は増加いたしました。医療部材については、国内市場においては内視鏡用部材の減少、海外市場においては米国向け腹部血管系カテーテル部材及び循環器系検査用カテーテル部材の取引が減少したことなどから、売上高は減少いたしました。以上の結果、売上高は84億38百万円(前年同期比2.9%減)となりました。また、セグメント利益は、セグメント間取引が増加したことにより、33億49百万円(同2.2%増)となりました。当連結会計年度末の資産につきましては、総資産額が1,154億27百万円となり、前連結会計年度末に比べ216億97百万円増加しております。負債につきましては、負債合計額が224億88百万円となり、前連結会計年度末に比べ7億34百万円増加しております。純資産につきましては、純資産合計額が929億38百万円となり、前連結会計年度末に比べ209億63百万円増加しております。当連結会計年度\n",
            "\n",
            "generated: 通期見通しは、2021年3月期の営業利益予想を上方修正しました。2020年3月期の営業利益予想は、売上高が前年同期比で増収増益となりました。第2四半期は、受注残高をベースに堅調に推移しました。売上は、半導体・液晶生産ライン向けシステムや自動車生産ライン向けシステムの売上増が寄与し、営業利益も増加しました。この結果、営業利益予想は、2018年3月期の営業利益予想を上方修正しました。営業利益予想は、5,200億円としました。6-9月期業績予想\n",
            "actual:    ダイフク、営業利益実績は市場予想並みの水準通期見通しは据え置き。4-6月期の営業利益実績は、市場予想並みの水準でした。受注高は前年同期比+32.0%となり、商談が停滞した前年から、国内を中心に大幅に回復しました。業種別受注高では、半導体向け大型案件を受注したエレクトロニクス向けや、日本・北米のeコマース関連がけん引した商業および小売業向けが好調でした。通期見通しに関しては、従来予想を据え置きました。\n",
            "body:      重要文:ダイフク。このような経済・事業環境のもと、当社グループの受注は、新型コロナウイルス感染症の影響により商談が停滞した前年同期から国内を中心に大幅に回復しました。この結果、受注高は1,384億27百万円(前年同期比32.0%増)、売上高は1,202億20百万円(同5.5%増)となりました。利益面は、一般製造業・流通業向けシステム、半導体生産ライン向けシステムの売上増が寄与し、増益となりました。この結果、営業利益は105億17百万円(同16.5%増)、経常利益は108億56百万円(同9.9%増)、親会社株主に帰属する四半期純利益は77億26百万円(同4.5%増)となりました。為替の変動により、前年同期比で受注高は約101億円増加しました。売上高は約9億円増加したものの、営業利益への影響は軽微でした。1 株式会社ダイフク受注は、一般製造業・流通業向けシステム、自動車生産ライン向けシステムが好調に推移し、半導体・液晶生産ライン向けシステムは堅調に推移しました。売上は、豊富な受注残高をベースに一般製造業・流通業向けシステム、半導体生産ライン向けシステム、自動車生産ライン向けシステムがいずれも順調に推移しました。この結果、受注高は568億39百万円(前年同期比67.8%増)、売上高は560億26百万円(同10.7%増)、セグメント利益は62億25百万円(同36.4%増)となりました。2 コンテックグループ日本市場では、製造業の設備投資意欲が回復傾向にあることや、半導体関連業界が好調なことから、各製品の販売が堅調に推移しました。この結果、受注高は47億32百万円(前年同期比14.0%増)、売上高は34億93百万円(同12.0%減)、セグメント利益は5億円(同52.2%増)となりました。23 daifuku north america holding company(dnahc)グループ米国ではワクチン接種の進展を背景に経済活動の制限の緩和・解除の動きが加速しており、受注は、eコマースがけん引した一般製造業・流通業向けシステム、半導体生産ライン向けシステムは好調に、自動車生産ライン向けシステムは堅調に推移しました。売上は、前期に大型案件の売上を計上した自動車生産ライン向けシステムの反動減により、減少しました。セグメント利益は、空港向けシステム、一般製造業・流通業向けシステムの売上が伸長したことなどから増加しました。この結果、受注高は305億43百万円(前年同期比24.9%増)、売上高は309億44百万円(同8.9%減)、セグメント利益は13億96百万円(同11.8%増)となりました。4 clean factomation,inc.(cfi)受注は、データセンター向け等の半導体の需要が増加した前年同期には及ばなかったものの、売上は受注残高をベースに順調に推移しました。この結果、受注高は91億76百万円(前年同期比25.9%減)、売上高は101億83百万円(同40.6%増)、セグメント利益は9億28百万円(同22.1%減)となりました。5 その他「その他」は、当社グループを構成する連結子会社67社のうち、上記234以外の国内外の子会社です。受注は、大型案件が寄与した前年同期を上回る水準で推移しました。売上は、受注残高をベースに順調に推移しました。この結果、受注高は371億36百万円(前年同期比23.6%増)、売上高は201億11百万円(同17.5%増)、セグメント損失は5億35百万円(同9億39百万円減益)となりました。純資産は、前連結会計年度末に比べ74億2百万円増加し、2,694億15百万円となりました。(営業活動によるキャッシュ・フロー)営業活動による資金の増加は、主に売上債権及び契約資産の減少額が180億48百万円、税金等調整前四半期純利益が109億95百万円あったことにより、281億55百万円(前年同四半期は187億77百万円の増加)となりました。今後の見通しにつきましては、2021年5月11日に発表した2022年3月期の第2四半期連結累計期間および通期連結累計期間の業績予想数値に修正は加えていません。第1四半期はほぼ予定通りに進捗し、増収増益となりました。第2四半期以降も、2021年3月期末受注残からの売上と、サービス売上の堅調な進捗を見込んでいます。通期受注予想については、一般製造業・流通業向けシステムが好調に推移していることなどから、5,200億円を5,\n",
            "\n",
            "generated: 減収となりました。事業利益は、減収及び減価償却費の増加等の影響はあったものの、増収及び原価低減に努めた結果、前連結会計年度(2020年4月1日から2021年3月31日まで)に比べ減収減益となりました。産業・自動車用部品の売上が減少したことに加え、スマートエナジー事業(注)における一時損失の計上もあり、減収減益となりました。半導体や5g関連市場向けを中心にavx corporationやプリンティングデバイス等の販売減により減収減益となりました。営業利益は、減収減益となりました\n",
            "actual:    京セラ、21年3月期営業利益29.5%減コンセンサス予想を下回る水準。2021年3月期は、主力の部品事業の売上高は、自動車関連市場の低迷の影響を受けたものの、m&aの貢献及び半導体や5g関連市場における需要増により、前年度に比べ微増となりました。一方、機器・システム事業は総じて減収となりました。利益については、減価償却費の増加やスマートエナジー事業における一時損失の計上もあり、前年度に比べ減益となりました。\n",
            "body:      重要文:京セラ。〔当連結会計年度の経営成績〕<連結業績>当連結会計年度(2020年4月1日から2021年3月31日まで)は、新型コロナウイルス感染症の拡大による景気悪化の影響を受け、前連結会計年度(2019年4月1日から2020年3月31日まで)に比べ減収減益となりました。部品事業の売上高は、自動車関連市場の低迷の影響を当第1四半期連結累計期間(2020年4月1日から2020年6月30日まで)に大きく受けたものの、m&aの貢献及び半導体や5g関連市場における需要増により、前連結会計年度に比べ微増となりました。一方、機器・システム事業は総じて減収となったことから、当連結会計年度の売上高は前連結会計年度に比べ721億56百万円(4.5%)減少の、1兆5,268億97百万円となりました。利益については、減収に加え、減価償却費の増加やスマートエナジー事業(注)における一時損失の計上もあり、前連結会計年度に比べ減益となりました。この結果、当連結会計年度の邦貨換算後の売上高は、前連結会計年度に比べ約90億円押し下げられました。--<連結事業セグメント別の業績> 1 産業・自動車用部品当連結会計年度の売上高は、前連結会計年度の3,410億93百万円と比較し、179億51百万円(5.3%)増加の3,590億44百万円となりました。事業利益は、減価償却費の増加等の影響はあったものの、増収及び原価低減により、前連結会計年度の158億13百万円に比べ23億29百万円(14.7%)増加の181億42百万円となりました。 2 半導体関連部品当連結会計年度の売上高は、前連結会計年度の2,472億28百万円と比較し、163億67百万円(6.6%)増加の2,635億95百万円となりました。一方、事業利益は、減価償却費の増加等により、前連結会計年度の305億11百万円に比べ22億51百万円(7.4%)減少の282億60百万円となりました。 3 電子デバイス当連結会計年度の売上高は、前連結会計年度の3,241億13百万円と比較し、189億43百万円(5.8%)減少の3,051億70百万円となりました。産業市場向けを中心にavx corporationやプリンティングデバイスの売上が減少したことにより、減収となりました。事業利益は、減収及び減価償却費の増加を主因に、前連結会計年度の317億44百万円に比べ64億76百万円(20.4%)減少の252億68百万円となりました。 4 コミュニケーション当連結会計年度の売上高は、前連結会計年度の2,708億18百万円と比較し、380億79百万円(14.1%)減少の2,327億39百万円となりました。携帯電話端末の販売台数が減少したことに加え、エンジニアリング事業の売上減もあり、減収となりました。一方、事業利益は、原価低減に努めた結果、前連結会計年度の112億59百万円に比べ33億38百万円(29.6%)増加の145億97百万円となりました。 5 ドキュメントソリューション当連結会計年度の売上高は、前連結会計年度の3,599億15百万円と比較し、436億89百万円(12.1%)減少の3,162億26百万円となりました。当第1四半期連結累計期間を底に需要の回復は見られたものの、前連結会計年度の水準には及ばず、機器及び消耗品の売上が減少しました。事業利益は、減収の影響により、前連結会計年度の344億89百万円に比べ57億30百万円(16.6%)減少の287億59百万円となりました。 6 生活・環境当連結会計年度の売上高は、前連結会計年度の737億47百万円と比較し、98億49百万円(13.4%)減少の638億98百万円となりました。主にスマートエナジー事業における太陽光発電システム等の販売減により、減収となりました。事業損失は、減収の影響に加え、スマートエナジー事業において有形固定資産及びのれん等の減損損失115億18百万円を計上したことにより、前連結会計年度の109億65百万円に比べ129億87百万円増加し、239億52百万円となりました。当社は、デジタル化の進展等により、今後も需要の増加が見込まれる5gや半導体、adas向け部品を中心に生産体制を拡充し増産を進め、コアコンポーネントセグメント及び電子部品セグメントの事業拡大を図ります。当社は、新たな経営体制の下、経営基盤の強化を図るとともに、これらの取り組みを着実に実施し、過去最高の売上高\n",
            "\n",
            "generated: 。(b)営業利益当期の営業利益は、全セグメントで増収となりました。(c)流通事業<事業概要>流通事業は、モバイル通信料(注3)の比率が年々低下しており、2020年3月期は、モバイル通信料(注4)の比率が年々低下しており、スマートフォン契約数の増加やサービス売上の増加などにより、モバイル通信料(注4)の比率も年々低下しています。また、2021年3月期は、モバイル通信料(注4)増益となりました。なお、当社グループは、2018年3\n",
            "actual:    ソフトバンク、21年3月期は全セグメントで増益確保も市場予想は下回る。2021年3月期の営業利益は、全セグメントで増益となりました。法人事業はテレワーク関連の商材需要の増加、ヤフー事業はeコマース取扱高の増加、コンシューマ事業はサービス売上の増加、流通事業は行政の大型プロジェクト受注により、それぞれ好調な推移となりました。\n",
            "body:      重要文:ソフトバンク。新型コロナウイルス感染症拡大の影響により、日本企業の景況感は非常に不透明かつ悪化していますが、その一方で、テレワーク、オンラインショッピング、非接触型の決済方法など新しい生活様式への移行が半ば強制的に進み、社会を支えるためのデジタル技術活用の必要性があらためて認識されました。なお、この戦略の下で、当社グループの連結売上高や連結営業利益に占めるモバイル通信料(注4)の比率は年々低下しており、収益源の多様化が進んでいます。引き続き、当社グループは、「beyond carrier」成長戦略と弛まぬ構造改革を同時に実行していくことにより、2022年度に営業利益1兆円を達成することを目指します。これらの結果、当期末のスマートフォン契約数は、前期末比で179万件増加しました。ブロードバンドサービスにおいても家庭向け高速インターネット接続サービスである「softbank光」の契約数が順調に伸びており、この「softbank光」契約数は、前期末比で53万件増加しました。paypay(株)2021年3月末でのpaypayの累計登録者数は3,803万人となり、当期の決済回数は前期比の約2.5倍となる20億回を超え、決済取扱高は前期比の約2.6倍となる3.2兆円となり、いずれも順調に増加しました。(a)売上高当期の売上高は、全セグメントで増収し、前期比344,290百万円(7.1%)増の5,205,537百万円となりました。法人事業はテレワーク関連の商材需要の増加などにより52,757百万円、ヤフー事業ではeコマース取扱高の増加などにより152,905百万円、コンシューマ事業はサービス売上の増加により73,701百万円、流通事業は行政の大型プロジェクト受注により48,892百万円、それぞれ増収となりました。(b)営業利益当期の営業利益は、全セグメントで増益し、前期比59,045百万円(6.5%)増の970,770百万円となりました。法人事業では24,124百万円、ヤフー事業では9,849百万円、コンシューマ事業では11,354百万円、流通事業では5,129百万円の増益となりました。(c)純利益当期の純利益は、前期比41,052百万円(8.1%)増の547,720百万円となりました。(d)親会社の所有者に帰属する純利益当期の親会社の所有者に帰属する純利益は、前期比18,152百万円(3.8%)増の491,287百万円となりました。なお、当期の非支配持分に帰属する純利益は、主としてzホールディングスグループの増益により、前期比22,900百万円(68.3%)増の56,433百万円となりました。(a)コンシューマ事業<事業概要>コンシューマ事業では、主として国内の個人のお客さまに対し、モバイル通信およびモバイル付加サービス、ブロードバンドサービスおよび電力サービスを提供しています。コンシューマ事業の売上高は、前期比73,701百万円(2.7%)増の2,770,388百万円となりました。サービス売上のうち、モバイルは前期比670百万円(0.0%)増加しました。物販等売上の増加は、主として、携帯端末の販売台数が増加したことによるものです。上記の結果、セグメント利益は、前期比11,354百万円(1.8%)増の658,624百万円となりました。(b)法人事業<事業概要>法人事業では、法人のお客さまに対し、移動通信サービス、固定電話サービス「おとくライン」を提供するほか、vpnサービス「smartvpn」やインターネットなどのネットワークサービス、データセンターサービス、クラウドサービス、ai、iot、ロボット、セキュリティ、デジタルマーケティング等の多様な法人向けソリューションを提供しています。モバイル売上の増加は、主として、テレワークなどによる需要の高まりに伴いスマートフォン契約数が増加したことによるものです。ソリューション等売上の増加は、新型コロナウイルス感染拡大の影響により、テレワーク関連の商材の需要が伸び、クラウドサービスやセキュリティソリューションの売上が増加し、iot商材に係る売上も増加したことなどによるものです。上記の結果、セグメント利益は、前期比24,124百万円(28.9%)増の107,731百万円となりました。(c)流通事業<事業概要>流通事業は、変化する市場環境を迅速にとらえた最先端のプロダクトやサービスを提供しています。<業績全般>(単位:百万円)3月31日に終了した1年間2020年2021年増減増減率売上高482,441 531,333 48,892 10.1%セグメント利益17,164 22,293 5,129 29.9%減価償却費及び償却費3,052 3,641 589 19.3%流通事業の売上高は、前期比48,892百万円(10.1%\n",
            "\n"
          ]
        }
      ]
    },
    {
      "cell_type": "code",
      "metadata": {
        "id": "b3qii1quq005"
      },
      "source": [
        ""
      ],
      "execution_count": null,
      "outputs": []
    }
  ]
}